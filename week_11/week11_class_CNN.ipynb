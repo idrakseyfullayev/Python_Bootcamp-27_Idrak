{
 "cells": [
  {
   "cell_type": "markdown",
   "id": "d8002fa6",
   "metadata": {},
   "source": [
    "**https://poloclub.github.io/cnn-explainer/**"
   ]
  },
  {
   "cell_type": "code",
   "execution_count": 1,
   "id": "cfabb037",
   "metadata": {},
   "outputs": [],
   "source": [
    "import torch #for using tensors\n",
    "import torch.nn as nn # creating neural network\n",
    "import torch.nn.functional as F # recallable functions like relu,sigmoid and etc.\n",
    "import torchvision # subpackage for vision models\n",
    "import torchvision.transforms as transforms # image augmentation\n",
    "import torch.optim as optim # optimisation functions like sgd, adam\n",
    "from torch.utils.data import DataLoader # creating a data loader\n",
    "from torchvision.transforms import ToTensor # converting image to tensor\n",
    "import matplotlib.pyplot as plt "
   ]
  },
  {
   "cell_type": "code",
   "execution_count": 2,
   "id": "e58f2153",
   "metadata": {},
   "outputs": [],
   "source": [
    "# PyTorch kitabxanasını yükləyir, tensor əməliyyatlarını və dərin öyrənmə üçün əsas modulları təmin edir\n",
    "import torch\n",
    "# Neyron şəbəkələr qurmaq üçün PyTorch-un `nn` modulunu yükləyir\n",
    "import torch.nn as nn \n",
    "# Neyron şəbəkələrdə müxtəlif funksiyalardan istifadə etmək üçün `nn.functional` modulunu yükləyir\n",
    "import torch.nn.functional as F \n",
    "# PyTorch-da kompüter görmə layihələri üçün faydalı modullar təmin edən `torchvision` kitabxanasını yükləyir\n",
    "import torchvision \n",
    "# Şəkillərə əvvəlcədən emal transformasiyaları tətbiq etmək üçün `transforms` modulunu yükləyir\n",
    "import torchvision.transforms as transforms \n",
    "# PyTorch-da optimizasiya alqoritmləri (məsələn, SGD, Adam) üçün `optim` modulunu yükləyir\n",
    "import torch.optim as optim \n",
    "# DataLoader PyTorch-da məlumat dəstlərini daha asan idarə etmək üçün istifadə olunur (məlumat dəstlərini \n",
    "#                                                                                     qruplaşdırır, sıraya qoyur)\n",
    "from torch.utils.data import DataLoader \n",
    "# Şəkilləri tensor formatına çevirmək üçün `ToTensor` funksiyasını `transforms` modulundan yükləyir\n",
    "from torchvision.transforms import ToTensor \n",
    "# Nəticələri görselləşdirmək üçün Matplotlib kitabxanasını yükləyir\n",
    "import matplotlib.pyplot as plt "
   ]
  },
  {
   "cell_type": "markdown",
   "id": "e062229e",
   "metadata": {},
   "source": [
    "### FashionMNIST data"
   ]
  },
  {
   "cell_type": "code",
   "execution_count": 3,
   "id": "bb132db3",
   "metadata": {},
   "outputs": [],
   "source": [
    "import torchvision\n",
    "from torchvision.transforms import ToTensor\n",
    "\n",
    "# Download training data from open datasets.\n",
    "training_data = torchvision.datasets.FashionMNIST(\n",
    "    root=\"data\",\n",
    "    train=True,\n",
    "    download=True,\n",
    "    transform=ToTensor(),\n",
    ")\n",
    "\n",
    "# Download test data from open datasets.\n",
    "test_data = torchvision.datasets.FashionMNIST(\n",
    "    root=\"data\",\n",
    "    train=False,\n",
    "    download=True,\n",
    "    transform=ToTensor(),\n",
    ")"
   ]
  },
  {
   "cell_type": "code",
   "execution_count": 4,
   "id": "9a756d34",
   "metadata": {},
   "outputs": [
    {
     "data": {
      "text/plain": [
       "torch.Size([1, 28, 28])"
      ]
     },
     "execution_count": 4,
     "metadata": {},
     "output_type": "execute_result"
    }
   ],
   "source": [
    "test_data[0][0].shape\n",
    "# test data is already formed as a tensor dataset which means it has 2 dimensions \n",
    "# first dimension is X variable ( images pixel values)\n",
    "# second one is it's label in which it is going to learn \n",
    "# when we write test_data[0] we are calling the first images X and y values\n",
    "# when we write test_data[0][0] we are calling first images X only and test_data[0][1] we are calling it's y\n",
    "# X variable has got 3 dimension \n",
    "# 1'st one is collor chanel\n",
    "# 2'nd and 3rd ones are height and width pixel counts\n",
    "# in this case we have gray scale image with 28x28 pixel dimension\n",
    "\n",
    "# test_data artıq tensor məlumat dəsti kimi formalaşdırılıb, yəni 2 ölçüyə malikdir\n",
    "# birinci ölçü X dəyişəni (şəkillərin piksel dəyərləri)\n",
    "# ikincisi isə onun etiketidir, yəni hansı sinifdə öyrəniləcəyidir\n",
    "# test_data[0] yazanda, birinci şəkilin X və y dəyərlərini çağırırıq\n",
    "# test_data[0][0] yazanda isə yalnız birinci şəkilin X dəyərini, test_data[0][1] yazanda isə onun y etiketini çağırırıq\n",
    "# X dəyişəni 3 ölçüyə malikdir\n",
    "# birinci ölçü rəng kanalını təmsil edir\n",
    "# ikinci və üçüncü ölçülər isə hündürlük və en piksel sayıdır\n",
    "# bu halda, bizdə 28x28 piksel ölçüdə boz tonlu (gray scale) bir şəkil var"
   ]
  },
  {
   "cell_type": "markdown",
   "id": "13fc3fbe",
   "metadata": {},
   "source": [
    "### Set Batch size "
   ]
  },
  {
   "cell_type": "code",
   "execution_count": 5,
   "id": "4a6155d9",
   "metadata": {
    "scrolled": false
   },
   "outputs": [],
   "source": [
    "# Hypers\n",
    "batch_size = 64"
   ]
  },
  {
   "cell_type": "markdown",
   "id": "397e6fa8",
   "metadata": {},
   "source": [
    "### Train vs Test Data with batch size"
   ]
  },
  {
   "cell_type": "code",
   "execution_count": 7,
   "id": "65f8a242",
   "metadata": {},
   "outputs": [],
   "source": [
    "from torch.utils.data import DataLoader\n",
    "\n",
    "# Təlim məlumat dəstini yükləmək üçün DataLoader obyektini təyin edir\n",
    "# training_data - təlim məlumatlarıdır\n",
    "# shuffle=True - təlim məlumatlarını hər dövrədə qarışdırır\n",
    "# batch_size=batch_size - təlim zamanı məlumatları `batch_size` ölçüsündə paketlərə ayırır\n",
    "train_loader = DataLoader(training_data, shuffle=True, batch_size=batch_size)\n",
    "\n",
    "# Test məlumat dəstini yükləmək üçün DataLoader obyektini təyin edir\n",
    "# test_data - test məlumatlarıdır\n",
    "# shuffle=True - test məlumatlarını qarışdırır, test zamanı müxtəlif məlumatları təsadüfi sırada yoxlayır\n",
    "test_loader = DataLoader(test_data, shuffle=True)\n",
    "\n",
    "# data loader is a tool which defines how our data will get into the model\n",
    "# in training fase we should define batch_size for increasing the model's speed and reducing underfiting \n",
    "# but in testing fase it is not necessary as we will not do backprop\n",
    "\n",
    "# DataLoader - verilənlərin modelə necə daxil olacağını müəyyən edən bir alətdir\n",
    "# Təlim mərhələsində modelin sürətini artırmaq və underfitting-i azaltmaq üçün batch_size təyin edilməlidir\n",
    "# Lakin test mərhələsində batch_size təyin etmək zəruri deyil, çünki bu mərhələdə backprop (geri yayılma) aparılmır"
   ]
  },
  {
   "cell_type": "code",
   "execution_count": 8,
   "id": "9b7ae304",
   "metadata": {},
   "outputs": [],
   "source": [
    "#     0: \"T-Shirt\",\n",
    "#     1: \"Trouser\",\n",
    "#     2: \"Pullover\",\n",
    "#     3: \"Dress\",\n",
    "#     4: \"Coat\",\n",
    "#     5: \"Sandal\",\n",
    "#     6: \"Shirt\",\n",
    "#     7: \"Sneaker\",\n",
    "#     8: \"Bag\",\n",
    "#     9: \"Ankle Boot\","
   ]
  },
  {
   "cell_type": "code",
   "execution_count": 10,
   "id": "d3fbb3d7",
   "metadata": {},
   "outputs": [
    {
     "name": "stdout",
     "output_type": "stream",
     "text": [
      "torch.Size([64, 1, 28, 28])\n",
      "tensor([6, 5, 4, 1, 5, 4, 6, 7, 4, 2, 9, 9, 3, 1, 9, 0, 0, 4, 0, 4, 1, 2, 4, 1,\n",
      "        1, 7, 3, 9, 4, 6, 6, 5, 2, 3, 3, 4, 6, 7, 0, 9, 5, 2, 8, 8, 8, 7, 0, 5,\n",
      "        4, 3, 3, 0, 5, 7, 0, 9, 6, 6, 6, 9, 8, 0, 6, 2])\n"
     ]
    }
   ],
   "source": [
    "# train_loader-dəki verilənləri dövrə ilə oxuyur\n",
    "for x, y in train_loader:\n",
    "    # İlk batch-dəki giriş verilənlərinin formasını çap edir\n",
    "    print(x.shape)\n",
    "    # İlk batch-dəki hədəf etiketlərini çap edir\n",
    "    print(y)\n",
    "    # Yalnız ilk batch-i göstərir və dövrəni dayandırır\n",
    "    break"
   ]
  },
  {
   "cell_type": "markdown",
   "id": "4f42a596",
   "metadata": {},
   "source": [
    "## Modelling"
   ]
  },
  {
   "cell_type": "markdown",
   "id": "94a54fae",
   "metadata": {},
   "source": [
    "### Creat Model"
   ]
  },
  {
   "cell_type": "code",
   "execution_count": 21,
   "id": "d2c1166a",
   "metadata": {},
   "outputs": [],
   "source": [
    "import torch.nn as nn\n",
    "import torch.nn.functional as F \n",
    "\n",
    "class NeuralNetwork(nn.Module):\n",
    "    def __init__(self):\n",
    "        super(NeuralNetwork, self).__init__()# first 3 lines is mandatory for inheriting properties of model\n",
    "# conv layer are special layer's which uses filter for collectiong various information from images\n",
    "# in_channels on first layer should be number of colur channels in our case it is 1\n",
    "# kernel size is a size of filter matrix 5x5 in this case\n",
    "# padding adds a pixel in every direction in oorder learning corner's better\n",
    "# stride is defining movement of kernel. default is 1\n",
    "# image size after each conv layer is detected by s = (Si-filter_size+2*padding)/stride + 1\n",
    "# and after pooling if we use 2,2 it will shrink from every side 2 times\n",
    "        self.conv1 = nn.Conv2d(in_channels=1,out_channels=64,kernel_size=5,padding=2)\n",
    "        self.conv2 = nn.Conv2d(64,128,kernel_size=5,stride=2,padding=2)\n",
    "        self.pool = nn.MaxPool2d(2,2)\n",
    "        self.fc1 = nn.Linear(128*7*7,512)\n",
    "        self.fc2 = nn.Linear(512,512)\n",
    "        self.out = nn.Linear(512,10)\n",
    "        self.drop_out = nn.Dropout()\n",
    "    def forward(self,X):\n",
    "        # input image size is [1,28,28]\n",
    "        X = self.conv1(X)\n",
    "        # after first layer of conv z absis will get number from out_channels (64)\n",
    "        # (28-5+2*2)/1+1 -> 28\n",
    "        # our result will be [64,28,28]\n",
    "        X = self.conv2(X)\n",
    "        # out_channel is 128\n",
    "        # (28-5+2*2)/2 + 1 ->14.5 aka 14\n",
    "        # [128,14,14]\n",
    "        X = self.pool(X)\n",
    "        # 14/2 -> 7\n",
    "        # [128,7,7]\n",
    "        X = X.reshape(X.size(0), -1)\n",
    "        # [ 128*7*7] -> one dimension\n",
    "        X = self.drop_out(X)\n",
    "        # Regularization and preventing the co-adaptation of neurons as described in the paper\n",
    "        X = F.relu(self.fc1(X))\n",
    "        X = F.relu(self.fc2(X))\n",
    "        out = self.out(X)\n",
    "        return X"
   ]
  },
  {
   "cell_type": "markdown",
   "id": "5e4b4b2b",
   "metadata": {},
   "source": [
    "### Creat Model"
   ]
  },
  {
   "cell_type": "code",
   "execution_count": 31,
   "id": "57543cd6",
   "metadata": {},
   "outputs": [],
   "source": [
    "import torch.nn as nn\n",
    "import torch.nn.functional as F\n",
    "\n",
    "class NeuralNetwork(nn.Module):\n",
    "    \n",
    "    # nn.Module sinfinin xüsusiyyətlərini irsən almaq üçün super().__init__() çağırırıq\n",
    "    def __init__(self):\n",
    "        super(NeuralNetwork, self).__init__()  \n",
    "        # İlk konvolusiya qatını təyin edirik: 1 giriş kanalı (şəkilin rəng kanalı), 64 çıxış kanalı (filtrlər)\n",
    "        self.conv1 = nn.Conv2d(in_channels=1, out_channels=64, kernel_size=5, padding=2)\n",
    "        # İkinci konvolusiya qatını təyin edirik: 64 giriş kanalı (öncəki qatın çıxışı), 128 çıxış kanalı\n",
    "        self.conv2 = nn.Conv2d(64, 128, kernel_size=5, stride=2, padding=2)\n",
    "        # Max Pooling qatını təyin edirik: 2x2 ölçüsündə pəncərə\n",
    "        self.pool = nn.MaxPool2d(2, 2)\n",
    "        # Birinci tam bağlı (fully connected) qat: giriş 128*7*7 ölçüsündə, çıxış 512\n",
    "        self.fc1 = nn.Linear(128 * 7 * 7, 512)\n",
    "        # İkinci tam bağlı qat: giriş 512, çıxış 512\n",
    "        self.fc2 = nn.Linear(512, 512)\n",
    "        # Son tam bağlı qat: çıxış siniflərin sayı ilə uyğunlaşdırılır (10 sinif)\n",
    "        self.out = nn.Linear(512, 10)\n",
    "        # Dropout təbəqəsi əlavə olunur, overfitting-in qarşısını almaq üçün istifadə olunur\n",
    "        self.drop_out = nn.Dropout()\n",
    "\n",
    "    def forward(self, X):\n",
    "        # İlk konvolusiya qatına məlumat verilir\n",
    "        X = self.conv1(X)\n",
    "        # İkinci konvolusiya qatına məlumat verilir\n",
    "        X = self.conv2(X)\n",
    "        # Pooling qatına məlumat verilir, ölçü azaldılır\n",
    "        X = self.pool(X)\n",
    "        # Tensoru bir ölçüyə çeviririk (flatten)\n",
    "        X = X.reshape(X.size(0), -1)\n",
    "        # Dropout tətbiq edirik\n",
    "        X = self.drop_out(X)\n",
    "        # ReLU aktivləşdirmə funksiyasını birinci tam bağlı qata tətbiq edirik\n",
    "        X = F.relu(self.fc1(X))\n",
    "        # ReLU aktivləşdirmə funksiyasını ikinci tam bağlı qata tətbiq edirik\n",
    "        X = F.relu(self.fc2(X))\n",
    "        # Çıxış qatından sinif prediksiyasını əldə edirik\n",
    "        out = self.out(X)\n",
    "        return X"
   ]
  },
  {
   "cell_type": "code",
   "execution_count": 32,
   "id": "47f0db74",
   "metadata": {},
   "outputs": [
    {
     "data": {
      "text/plain": [
       "14.5"
      ]
     },
     "execution_count": 32,
     "metadata": {},
     "output_type": "execute_result"
    }
   ],
   "source": [
    "(28-5+2*2)/2+1"
   ]
  },
  {
   "cell_type": "markdown",
   "id": "55c995d6",
   "metadata": {},
   "source": [
    "### Model"
   ]
  },
  {
   "cell_type": "code",
   "execution_count": 33,
   "id": "4e02f36a",
   "metadata": {},
   "outputs": [],
   "source": [
    "model = NeuralNetwork()\n",
    "# defining model"
   ]
  },
  {
   "cell_type": "markdown",
   "id": "65a87b9f",
   "metadata": {},
   "source": [
    "### Epoch vs Num_classes vs Learning Rate"
   ]
  },
  {
   "cell_type": "code",
   "execution_count": 34,
   "id": "f45a5a9c",
   "metadata": {},
   "outputs": [],
   "source": [
    "num_epochs = 6  # how many times model will go back and forth\n",
    "num_classes = 10 # number of labels we should predict\n",
    "learning_rate = 0.001 #step of learning"
   ]
  },
  {
   "cell_type": "markdown",
   "id": "857a27f9",
   "metadata": {},
   "source": [
    "### CrossEntropyLoss vs Adam Optimzation"
   ]
  },
  {
   "cell_type": "code",
   "execution_count": 35,
   "id": "79ad4025",
   "metadata": {},
   "outputs": [],
   "source": [
    "import torch.optim as optim\n",
    "import torch.nn as nn\n",
    "\n",
    "# Loss and optimizer\n",
    "\n",
    "#loss function for defining if we  predicted right or wronge\n",
    "# Modelin səhvini ölçmək üçün istifadə olunur, çoxlu sinifli təsnifat üçün uyğun itki funksiyasıdır\n",
    "criterion = nn.CrossEntropyLoss()\n",
    "\n",
    "# optimisation function for creating gradient decent and learning\n",
    "# Modelin parametrlərini optimallaşdırmaq üçün Adam optimallaşdırıcısını istifadə edir, \n",
    "#                                                                         təlim sürətini learning_rate ilə tənzimləyir\n",
    "optimizer = torch.optim.Adam(model.parameters(), lr=learning_rate) "
   ]
  },
  {
   "cell_type": "markdown",
   "id": "32f8f6fc",
   "metadata": {},
   "source": [
    "### Train stage"
   ]
  },
  {
   "cell_type": "code",
   "execution_count": 37,
   "id": "087737bc",
   "metadata": {},
   "outputs": [
    {
     "name": "stdout",
     "output_type": "stream",
     "text": [
      "Epoch [1/6], Step [100/938], Loss: 0.1299, Accuracy: 96.88%\n",
      "Epoch [1/6], Step [200/938], Loss: 0.1886, Accuracy: 92.19%\n",
      "Epoch [1/6], Step [300/938], Loss: 0.0913, Accuracy: 96.88%\n",
      "Epoch [1/6], Step [400/938], Loss: 0.1637, Accuracy: 92.19%\n",
      "Epoch [1/6], Step [500/938], Loss: 0.1299, Accuracy: 93.75%\n",
      "Epoch [1/6], Step [600/938], Loss: 0.1110, Accuracy: 96.88%\n",
      "Epoch [1/6], Step [700/938], Loss: 0.2057, Accuracy: 92.19%\n",
      "Epoch [1/6], Step [800/938], Loss: 0.3355, Accuracy: 90.62%\n",
      "Epoch [1/6], Step [900/938], Loss: 0.3006, Accuracy: 87.50%\n",
      "Epoch [2/6], Step [100/938], Loss: 0.1427, Accuracy: 93.75%\n",
      "Epoch [2/6], Step [200/938], Loss: 0.1421, Accuracy: 95.31%\n",
      "Epoch [2/6], Step [300/938], Loss: 0.3411, Accuracy: 89.06%\n",
      "Epoch [2/6], Step [400/938], Loss: 0.2258, Accuracy: 89.06%\n",
      "Epoch [2/6], Step [500/938], Loss: 0.1533, Accuracy: 95.31%\n",
      "Epoch [2/6], Step [600/938], Loss: 0.1131, Accuracy: 96.88%\n",
      "Epoch [2/6], Step [700/938], Loss: 0.1616, Accuracy: 95.31%\n",
      "Epoch [2/6], Step [800/938], Loss: 0.3387, Accuracy: 90.62%\n",
      "Epoch [2/6], Step [900/938], Loss: 0.1666, Accuracy: 93.75%\n",
      "Epoch [3/6], Step [100/938], Loss: 0.0881, Accuracy: 95.31%\n",
      "Epoch [3/6], Step [200/938], Loss: 0.3781, Accuracy: 90.62%\n",
      "Epoch [3/6], Step [300/938], Loss: 0.2292, Accuracy: 90.62%\n",
      "Epoch [3/6], Step [400/938], Loss: 0.0610, Accuracy: 98.44%\n",
      "Epoch [3/6], Step [500/938], Loss: 0.1372, Accuracy: 92.19%\n",
      "Epoch [3/6], Step [600/938], Loss: 0.1575, Accuracy: 95.31%\n",
      "Epoch [3/6], Step [700/938], Loss: 0.2073, Accuracy: 92.19%\n",
      "Epoch [3/6], Step [800/938], Loss: 0.3315, Accuracy: 89.06%\n",
      "Epoch [3/6], Step [900/938], Loss: 0.0702, Accuracy: 96.88%\n",
      "Epoch [4/6], Step [100/938], Loss: 0.1428, Accuracy: 95.31%\n",
      "Epoch [4/6], Step [200/938], Loss: 0.1248, Accuracy: 93.75%\n",
      "Epoch [4/6], Step [300/938], Loss: 0.1608, Accuracy: 92.19%\n",
      "Epoch [4/6], Step [400/938], Loss: 0.1380, Accuracy: 98.44%\n",
      "Epoch [4/6], Step [500/938], Loss: 0.1833, Accuracy: 96.88%\n",
      "Epoch [4/6], Step [600/938], Loss: 0.1948, Accuracy: 89.06%\n",
      "Epoch [4/6], Step [700/938], Loss: 0.2016, Accuracy: 95.31%\n",
      "Epoch [4/6], Step [800/938], Loss: 0.1411, Accuracy: 93.75%\n",
      "Epoch [4/6], Step [900/938], Loss: 0.0764, Accuracy: 96.88%\n",
      "Epoch [5/6], Step [100/938], Loss: 0.1828, Accuracy: 92.19%\n",
      "Epoch [5/6], Step [200/938], Loss: 0.2720, Accuracy: 87.50%\n",
      "Epoch [5/6], Step [300/938], Loss: 0.0603, Accuracy: 98.44%\n",
      "Epoch [5/6], Step [400/938], Loss: 0.1833, Accuracy: 90.62%\n",
      "Epoch [5/6], Step [500/938], Loss: 0.0770, Accuracy: 98.44%\n",
      "Epoch [5/6], Step [600/938], Loss: 0.1605, Accuracy: 93.75%\n",
      "Epoch [5/6], Step [700/938], Loss: 0.1082, Accuracy: 92.19%\n",
      "Epoch [5/6], Step [800/938], Loss: 0.0669, Accuracy: 98.44%\n",
      "Epoch [5/6], Step [900/938], Loss: 0.1535, Accuracy: 92.19%\n",
      "Epoch [6/6], Step [100/938], Loss: 0.1072, Accuracy: 93.75%\n",
      "Epoch [6/6], Step [200/938], Loss: 0.2273, Accuracy: 93.75%\n",
      "Epoch [6/6], Step [300/938], Loss: 0.1150, Accuracy: 95.31%\n",
      "Epoch [6/6], Step [400/938], Loss: 0.1430, Accuracy: 95.31%\n",
      "Epoch [6/6], Step [500/938], Loss: 0.1955, Accuracy: 95.31%\n",
      "Epoch [6/6], Step [600/938], Loss: 0.5455, Accuracy: 90.62%\n",
      "Epoch [6/6], Step [700/938], Loss: 0.1556, Accuracy: 95.31%\n",
      "Epoch [6/6], Step [800/938], Loss: 0.1883, Accuracy: 93.75%\n",
      "Epoch [6/6], Step [900/938], Loss: 0.1254, Accuracy: 96.88%\n"
     ]
    }
   ],
   "source": [
    "# Train the model\n",
    "total_step = len(train_loader) # Təlim mərhələsindəki ümumi addım sayını əldə edir\n",
    "loss_list = [] # Hər epoch-da itki dəyərlərini izləmək üçün siyahı\n",
    "acc_list = [] # Hər epoch-da dəqiqlik dəyərlərini izləmək üçün siyahı\n",
    "for epoch in range(num_epochs): # Təlimi müəyyən edilmiş epoch sayda təkrarlamaq üçün döngü\n",
    "    for i, (images, labels) in enumerate(train_loader): # Təlim məlumatlarını batch-lər üzrə əldə edir\n",
    "\n",
    "        # Run the forward pass\n",
    "        outputs = model(images) # Modeldən görüntüləri keçirərək çıxışları hesablayır\n",
    "        loss = criterion(outputs, labels) # Modelin itki dəyərini müəyyən edir\n",
    "        loss_list.append(loss.item()) # İtki dəyərini `loss_list`-ə əlavə edir\n",
    "\n",
    "        # Backprop and perform Adam optimisation\n",
    "        optimizer.zero_grad() # Gradienti sıfırlayır ki, hər yeni batch üçün əvvəlki gradienlər yığılmasın\n",
    "        loss.backward() # Itkiyə görə gradienləri hesablamaq üçün geri yayılma addımı\n",
    "        optimizer.step() # Adam optimizatoru vasitəsilə model parametrlərini yeniləyir\n",
    "\n",
    "        # Track the accuracy\n",
    "        total = labels.size(0) # Mövcud batch-dəki ümumi nümunə sayını tapır\n",
    "        _, predicted = torch.max(outputs.data, 1) # Hər bir nümunə üçün ehtimalı ən yüksək olan sinifi tapır\n",
    "        correct = (predicted == labels).sum().item() # Doğru proqnozların sayını hesablayır\n",
    "        acc_list.append(correct / total) # Dəqiqliyi `acc_list`-ə əlavə edir\n",
    "\n",
    "        if (i + 1) % 100 == 0: # Hər 100 addımdan bir məlumat çap edir\n",
    "            print('Epoch [{}/{}], Step [{}/{}], Loss: {:.4f}, Accuracy: {:.2f}%'\n",
    "                  .format(epoch + 1, num_epochs, i + 1, total_step, loss.item(),\n",
    "                          (correct / total) * 100))"
   ]
  },
  {
   "cell_type": "markdown",
   "id": "56913d64",
   "metadata": {},
   "source": [
    "### Evolution stage"
   ]
  },
  {
   "cell_type": "code",
   "execution_count": 67,
   "id": "a6da8792",
   "metadata": {},
   "outputs": [
    {
     "name": "stdout",
     "output_type": "stream",
     "text": [
      "Test Accuracy of the model on the 10000 test images: 91.23 %\n"
     ]
    }
   ],
   "source": [
    "model.eval() # Modeli qiymətləndirmə rejiminə keçirir; dropout və batch normalization kimi qatları deaktiv edir\n",
    "with torch.no_grad(): # Hesablamalar zamanı gradienləri saxlamamaq üçün istifadə olunur, bu da yaddaşa qənaət edir\n",
    "    correct = 0 # Düzgün proqnozların sayını saxlamaq üçün dəyişən\n",
    "    total = 0 # Ümumi nümunə sayını saxlamaq üçün dəyişən\n",
    "    for images, labels in test_loader: # Test məlumatlarını batch-lərlə iterasiya edir\n",
    "        outputs = model(images) # Modeldən test görüntülərini keçirərək çıxışları hesablayır\n",
    "        _, predicted = torch.max(outputs.data, 1) # Hər bir nümunə üçün ehtimalı ən yüksək olan sinifi tapır\n",
    "        total += labels.size(0) # Mövcud batch-dəki ümumi nümunə sayını artırır\n",
    "        correct += (predicted == labels).sum().item() # Doğru proqnozların sayını artırır\n",
    "        \n",
    "    # Test dəsti üçün modelin dəqiqliyini çap edir\n",
    "    print('Test Accuracy of the model on the 10000 test images: {} %'.format((correct / total) * 100)) "
   ]
  },
  {
   "cell_type": "markdown",
   "id": "7a09e095",
   "metadata": {},
   "source": [
    "### Metrics"
   ]
  },
  {
   "cell_type": "code",
   "execution_count": 86,
   "id": "fba3b00b",
   "metadata": {},
   "outputs": [
    {
     "name": "stdout",
     "output_type": "stream",
     "text": [
      "Accuracy: 91.23%\n",
      "F1 Score: 0.91\n",
      "Recall: 0.91\n",
      "Precision: 0.91\n",
      "Confusion Matrix:\n",
      " [[891   0  17  17   2   0  65   2   6   0]\n",
      " [  3 986   0   8   2   0   0   0   1   0]\n",
      " [ 18   0 841   7  41   0  92   0   1   0]\n",
      " [ 20   4   9 922  18   0  26   0   1   0]\n",
      " [  0   1  65  36 816   0  82   0   0   0]\n",
      " [  0   0   0   0   0 983   0   8   1   8]\n",
      " [126   1  37  20  41   0 770   0   5   0]\n",
      " [  0   0   0   0   0   8   0 977   0  15]\n",
      " [  3   1   3   3   1   1   3   2 982   1]\n",
      " [  0   0   0   0   0   4   1  40   0 955]]\n",
      "\n",
      "Classification Report:\n",
      "               precision    recall  f1-score   support\n",
      "\n",
      "           0       0.84      0.89      0.86      1000\n",
      "           1       0.99      0.99      0.99      1000\n",
      "           2       0.87      0.84      0.85      1000\n",
      "           3       0.91      0.92      0.92      1000\n",
      "           4       0.89      0.82      0.85      1000\n",
      "           5       0.99      0.98      0.98      1000\n",
      "           6       0.74      0.77      0.76      1000\n",
      "           7       0.95      0.98      0.96      1000\n",
      "           8       0.98      0.98      0.98      1000\n",
      "           9       0.98      0.95      0.97      1000\n",
      "\n",
      "    accuracy                           0.91     10000\n",
      "   macro avg       0.91      0.91      0.91     10000\n",
      "weighted avg       0.91      0.91      0.91     10000\n",
      "\n"
     ]
    }
   ],
   "source": [
    "from sklearn.metrics import classification_report, accuracy_score, f1_score, recall_score, precision_score,\\\n",
    "                                                                                                    confusion_matrix\n",
    "\n",
    "model.eval() # Modeli qiymətləndirmə rejiminə keçirir\n",
    "all_labels = [] # Test dəstindəki həqiqi etiketləri saxlamaq üçün boş siyahı\n",
    "all_predictions = [] # Modelin təxmin etdiyi etiketləri saxlamaq üçün boş siyahı\n",
    "\n",
    "with torch.no_grad():\n",
    "    for images, labels in test_loader:\n",
    "        outputs = model(images) # Test məlumatlarını modeldən keçirir\n",
    "        _, predicted = torch.max(outputs, 1) # Hər bir nümunə üçün ehtimalı ən yüksək olan sinifi seçir\n",
    "        all_labels.extend(labels.cpu().numpy()) # Həqiqi etiketləri siyahıya əlavə edir\n",
    "        all_predictions.extend(predicted.cpu().numpy()) # Təxminləri siyahıya əlavə edir\n",
    "\n",
    "# Metrikləri hesablamaq\n",
    "accuracy = accuracy_score(all_labels, all_predictions)\n",
    "f1 = f1_score(all_labels, all_predictions, average='weighted')\n",
    "recall = recall_score(all_labels, all_predictions, average='weighted')\n",
    "precision = precision_score(all_labels, all_predictions, average='weighted')\n",
    "conf_matrix = confusion_matrix(all_labels, all_predictions)\n",
    "\n",
    "print(f'Accuracy: {accuracy * 100:.2f}%')\n",
    "print(f'F1 Score: {f1:.2f}')\n",
    "print(f'Recall: {recall:.2f}')\n",
    "print(f'Precision: {precision:.2f}')\n",
    "print(\"Confusion Matrix:\\n\", conf_matrix)\n",
    "print(\"\\nClassification Report:\\n\", classification_report(all_labels, all_predictions))"
   ]
  },
  {
   "cell_type": "code",
   "execution_count": null,
   "id": "49ad9700",
   "metadata": {},
   "outputs": [],
   "source": []
  },
  {
   "cell_type": "markdown",
   "id": "d8b7f8b6",
   "metadata": {},
   "source": [
    "## Forecast"
   ]
  },
  {
   "cell_type": "code",
   "execution_count": 94,
   "id": "dd2adcc3",
   "metadata": {},
   "outputs": [
    {
     "name": "stdout",
     "output_type": "stream",
     "text": [
      "Modelin proqnozu: Sinif: 2 ; Adı: Pullover\n"
     ]
    }
   ],
   "source": [
    "from PIL import Image\n",
    "import torchvision.transforms as transforms\n",
    "import torch\n",
    "\n",
    "# FashionMNIST sinif adları\n",
    "class_names = torchvision.datasets.FashionMNIST.classes\n",
    "\n",
    "# Şəkli yükləyin və modelin gözlədiyi ölçüyə və formata çevirin\n",
    "image_path = r\"C:\\Users\\dell\\Desktop\\Python\\week11\\sample_image-300x300.png\"  # Yeni şəkilinizin fayl yolu\n",
    "image = Image.open(image_path).convert(\"L\")  # Gri tonlara çevir\n",
    "transform = transforms.Compose([\n",
    "    transforms.Resize((28, 28)),  # Modelin gözlədiyi ölçüyə çevirir\n",
    "    transforms.ToTensor(),        # Tensora çevirir\n",
    "    transforms.Normalize((0.5,), (0.5,))  # Eyni normalizasiya tətbiq edir\n",
    "])\n",
    "\n",
    "# Şəkli tensora çevir və batch boyutunu (1, 1, 28, 28) kimi göstər\n",
    "image_tensor = transform(image).unsqueeze(0)\n",
    "\n",
    "# Modelin proqnozunu alın\n",
    "model.eval()\n",
    "with torch.no_grad():\n",
    "    output = model(image_tensor)\n",
    "    _, predicted_class = torch.max(output, 1)\n",
    "\n",
    "       \n",
    "# Proqnoz nəticəsini sinif adı ilə göstər\n",
    "predicted_class_name = class_names[predicted_class.item()]\n",
    "print(f\"Modelin proqnozu: Sinif: {predicted_class.item()} ; Adı: {predicted_class_name}\")"
   ]
  },
  {
   "cell_type": "code",
   "execution_count": null,
   "id": "9d6f1cb5",
   "metadata": {},
   "outputs": [],
   "source": []
  },
  {
   "cell_type": "markdown",
   "id": "16c2e1c9",
   "metadata": {},
   "source": [
    "### Check Forecast"
   ]
  },
  {
   "cell_type": "code",
   "execution_count": 90,
   "id": "d95e67f8",
   "metadata": {},
   "outputs": [
    {
     "data": {
      "image/png": "[encoded data removed]",
      "text/plain": [
       "<Figure size 640x480 with 1 Axes>"
      ]
     },
     "metadata": {},
     "output_type": "display_data"
    }
   ],
   "source": [
    "from PIL import Image\n",
    "import matplotlib.pyplot as plt\n",
    "\n",
    "# Şəkili açın və göstərmək üçün plt.imshow funksiyasına verin\n",
    "image_path = r\"C:\\Users\\dell\\Desktop\\Python\\week11\\sample_image-300x300.png\"\n",
    "image = Image.open(image_path)\n",
    "\n",
    "plt.imshow(image)\n",
    "plt.axis(\"off\")  # Oxları gizlətmək üçün\n",
    "plt.show()"
   ]
  },
  {
   "cell_type": "code",
   "execution_count": null,
   "id": "710e1b7f",
   "metadata": {},
   "outputs": [],
   "source": []
  }
 ],
 "metadata": {
  "kernelspec": {
   "display_name": "Python 3 (ipykernel)",
   "language": "python",
   "name": "python3"
  },
  "language_info": {
   "codemirror_mode": {
    "name": "ipython",
    "version": 3
   },
   "file_extension": ".py",
   "mimetype": "text/x-python",
   "name": "python",
   "nbconvert_exporter": "python",
   "pygments_lexer": "ipython3",
   "version": "3.11.5"
  }
 },
 "nbformat": 4,
 "nbformat_minor": 5
}
