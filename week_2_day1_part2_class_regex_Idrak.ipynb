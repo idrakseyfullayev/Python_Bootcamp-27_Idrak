{
 "cells": [
  {
   "cell_type": "code",
   "execution_count": 1,
   "id": "56a7dd05",
   "metadata": {},
   "outputs": [],
   "source": [
    "import re"
   ]
  },
  {
   "cell_type": "code",
   "execution_count": 2,
   "id": "a658bfce",
   "metadata": {},
   "outputs": [],
   "source": [
    "# * - Star\n",
    "# The star symbol * matches zero or more occurrences of the pattern left to it.\n",
    "# + - Plus\n",
    "# The plus symbol + matches one or more occurrences of the pattern left to it.\n",
    "# ? - Question Mark\n",
    "# The question mark symbol ? matches zero or one occurrence of the pattern left to it.\n",
    "\n",
    "# * -  0 and more\n",
    "# + -  1 and more\n",
    "# ? -  0 and 1"
   ]
  },
  {
   "cell_type": "code",
   "execution_count": 3,
   "id": "ca70f293",
   "metadata": {},
   "outputs": [
    {
     "data": {
      "text/plain": [
       "['ana', 'ata', 'aa']"
      ]
     },
     "execution_count": 3,
     "metadata": {},
     "output_type": "execute_result"
    }
   ],
   "source": [
    "re.findall(r'a.?a', 'ana amma  ata aa')"
   ]
  },
  {
   "cell_type": "code",
   "execution_count": 4,
   "id": "96df1191",
   "metadata": {},
   "outputs": [
    {
     "data": {
      "text/plain": [
       "['ana amma  ata aa']"
      ]
     },
     "execution_count": 4,
     "metadata": {},
     "output_type": "execute_result"
    }
   ],
   "source": [
    "re.findall(r'a.+a', 'ana amma  ata aa')"
   ]
  },
  {
   "cell_type": "code",
   "execution_count": 5,
   "id": "bf041062",
   "metadata": {},
   "outputs": [
    {
     "data": {
      "text/plain": [
       "['ana amma  ata aa']"
      ]
     },
     "execution_count": 5,
     "metadata": {},
     "output_type": "execute_result"
    }
   ],
   "source": [
    "re.findall(r'a.+a', 'tana amma  ata aa')"
   ]
  },
  {
   "cell_type": "code",
   "execution_count": 6,
   "id": "ebdcd936",
   "metadata": {},
   "outputs": [
    {
     "data": {
      "text/plain": [
       "[]"
      ]
     },
     "execution_count": 6,
     "metadata": {},
     "output_type": "execute_result"
    }
   ],
   "source": [
    "re.findall(r'a.+a', 'aa')"
   ]
  },
  {
   "cell_type": "code",
   "execution_count": 7,
   "id": "955d0e0c",
   "metadata": {},
   "outputs": [
    {
     "data": {
      "text/plain": [
       "['aa']"
      ]
     },
     "execution_count": 7,
     "metadata": {},
     "output_type": "execute_result"
    }
   ],
   "source": [
    "re.findall(r'a.*a', 'aa')"
   ]
  },
  {
   "cell_type": "code",
   "execution_count": 8,
   "id": "8c660685",
   "metadata": {},
   "outputs": [
    {
     "data": {
      "text/plain": [
       "['ana amma  ata aa']"
      ]
     },
     "execution_count": 8,
     "metadata": {},
     "output_type": "execute_result"
    }
   ],
   "source": [
    "re.findall(r'a.*a', 'ana amma  ata aa')"
   ]
  },
  {
   "cell_type": "code",
   "execution_count": 18,
   "id": "02d66c0e",
   "metadata": {},
   "outputs": [],
   "source": [
    "# {} - Braces\n",
    "# Consider this code: {n,m}. This means at least n, and at most m repetitions of the pattern left to it.\n",
    "# it find m then n\n",
    "# it fin max then min"
   ]
  },
  {
   "cell_type": "code",
   "execution_count": 16,
   "id": "476f0fdf",
   "metadata": {},
   "outputs": [
    {
     "data": {
      "text/plain": [
       "['322', '342', '342']"
      ]
     },
     "execution_count": 16,
     "metadata": {},
     "output_type": "execute_result"
    }
   ],
   "source": [
    "re.findall(pattern=r'[0-9]{3}', string='3223423424')"
   ]
  },
  {
   "cell_type": "code",
   "execution_count": 19,
   "id": "96b0755d",
   "metadata": {},
   "outputs": [
    {
     "data": {
      "text/plain": [
       "['3223', '4234', '24']"
      ]
     },
     "execution_count": 19,
     "metadata": {},
     "output_type": "execute_result"
    }
   ],
   "source": [
    "re.findall(pattern=r'[0-9]{2,4}', string='3223423424')"
   ]
  },
  {
   "cell_type": "code",
   "execution_count": 24,
   "id": "922a01b8",
   "metadata": {},
   "outputs": [
    {
     "data": {
      "text/plain": [
       "['3223', '4234']"
      ]
     },
     "execution_count": 24,
     "metadata": {},
     "output_type": "execute_result"
    }
   ],
   "source": [
    "re.findall(pattern=r'[0-9]{2,4}', string='322342342')"
   ]
  },
  {
   "cell_type": "code",
   "execution_count": 28,
   "id": "770ff8fd",
   "metadata": {},
   "outputs": [
    {
     "data": {
      "text/plain": [
       "['3223', '4234', '211']"
      ]
     },
     "execution_count": 28,
     "metadata": {},
     "output_type": "execute_result"
    }
   ],
   "source": [
    "re.findall(pattern=r'[0-9]{3,4}', string='32234234211')"
   ]
  },
  {
   "cell_type": "code",
   "execution_count": 29,
   "id": "aaf2c59b",
   "metadata": {},
   "outputs": [
    {
     "data": {
      "text/plain": [
       "['3223', '4234']"
      ]
     },
     "execution_count": 29,
     "metadata": {},
     "output_type": "execute_result"
    }
   ],
   "source": [
    "re.findall(pattern=r'[0-9]{3,4}', string='3223423421')"
   ]
  },
  {
   "cell_type": "code",
   "execution_count": 30,
   "id": "9362ae41",
   "metadata": {},
   "outputs": [
    {
     "data": {
      "text/plain": [
       "['ana amma  ata aa']"
      ]
     },
     "execution_count": 30,
     "metadata": {},
     "output_type": "execute_result"
    }
   ],
   "source": [
    "re.findall(r'a.*a', 'ana amma  ata aa')"
   ]
  },
  {
   "cell_type": "code",
   "execution_count": 7,
   "id": "f865de5d",
   "metadata": {},
   "outputs": [
    {
     "data": {
      "text/plain": [
       "['amma', 'a aa']"
      ]
     },
     "execution_count": 7,
     "metadata": {},
     "output_type": "execute_result"
    }
   ],
   "source": [
    "re.findall(r'a.{2}a', 'ana amma  ata aa')"
   ]
  },
  {
   "cell_type": "code",
   "execution_count": 8,
   "id": "deb66a76",
   "metadata": {},
   "outputs": [
    {
     "data": {
      "text/plain": [
       "['a  a', 'a  a', 'a aa']"
      ]
     },
     "execution_count": 8,
     "metadata": {},
     "output_type": "execute_result"
    }
   ],
   "source": [
    "re.findall(r'a.{2}a', 'ana  amma  ata aa')"
   ]
  },
  {
   "cell_type": "code",
   "execution_count": 33,
   "id": "b0c5b6fe",
   "metadata": {},
   "outputs": [
    {
     "data": {
      "text/plain": [
       "['anaa']"
      ]
     },
     "execution_count": 33,
     "metadata": {},
     "output_type": "execute_result"
    }
   ],
   "source": [
    "re.findall(r'a.{2}a', 'anaa')"
   ]
  },
  {
   "cell_type": "code",
   "execution_count": 36,
   "id": "184fec67",
   "metadata": {},
   "outputs": [
    {
     "data": {
      "text/plain": [
       "['123']"
      ]
     },
     "execution_count": 36,
     "metadata": {},
     "output_type": "execute_result"
    }
   ],
   "source": [
    "re.findall(r'[0-9]{2,4}', 'ab123csde')"
   ]
  },
  {
   "cell_type": "code",
   "execution_count": 37,
   "id": "bea2522d",
   "metadata": {},
   "outputs": [
    {
     "data": {
      "text/plain": [
       "['12', '3456', '73']"
      ]
     },
     "execution_count": 37,
     "metadata": {},
     "output_type": "execute_result"
    }
   ],
   "source": [
    "re.findall(r'[0-9]{2,4}', '12 and 345673')"
   ]
  },
  {
   "cell_type": "code",
   "execution_count": 40,
   "id": "9056b691",
   "metadata": {},
   "outputs": [
    {
     "data": {
      "text/plain": [
       "['12', '456', '73']"
      ]
     },
     "execution_count": 40,
     "metadata": {},
     "output_type": "execute_result"
    }
   ],
   "source": [
    "re.findall(r'[0-9]{2,4}', '12 and 456a73')"
   ]
  },
  {
   "cell_type": "code",
   "execution_count": 41,
   "id": "79857abc",
   "metadata": {},
   "outputs": [],
   "source": [
    "# | - Alternation\n",
    "# Vertical bar | is used for alternation (or operator)."
   ]
  },
  {
   "cell_type": "code",
   "execution_count": 42,
   "id": "886c8662",
   "metadata": {},
   "outputs": [
    {
     "data": {
      "text/plain": [
       "['a', 'a', 'b', 'a', 'a']"
      ]
     },
     "execution_count": 42,
     "metadata": {},
     "output_type": "execute_result"
    }
   ],
   "source": [
    "re.findall(r'a|b', 'ana ban can')"
   ]
  },
  {
   "cell_type": "code",
   "execution_count": 43,
   "id": "103b825c",
   "metadata": {},
   "outputs": [
    {
     "data": {
      "text/plain": [
       "['a', 'a', 'b', 'a', 'a']"
      ]
     },
     "execution_count": 43,
     "metadata": {},
     "output_type": "execute_result"
    }
   ],
   "source": [
    "re.findall(r'[ab]', 'ana ban can')"
   ]
  },
  {
   "cell_type": "code",
   "execution_count": 45,
   "id": "097660d9",
   "metadata": {},
   "outputs": [],
   "source": [
    "# () - Group\n",
    "# Parentheses () is used to group sub-patterns. For example, (a|b|c)xz match any string\n",
    "# that matches either a or b or c followed by xz"
   ]
  },
  {
   "cell_type": "code",
   "execution_count": 53,
   "id": "bf927055",
   "metadata": {},
   "outputs": [
    {
     "data": {
      "text/plain": [
       "['ana']"
      ]
     },
     "execution_count": 53,
     "metadata": {},
     "output_type": "execute_result"
    }
   ],
   "source": [
    "re.findall(r'[ab]na', 'ana ban can')"
   ]
  },
  {
   "cell_type": "code",
   "execution_count": 54,
   "id": "53e3f777",
   "metadata": {},
   "outputs": [
    {
     "data": {
      "text/plain": [
       "['a']"
      ]
     },
     "execution_count": 54,
     "metadata": {},
     "output_type": "execute_result"
    }
   ],
   "source": [
    "re.findall(r'(a|b)na', 'ana ban can')"
   ]
  },
  {
   "cell_type": "code",
   "execution_count": 55,
   "id": "a98d454a",
   "metadata": {},
   "outputs": [
    {
     "data": {
      "text/plain": [
       "['b', 'c']"
      ]
     },
     "execution_count": 55,
     "metadata": {},
     "output_type": "execute_result"
    }
   ],
   "source": [
    "re.findall(r'(c|b)an', 'ana ban can dan')"
   ]
  },
  {
   "cell_type": "code",
   "execution_count": 56,
   "id": "7395a033",
   "metadata": {},
   "outputs": [
    {
     "data": {
      "text/plain": [
       "['ban', 'can']"
      ]
     },
     "execution_count": 56,
     "metadata": {},
     "output_type": "execute_result"
    }
   ],
   "source": [
    "re.findall(r'(?:c|b)an', 'ana ban can dan')"
   ]
  },
  {
   "cell_type": "code",
   "execution_count": 58,
   "id": "6f9b1c47",
   "metadata": {},
   "outputs": [
    {
     "data": {
      "text/plain": [
       "['ban', 'c']"
      ]
     },
     "execution_count": 58,
     "metadata": {},
     "output_type": "execute_result"
    }
   ],
   "source": [
    "re.findall(r'(c|ban)', 'ana ban can dan')"
   ]
  },
  {
   "cell_type": "code",
   "execution_count": 60,
   "id": "20ead87c",
   "metadata": {},
   "outputs": [],
   "source": [
    "# \\ - Backslash\n",
    "# Backlash \\ is used to escape various characters including all metacharacters.\n",
    "\n",
    "# For example, • \\$a match if a string contains $ followed by a. Here, $ is not interpreted by a RegEx engine in a special way.\n",
    "\n",
    "# If you are unsure if a character has special meaning or not, you can put \\ in front of it.\n",
    "# This makes sure the character is not treated in a special way."
   ]
  },
  {
   "cell_type": "code",
   "execution_count": 118,
   "id": "7605824f",
   "metadata": {},
   "outputs": [
    {
     "data": {
      "text/plain": [
       "['', 'an', '', '', '', '', 'an', '', '', '', 'an', '', '']"
      ]
     },
     "execution_count": 118,
     "metadata": {},
     "output_type": "execute_result"
    }
   ],
   "source": [
    "re.findall(r'(an)?', 'cann? ban? dan?') # take 'an' joint movzudan kenar"
   ]
  },
  {
   "cell_type": "code",
   "execution_count": 119,
   "id": "5a1ae9bc",
   "metadata": {},
   "outputs": [
    {
     "data": {
      "text/plain": [
       "['an', 'an', 'an']"
      ]
     },
     "execution_count": 119,
     "metadata": {},
     "output_type": "execute_result"
    }
   ],
   "source": [
    "re.findall('an', 'an an anta') # test code movzudan kenar"
   ]
  },
  {
   "cell_type": "code",
   "execution_count": 120,
   "id": "2b1661bb",
   "metadata": {},
   "outputs": [
    {
     "data": {
      "text/plain": [
       "['an', 'an', 'an']"
      ]
     },
     "execution_count": 120,
     "metadata": {},
     "output_type": "execute_result"
    }
   ],
   "source": [
    "re.findall('(an)', 'an an anta') # test code movzudan kenar"
   ]
  },
  {
   "cell_type": "code",
   "execution_count": 121,
   "id": "4082e5ae",
   "metadata": {},
   "outputs": [
    {
     "data": {
      "text/plain": [
       "['an', 'an', 'an']"
      ]
     },
     "execution_count": 121,
     "metadata": {},
     "output_type": "execute_result"
    }
   ],
   "source": [
    "re.findall(r'an?', 'cann? ban? dan?')"
   ]
  },
  {
   "cell_type": "code",
   "execution_count": 122,
   "id": "bb1a2817",
   "metadata": {},
   "outputs": [
    {
     "data": {
      "text/plain": [
       "['an?', 'an?']"
      ]
     },
     "execution_count": 122,
     "metadata": {},
     "output_type": "execute_result"
    }
   ],
   "source": [
    "re.findall(r'an\\?', 'cann? ban? dan?')"
   ]
  },
  {
   "cell_type": "code",
   "execution_count": 123,
   "id": "54faea74",
   "metadata": {},
   "outputs": [
    {
     "name": "stdout",
     "output_type": "stream",
     "text": [
      "['a', 'l', 'f', 'a', ' ', '.', ' ', 'b', 'e', 't', 'a', ' ', '.', ' ', 'q', 'a', 'm', 'm', 'a']\n"
     ]
    }
   ],
   "source": [
    "print(re.findall(r'.', 'alfa . beta . qamma'))"
   ]
  },
  {
   "cell_type": "code",
   "execution_count": 124,
   "id": "7305a16c",
   "metadata": {},
   "outputs": [
    {
     "name": "stdout",
     "output_type": "stream",
     "text": [
      "['.', '.']\n"
     ]
    }
   ],
   "source": [
    "print(re.findall(r'\\.', 'alfa . beta . qamma'))"
   ]
  },
  {
   "cell_type": "code",
   "execution_count": 128,
   "id": "fea2a0cd",
   "metadata": {},
   "outputs": [
    {
     "data": {
      "text/plain": [
       "['a', 'l', 'f', 'a', 'a', 'a', 'a']"
      ]
     },
     "execution_count": 128,
     "metadata": {},
     "output_type": "execute_result"
    }
   ],
   "source": [
    "re.findall('[alfa]', '[alfa] [beta] [qamma]')"
   ]
  },
  {
   "cell_type": "code",
   "execution_count": 131,
   "id": "e36b07b3",
   "metadata": {},
   "outputs": [
    {
     "data": {
      "text/plain": [
       "['[alfa]']"
      ]
     },
     "execution_count": 131,
     "metadata": {},
     "output_type": "execute_result"
    }
   ],
   "source": [
    "re.findall('\\[alfa\\]', '[alfa] [beta] [qamma]')"
   ]
  },
  {
   "cell_type": "code",
   "execution_count": 132,
   "id": "b42f5d69",
   "metadata": {},
   "outputs": [
    {
     "data": {
      "text/plain": [
       "['[alfa]', '[alfa]']"
      ]
     },
     "execution_count": 132,
     "metadata": {},
     "output_type": "execute_result"
    }
   ],
   "source": [
    "re.findall('\\[alfa\\]', '[alfa] [beta] [qamma] [alfa]')"
   ]
  },
  {
   "cell_type": "markdown",
   "id": "85548d50",
   "metadata": {},
   "source": [
    "## Special Sequences"
   ]
  },
  {
   "cell_type": "code",
   "execution_count": 133,
   "id": "180982d7",
   "metadata": {},
   "outputs": [],
   "source": [
    "# Special sequences make commonly used patterns easier to write.\n",
    "# Here's a list of special sequences:\n",
    "\n",
    "# \\A - Matches if the specified characters are at the start of a string."
   ]
  },
  {
   "cell_type": "code",
   "execution_count": 134,
   "id": "cf9189ff",
   "metadata": {},
   "outputs": [
    {
     "data": {
      "text/plain": [
       "['a']"
      ]
     },
     "execution_count": 134,
     "metadata": {},
     "output_type": "execute_result"
    }
   ],
   "source": [
    "re.findall(r'\\Aa', 'alfa beta')"
   ]
  },
  {
   "cell_type": "code",
   "execution_count": 139,
   "id": "5d317052",
   "metadata": {},
   "outputs": [
    {
     "data": {
      "text/plain": [
       "['a']"
      ]
     },
     "execution_count": 139,
     "metadata": {},
     "output_type": "execute_result"
    }
   ],
   "source": [
    "re.findall(r'^a', 'alfa beta') # ^a and \\A  the same mean"
   ]
  },
  {
   "cell_type": "code",
   "execution_count": 140,
   "id": "607159dd",
   "metadata": {},
   "outputs": [
    {
     "data": {
      "text/plain": [
       "[]"
      ]
     },
     "execution_count": 140,
     "metadata": {},
     "output_type": "execute_result"
    }
   ],
   "source": [
    "re.findall(r'^apple', 'alfa beta')"
   ]
  },
  {
   "cell_type": "code",
   "execution_count": 143,
   "id": "f11b14ef",
   "metadata": {},
   "outputs": [
    {
     "data": {
      "text/plain": [
       "['apple']"
      ]
     },
     "execution_count": 143,
     "metadata": {},
     "output_type": "execute_result"
    }
   ],
   "source": [
    "re.findall(r'^apple', 'apple alfa beta')"
   ]
  },
  {
   "cell_type": "code",
   "execution_count": 151,
   "id": "0b2e8c90",
   "metadata": {},
   "outputs": [],
   "source": [
    "# \\b - Matches if the specified characters are at the beginning or end of a word."
   ]
  },
  {
   "cell_type": "code",
   "execution_count": 161,
   "id": "8f8bd6e5",
   "metadata": {},
   "outputs": [
    {
     "data": {
      "text/plain": [
       "['a']"
      ]
     },
     "execution_count": 161,
     "metadata": {},
     "output_type": "execute_result"
    }
   ],
   "source": [
    "re.findall(r'\\Aa', 'alfa beta ana')"
   ]
  },
  {
   "cell_type": "code",
   "execution_count": 166,
   "id": "76b60b89",
   "metadata": {},
   "outputs": [
    {
     "data": {
      "text/plain": [
       "['a', 'a']"
      ]
     },
     "execution_count": 166,
     "metadata": {},
     "output_type": "execute_result"
    }
   ],
   "source": [
    "re.findall(r'\\ba', 'alfa beta ana')"
   ]
  },
  {
   "cell_type": "code",
   "execution_count": 167,
   "id": "14e449d6",
   "metadata": {},
   "outputs": [
    {
     "data": {
      "text/plain": [
       "['a', 'a']"
      ]
     },
     "execution_count": 167,
     "metadata": {},
     "output_type": "execute_result"
    }
   ],
   "source": [
    "re.findall(r'\\ba', 'alfa beta?ana')"
   ]
  },
  {
   "cell_type": "code",
   "execution_count": 170,
   "id": "2e8f01a4",
   "metadata": {},
   "outputs": [
    {
     "data": {
      "text/plain": [
       "['a', 'a']"
      ]
     },
     "execution_count": 170,
     "metadata": {},
     "output_type": "execute_result"
    }
   ],
   "source": [
    "re.findall(r'\\ba', 'alfa beta ?ana')"
   ]
  },
  {
   "cell_type": "code",
   "execution_count": 173,
   "id": "03b6f379",
   "metadata": {},
   "outputs": [
    {
     "data": {
      "text/plain": [
       "['a', 'a', 'a']"
      ]
     },
     "execution_count": 173,
     "metadata": {},
     "output_type": "execute_result"
    }
   ],
   "source": [
    "re.findall(r'a\\b', 'alfa beta ?ana')"
   ]
  },
  {
   "cell_type": "code",
   "execution_count": 178,
   "id": "84825446",
   "metadata": {},
   "outputs": [
    {
     "data": {
      "text/plain": [
       "['a', 'a', 'a', 'a']"
      ]
     },
     "execution_count": 178,
     "metadata": {},
     "output_type": "execute_result"
    }
   ],
   "source": [
    "re.findall(r'a\\b', 'alfa beta ?ana alfa')"
   ]
  },
  {
   "cell_type": "code",
   "execution_count": 180,
   "id": "6674432d",
   "metadata": {},
   "outputs": [
    {
     "data": {
      "text/plain": [
       "['a', 'a', 'a', 'a', 'a']"
      ]
     },
     "execution_count": 180,
     "metadata": {},
     "output_type": "execute_result"
    }
   ],
   "source": [
    "re.findall(r'a\\b', 'alfa beta ?a? ?ana alfa')"
   ]
  },
  {
   "cell_type": "code",
   "execution_count": 181,
   "id": "16023598",
   "metadata": {},
   "outputs": [],
   "source": [
    "# \\B - Opposite of \\b. Matches if the specified characters are not at the beginning or end of a word."
   ]
  },
  {
   "cell_type": "code",
   "execution_count": 183,
   "id": "68b2c225",
   "metadata": {},
   "outputs": [
    {
     "data": {
      "text/plain": [
       "['a', 'a', 'a', 'a']"
      ]
     },
     "execution_count": 183,
     "metadata": {},
     "output_type": "execute_result"
    }
   ],
   "source": [
    "re.findall(r'\\Ba', 'alfa beta ana alfa')"
   ]
  },
  {
   "cell_type": "code",
   "execution_count": 185,
   "id": "ce47d061",
   "metadata": {},
   "outputs": [
    {
     "data": {
      "text/plain": [
       "['a', 'a', 'a']"
      ]
     },
     "execution_count": 185,
     "metadata": {},
     "output_type": "execute_result"
    }
   ],
   "source": [
    "re.findall(r'\\Ba', 'laf beat an laf')"
   ]
  },
  {
   "cell_type": "code",
   "execution_count": 193,
   "id": "c12b5ec2",
   "metadata": {},
   "outputs": [
    {
     "data": {
      "text/plain": [
       "['af', 'af']"
      ]
     },
     "execution_count": 193,
     "metadata": {},
     "output_type": "execute_result"
    }
   ],
   "source": [
    "re.findall(r'\\Baf', 'laf beat an laf')"
   ]
  },
  {
   "cell_type": "code",
   "execution_count": 9,
   "id": "69bab13e",
   "metadata": {},
   "outputs": [
    {
     "data": {
      "text/plain": [
       "['af', 'at', 'af']"
      ]
     },
     "execution_count": 9,
     "metadata": {},
     "output_type": "execute_result"
    }
   ],
   "source": [
    "re.findall(r'\\Ba.', 'laf beat an laf')"
   ]
  },
  {
   "cell_type": "code",
   "execution_count": 10,
   "id": "1946b163",
   "metadata": {},
   "outputs": [
    {
     "data": {
      "text/plain": [
       "['ball']"
      ]
     },
     "execution_count": 10,
     "metadata": {},
     "output_type": "execute_result"
    }
   ],
   "source": [
    "re.findall(r'\\bball', 'ballman football voleyball')"
   ]
  },
  {
   "cell_type": "code",
   "execution_count": 16,
   "id": "98125db7",
   "metadata": {},
   "outputs": [
    {
     "data": {
      "text/plain": [
       "['ball', 'ball']"
      ]
     },
     "execution_count": 16,
     "metadata": {},
     "output_type": "execute_result"
    }
   ],
   "source": [
    "re.findall(r'ball\\b', 'ballman football voleyball')"
   ]
  },
  {
   "cell_type": "code",
   "execution_count": 17,
   "id": "26c226d6",
   "metadata": {},
   "outputs": [
    {
     "data": {
      "text/plain": [
       "['ball', 'ball', 'ball']"
      ]
     },
     "execution_count": 17,
     "metadata": {},
     "output_type": "execute_result"
    }
   ],
   "source": [
    "re.findall(r'\\Bball', 'ballman football voleyball noballyes')"
   ]
  },
  {
   "cell_type": "code",
   "execution_count": 18,
   "id": "e1737d8d",
   "metadata": {},
   "outputs": [],
   "source": [
    "# \\d - Matches any decimal digit. Equivalent to [0-9]\n",
    "# \\D - Matches any non-decimal digit. Equivalent to [^0-9]\n",
    "\n",
    "# \\d is same as [0-9]\n",
    "# \\D is same as [^0-9]"
   ]
  },
  {
   "cell_type": "code",
   "execution_count": 19,
   "id": "be9391be",
   "metadata": {},
   "outputs": [
    {
     "data": {
      "text/plain": [
       "['124', '232', '122', '438']"
      ]
     },
     "execution_count": 19,
     "metadata": {},
     "output_type": "execute_result"
    }
   ],
   "source": [
    "re.findall(r'\\d{3}', '1242 232 122 438 ')"
   ]
  },
  {
   "cell_type": "code",
   "execution_count": 20,
   "id": "6ff5e0f7",
   "metadata": {},
   "outputs": [
    {
     "data": {
      "text/plain": [
       "['1242']"
      ]
     },
     "execution_count": 20,
     "metadata": {},
     "output_type": "execute_result"
    }
   ],
   "source": [
    "re.findall(r'\\d{4}', '1242 232 122 438 ')"
   ]
  },
  {
   "cell_type": "code",
   "execution_count": 21,
   "id": "98f5ebb1",
   "metadata": {},
   "outputs": [
    {
     "data": {
      "text/plain": [
       "['1242']"
      ]
     },
     "execution_count": 21,
     "metadata": {},
     "output_type": "execute_result"
    }
   ],
   "source": [
    "re.findall(r'[0-9]{4}', '1242 232 122 438 ')"
   ]
  },
  {
   "cell_type": "code",
   "execution_count": 22,
   "id": "46c16e06",
   "metadata": {},
   "outputs": [
    {
     "data": {
      "text/plain": [
       "[' cb ', ' ab ', ' db ', ' mb ']"
      ]
     },
     "execution_count": 22,
     "metadata": {},
     "output_type": "execute_result"
    }
   ],
   "source": [
    "re.findall(r'\\D{4}', ' cb 1242 ab 232 db 122 mb 438 ')"
   ]
  },
  {
   "cell_type": "code",
   "execution_count": 32,
   "id": "3712db78",
   "metadata": {},
   "outputs": [],
   "source": [
    "# \\s - Matches where a string contains any whitespace character. Equivalent to [\\t\\n\\r\\f\\v].\n",
    "# \\S - Matches where a string contains any non-whitespace character. Equivalent to [^\\t\\n\\r\\f\\v]\n",
    "# \\S is opposite \\s"
   ]
  },
  {
   "cell_type": "code",
   "execution_count": 27,
   "id": "de9d1238",
   "metadata": {},
   "outputs": [
    {
     "data": {
      "text/plain": [
       "[' ', ' ', ' ', ' ', ' ', ' ', ' ', ' ', ' ']"
      ]
     },
     "execution_count": 27,
     "metadata": {},
     "output_type": "execute_result"
    }
   ],
   "source": [
    "re.findall(r'\\s', ' cb 1242 ab 232 db 122 mb 438 ')"
   ]
  },
  {
   "cell_type": "code",
   "execution_count": 30,
   "id": "ed2ffdd2",
   "metadata": {},
   "outputs": [
    {
     "name": "stdout",
     "output_type": "stream",
     "text": [
      "['c', 'b', '1', '2', '4', '2', 'a', 'b', '2', '3', '2', 'd', 'b', '1', '2', '2', 'm', 'b', '4', '3', '8']\n"
     ]
    }
   ],
   "source": [
    "print(re.findall(r'\\S', ' cb 1242 ab 232 db 122 mb 438 '))"
   ]
  },
  {
   "cell_type": "code",
   "execution_count": 31,
   "id": "e7ec9428",
   "metadata": {},
   "outputs": [
    {
     "name": "stdout",
     "output_type": "stream",
     "text": [
      "['cb', '1242', 'ab', '232', 'db', '122', 'mb', '438']\n"
     ]
    }
   ],
   "source": [
    "print(re.findall(r'\\S+', ' cb 1242 ab 232 db 122 mb 438 '))"
   ]
  },
  {
   "cell_type": "code",
   "execution_count": 53,
   "id": "ccf8acd4",
   "metadata": {},
   "outputs": [
    {
     "name": "stdout",
     "output_type": "stream",
     "text": [
      "['1242', '232', '122', '438']\n"
     ]
    }
   ],
   "source": [
    "print(re.findall(r'\\d\\S+', ' cb 1242 ab 232 db 122 mb 438 '))"
   ]
  },
  {
   "cell_type": "code",
   "execution_count": 58,
   "id": "d88e182e",
   "metadata": {},
   "outputs": [
    {
     "name": "stdout",
     "output_type": "stream",
     "text": [
      "['cb', 'ab', 'db', 'mb']\n"
     ]
    }
   ],
   "source": [
    "print(re.findall(r'[a-z]\\S+', ' cb 1242 ab 232 db 122 mb 438 '))"
   ]
  },
  {
   "cell_type": "code",
   "execution_count": 59,
   "id": "4fd41bf9",
   "metadata": {},
   "outputs": [],
   "source": [
    "# \\w - Matches any alphanumeric character (digits and alphabets). Equivalent to [a-zA-Z0-9_].\n",
    "# By the way, underscore _ is also considered an alphanumeric character."
   ]
  },
  {
   "cell_type": "code",
   "execution_count": 60,
   "id": "c0b1d9b7",
   "metadata": {},
   "outputs": [
    {
     "name": "stdout",
     "output_type": "stream",
     "text": [
      "['c', 'b', '1', '2', '4', '2', 'a', 'b', '2', '3', '2', 'd', 'b', '1', '2', '2', 'm', 'b', '4', '3', '8']\n"
     ]
    }
   ],
   "source": [
    "print(re.findall(r'\\w', ' cb 1242 ab 232 db 122 mb 438 '))"
   ]
  },
  {
   "cell_type": "code",
   "execution_count": 61,
   "id": "99bb0aa6",
   "metadata": {},
   "outputs": [
    {
     "name": "stdout",
     "output_type": "stream",
     "text": [
      "['cb', '1242', 'ab', '232', 'db', '122', 'mb', '438']\n"
     ]
    }
   ],
   "source": [
    "print(re.findall(r'\\w+', ' cb 1242 ab 232 db 122 mb 438 '))"
   ]
  },
  {
   "cell_type": "code",
   "execution_count": 62,
   "id": "ba42b1dc",
   "metadata": {},
   "outputs": [
    {
     "name": "stdout",
     "output_type": "stream",
     "text": [
      "['1242', '232', '122', '438']\n"
     ]
    }
   ],
   "source": [
    "print(re.findall(r'\\d+', ' cb 1242 ab 232 db 122 mb 438 '))"
   ]
  },
  {
   "cell_type": "code",
   "execution_count": 63,
   "id": "0b1d594f",
   "metadata": {},
   "outputs": [
    {
     "name": "stdout",
     "output_type": "stream",
     "text": [
      "['cb', 'ab', 'db', 'mb']\n"
     ]
    }
   ],
   "source": [
    "print(re.findall(r'[a-z]+', ' cb 1242 ab 232 db 122 mb 438 '))"
   ]
  },
  {
   "cell_type": "code",
   "execution_count": 64,
   "id": "e64a6b21",
   "metadata": {},
   "outputs": [],
   "source": [
    "# \\W - Matches any non-alphanumeric character. Equivalent to [^a-zA-Z0-9_]"
   ]
  },
  {
   "cell_type": "code",
   "execution_count": 68,
   "id": "417c560a",
   "metadata": {},
   "outputs": [
    {
     "name": "stdout",
     "output_type": "stream",
     "text": [
      "[' ', ' ', ' .,> ', ' ', ' ', ' ', ' ', ' ', ' ']\n"
     ]
    }
   ],
   "source": [
    "print(re.findall(r'\\W+', ' cb 1242 .,> ab 232 db 122 mb 438 '))"
   ]
  },
  {
   "cell_type": "code",
   "execution_count": 72,
   "id": "c9e3adca",
   "metadata": {},
   "outputs": [],
   "source": [
    "# \\Z - Matches if the specified characters are at the end of a string.\n",
    "# \\Z is same as \\$"
   ]
  },
  {
   "cell_type": "code",
   "execution_count": 71,
   "id": "5d2ee93e",
   "metadata": {},
   "outputs": [
    {
     "data": {
      "text/plain": [
       "['a']"
      ]
     },
     "execution_count": 71,
     "metadata": {},
     "output_type": "execute_result"
    }
   ],
   "source": [
    "re.findall(r'a$', 'alfa beta')"
   ]
  },
  {
   "cell_type": "code",
   "execution_count": 74,
   "id": "ae2b25ad",
   "metadata": {},
   "outputs": [
    {
     "data": {
      "text/plain": [
       "['a']"
      ]
     },
     "execution_count": 74,
     "metadata": {},
     "output_type": "execute_result"
    }
   ],
   "source": [
    "re.findall(r'a\\Z', 'alfa beta')"
   ]
  },
  {
   "cell_type": "markdown",
   "id": "8d136ffe",
   "metadata": {},
   "source": [
    "## Functions and Constants\n",
    "## To work with RegEx"
   ]
  },
  {
   "cell_type": "code",
   "execution_count": 133,
   "id": "5541d0cd",
   "metadata": {},
   "outputs": [
    {
     "data": {
      "text/plain": [
       "['Celil', 'Arif', 'Mehemmed', 'Lale']"
      ]
     },
     "execution_count": 133,
     "metadata": {},
     "output_type": "execute_result"
    }
   ],
   "source": [
    "list_name = re.findall(r'[A-Za-z]+', 'Celil 1 Arif 2 Mehemmed 3 Lale 14')\n",
    "list_name"
   ]
  },
  {
   "cell_type": "code",
   "execution_count": 134,
   "id": "1af15a71",
   "metadata": {},
   "outputs": [
    {
     "data": {
      "text/plain": [
       "['1', '2', '3', '14']"
      ]
     },
     "execution_count": 134,
     "metadata": {},
     "output_type": "execute_result"
    }
   ],
   "source": [
    "list_id = re.findall(r'[0-9]+', 'Celil 1 Arif 2 Mehemmed 3 Lale 14')\n",
    "list_id"
   ]
  },
  {
   "cell_type": "code",
   "execution_count": 135,
   "id": "238ce5d0",
   "metadata": {},
   "outputs": [
    {
     "data": {
      "text/plain": [
       "{'Celil': '1', 'Arif': '2', 'Mehemmed': '3', 'Lale': '14'}"
      ]
     },
     "execution_count": 135,
     "metadata": {},
     "output_type": "execute_result"
    }
   ],
   "source": [
    "dict(zip(list_name, list_id))"
   ]
  },
  {
   "cell_type": "code",
   "execution_count": 136,
   "id": "7e232c6d",
   "metadata": {},
   "outputs": [
    {
     "data": {
      "text/plain": [
       "[('Celil', '1'), ('Arif', '2'), ('Mehemmed', '3'), ('Lale', '14')]"
      ]
     },
     "execution_count": 136,
     "metadata": {},
     "output_type": "execute_result"
    }
   ],
   "source": [
    "result = list(zip(list_name, list_id))\n",
    "result"
   ]
  },
  {
   "cell_type": "code",
   "execution_count": 137,
   "id": "fbd4db9a",
   "metadata": {},
   "outputs": [
    {
     "data": {
      "text/plain": [
       "[('Celil', '1'), ('Arif', '2'), ('Mehemmed', '3'), ('Lale', '14')]"
      ]
     },
     "execution_count": 137,
     "metadata": {},
     "output_type": "execute_result"
    }
   ],
   "source": [
    "result = list(map(lambda x, y: (x,y), list_name, list_id))\n",
    "result"
   ]
  },
  {
   "cell_type": "code",
   "execution_count": 138,
   "id": "8d10eb6a",
   "metadata": {},
   "outputs": [
    {
     "data": {
      "text/plain": [
       "{'Celil': '1', 'Arif': '2', 'Mehemmed': '3', 'Lale': '14'}"
      ]
     },
     "execution_count": 138,
     "metadata": {},
     "output_type": "execute_result"
    }
   ],
   "source": [
    "dict_result = dict(result)\n",
    "dict_result"
   ]
  },
  {
   "cell_type": "code",
   "execution_count": 139,
   "id": "806ea017",
   "metadata": {},
   "outputs": [],
   "source": [
    "import pandas as pd"
   ]
  },
  {
   "cell_type": "code",
   "execution_count": 141,
   "id": "b72b89e0",
   "metadata": {},
   "outputs": [
    {
     "data": {
      "text/html": [
       "<div>\n",
       "<style scoped>\n",
       "    .dataframe tbody tr th:only-of-type {\n",
       "        vertical-align: middle;\n",
       "    }\n",
       "\n",
       "    .dataframe tbody tr th {\n",
       "        vertical-align: top;\n",
       "    }\n",
       "\n",
       "    .dataframe thead th {\n",
       "        text-align: right;\n",
       "    }\n",
       "</style>\n",
       "<table border=\"1\" class=\"dataframe\">\n",
       "  <thead>\n",
       "    <tr style=\"text-align: right;\">\n",
       "      <th></th>\n",
       "      <th>Name</th>\n",
       "      <th>Id</th>\n",
       "    </tr>\n",
       "  </thead>\n",
       "  <tbody>\n",
       "    <tr>\n",
       "      <th>0</th>\n",
       "      <td>Celil</td>\n",
       "      <td>1</td>\n",
       "    </tr>\n",
       "    <tr>\n",
       "      <th>1</th>\n",
       "      <td>Arif</td>\n",
       "      <td>2</td>\n",
       "    </tr>\n",
       "    <tr>\n",
       "      <th>2</th>\n",
       "      <td>Mehemmed</td>\n",
       "      <td>3</td>\n",
       "    </tr>\n",
       "    <tr>\n",
       "      <th>3</th>\n",
       "      <td>Lale</td>\n",
       "      <td>14</td>\n",
       "    </tr>\n",
       "  </tbody>\n",
       "</table>\n",
       "</div>"
      ],
      "text/plain": [
       "       Name  Id\n",
       "0     Celil   1\n",
       "1      Arif   2\n",
       "2  Mehemmed   3\n",
       "3      Lale  14"
      ]
     },
     "execution_count": 141,
     "metadata": {},
     "output_type": "execute_result"
    }
   ],
   "source": [
    "pd.DataFrame(list(dict_result.items()), columns=['Name', 'Id'])"
   ]
  },
  {
   "cell_type": "code",
   "execution_count": 142,
   "id": "a1e3a8ea",
   "metadata": {},
   "outputs": [
    {
     "data": {
      "text/plain": [
       "[('Celil', '1'), ('Arif', '2'), ('Mehemmed', '3'), ('Lale', '14')]"
      ]
     },
     "execution_count": 142,
     "metadata": {},
     "output_type": "execute_result"
    }
   ],
   "source": [
    "list(dict_result.items())"
   ]
  },
  {
   "cell_type": "code",
   "execution_count": 143,
   "id": "60d1a56e",
   "metadata": {},
   "outputs": [
    {
     "data": {
      "text/html": [
       "<div>\n",
       "<style scoped>\n",
       "    .dataframe tbody tr th:only-of-type {\n",
       "        vertical-align: middle;\n",
       "    }\n",
       "\n",
       "    .dataframe tbody tr th {\n",
       "        vertical-align: top;\n",
       "    }\n",
       "\n",
       "    .dataframe thead th {\n",
       "        text-align: right;\n",
       "    }\n",
       "</style>\n",
       "<table border=\"1\" class=\"dataframe\">\n",
       "  <thead>\n",
       "    <tr style=\"text-align: right;\">\n",
       "      <th></th>\n",
       "      <th>Name</th>\n",
       "      <th>Id</th>\n",
       "    </tr>\n",
       "  </thead>\n",
       "  <tbody>\n",
       "    <tr>\n",
       "      <th>0</th>\n",
       "      <td>Celil</td>\n",
       "      <td>1</td>\n",
       "    </tr>\n",
       "    <tr>\n",
       "      <th>1</th>\n",
       "      <td>Arif</td>\n",
       "      <td>2</td>\n",
       "    </tr>\n",
       "    <tr>\n",
       "      <th>2</th>\n",
       "      <td>Mehemmed</td>\n",
       "      <td>3</td>\n",
       "    </tr>\n",
       "    <tr>\n",
       "      <th>3</th>\n",
       "      <td>Lale</td>\n",
       "      <td>14</td>\n",
       "    </tr>\n",
       "  </tbody>\n",
       "</table>\n",
       "</div>"
      ],
      "text/plain": [
       "       Name  Id\n",
       "0     Celil   1\n",
       "1      Arif   2\n",
       "2  Mehemmed   3\n",
       "3      Lale  14"
      ]
     },
     "execution_count": 143,
     "metadata": {},
     "output_type": "execute_result"
    }
   ],
   "source": [
    "pd.DataFrame(dict_result.items(), columns=['Name', 'Id'])"
   ]
  },
  {
   "cell_type": "code",
   "execution_count": 144,
   "id": "3e57755a",
   "metadata": {},
   "outputs": [
    {
     "data": {
      "text/plain": [
       "dict_items([('Celil', '1'), ('Arif', '2'), ('Mehemmed', '3'), ('Lale', '14')])"
      ]
     },
     "execution_count": 144,
     "metadata": {},
     "output_type": "execute_result"
    }
   ],
   "source": [
    "dict_result.items()"
   ]
  },
  {
   "cell_type": "code",
   "execution_count": 169,
   "id": "8e75d36d",
   "metadata": {},
   "outputs": [
    {
     "data": {
      "text/plain": [
       "['IST2354']"
      ]
     },
     "execution_count": 169,
     "metadata": {},
     "output_type": "execute_result"
    }
   ],
   "source": [
    "re.findall(r'\\bIST\\d{4}', 'IST2354 BS2327 IST321 AQR3627 IST123') # istehlak krediti reqem 4 eded olur"
   ]
  },
  {
   "cell_type": "code",
   "execution_count": 170,
   "id": "3d751c2c",
   "metadata": {},
   "outputs": [
    {
     "data": {
      "text/plain": [
       "['IST2354']"
      ]
     },
     "execution_count": 170,
     "metadata": {},
     "output_type": "execute_result"
    }
   ],
   "source": [
    "re.findall(r'\\bIST[0-9]{4}', 'IST2354 BS2327 IST321 AQR3627 IST123')"
   ]
  },
  {
   "cell_type": "code",
   "execution_count": 210,
   "id": "67c88604",
   "metadata": {},
   "outputs": [
    {
     "data": {
      "text/plain": [
       "['D42-23']"
      ]
     },
     "execution_count": 210,
     "metadata": {},
     "output_type": "execute_result"
    }
   ],
   "source": [
    "re.findall(r'\\b[A-Z]{1}\\d{2}-\\d{2}\\b', 'AT32-42 B123-14 D42-23 31-12 F22-444 32-13') # example k32-45"
   ]
  },
  {
   "cell_type": "code",
   "execution_count": 243,
   "id": "23933960",
   "metadata": {},
   "outputs": [
    {
     "data": {
      "text/plain": [
       "['121.223.121.22', '121.211.23.34']"
      ]
     },
     "execution_count": 243,
     "metadata": {},
     "output_type": "execute_result"
    }
   ],
   "source": [
    "re.findall(r'\\b\\d{3}\\.\\d{2,3}\\.\\d{2,3}\\.\\d{2}\\b', '12.43.54.23 121.223.121.22 44.232.13.24 121.211.23.34 121.211.23.343')\n",
    "# ip address 3num.2-3num.2-3num.2num"
   ]
  },
  {
   "cell_type": "markdown",
   "id": "5208d91d",
   "metadata": {},
   "source": [
    "## Functions and Constants"
   ]
  },
  {
   "cell_type": "code",
   "execution_count": 244,
   "id": "98f6fa4f",
   "metadata": {},
   "outputs": [],
   "source": [
    "# re.search()\n",
    "# The re.search() method takes two arguments: a pattern and a string. The method looks\n",
    "# for the first location where the RegEx pattern produces a match with the string.\n",
    "\n",
    "# If the search is successful, re.search() returns a match object; if not, it returns None."
   ]
  },
  {
   "cell_type": "code",
   "execution_count": 249,
   "id": "2b659ab1",
   "metadata": {},
   "outputs": [
    {
     "data": {
      "text/plain": [
       "<re.Match object; span=(0, 2), match='23'>"
      ]
     },
     "execution_count": 249,
     "metadata": {},
     "output_type": "execute_result"
    }
   ],
   "source": [
    "re.search(r'\\d{2}', '23 434 32')"
   ]
  },
  {
   "cell_type": "code",
   "execution_count": 250,
   "id": "e529f4c4",
   "metadata": {},
   "outputs": [],
   "source": [
    "a = re.search(r'\\d{2}', '23 434 32')"
   ]
  },
  {
   "cell_type": "code",
   "execution_count": 266,
   "id": "4103141d",
   "metadata": {},
   "outputs": [
    {
     "name": "stdout",
     "output_type": "stream",
     "text": [
      "0\n",
      "2\n",
      "(0, 2)\n",
      "\\d{2}\n",
      "23 434 32\n"
     ]
    }
   ],
   "source": [
    "print(a.start())\n",
    "print(a.end())\n",
    "print(a.span())\n",
    "print(a.re.pattern)\n",
    "print(a.string)"
   ]
  },
  {
   "cell_type": "code",
   "execution_count": 267,
   "id": "a6876871",
   "metadata": {},
   "outputs": [],
   "source": [
    "# re.finditer(pattern, string, flags=0)\n",
    "# Return an iterator yielding Match objects over all non-overlapping matches for the RE pattern in string. \n",
    "# The string is scanned left-to-right, and matches are returned in the order found. Empty matches are included in the result."
   ]
  },
  {
   "cell_type": "code",
   "execution_count": 281,
   "id": "2164aae4",
   "metadata": {},
   "outputs": [
    {
     "data": {
      "text/plain": [
       "<callable_iterator at 0xebc48ce680>"
      ]
     },
     "execution_count": 281,
     "metadata": {},
     "output_type": "execute_result"
    }
   ],
   "source": [
    "a = re.finditer(r'\\d{2}', '23 434 32')\n",
    "a"
   ]
  },
  {
   "cell_type": "code",
   "execution_count": 282,
   "id": "e16d69fe",
   "metadata": {
    "scrolled": true
   },
   "outputs": [
    {
     "name": "stdout",
     "output_type": "stream",
     "text": [
      "<re.Match object; span=(0, 2), match='23'>\n",
      "<re.Match object; span=(3, 5), match='43'>\n",
      "<re.Match object; span=(7, 9), match='32'>\n"
     ]
    }
   ],
   "source": [
    "print(next(a))\n",
    "print(next(a))\n",
    "print(next(a))"
   ]
  },
  {
   "cell_type": "code",
   "execution_count": 317,
   "id": "73a1fdbc",
   "metadata": {},
   "outputs": [],
   "source": [
    "a = re.finditer(r'\\d{2}', '23 434 32')"
   ]
  },
  {
   "cell_type": "code",
   "execution_count": 318,
   "id": "125ca389",
   "metadata": {},
   "outputs": [
    {
     "name": "stdout",
     "output_type": "stream",
     "text": [
      "<re.Match object; span=(0, 2), match='23'>\n",
      "<re.Match object; span=(3, 5), match='43'>\n",
      "<re.Match object; span=(7, 9), match='32'>\n"
     ]
    }
   ],
   "source": [
    "for i in a:\n",
    "    print(i)"
   ]
  },
  {
   "cell_type": "code",
   "execution_count": 360,
   "id": "128c7535",
   "metadata": {},
   "outputs": [],
   "source": [
    "credit_it = lambda x: re.findall(r'\\bIST\\d{4}', x)"
   ]
  },
  {
   "cell_type": "code",
   "execution_count": 361,
   "id": "64340276",
   "metadata": {},
   "outputs": [
    {
     "data": {
      "text/plain": [
       "['IST2354']"
      ]
     },
     "execution_count": 361,
     "metadata": {},
     "output_type": "execute_result"
    }
   ],
   "source": [
    "credit_it('IST2354')"
   ]
  },
  {
   "cell_type": "code",
   "execution_count": 362,
   "id": "38f46553",
   "metadata": {},
   "outputs": [
    {
     "data": {
      "text/plain": [
       "[]"
      ]
     },
     "execution_count": 362,
     "metadata": {},
     "output_type": "execute_result"
    }
   ],
   "source": [
    "credit_it('BS2323')"
   ]
  },
  {
   "cell_type": "code",
   "execution_count": 363,
   "id": "456f6d8e",
   "metadata": {},
   "outputs": [],
   "source": [
    "credits = ['IST2323', 'IST23232', 'BS2323', 'AQR3627', 'IS2323']"
   ]
  },
  {
   "cell_type": "code",
   "execution_count": 364,
   "id": "26cb76f6",
   "metadata": {},
   "outputs": [
    {
     "data": {
      "text/plain": [
       "[['IST2323'], ['IST2323'], [], [], []]"
      ]
     },
     "execution_count": 364,
     "metadata": {},
     "output_type": "execute_result"
    }
   ],
   "source": [
    "list(map(credit_it, credits))"
   ]
  },
  {
   "cell_type": "code",
   "execution_count": 365,
   "id": "351dd4bf",
   "metadata": {},
   "outputs": [
    {
     "data": {
      "text/plain": [
       "['IST2323', 'IST23232']"
      ]
     },
     "execution_count": 365,
     "metadata": {},
     "output_type": "execute_result"
    }
   ],
   "source": [
    "list(filter(credit_it, credits))"
   ]
  },
  {
   "cell_type": "code",
   "execution_count": 382,
   "id": "fadb488a",
   "metadata": {},
   "outputs": [],
   "source": [
    "# compile() - function returns the specified source as a code object, ready to be executed."
   ]
  },
  {
   "cell_type": "code",
   "execution_count": 383,
   "id": "0e352bf9",
   "metadata": {},
   "outputs": [],
   "source": [
    "alfa = re.compile(pattern=r'\\bIST\\d{4}\\b')"
   ]
  },
  {
   "cell_type": "code",
   "execution_count": 384,
   "id": "39ea444e",
   "metadata": {},
   "outputs": [
    {
     "data": {
      "text/plain": [
       "['IST2323']"
      ]
     },
     "execution_count": 384,
     "metadata": {},
     "output_type": "execute_result"
    }
   ],
   "source": [
    "alfa.findall('IST2323')"
   ]
  },
  {
   "cell_type": "code",
   "execution_count": 385,
   "id": "531a4c11",
   "metadata": {},
   "outputs": [
    {
     "data": {
      "text/plain": [
       "[]"
      ]
     },
     "execution_count": 385,
     "metadata": {},
     "output_type": "execute_result"
    }
   ],
   "source": [
    "alfa.findall('IST23233')"
   ]
  },
  {
   "cell_type": "code",
   "execution_count": 390,
   "id": "b2079ff6",
   "metadata": {},
   "outputs": [],
   "source": [
    "#  re.split(pattern, string, maxsplit=0, flags=0)\n",
    "# method splits the string where there is a match and returns a list of strings where the splits have occurred.\n",
    "# If the pattern is not found, re.split() returns a list containing the original string.\n",
    "\n",
    "# You can pass maxsplit argument to the re.split() method. It's the maximum number of splits that will occur."
   ]
  },
  {
   "cell_type": "code",
   "execution_count": 394,
   "id": "fecd118e",
   "metadata": {},
   "outputs": [
    {
     "name": "stdout",
     "output_type": "stream",
     "text": [
      "['Twelve: ', ' Eighty nine: ', '. ']\n"
     ]
    }
   ],
   "source": [
    "string = \"Twelve: 12 Eighty nine: 89. \"\n",
    "pattern = r\"\\d+\"\n",
    "result = re.split(pattern, string)\n",
    "print(result)"
   ]
  },
  {
   "cell_type": "code",
   "execution_count": 396,
   "id": "8ef11738",
   "metadata": {},
   "outputs": [
    {
     "name": "stdout",
     "output_type": "stream",
     "text": [
      "['Twelve: ', ' Eighty nine: 89 Nine:9. ']\n"
     ]
    }
   ],
   "source": [
    "string = \"Twelve: 12 Eighty nine: 89 Nine:9. \"\n",
    "pattern = r\"\\d+\"\n",
    "# maxsplit = 1\n",
    "# split only at the first occurrence\n",
    "result = re.split(pattern, string, 1 )\n",
    "print(result)"
   ]
  },
  {
   "cell_type": "code",
   "execution_count": 397,
   "id": "3ca7f4f6",
   "metadata": {},
   "outputs": [
    {
     "data": {
      "text/plain": [
       "['Namiq ', ' Vusal ', ' Ramiz ', ' Namin ', '']"
      ]
     },
     "execution_count": 397,
     "metadata": {},
     "output_type": "execute_result"
    }
   ],
   "source": [
    "re.split(r'\\d', 'Namiq 1 Vusal 2 Ramiz 3 Namin 4')"
   ]
  },
  {
   "cell_type": "code",
   "execution_count": 404,
   "id": "905d6bef",
   "metadata": {},
   "outputs": [
    {
     "data": {
      "text/plain": [
       "['Namiq ', ' Vusal ', ' Ramiz 3 Namin 4']"
      ]
     },
     "execution_count": 404,
     "metadata": {},
     "output_type": "execute_result"
    }
   ],
   "source": [
    "re.split(r'\\d', 'Namiq 1 Vusal 2 Ramiz 3 Namin 4', maxsplit=2)"
   ]
  },
  {
   "cell_type": "code",
   "execution_count": 418,
   "id": "f03d70bd",
   "metadata": {},
   "outputs": [
    {
     "data": {
      "text/plain": [
       "['Namiq ', '1', ' Vusal ', '2', ' Ramiz ', '3', ' Namin ', '4', '']"
      ]
     },
     "execution_count": 418,
     "metadata": {},
     "output_type": "execute_result"
    }
   ],
   "source": [
    "re.split(r'(\\d)', 'Namiq 1 Vusal 2 Ramiz 3 Namin 4')"
   ]
  },
  {
   "cell_type": "code",
   "execution_count": 427,
   "id": "d39ff495",
   "metadata": {},
   "outputs": [
    {
     "data": {
      "text/plain": [
       "['Namiq ', '1', ' Vusal ', '2', ' Ramiz ', '3', ' Namin ', '4', '']"
      ]
     },
     "execution_count": 427,
     "metadata": {},
     "output_type": "execute_result"
    }
   ],
   "source": [
    "re.split(r'(\\d)', 'Namiq 1 Vusal 2 Ramiz 3 Namin 4')"
   ]
  },
  {
   "cell_type": "code",
   "execution_count": 429,
   "id": "1cb99088",
   "metadata": {},
   "outputs": [
    {
     "data": {
      "text/plain": [
       "['13', '32', '234', '212', '242']"
      ]
     },
     "execution_count": 429,
     "metadata": {},
     "output_type": "execute_result"
    }
   ],
   "source": [
    "re.split(r'-', '13-32-234-212-242')"
   ]
  },
  {
   "cell_type": "code",
   "execution_count": 430,
   "id": "26dc1f71",
   "metadata": {},
   "outputs": [
    {
     "data": {
      "text/plain": [
       "['13', '32', '234-212-242']"
      ]
     },
     "execution_count": 430,
     "metadata": {},
     "output_type": "execute_result"
    }
   ],
   "source": [
    "re.split(r'-', '13-32-234-212-242', 2)"
   ]
  },
  {
   "cell_type": "code",
   "execution_count": 431,
   "id": "e67a4413",
   "metadata": {},
   "outputs": [
    {
     "data": {
      "text/plain": [
       "['13', '-', '32', '-', '234', '-', '212', '-', '242']"
      ]
     },
     "execution_count": 431,
     "metadata": {},
     "output_type": "execute_result"
    }
   ],
   "source": [
    "re.split(r'(-)', '13-32-234-212-242')"
   ]
  },
  {
   "cell_type": "code",
   "execution_count": 432,
   "id": "94175710",
   "metadata": {},
   "outputs": [],
   "source": [
    "# re.sub()\n",
    "# The syntax of re.sub() is:\n",
    "#                 re.sub(pattern, repl, string, count=0, flags=0)\n",
    "\n",
    "# The method returns a string where matched occurrences are replaced with the content of replace variable."
   ]
  },
  {
   "cell_type": "code",
   "execution_count": 15,
   "id": "1aa9b6a4",
   "metadata": {},
   "outputs": [
    {
     "name": "stdout",
     "output_type": "stream",
     "text": [
      "abc 12de 23 f45 6\n"
     ]
    }
   ],
   "source": [
    "# multiline string\n",
    "string = \"abc 12\\\n",
    "de 23 \\n f45 6\"\n",
    "# matches all whitespace characters\n",
    "pattern = \"\\s+\"\n",
    "# empty string\n",
    "replace = \" \"\n",
    "new_string = re.sub(pattern, replace, string)\n",
    "print(new_string)"
   ]
  },
  {
   "cell_type": "code",
   "execution_count": 16,
   "id": "d58c968d",
   "metadata": {},
   "outputs": [
    {
     "data": {
      "text/plain": [
       "'13 32 234 212 242'"
      ]
     },
     "execution_count": 16,
     "metadata": {},
     "output_type": "execute_result"
    }
   ],
   "source": [
    "re.sub(pattern=r'-', repl=' ', string='13-32-234-212-242')"
   ]
  },
  {
   "cell_type": "code",
   "execution_count": 17,
   "id": "d53f74bc",
   "metadata": {},
   "outputs": [
    {
     "data": {
      "text/plain": [
       "'1332234212242'"
      ]
     },
     "execution_count": 17,
     "metadata": {},
     "output_type": "execute_result"
    }
   ],
   "source": [
    "re.sub(pattern=r'-', repl='', string='13-32-234-212-242')"
   ]
  },
  {
   "cell_type": "code",
   "execution_count": 19,
   "id": "725f1184",
   "metadata": {},
   "outputs": [
    {
     "data": {
      "text/plain": [
       "'1332234-212-242'"
      ]
     },
     "execution_count": 19,
     "metadata": {},
     "output_type": "execute_result"
    }
   ],
   "source": [
    "re.sub(r'-', '', '13-32-234-212-242', count=2)"
   ]
  },
  {
   "cell_type": "code",
   "execution_count": 24,
   "id": "232147a3",
   "metadata": {},
   "outputs": [
    {
     "data": {
      "text/plain": [
       "'Ramiz_Mehdi Ramin_Kamalov'"
      ]
     },
     "execution_count": 24,
     "metadata": {},
     "output_type": "execute_result"
    }
   ],
   "source": [
    "re.sub('-','_', 'Ramiz-Mehdi Ramin-Kamalov')"
   ]
  },
  {
   "cell_type": "code",
   "execution_count": 27,
   "id": "1d536c82",
   "metadata": {},
   "outputs": [
    {
     "data": {
      "text/plain": [
       "['Ramiz_Mehdi', 'Ramin_Kamalov']"
      ]
     },
     "execution_count": 27,
     "metadata": {},
     "output_type": "execute_result"
    }
   ],
   "source": [
    "re.split(r' ', re.sub('-','_', 'Ramiz-Mehdi Ramin-Kamalov'))"
   ]
  },
  {
   "cell_type": "code",
   "execution_count": 186,
   "id": "2412b416",
   "metadata": {},
   "outputs": [],
   "source": [
    "txt = 'id-1 Namin-Mehdiyev id-2 Lala-Mammadov'"
   ]
  },
  {
   "cell_type": "code",
   "execution_count": 187,
   "id": "d3d2593e",
   "metadata": {},
   "outputs": [
    {
     "data": {
      "text/plain": [
       "['1', '2']"
      ]
     },
     "execution_count": 187,
     "metadata": {},
     "output_type": "execute_result"
    }
   ],
   "source": [
    "list_id = re.findall(r'\\d', txt)\n",
    "list_id"
   ]
  },
  {
   "cell_type": "code",
   "execution_count": 188,
   "id": "040ba0ae",
   "metadata": {},
   "outputs": [
    {
     "data": {
      "text/plain": [
       "['Namin', 'Lala']"
      ]
     },
     "execution_count": 188,
     "metadata": {},
     "output_type": "execute_result"
    }
   ],
   "source": [
    "list_name = re.findall(r'([A-Z][a-z]+)-', txt)\n",
    "list_name"
   ]
  },
  {
   "cell_type": "code",
   "execution_count": 189,
   "id": "fafe9385",
   "metadata": {},
   "outputs": [
    {
     "data": {
      "text/plain": [
       "['Mehdiyev', 'Mammadov']"
      ]
     },
     "execution_count": 189,
     "metadata": {},
     "output_type": "execute_result"
    }
   ],
   "source": [
    "list_surname = re.findall(r'-([A-Z][a-z]+)', txt)\n",
    "list_surname"
   ]
  },
  {
   "cell_type": "code",
   "execution_count": 190,
   "id": "f8987950",
   "metadata": {},
   "outputs": [
    {
     "data": {
      "text/plain": [
       "[('1', 'Namin', 'Mehdiyev'), ('2', 'Lala', 'Mammadov')]"
      ]
     },
     "execution_count": 190,
     "metadata": {},
     "output_type": "execute_result"
    }
   ],
   "source": [
    "list_ = list(zip(list_id, list_name, list_surname))\n",
    "list_"
   ]
  },
  {
   "cell_type": "code",
   "execution_count": null,
   "id": "08e6d987",
   "metadata": {},
   "outputs": [],
   "source": []
  },
  {
   "cell_type": "code",
   "execution_count": 191,
   "id": "b2ed4ede",
   "metadata": {},
   "outputs": [
    {
     "data": {
      "text/plain": [
       "['id', 'namin', 'id', 'lala']"
      ]
     },
     "execution_count": 191,
     "metadata": {},
     "output_type": "execute_result"
    }
   ],
   "source": [
    "re.findall(r'([A-Za-z][a-z]+)-', 'id-1 namin-Mehdiyev id-2 lala-Mammadov') # gives error result"
   ]
  },
  {
   "cell_type": "code",
   "execution_count": null,
   "id": "8f216730",
   "metadata": {},
   "outputs": [],
   "source": []
  },
  {
   "cell_type": "code",
   "execution_count": 192,
   "id": "8457105d",
   "metadata": {},
   "outputs": [
    {
     "data": {
      "text/plain": [
       "['Mehdiyev', 'Mammadov']"
      ]
     },
     "execution_count": 192,
     "metadata": {},
     "output_type": "execute_result"
    }
   ],
   "source": [
    "re.findall(r'[A-Za-z]+-([A-Za-z]+)', 'id-1 namin-Mehdiyev id-2 lala-Mammadov')"
   ]
  },
  {
   "cell_type": "code",
   "execution_count": 193,
   "id": "6d9e42e4",
   "metadata": {},
   "outputs": [
    {
     "data": {
      "text/plain": [
       "['namin', 'lala']"
      ]
     },
     "execution_count": 193,
     "metadata": {},
     "output_type": "execute_result"
    }
   ],
   "source": [
    "re.findall(r'([A-Za-z]+)-[A-Za-z]+', 'id-1 namin-Mehdiyev id-2 lala-Mammadov')"
   ]
  },
  {
   "cell_type": "code",
   "execution_count": null,
   "id": "6690cb0d",
   "metadata": {},
   "outputs": [],
   "source": []
  },
  {
   "cell_type": "code",
   "execution_count": 194,
   "id": "fb4553f7",
   "metadata": {},
   "outputs": [
    {
     "data": {
      "text/plain": [
       "['mehdiyev', 'mammadov']"
      ]
     },
     "execution_count": 194,
     "metadata": {},
     "output_type": "execute_result"
    }
   ],
   "source": [
    "re.findall(r'[A-Za-z]+-([A-Za-z]+)', 'id-1 namin-mehdiyev id-2 lala-mammadov')"
   ]
  },
  {
   "cell_type": "code",
   "execution_count": 195,
   "id": "a9bd7e60",
   "metadata": {},
   "outputs": [
    {
     "data": {
      "text/plain": [
       "['namin', 'lala']"
      ]
     },
     "execution_count": 195,
     "metadata": {},
     "output_type": "execute_result"
    }
   ],
   "source": [
    "re.findall(r'([A-Za-z]+)-[A-Za-z]+', 'id-1 namin-Mehdiyev id-2 lala-mammadov')"
   ]
  },
  {
   "cell_type": "code",
   "execution_count": null,
   "id": "e3637fae",
   "metadata": {},
   "outputs": [],
   "source": []
  },
  {
   "cell_type": "code",
   "execution_count": 196,
   "id": "253dc69f",
   "metadata": {},
   "outputs": [
    {
     "data": {
      "text/plain": [
       "'11-22 33-44 55-77'"
      ]
     },
     "execution_count": 196,
     "metadata": {},
     "output_type": "execute_result"
    }
   ],
   "source": [
    "txt = '11-22 33-44 55-77'\n",
    "txt"
   ]
  },
  {
   "cell_type": "code",
   "execution_count": 197,
   "id": "17e2852a",
   "metadata": {},
   "outputs": [
    {
     "data": {
      "text/plain": [
       "'1122 3344 5577'"
      ]
     },
     "execution_count": 197,
     "metadata": {},
     "output_type": "execute_result"
    }
   ],
   "source": [
    "a = re.sub(r'-', '', txt)\n",
    "a"
   ]
  },
  {
   "cell_type": "code",
   "execution_count": 198,
   "id": "39fb54e4",
   "metadata": {},
   "outputs": [
    {
     "data": {
      "text/plain": [
       "['1122', '3344', '5577']"
      ]
     },
     "execution_count": 198,
     "metadata": {},
     "output_type": "execute_result"
    }
   ],
   "source": [
    "re.split(' ', a)"
   ]
  },
  {
   "cell_type": "code",
   "execution_count": null,
   "id": "c3a8d525",
   "metadata": {},
   "outputs": [],
   "source": []
  }
 ],
 "metadata": {
  "kernelspec": {
   "display_name": "Python 3 (ipykernel)",
   "language": "python",
   "name": "python3"
  },
  "language_info": {
   "codemirror_mode": {
    "name": "ipython",
    "version": 3
   },
   "file_extension": ".py",
   "mimetype": "text/x-python",
   "name": "python",
   "nbconvert_exporter": "python",
   "pygments_lexer": "ipython3",
   "version": "3.11.5"
  }
 },
 "nbformat": 4,
 "nbformat_minor": 5
}
