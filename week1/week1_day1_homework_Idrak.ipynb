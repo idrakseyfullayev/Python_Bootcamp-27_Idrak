{
 "cells": [
  {
   "cell_type": "markdown",
   "id": "0bc86b24",
   "metadata": {},
   "source": [
    "####  1. Create variable age equal to 32 and check its type."
   ]
  },
  {
   "cell_type": "code",
   "execution_count": 1,
   "id": "ce05173e",
   "metadata": {},
   "outputs": [
    {
     "data": {
      "text/plain": [
       "32"
      ]
     },
     "execution_count": 1,
     "metadata": {},
     "output_type": "execute_result"
    }
   ],
   "source": [
    "age = 32\n",
    "age"
   ]
  },
  {
   "cell_type": "code",
   "execution_count": 6,
   "id": "3a43dec7",
   "metadata": {},
   "outputs": [
    {
     "data": {
      "text/plain": [
       "int"
      ]
     },
     "execution_count": 6,
     "metadata": {},
     "output_type": "execute_result"
    }
   ],
   "source": [
    "type(age)"
   ]
  },
  {
   "cell_type": "markdown",
   "id": "d59db92e",
   "metadata": {},
   "source": [
    "#### 2. Create variable height equal to 1.85 and check its type."
   ]
  },
  {
   "cell_type": "code",
   "execution_count": 7,
   "id": "81743bd5",
   "metadata": {},
   "outputs": [
    {
     "data": {
      "text/plain": [
       "1.85"
      ]
     },
     "execution_count": 7,
     "metadata": {},
     "output_type": "execute_result"
    }
   ],
   "source": [
    "height = 1.85\n",
    "height"
   ]
  },
  {
   "cell_type": "code",
   "execution_count": 8,
   "id": "13c8ba4d",
   "metadata": {},
   "outputs": [
    {
     "data": {
      "text/plain": [
       "float"
      ]
     },
     "execution_count": 8,
     "metadata": {},
     "output_type": "execute_result"
    }
   ],
   "source": [
    "type(height)"
   ]
  },
  {
   "cell_type": "markdown",
   "id": "73196c2d",
   "metadata": {},
   "source": [
    "#### 3. Create variables name and surname. Define them as 'your_name' and 'your_surname'."
   ]
  },
  {
   "cell_type": "code",
   "execution_count": 11,
   "id": "5383b828",
   "metadata": {},
   "outputs": [
    {
     "data": {
      "text/plain": [
       "'Idrak'"
      ]
     },
     "execution_count": 11,
     "metadata": {},
     "output_type": "execute_result"
    }
   ],
   "source": [
    "name = 'Idrak'\n",
    "name"
   ]
  },
  {
   "cell_type": "code",
   "execution_count": 12,
   "id": "27188d6a",
   "metadata": {},
   "outputs": [
    {
     "data": {
      "text/plain": [
       "'Seyfullayev'"
      ]
     },
     "execution_count": 12,
     "metadata": {},
     "output_type": "execute_result"
    }
   ],
   "source": [
    "surname = 'Seyfullayev'\n",
    "surname"
   ]
  },
  {
   "cell_type": "code",
   "execution_count": 13,
   "id": "be0132d2",
   "metadata": {},
   "outputs": [
    {
     "data": {
      "text/plain": [
       "'Name: Idrak, Surname: Seyfullayev'"
      ]
     },
     "execution_count": 13,
     "metadata": {},
     "output_type": "execute_result"
    }
   ],
   "source": [
    "f'Name: {name}, Surname: {surname}'"
   ]
  },
  {
   "cell_type": "markdown",
   "id": "b6123492",
   "metadata": {},
   "source": [
    "#### 4. Sum up name and surname variables. Define as ID."
   ]
  },
  {
   "cell_type": "code",
   "execution_count": 14,
   "id": "f8c86dfb",
   "metadata": {},
   "outputs": [
    {
     "data": {
      "text/plain": [
       "'Idrak'"
      ]
     },
     "execution_count": 14,
     "metadata": {},
     "output_type": "execute_result"
    }
   ],
   "source": [
    "name = 'Idrak'\n",
    "name"
   ]
  },
  {
   "cell_type": "code",
   "execution_count": 16,
   "id": "d5991902",
   "metadata": {},
   "outputs": [
    {
     "data": {
      "text/plain": [
       "'Seyfullayev'"
      ]
     },
     "execution_count": 16,
     "metadata": {},
     "output_type": "execute_result"
    }
   ],
   "source": [
    "surname = 'Seyfullayev'\n",
    "surname"
   ]
  },
  {
   "cell_type": "code",
   "execution_count": 20,
   "id": "22bcec63",
   "metadata": {},
   "outputs": [
    {
     "data": {
      "text/plain": [
       "'Idrak Seyfullayev'"
      ]
     },
     "execution_count": 20,
     "metadata": {},
     "output_type": "execute_result"
    }
   ],
   "source": [
    "id = f\"{name} {surname}\"\n",
    "id"
   ]
  },
  {
   "cell_type": "code",
   "execution_count": 22,
   "id": "790c7bd4",
   "metadata": {},
   "outputs": [
    {
     "data": {
      "text/plain": [
       "'Idrak Seyfullayev'"
      ]
     },
     "execution_count": 22,
     "metadata": {},
     "output_type": "execute_result"
    }
   ],
   "source": [
    "id = name + ' ' + surname\n",
    "id"
   ]
  },
  {
   "cell_type": "markdown",
   "id": "99dd4714",
   "metadata": {},
   "source": [
    "#### 5. Use indexing. Find last letter of 'your_name'."
   ]
  },
  {
   "cell_type": "code",
   "execution_count": 23,
   "id": "08358478",
   "metadata": {},
   "outputs": [
    {
     "data": {
      "text/plain": [
       "'Idrak'"
      ]
     },
     "execution_count": 23,
     "metadata": {},
     "output_type": "execute_result"
    }
   ],
   "source": [
    "name = 'Idrak'\n",
    "name"
   ]
  },
  {
   "cell_type": "code",
   "execution_count": 24,
   "id": "8f1f4fd4",
   "metadata": {},
   "outputs": [
    {
     "data": {
      "text/plain": [
       "'k'"
      ]
     },
     "execution_count": 24,
     "metadata": {},
     "output_type": "execute_result"
    }
   ],
   "source": [
    "name[-1]"
   ]
  },
  {
   "cell_type": "markdown",
   "id": "a63dce35",
   "metadata": {},
   "source": [
    "#### 6. Use slicing. Find 2nd and 3rd letters of 'your_surname'."
   ]
  },
  {
   "cell_type": "code",
   "execution_count": 25,
   "id": "b0154160",
   "metadata": {},
   "outputs": [
    {
     "data": {
      "text/plain": [
       "'Seyfullayev'"
      ]
     },
     "execution_count": 25,
     "metadata": {},
     "output_type": "execute_result"
    }
   ],
   "source": [
    "surname = 'Seyfullayev'\n",
    "surname"
   ]
  },
  {
   "cell_type": "code",
   "execution_count": 26,
   "id": "8020045d",
   "metadata": {},
   "outputs": [
    {
     "data": {
      "text/plain": [
       "'e'"
      ]
     },
     "execution_count": 26,
     "metadata": {},
     "output_type": "execute_result"
    }
   ],
   "source": [
    "surname[1]"
   ]
  },
  {
   "cell_type": "code",
   "execution_count": 27,
   "id": "14173a04",
   "metadata": {},
   "outputs": [
    {
     "data": {
      "text/plain": [
       "'y'"
      ]
     },
     "execution_count": 27,
     "metadata": {},
     "output_type": "execute_result"
    }
   ],
   "source": [
    "surname[2]"
   ]
  },
  {
   "cell_type": "markdown",
   "id": "d3c9beb3",
   "metadata": {},
   "source": [
    "#### 7. Create list as new_list. Include 3 4 5 6 7 integers."
   ]
  },
  {
   "cell_type": "code",
   "execution_count": 28,
   "id": "acc6d321",
   "metadata": {},
   "outputs": [
    {
     "data": {
      "text/plain": [
       "[3, 4, 5, 6, 7]"
      ]
     },
     "execution_count": 28,
     "metadata": {},
     "output_type": "execute_result"
    }
   ],
   "source": [
    "new_list = [3, 4, 5, 6, 7]\n",
    "new_list"
   ]
  },
  {
   "cell_type": "markdown",
   "id": "4c121a98",
   "metadata": {},
   "source": [
    "#### 8. Remove 5 from new_list."
   ]
  },
  {
   "cell_type": "code",
   "execution_count": 29,
   "id": "3316b080",
   "metadata": {},
   "outputs": [],
   "source": [
    "new_list.remove(5)"
   ]
  },
  {
   "cell_type": "code",
   "execution_count": 30,
   "id": "69608e40",
   "metadata": {},
   "outputs": [
    {
     "data": {
      "text/plain": [
       "[3, 4, 6, 7]"
      ]
     },
     "execution_count": 30,
     "metadata": {},
     "output_type": "execute_result"
    }
   ],
   "source": [
    "new_list"
   ]
  },
  {
   "cell_type": "markdown",
   "id": "39229100",
   "metadata": {},
   "source": [
    "#### 9. Delete 2nd value of new_list."
   ]
  },
  {
   "cell_type": "code",
   "execution_count": 31,
   "id": "ccac4b61",
   "metadata": {},
   "outputs": [
    {
     "data": {
      "text/plain": [
       "4"
      ]
     },
     "execution_count": 31,
     "metadata": {},
     "output_type": "execute_result"
    }
   ],
   "source": [
    "new_list.pop(1)"
   ]
  },
  {
   "cell_type": "code",
   "execution_count": 32,
   "id": "94263577",
   "metadata": {},
   "outputs": [
    {
     "data": {
      "text/plain": [
       "[3, 6, 7]"
      ]
     },
     "execution_count": 32,
     "metadata": {},
     "output_type": "execute_result"
    }
   ],
   "source": [
    "new_list"
   ]
  },
  {
   "cell_type": "markdown",
   "id": "e4956b3f",
   "metadata": {},
   "source": [
    "#### 10. Create tuple as new_tuple. Include 3 4 5 6 7 integers."
   ]
  },
  {
   "cell_type": "code",
   "execution_count": 33,
   "id": "f32bd7ad",
   "metadata": {},
   "outputs": [
    {
     "data": {
      "text/plain": [
       "(3, 4, 5, 6, 7)"
      ]
     },
     "execution_count": 33,
     "metadata": {},
     "output_type": "execute_result"
    }
   ],
   "source": [
    "new_tuple = (3, 4, 5, 6, 7)\n",
    "new_tuple"
   ]
  },
  {
   "cell_type": "markdown",
   "id": "6a7511c9",
   "metadata": {},
   "source": [
    "#### 11. Change 4 in new_tuple to 8."
   ]
  },
  {
   "cell_type": "code",
   "execution_count": 45,
   "id": "1e569b7d",
   "metadata": {},
   "outputs": [
    {
     "data": {
      "text/plain": [
       "[3, 4, 5, 6, 7]"
      ]
     },
     "execution_count": 45,
     "metadata": {},
     "output_type": "execute_result"
    }
   ],
   "source": [
    "new_tuple = list(new_tuple)\n",
    "new_tuple"
   ]
  },
  {
   "cell_type": "code",
   "execution_count": 49,
   "id": "0eb2c31c",
   "metadata": {},
   "outputs": [],
   "source": [
    "new_tuple[new_tuple.index(4)] = 8"
   ]
  },
  {
   "cell_type": "code",
   "execution_count": 50,
   "id": "8abccc4a",
   "metadata": {},
   "outputs": [
    {
     "data": {
      "text/plain": [
       "[3, 8, 5, 6, 7]"
      ]
     },
     "execution_count": 50,
     "metadata": {},
     "output_type": "execute_result"
    }
   ],
   "source": [
    "new_tuple"
   ]
  },
  {
   "cell_type": "code",
   "execution_count": 51,
   "id": "4eeac907",
   "metadata": {},
   "outputs": [
    {
     "data": {
      "text/plain": [
       "(3, 8, 5, 6, 7)"
      ]
     },
     "execution_count": 51,
     "metadata": {},
     "output_type": "execute_result"
    }
   ],
   "source": [
    "new_tuple = tuple(new_tuple)\n",
    "new_tuple"
   ]
  },
  {
   "cell_type": "markdown",
   "id": "6732f5da",
   "metadata": {},
   "source": [
    "### Optional questions:"
   ]
  },
  {
   "cell_type": "markdown",
   "id": "c8899f47",
   "metadata": {},
   "source": [
    "#### 1. Find the difference between age and 25, if the number is greater than 17 return the square of the difference."
   ]
  },
  {
   "cell_type": "code",
   "execution_count": 10,
   "id": "a81643fd",
   "metadata": {},
   "outputs": [],
   "source": [
    "def func(age):\n",
    "    dif = age-25\n",
    "    if dif > 17:\n",
    "        return dif**2\n",
    "    "
   ]
  },
  {
   "cell_type": "code",
   "execution_count": 11,
   "id": "11d34cb2",
   "metadata": {},
   "outputs": [],
   "source": [
    "func(32)"
   ]
  },
  {
   "cell_type": "code",
   "execution_count": 12,
   "id": "b59bc011",
   "metadata": {},
   "outputs": [
    {
     "data": {
      "text/plain": [
       "324"
      ]
     },
     "execution_count": 12,
     "metadata": {},
     "output_type": "execute_result"
    }
   ],
   "source": [
    "func(43)"
   ]
  },
  {
   "cell_type": "markdown",
   "id": "cb6d4343",
   "metadata": {},
   "source": [
    "#### 2. Write a Python function to check number is positive, negative or zero."
   ]
  },
  {
   "cell_type": "code",
   "execution_count": 23,
   "id": "06ad19e2",
   "metadata": {},
   "outputs": [],
   "source": [
    "def check_num(x):\n",
    "    if x > 0:\n",
    "        return f'{x} is positive number'\n",
    "    elif x < 0:\n",
    "        return f'{x} is negative number'\n",
    "    else:\n",
    "        return f'you enter zero' "
   ]
  },
  {
   "cell_type": "code",
   "execution_count": 24,
   "id": "90f0ecd9",
   "metadata": {},
   "outputs": [
    {
     "data": {
      "text/plain": [
       "'10 is positive number'"
      ]
     },
     "execution_count": 24,
     "metadata": {},
     "output_type": "execute_result"
    }
   ],
   "source": [
    "check_num(10)"
   ]
  },
  {
   "cell_type": "code",
   "execution_count": 25,
   "id": "c99e313b",
   "metadata": {},
   "outputs": [
    {
     "data": {
      "text/plain": [
       "'-1 is negative number'"
      ]
     },
     "execution_count": 25,
     "metadata": {},
     "output_type": "execute_result"
    }
   ],
   "source": [
    "check_num(-1)"
   ]
  },
  {
   "cell_type": "code",
   "execution_count": 26,
   "id": "c3446417",
   "metadata": {},
   "outputs": [
    {
     "data": {
      "text/plain": [
       "'you enter zero'"
      ]
     },
     "execution_count": 26,
     "metadata": {},
     "output_type": "execute_result"
    }
   ],
   "source": [
    "check_num(0)"
   ]
  },
  {
   "cell_type": "code",
   "execution_count": null,
   "id": "d36f13ef",
   "metadata": {},
   "outputs": [],
   "source": []
  }
 ],
 "metadata": {
  "kernelspec": {
   "display_name": "Python 3 (ipykernel)",
   "language": "python",
   "name": "python3"
  },
  "language_info": {
   "codemirror_mode": {
    "name": "ipython",
    "version": 3
   },
   "file_extension": ".py",
   "mimetype": "text/x-python",
   "name": "python",
   "nbconvert_exporter": "python",
   "pygments_lexer": "ipython3",
   "version": "3.11.5"
  }
 },
 "nbformat": 4,
 "nbformat_minor": 5
}
