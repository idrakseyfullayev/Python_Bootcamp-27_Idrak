{
 "cells": [
  {
   "cell_type": "code",
   "execution_count": 2,
   "id": "26c900e9",
   "metadata": {},
   "outputs": [
    {
     "name": "stdout",
     "output_type": "stream",
     "text": [
      "['Ali Riyaziyyat Dərs 100 (Xətti Proqramlaşdırma Məsələsinin Həndəsi Üsulla Həlli)', 'Riyaziyyat Sevərlər Üçün 16 (Müxtəlif Tipli Maraqlı Məsələlər)', 'Riyaziyyat Sevərlər Üçün 15 (Müxtəlif Tipli Maraqlı Məsələlər)', 'Riyaziyyat Sevərlər Üçün 14 (Müxtəlif Tipli Maraqlı Məsələlər)', 'Riyaziyyat Sevərlər Üçün 13 (Müxtəlif Tipli Maraqlı Məsələlər)', 'Riyaziyyat Sevərlər Üçün 12 (Müxtəlif Tipli Maraqlı Məsələlər)', 'Ali Riyaziyyat Dərs 99 (İkiməchullu Xətti Bərabərsizliklər Sisteminin Həll Oblastının Tapılması)', 'Riyaziyyat Sevərlər Üçün 11 (Müxtəlif Tipli Maraqlı Məsələlər)', 'Ali Riyaziyyat Dərs 98 (İkiqat İnteqralda Dəyişənlərin Əvəz Edilməsi)', 'Riyaziyyat Sevərlər Üçün 10)(Müxtəlif Tipli Maraqlı Məsələlər)', 'Ali Riyaziyyat Dərs 97(Potensial və Solenoidal Meydanlar)', 'Riyaziyyat Sevərlər Üçün 9 (Müxtəlif Tipli Maraqlı Məsələlər)', 'Ali Riyaziyyat Dərs 96 (Vektorial Meydanın Sirkulyasiyası)', 'Riyaziyyat Sevərlər Üçün 8(Müxtəlif Tipli Maraqlı Məsələlər)', 'Ali Riyaziyyat Dərs 95 (Vektorial Meydanın Seli və Onun Hesablanması)', 'Riyaziyyat Sevərlər Üçün 7 (Müxtəlif Tipli Maraqlı Məsələlər)', 'Riyaziyyat Sevərlər Üçün Maraqlı Məsələlər 6', 'Riyaziyyat Sevərlər Üçün 5 (2 Polis Haqqında Teorem və ya Üç Ardıcıllıq Haqqında Teorem)', 'Ali Riyaziyyat Dərs 94 (Vektorial Meydan, Onun Divergesiyası və Rotoru)', 'Riyaziyyat Sevərlər Üçün 4 (Müxtəlif Tipli Maraqlı Məsələlər)', 'Ali Riyaziyyat Dərs 93[Vektorial Analizin Elementləri] (Skalyar Meydan,Səviyyə səth ləri,Qradiyent)', 'Riyaziyyat Sevərlər Üçün 3(Birləşmələrə və Ehtimala aid Maraqlı Məsələlər)', 'Riyaziyyat Sevərlər Üçün 2 (Birləşmələrə və Ehtimala aid Maraqlı Məsələlər )', 'Ali Riyaziyyat Dərs 92(Qauss-Ostroqradski Düsturu)', 'Riyaziyyat Sevərlər Üçün 1 (Birləşmələrə aid marağlı məsələlər)', 'Ali Riyaziyyat Dərs 91(Stoks Düsturu-Əyrixətli İnteqralla Səth İnteqralı arasındaki əlaqə)', 'Ali Riyaziyyat Dərs 90 (2-ci növ Səth İnteqralının Tərifi və Hesablanması)', 'Ali Riyaziyyat Dərs 89 (1-ci Növ Səth İnteqral ının Tərifi və Hesablanması)', 'Ali Riyaziyyat Dərs 88 (Qrin Düsturu - Əyrixətli İnteqralla İkiqat İnteqral arasındaki əlaqə)', 'Ali Riyaziyyat Dərs 87(Ədədi İnteqrallama Parabolalar və ya Simpson üsulu)', 'Ali Riyaziyyat Dərs 86(Ədədi İnteqrallama: Trapesiyalar Üsulu)', 'Ali Riyaziyyat Dərs 85 (Ədədi İnteqrallama: Düzbucaqlılar üsulu)', 'Ali Riyaziyyat Dərs 84 [Ədədi Üsullar] (Laqranjın İnterpolyasiya Çoxhədlisi)', 'Ali Riyaziyyat Dərs 83 (İki çarpaz, İki paralel düz xətlər arasındakı məsafə)', 'Ali Riyaziyyat Dərs 82 [Ədədi Üsullar] (İterasiya üsulu ilə tənliklərin həlli)', 'Ali Riyaziyyat Dərs 81 [Ədədi Üsullar] (Vətərlər və Toxunanlar Üsulları ilə Tənliklərin Həlli)', 'Ali Riyaziyyat Dərs 80 [Ədədi Üsullar] (Toxunanlar (Nyuton) Üsulu ilə Tənliklərin Həlli)', 'Ali Riyaziyyat Dərs 79 [Ədədi Üsullar] (Vətərlər Üsulu ilə Tənliklərin Həlli)', 'Ali Riyaziyyat [Ədədi Üsullar] Dərs 78(Analitik Üsulla Tənliklərin Köklərinin Təklənməsi)', 'Ali Riyaziyyat Dərs 77 [Ədədi Üsullar] (Xətti Cəbri Tənliklər sisteminin Zeydel Üsulu ilə həlli)', 'Ali Riyaziyyat Dərs 76 [Ədədi Üsullar] (Xətti tənliklər sisteminin iterasiya üsulu ilə həlli)', 'Ali Riyaziyyat Dərs 75 (Diferensialın təqribi hesablamalara tətbiqi)', 'Ali Riyaziyyat Dərs 74(Təqribi Ədədlər, Ədədlərin Yuvarlaqlaşdırılması, Mütləq və Nisbi Xətalar)', 'Ali Riyaziyyat Dərs 73(Sonlu Simin Sərbəst Rəqs Tənliyinin Furye üsulu ilə həlli)', 'Ali Riyaziyyat Dərs 72(Riyazi Fizika tənlikləri, Simin rəqs tənliyinin Dalamber üsulu ilə həlli)', 'Ali Riyaziyyat Dərs 71(İkitərtibli xüsusi törəməli dif-l tənliklərin kanonik şəkilə gətirilməsi)', 'Ali Riyaziyyat Dərs 70(Birinci və ikinci tərtib xüsusi törəməli diferensial tənliklər)', 'Ali Riyaziyyat Dərs 69(Bernulli sxemi üzrə asimptotik düsturlar)', 'Ali Riyaziyyat Dərs 68(İkidəyişənli Funksiyanın Ekstremumları)', 'Ali Riyaziyyat Dərs 67 (Triqonometrik Funksiyalarla Bağlı Bəzi İnteqralların Hesablanması)', 'Ali Riyaziyyat Dərs 66(Binomial Diferensialların İnteqrallanması)', 'Ali Riyaziyyat Dərs 65(Triqonometrik funksiyalar daxil olan bəzi ifadələrin inteqrallanması)', 'Ali Riyaziyyat Dərs 64(Rasional kəsrlərin sadə rasional kəsrlərə gətirilməsi və inteqrallanması)', 'Ali Riyaziyyat Dərs 63(√a²-x², √a²+x² və √x²-a² ifadələrinin inteqralları)', 'Ali Riyaziyyat Dərs 62(Sadə irrasional funksiyaların inteqrallanması)', 'Ali Riyaziyyat Dərs 61(Kvadrat üçhədli daxil olan bəzi ifadələrin inteqrallanması)', 'Ali Riyaziyyat Dərs 60(Sadə rasional kəsrlərin inteqrallanması)', 'Ali Riyaziyyat Dərs 59(Furye sırası. Tək və cüt funksiyaların Furye sırası)', 'Ali Riyaziyyat Dərs 58(Teylor, Makloren sıraları və onların tətbiqləri haqqında)', 'Ali Riyaziyyat Dərs 57(Qüvvət sıraları. Abel teoremi. Yığılma intervalı)', 'Ali Riyaziyyat Dərs 56(Funksional Sıralar. Yığılma oblastı və Müntəzəm yığılma)', 'Ali Riyaziyyat Dərs 55(İşarəsini növbə ilə dəyişən sıralar. Leybnis t. Mütləq və şərti yığılan s.)', 'Ali Riyaziyyat Dərs 54(Müsbəthədli sıraların yığılma əlamətləri)', 'Ali Riyaziyyat Dərs 53(Ədədi sıralar. Əsas anlayışlar və sıranın yığılması)', 'Ali Riyaziyyat Dərs 52(Funksiya qrafikinin qurulma sxemi və qurulması)', 'Ali Riyaziyyat Dərs 51[Həmdə orta məktəb](Funksiya qrafikinin(əyrinin) asimptotları)', 'Ali Riyaziyyat Dərs 50[Həmdə orta məktəb](Funksiyanın qabarıqlığı və çöküklüyü. Əyilmə nöqtəsi)', 'Ali Riyaziyyat Dərs 49[Həmdə orta məktəb](Birdəyişənli funksiyanın ekstremumları)', 'Ali Riyaziyyat Dərs 48(Hörner sxemi. Qeyri-müəyyən əmsallar üsulu)', 'Ali Riyaziyyat Dərs 47[Həmdə orta məktəb](Birdəyişənli çoxhədlilər.Bezu teoremi.Cəbrin əsas teoremi)', 'Ali Riyaziyyat Dərs 46[Həmdə orta məktəb](Kompleks ədədlər və onlar üzərində əməllər)', 'Ali Riyaziyyat Dərs 45(2ci növ Əyrixətli İnteqralın Tərifi, Xassələri və Hesablanması)', 'Ali Riyaziyyat Dərs 44(1ci növ Əyri xətli İnteqralın Tərifi, Xassələri və Hesablanması)', 'Ali Riyaziyyat Dərs 43(Üçqat İnteqralın Tərifi, Xassələri və Hesablanması)', 'Ali Riyaziyyat Dərs 42(İkiqat İnteqralın Tərifi, Xassələri və Hesablanması)', 'Ali Riyaziyyat Dərs 41(İkitərtibli sabit əmsallı xətti bircins diferensial tənliklər)', 'Ali Riyaziyyat Dərs 40(Tərtibi azaldıla bilən İkitərtibli diferensial tənliklər)', 'Ali Riyaziyyat Dərs 39(Tam diferensiallı tənliklərin həlli)', 'Ali Riyaziyyat Dərs 38(Birtərtibli Xətti Diferensial tənliklər. Bernulli Tənliyi)', 'Ali Riyaziyyat Dərs 37(Birinci tərtib bircinsli diferensial tənliklər)', 'Ali Riyaziyyat Dərs 36(Birtərtibli sadə diferensial tənliklər. Koşi məsələsi)', 'Ali Riyaziyyat Dərs 35(Funksiyanın nöqtədə kəsilməzliyi. Kəsilmə nöqtələri)', 'Ali Riyaziyyat Dərs 34(İkitərtibli Əyrilər: Hiperbola və Parabola)', 'Ali Riyaziyyat Dərs 33(İkitərtibli əyrilər: Çevrə və Ellips)', 'Ali Riyaziyyat Dərs 32(Fəzada düz xətt tənlikləri. Düz xətt və müstəvi)', 'Ali Riyaziyyat Dərs 31(Fəzada müstəvi tənlikləri)', 'Ali Riyaziyyat Dərs 30(Müstəvi Üzərində Düz Xətt Tənlikləri)[ll hissə]', 'Ali Riyaziyyat Dərs 29(Müstəvi Üzərində Düz Xətt Tənlikləri)[l hissə]', 'Ali Riyaziyyat Dərs 28(Vektorların vektorial və qarışıq hasilləri)', 'Ali Riyaziyyat Dərs 27(Vektorlar əsas anlayışlar və təriflər, iki vekrorun skalyar hasili)', 'Ali Riyaziyyat Dərs 26(Kvadratik forma və onun kanonik şəkilə gətirilməsi)', 'Ali Riyaziyyat Dərs 25(Xətti Fəza, Xətti Çevirmənin məxsusi qiyməti və məxsusi vekroru)', 'Ali Riyaziyyat Dərs 24(Matrislər və determinantlar)[ll hissə]', 'Ali Riyaziyyat Dərs 23(Xətti Cəbri Tənliklər sisteminin həll üsulları) [ll hissə]', 'Ali Riyaziyyat Dərs 22(Xətti Cəbri Tənliklər sisteminin həll üsulları)[ 1 hissə]', 'Ali Riyaziyyat Dərs 21(1ci və 2ci növ qeyri-məxsusi inteqrallar)', 'Ali Riyaziyyat[Həmdə Orta Məktəb] Dərs 20(Müəyyən İnteqralın bəzi tətbiqləri)', 'Ali Riyaziyyat Dərs 19(Qeyri-aşkar funksiyanın törəməsi.İstiqamət üzrə törəmə və qradiyent)', 'Ali Riyaziyyat Dərs 18(İkidəyişənli funksiyanın limiti, xüsusi törəmələri və tam diferensialı)', 'Ali Riyaziyyat Dərs 17(Qeyri müəyyənliklərin açılışı, Lopital qaydası)', 'Ali Riyaziyyat Dərs 16(Funksiyanın diferensialı. Diferensial hesabının əsas teoremləri)', 'Ali Riyaziyyat(Həmdə orta məktəb) Dərs 15[Funksiyanın törəməsi, yüksək tərtibli törəmələr]', 'Ali Riyaziyyat(Həmdə orta məktəb) Dərs 14[Funksiyanın limiti.Sol və Sağ limitlər. Görkəmli limitlər]', 'Ali Riyaziyyat Dərs 13[Kəsilməz Paylanmalar(Normal,üstlü və müntəzəm paylanmalar)]', 'Ali Riyaziyyat Dərs 12[Diskret Paylanmalar(Binomial, Puasson, Həndəsi, hiperhəndəsi Paylanmalar)]', 'Ali Riyaziyyat Dərs 11[Eht nəzəriyyəsi](Kəsilməz təsadüfi kəmiyyətin riyazi gözləməsi Dispersiyası)', 'Ali Riyaziyyat Dərs 10[Ehtimal nəzəriyyəsi](Təsadüfi Kəmiyyətlərin Paylanma və Sıxlıq funksiyaları)', 'Ali Riyaziyyat Dərs 9(Diskret təsadüfi kəmiyyətin riyazi gözləməsi və Dispersiyası)', 'Ali Riyaziyyat Dərs 8 (Asılı olmayan sınaqlar ardıcıllığı, Bernulli Düsturu,Ən böyük ehtimallı ədəd)', 'Ali Riyaziyyat Dərs 7(Tam Ehtimal Düsturu, Bayes Düsturu)', 'Ali Riyaziyyat [Ehtimal Nəzəriyyəsi: Görüş haqqında məsələ,Çevrilmiş kvadrat tənlik haqqında məsələ]', 'Ehtimal Nəzəriyyəsi və Oyunlar ( Ali Riyaziyyat )', 'Ali Riyaziyyat Dərs 6(Həndəsi Ehtimal, Şərti Ehtimal, Ehtimalı Toplama və Vurma teoremləri)', 'Ali Riyaziyyat Dərs5(Ehtimal nəzəriyyəsinin predmeti,əsas anlayışlar və təriflər)[Həmdə orta məktəb]', 'Ali Riyaziyyat(həmdə orta məktəb) Dərs 4(Çoxluqlar,Birləşmələr nəzəriyyəsinin elementləri)', 'Riyaziyyat Dərs 15(Sadə triqonometrik tənliklərin həlli. Triqinometrik tənliklərin həll üsulları)', 'Ali Riyaziyyat Dərs 3(Müəyyən inteqral, xassələri,həndəsi və iqtisadi mənası. İnteqrallama üsulları)', 'Ali Riyaziyyat Dərs 2(İbtidai funksiya və qeyri-müəyyən inteqral,inteqrallama üsulları)', 'Riyaziyyat Dərs 14(Triqonometriya,Əsas anlayışlar və düsturlar)', 'Ali Riyaziyyat Dərs 1(Matrislər və Determinantlar)[l hissə]', 'Riyaziyyat Dərs 13(Funksiyalar və qrafiklər)[2ci hissə]', 'Riyaziyyat Dərs 12(Funksiyalar və qrafiklər) [1ci Hissə]', 'Riyaziyyat Dərs 11(Ədədi ardıcıllıqlar, Silsilələr)', 'Riyaziyyat Dərs 10 (İrrasional tənliklər və bərabərsizliklər)', 'Riyaziyyat Dərs9 Parametrdən asılı kvadrat tənliklər,Rasional bərabərsizliklər,modullu bərabərsizlik', 'Riyaziyyat Dərs 8(Birdəyişənli xətti bərabərsizliklər və bərabərsizliklər sistemi,İntervallar üsulu)', 'Riyaziyyat Dərs 7(Tənlik və tənliklər sistemi qurma yolu ilə məsələ həlli)', 'Riyaziyyat Dərs 6(Tənliklər sisteminin növləri və həll üsulları,Ədədi orta,Həndəsi orta)', 'Riyaziyyat Dərs 5 (Kəsr-Rasional tənliklər,məchulu modul işarəsi daxilində olan tənliklər)', 'Riyaziyyat Dərs 4 (Kvadrat tənliklərin həlli,Viyet teoremi)', 'Riyaziyyat Dərs 3 (Hesabi kvadrat kök və xassələri,n-ci dərəcədən hesabi kök və onun xassələri)', 'Riyaziyyat dərs 2 (Müxtəsər vurma dusturlari , coxhədlinin vuruqlara ayrılması üsulları)', 'Riyaziyyat Dərsi 1 (Natural ədədlər, bölmə əlamətləri, əbob və əkob anlayışları)']\n",
      "133\n"
     ]
    }
   ],
   "source": [
    "import time\n",
    "from selenium import webdriver\n",
    "from webdriver_manager.chrome import ChromeDriverManager\n",
    "from selenium.webdriver.chrome.service import Service\n",
    "from selenium.webdriver.common.by import By\n",
    "from selenium.webdriver.chrome.options import Options\n",
    "from selenium.webdriver.support.ui import WebDriverWait\n",
    "from selenium.webdriver.support import expected_conditions as EC\n",
    "from selenium.common.exceptions import TimeoutException\n",
    "\n",
    "chrome_options = Options()\n",
    "chrome_options.add_argument(\"--start-maximized\")\n",
    "service = Service(executable_path=ChromeDriverManager().install())\n",
    "driver = webdriver.Chrome(service=service, options=chrome_options)\n",
    "\n",
    "driver.get(\"https://www.youtube.com/@firidunmmmdov3786/videos\")\n",
    "\n",
    "# Bütün videolar yüklənənə qədər səhifəni sürüşdürmək\n",
    "SCROLL_PAUSE_TIME = 2\n",
    "last_height = driver.execute_script(\"return document.documentElement.scrollHeight\")\n",
    "\n",
    "while True:\n",
    "    # Səhifəni aşağıya sürüşdür\n",
    "    driver.execute_script(\"window.scrollTo(0, document.documentElement.scrollHeight);\")\n",
    "\n",
    "    # Yeni məzmun yüklənməsi üçün gözləmə\n",
    "    time.sleep(SCROLL_PAUSE_TIME)\n",
    "\n",
    "    # Yenidən hündürlüyü ölç\n",
    "    new_height = driver.execute_script(\"return document.documentElement.scrollHeight\")\n",
    "    \n",
    "    # Əgər daha çox yüklənəcək məzmun yoxdursa, çıx\n",
    "    if new_height == last_height:\n",
    "        break\n",
    "    last_height = new_height\n",
    "\n",
    "# Bütün yüklənmiş videoların adlarını almaq\n",
    "LOCATOR = (By.XPATH, \"//yt-formatted-string[@id='video-title']\")\n",
    "buttons = driver.find_elements(*LOCATOR)\n",
    "\n",
    "video_titles = [button.text for button in buttons]\n",
    "\n",
    "print(video_titles)\n",
    "print(len(video_titles))\n",
    "\n",
    "driver.quit()\n"
   ]
  },
  {
   "cell_type": "code",
   "execution_count": 1,
   "id": "6ed5a948",
   "metadata": {},
   "outputs": [
    {
     "ename": "NameError",
     "evalue": "name 'video_titles' is not defined",
     "output_type": "error",
     "traceback": [
      "\u001b[1;31m---------------------------------------------------------------------------\u001b[0m",
      "\u001b[1;31mNameError\u001b[0m                                 Traceback (most recent call last)",
      "Cell \u001b[1;32mIn[1], line 1\u001b[0m\n\u001b[1;32m----> 1\u001b[0m values \u001b[38;5;241m=\u001b[39m video_titles\n\u001b[0;32m      2\u001b[0m keys \u001b[38;5;241m=\u001b[39m [i\u001b[38;5;241m+\u001b[39m\u001b[38;5;241m1\u001b[39m \u001b[38;5;28;01mfor\u001b[39;00m i \u001b[38;5;129;01min\u001b[39;00m \u001b[38;5;28mrange\u001b[39m(\u001b[38;5;28mlen\u001b[39m(values))]\n\u001b[0;32m      3\u001b[0m my_dict \u001b[38;5;241m=\u001b[39m \u001b[38;5;28mdict\u001b[39m(\u001b[38;5;28mzip\u001b[39m(keys, values))\n",
      "\u001b[1;31mNameError\u001b[0m: name 'video_titles' is not defined"
     ]
    }
   ],
   "source": [
    "values = video_titles\n",
    "keys = [i+1 for i in range(len(values))]\n",
    "my_dict = dict(zip(keys, values))\n",
    "print(my_dict)\n"
   ]
  },
  {
   "cell_type": "code",
   "execution_count": null,
   "id": "d675ece9",
   "metadata": {},
   "outputs": [],
   "source": []
  }
 ],
 "metadata": {
  "kernelspec": {
   "display_name": "Python 3 (ipykernel)",
   "language": "python",
   "name": "python3"
  },
  "language_info": {
   "codemirror_mode": {
    "name": "ipython",
    "version": 3
   },
   "file_extension": ".py",
   "mimetype": "text/x-python",
   "name": "python",
   "nbconvert_exporter": "python",
   "pygments_lexer": "ipython3",
   "version": "3.11.5"
  }
 },
 "nbformat": 4,
 "nbformat_minor": 5
}
