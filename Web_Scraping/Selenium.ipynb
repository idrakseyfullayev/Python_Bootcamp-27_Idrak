{
 "cells": [
  {
   "cell_type": "code",
   "execution_count": 44,
   "id": "d0c60376",
   "metadata": {},
   "outputs": [],
   "source": [
    "# !pip install selenium webdriver-manager"
   ]
  },
  {
   "cell_type": "markdown",
   "id": "885390d9",
   "metadata": {},
   "source": [
    "#### LESSON 2 and 3: \n",
    "#### INITIALIZING CHROME AND FIREFOX DRIVERS\n",
    "#### BROWSER NAVIGATION CONTROL"
   ]
  },
  {
   "cell_type": "code",
   "execution_count": 48,
   "id": "dce72913",
   "metadata": {},
   "outputs": [],
   "source": [
    "import time\n",
    "\n",
    "from selenium import webdriver\n",
    "from webdriver_manager.chrome import ChromeDriverManager\n",
    "from selenium.webdriver.chrome.service import Service\n",
    "\n",
    "service = Service(executable_path=ChromeDriverManager().install())\n",
    "driver = webdriver.Chrome(service=service)\n",
    "\n",
    "driver.get('http://www.qss.az/')\n",
    "\n",
    "time.sleep(10)\n",
    "\n",
    "driver.back()\n",
    "\n",
    "time.sleep(3)\n",
    "\n",
    "driver.forward()\n",
    "\n",
    "time.sleep(3)\n",
    "\n",
    "driver.refresh()\n",
    "\n",
    "time.sleep(3)"
   ]
  },
  {
   "cell_type": "markdown",
   "id": "8c1d9234",
   "metadata": {},
   "source": [
    "#### LESSON 4\n",
    "#### DATA OBTAINING AND VALIDATION"
   ]
  },
  {
   "cell_type": "code",
   "execution_count": 71,
   "id": "dbb7a8ca",
   "metadata": {},
   "outputs": [
    {
     "name": "stdout",
     "output_type": "stream",
     "text": [
      "url_page: https://www.wikipedia.org/\n",
      "Current title: Wikipedia\n"
     ]
    }
   ],
   "source": [
    "import time\n",
    "\n",
    "from selenium import webdriver\n",
    "from webdriver_manager.chrome import ChromeDriverManager\n",
    "from selenium.webdriver.chrome.service import Service\n",
    "\n",
    "service = Service(executable_path=ChromeDriverManager().install())\n",
    "driver = webdriver.Chrome(service=service)\n",
    "\n",
    "driver.get('https://www.wikipedia.org/')\n",
    "\n",
    "url = driver.current_url\n",
    "print('url_page:', url)\n",
    "assert url == 'https://www.wikipedia.org/', 'error url, did not open that page'\n",
    "\n",
    "current_title = driver.title\n",
    "print('Current title:', current_title)\n",
    "assert current_title == 'Wikipedia', 'uncorrect title'\n",
    "\n",
    "driver.page_source\n",
    "\n",
    "time.sleep(3)"
   ]
  },
  {
   "cell_type": "markdown",
   "id": "ce9f1441",
   "metadata": {},
   "source": [
    "#### LESSON 5\n",
    "#### SEARCH WEB ELEMENTS. PART 1"
   ]
  },
  {
   "cell_type": "code",
   "execution_count": 12,
   "id": "254f3fff",
   "metadata": {},
   "outputs": [
    {
     "name": "stdout",
     "output_type": "stream",
     "text": [
      "<selenium.webdriver.remote.webelement.WebElement (session=\"5e252ae5a812f7de18b1e8a0f9f2b1e7\", element=\"7f2e3dfb-c31c-4611-89b2-da102f7ae353\")>\n",
      "<selenium.webdriver.remote.webelement.WebElement (session=\"5e252ae5a812f7de18b1e8a0f9f2b1e7\", element=\"7f2e3dfb-c31c-4611-89b2-da102f7ae353\")>\n",
      "<class 'selenium.webdriver.remote.webelement.WebElement'>\n"
     ]
    }
   ],
   "source": [
    "import time\n",
    "\n",
    "from selenium import webdriver\n",
    "from webdriver_manager.chrome import ChromeDriverManager\n",
    "from selenium.webdriver.chrome.service import Service\n",
    "\n",
    "from selenium.webdriver.common.by import By\n",
    "\n",
    "service = Service(executable_path=ChromeDriverManager().install())\n",
    "driver = webdriver.Chrome(service=service)\n",
    "\n",
    "driver.get('https://www.freeconferencecall.com/global/az/login')\n",
    "\n",
    "print(driver.find_element(By.ID, 'loginformsubmit'))\n",
    "print(driver.find_element('id', 'loginformsubmit'))\n",
    "print(type(driver.find_element('id', 'loginformsubmit')))\n",
    "\n",
    "time.sleep(5)\n",
    "\n",
    "driver.find_element('id', 'loginformsubmit').click()\n",
    "\n",
    "time.sleep(3)\n",
    "\n",
    "# ➖ ID = \"id\"\n",
    "# ➖ XPATH = \"xpath\"\n",
    "# ➖ NAME = \"name\"\n",
    "# ➖ CLASS_NAME = \"class name\"\n",
    "# ➖ CSS_SELECTOR = \"css selector\"\n"
   ]
  },
  {
   "cell_type": "markdown",
   "id": "54733eb4",
   "metadata": {},
   "source": [
    "#### LESSON 6\n",
    "#### SEARCHING WEB ELEMENTS. PART 2"
   ]
  },
  {
   "cell_type": "code",
   "execution_count": 16,
   "id": "ad417b25",
   "metadata": {},
   "outputs": [
    {
     "name": "stdout",
     "output_type": "stream",
     "text": [
      "[<selenium.webdriver.remote.webelement.WebElement (session=\"fd77cf3546e500037d60725ef82de50f\", element=\"0f890a4c-5e3e-4031-a72c-c305ce9b61b0\")>, <selenium.webdriver.remote.webelement.WebElement (session=\"fd77cf3546e500037d60725ef82de50f\", element=\"2bdc176b-5dda-4159-a7ac-3a17d9808f43\")>, <selenium.webdriver.remote.webelement.WebElement (session=\"fd77cf3546e500037d60725ef82de50f\", element=\"28cbc28d-d68b-4139-b7ab-a49414cf7462\")>, <selenium.webdriver.remote.webelement.WebElement (session=\"fd77cf3546e500037d60725ef82de50f\", element=\"6bca2177-0252-433e-bf13-fdeb362a7367\")>, <selenium.webdriver.remote.webelement.WebElement (session=\"fd77cf3546e500037d60725ef82de50f\", element=\"67b36592-4238-42fc-bf58-d45e3178a3bb\")>]\n",
      "5\n"
     ]
    }
   ],
   "source": [
    "import time\n",
    "\n",
    "from selenium import webdriver\n",
    "from webdriver_manager.chrome import ChromeDriverManager\n",
    "from selenium.webdriver.chrome.service import Service\n",
    "\n",
    "from selenium.webdriver.common.by import By\n",
    "\n",
    "service = Service(executable_path=ChromeDriverManager().install())\n",
    "driver = webdriver.Chrome(service=service)\n",
    "\n",
    "driver.get('https://hyperskill.org/tracks')\n",
    "\n",
    "time.sleep(3)\n",
    "\n",
    "print(driver.find_elements('class name', 'nav-link'))\n",
    "\n",
    "print(len(driver.find_elements('class name', 'nav-link')))\n",
    "\n",
    "driver.find_elements('class name', 'nav-link')[2].click()\n",
    "\n",
    "time.sleep(5)\n",
    "\n",
    "\n",
    "\n",
    "# ➖ ID = \"id\"\n",
    "# ➖ XPATH = \"xpath\"\n",
    "# ➖ NAME = \"name\"\n",
    "# ➖ CLASS_NAME = \"class name\"\n",
    "# ➖ CSS_SELECTOR = \"css selector\"\n"
   ]
  },
  {
   "cell_type": "markdown",
   "id": "3f27403d",
   "metadata": {},
   "source": [
    "#### LESSON 7\n",
    "#### SEARCHING FOR XPATH LOCATORS - PART 1"
   ]
  },
  {
   "cell_type": "code",
   "execution_count": 5,
   "id": "0503d6cf",
   "metadata": {},
   "outputs": [],
   "source": [
    "# ➖ Глобальный поиск - //header\n",
    "# ➖ Вложенность - //header/div\n",
    "# ➖ Порядковый номер - (//header/div)[2]\n",
    "# ➖ Поиск по атрибуту - //input[@type='submit']\n",
    "# ➖ Поиск по параметру text - //button[text()='Sign in']\n",
    "# ➖ Поиск по содержимому - //button[contains(@class, 'btn')]\n",
    "# ➖ Поиск по нескольким атрибутам - //input[@type='email' and @role='login']\n",
    "#                                   //button[@data-cy='submitButton' and @type='submit']      "
   ]
  },
  {
   "cell_type": "markdown",
   "id": "842dc58a",
   "metadata": {},
   "source": [
    "#### LESSON 8\n",
    "#### CLICKING ON ELEMENTS AND WORKING WITH INPUT FIELDS"
   ]
  },
  {
   "cell_type": "code",
   "execution_count": 34,
   "id": "810bb2d4",
   "metadata": {},
   "outputs": [
    {
     "name": "stdout",
     "output_type": "stream",
     "text": [
      "idrak.seyfi87@gmail.com\n",
      "64\n"
     ]
    }
   ],
   "source": [
    "import time\n",
    "\n",
    "from selenium import webdriver\n",
    "from webdriver_manager.chrome import ChromeDriverManager\n",
    "from selenium.webdriver.chrome.service import Service\n",
    "\n",
    "from selenium.webdriver.common.by import By\n",
    "\n",
    "service = Service(executable_path=ChromeDriverManager().install())\n",
    "driver = webdriver.Chrome(service=service)\n",
    "\n",
    "driver.get('https://www.freeconferencecall.com/global/pl')\n",
    "\n",
    "# driver.find_element(\"xpath\", \"//a[@id='login-desktop']\").click()\n",
    "login_button = driver.find_element(\"xpath\", \"//a[@id='login-desktop']\")\n",
    "login_button.click()\n",
    "\n",
    "email_field = driver.find_element(\"xpath\", \"//input[@id='login_email']\")\n",
    "email_field.send_keys('idrak.seyfi87@gmail.com')\n",
    "time.sleep(3)\n",
    "\n",
    "print(email_field.get_attribute('value'))\n",
    "print(email_field.get_attribute('maxlength'))\n",
    "\n",
    "email_field.clear()\n",
    "\n",
    "email_field.send_keys('AAAAAAAAAAAAAA')\n",
    "\n",
    "time.sleep(3)\n",
    "\n",
    "\n",
    "# ➖ ID = \"id\"\n",
    "# ➖ XPATH = \"xpath\"\n",
    "# ➖ NAME = \"name\"\n",
    "# ➖ CLASS_NAME = \"class name\"\n",
    "# ➖ CSS_SELECTOR = \"css selector\""
   ]
  },
  {
   "cell_type": "markdown",
   "id": "97186941",
   "metadata": {},
   "source": [
    "#### LESSON 9\n",
    "#### BROWSER OPTIONS AND PAGE LOADING STRATEGY"
   ]
  },
  {
   "cell_type": "code",
   "execution_count": 3,
   "id": "13279f8d",
   "metadata": {},
   "outputs": [
    {
     "name": "stdout",
     "output_type": "stream",
     "text": [
      "25.196527242660522\n"
     ]
    }
   ],
   "source": [
    "import time\n",
    "\n",
    "from selenium import webdriver\n",
    "from webdriver_manager.chrome import ChromeDriverManager\n",
    "from selenium.webdriver.chrome.service import Service\n",
    "\n",
    "from selenium.webdriver.common.by import By\n",
    "\n",
    "chrome_options = webdriver.ChromeOptions()\n",
    "chrome_options.page_load_strategy = 'normal'\n",
    "# chrome_options.page_load_strategy = 'eager'\n",
    "# chrome_options.add_argument(\"--headless\")\n",
    "chrome_options.add_argument(\"--incognito\")\n",
    "# chrome_options.add_argument(\"--ignore-certificate-errors\")\n",
    "chrome_options.add_argument(\"--window-size=1920,1080\")\n",
    "# chrome_options.add_argument(\"--disable-cache\")\n",
    "service = Service(executable_path=ChromeDriverManager().install())\n",
    "driver = webdriver.Chrome(service=service, options=chrome_options)\n",
    "\n",
    "# time.sleep(3)\n",
    "\n",
    "# driver.set_window_size(1920, 1080)\n",
    "# driver.maximize_window()\n",
    "\n",
    "start_time = time.time()\n",
    "\n",
    "# driver.get('https://expired.badssl.com/')\n",
    "driver.get('https://whatismyipaddress.com/')\n",
    "\n",
    "end_time = time.time()\n",
    "\n",
    "result = end_time - start_time\n",
    "print(result)\n",
    "\n",
    "# time.sleep(3)\n",
    "\n",
    "\n",
    "# ➖ Безголовый режим \"--headless\"\n",
    "# ➖ Режим инкогнито \"--incognito\"\n",
    "# ➖ Игнорирование ошибок сертификатов \"--ignore-certificate-errors\"\n",
    "# ➖ Размер окна браузера \"--window-size=X,Y\"\n",
    "# ➖ Отключение кеширования \"--disable-cache\""
   ]
  },
  {
   "cell_type": "markdown",
   "id": "13a5e8fb",
   "metadata": {},
   "source": [
    "#### LESSON 10\n",
    "#### UPLOADING AND DOWNLOADING FILES"
   ]
  },
  {
   "cell_type": "markdown",
   "id": "2f6dad45",
   "metadata": {},
   "source": [
    "#### download"
   ]
  },
  {
   "cell_type": "code",
   "execution_count": 17,
   "id": "8a175902",
   "metadata": {},
   "outputs": [],
   "source": [
    "import os\n",
    "import time\n",
    "\n",
    "from selenium import webdriver\n",
    "from webdriver_manager.chrome import ChromeDriverManager\n",
    "from selenium.webdriver.chrome.service import Service\n",
    "\n",
    "from selenium.webdriver.common.by import By\n",
    "\n",
    "chrome_options = webdriver.ChromeOptions()\n",
    "# prefs = {\n",
    "#     \"download.default_directory\": f\"{os.getcwd()}/downloads\"\n",
    "# }\n",
    "# path = os.path.dirname(os.path.abspath(__file__))\n",
    "# prefs = {\n",
    "#     \"download.default_directory\": os.path.join(path, 'downloads')\n",
    "# }\n",
    "chrome_options.add_experimental_option(\"prefs\", prefs)\n",
    "service = Service(executable_path=ChromeDriverManager().install())\n",
    "driver = webdriver.Chrome(service=service, options=chrome_options)\n",
    "\n",
    "driver.get('https://the-internet.herokuapp.com/download')\n",
    "\n",
    "time.sleep(3)\n",
    "\n",
    "driver.find_elements('xpath', '//a')[4].click()\n",
    "\n",
    "time.sleep(3)"
   ]
  },
  {
   "cell_type": "markdown",
   "id": "5c6d555d",
   "metadata": {},
   "source": [
    "#### upload"
   ]
  },
  {
   "cell_type": "code",
   "execution_count": 25,
   "id": "73376f29",
   "metadata": {},
   "outputs": [],
   "source": [
    "import os\n",
    "import time\n",
    "\n",
    "from selenium import webdriver\n",
    "from webdriver_manager.chrome import ChromeDriverManager\n",
    "from selenium.webdriver.chrome.service import Service\n",
    "\n",
    "from selenium.webdriver.common.by import By\n",
    "\n",
    "chrome_options = webdriver.ChromeOptions()\n",
    "service = Service(executable_path=ChromeDriverManager().install())\n",
    "driver = webdriver.Chrome(service=service, options=chrome_options)\n",
    "\n",
    "# driver.get('https://the-internet.herokuapp.com/upload')\n",
    "\n",
    "# time.sleep(3)\n",
    "\n",
    "# path = os.path.dirname(os.path.abspath(__file__))\n",
    "# upload_field = driver.find_element('xpath', \"//input[@type='file']\")\n",
    "# upload_field.send_keys(os.path.join(path, 'downloads/img.png'))\n",
    "# upload_field.send_keys(\"C:\\\\Users\\\\dell\\Downloads\\\\img.png\")\n",
    "\n",
    "# time.sleep(3)\n",
    "\n",
    "\n",
    "driver.get('https://www.freeconferencecall.com/global/az/login')\n",
    "\n",
    "\n",
    "time.sleep(3)\n",
    "\n",
    "login_field = driver.find_element('xpath', \"//input[@id = 'login_email']\")\n",
    "login_field.send_keys('selenium@ya.ru')\n",
    "\n",
    "password_field = driver.find_element('xpath', \"//input[@id = 'password']\")\n",
    "password_field.send_keys('123')\n",
    "\n",
    "agree_checkbox = driver.find_element(\"xpath\", \"//input[@type = 'checkbox']\")\n",
    "agree_checkbox.click()\n",
    "\n",
    "submit_button = driver.find_element(\"xpath\", \"//button[@id = 'loginformsubmit']\")\n",
    "submit_button.click()\n",
    "\n",
    "time.sleep(3)\n",
    "\n",
    "driver.get(\"https://www.freeconferencecall.com/profile/settings?tab=wall-editor\")\n",
    "\n",
    "time.sleep(5)\n",
    "\n",
    "# path = os.path.dirname(os.path.abspath(__file__))\n",
    "upload_field = driver.find_element('xpath', \"//input[@type = 'file']\")\n",
    "# upload_field.send_keys(os.path.join(path, 'downloads/img.png'))\n",
    "upload_field.send_keys(\"C:\\\\Users\\\\dell\\Downloads\\\\img.png\")\n",
    "\n",
    "time.sleep(5)"
   ]
  },
  {
   "cell_type": "markdown",
   "id": "58ba6d49",
   "metadata": {},
   "source": [
    "#### LESSON 11\n",
    "#### EXPLICIT AND IMPLICIT EXPECTATIONS"
   ]
  },
  {
   "cell_type": "markdown",
   "id": "7a109ad5",
   "metadata": {},
   "source": [
    "### implicitly wait"
   ]
  },
  {
   "cell_type": "code",
   "execution_count": 26,
   "id": "a06c4871",
   "metadata": {},
   "outputs": [],
   "source": [
    "import os\n",
    "import time\n",
    "\n",
    "from selenium import webdriver\n",
    "from webdriver_manager.chrome import ChromeDriverManager\n",
    "from selenium.webdriver.chrome.service import Service\n",
    "\n",
    "from selenium.webdriver.common.by import By\n",
    "\n",
    "chrome_options = webdriver.ChromeOptions()\n",
    "service = Service(executable_path=ChromeDriverManager().install())\n",
    "driver = webdriver.Chrome(service=service, options=chrome_options)\n",
    "\n",
    "driver.implicitly_wait(10)\n",
    "\n",
    "driver.get('https://demoqa.com/dynamic-properties')\n",
    "\n",
    "VISIBLE_AFTER_BUTTON = (\"xpath\", \"//button[@id='visibleAfter']\")\n",
    "\n",
    "driver.find_element(*VISIBLE_AFTER_BUTTON).click()\n",
    "\n",
    "time.sleep(5)"
   ]
  },
  {
   "cell_type": "markdown",
   "id": "12051d10",
   "metadata": {},
   "source": [
    "### explicit wait"
   ]
  },
  {
   "cell_type": "code",
   "execution_count": 1,
   "id": "ac20bff3",
   "metadata": {
    "scrolled": false
   },
   "outputs": [
    {
     "name": "stdout",
     "output_type": "stream",
     "text": [
      "button is lost\n",
      "ok\n"
     ]
    }
   ],
   "source": [
    "import os\n",
    "import time\n",
    "\n",
    "from selenium import webdriver\n",
    "from webdriver_manager.chrome import ChromeDriverManager\n",
    "from selenium.webdriver.chrome.service import Service\n",
    "from selenium.webdriver.support.ui import WebDriverWait\n",
    "from selenium.webdriver.support import expected_conditions as EC\n",
    "\n",
    "chrome_options = webdriver.ChromeOptions()\n",
    "service = Service(executable_path=ChromeDriverManager().install())\n",
    "driver = webdriver.Chrome(service=service, options=chrome_options)\n",
    "\n",
    "wait = WebDriverWait(driver, 15, poll_frequency=1)\n",
    "\n",
    "driver.get('https://demoqa.com/dynamic-properties')\n",
    "\n",
    "VISIBLE_AFTER_BUTTON = ('xpath', \"//button[@id='visibleAfter']\")\n",
    "\n",
    "wait.until(EC.visibility_of_element_located(VISIBLE_AFTER_BUTTON)).click()\n",
    "\n",
    "time.sleep(5)\n",
    "\n",
    "ENANBLE_IN_SECONDS  = (\"xpath\", \"//button[@id='enableAfter']\")\n",
    "\n",
    "wait.until(EC.element_to_be_clickable(ENANBLE_IN_SECONDS)).click()\n",
    "\n",
    "time.sleep(5)\n",
    "\n",
    "\n",
    "driver.get('https://the-internet.herokuapp.com/dynamic_controls')\n",
    "\n",
    "REMOVE_BUTTON = ('xpath', \"//button[text()='Remove']\")\n",
    "\n",
    "driver.find_element(*REMOVE_BUTTON).click()\n",
    "\n",
    "wait.until(EC.invisibility_of_element_located(REMOVE_BUTTON))\n",
    "\n",
    "print('button is lost')\n",
    "\n",
    "time.sleep(5)\n",
    "\n",
    "ENABLE_BUTTON = (\"xpath\", \"//button[text()='Enable']\")\n",
    "TEXT_FIELD = ('xpath', \"//input[@type='text']\")\n",
    "\n",
    "wait.until(EC.element_to_be_clickable(ENABLE_BUTTON)).click()\n",
    "time.sleep(3)\n",
    "wait.until(EC.element_to_be_clickable(TEXT_FIELD)).send_keys(\"SALAM\")\n",
    "time.sleep(3)\n",
    "wait.until(EC.text_to_be_present_in_element_value(TEXT_FIELD, 'SALAM'))\n",
    "time.sleep(3)\n",
    "\n",
    "print('ok')\n"
   ]
  },
  {
   "cell_type": "markdown",
   "id": "c1e5fefe",
   "metadata": {},
   "source": [
    "#### LESSON 12\n",
    "#### SCREENSHOTS + WEBDRIVER MOD AND USER-AGENT MANAGEMENT"
   ]
  },
  {
   "cell_type": "code",
   "execution_count": 2,
   "id": "80ef9ccd",
   "metadata": {},
   "outputs": [
    {
     "data": {
      "text/plain": [
       "True"
      ]
     },
     "execution_count": 2,
     "metadata": {},
     "output_type": "execute_result"
    }
   ],
   "source": [
    "import os\n",
    "import time\n",
    "\n",
    "from selenium import webdriver\n",
    "from webdriver_manager.chrome import ChromeDriverManager\n",
    "from selenium.webdriver.chrome.service import Service\n",
    "from selenium.webdriver.support.ui import WebDriverWait\n",
    "from selenium.webdriver.support import expected_conditions as EC\n",
    "from selenium.webdriver.chrome.options import Options\n",
    "\n",
    "# chrome_options = webdriver.ChromeOptions()\n",
    "options = Options()\n",
    "options.add_argument(\"--headless\")\n",
    "options.add_argument(\"--window-size=1920, 1080\")\n",
    "options.add_argument(\"--disable-blink-features=AutomationControlled\")\n",
    "options.add_argument(\"\"\"--user-agent=Mozilla/5.0 (Windows NT 10.0; Win64; x64) AppleWebKit/537.36 (KHTML, like Gecko) Chrome/109.0.0.0 Safari/537.36\"\"\")\n",
    "\n",
    "service = Service(executable_path=ChromeDriverManager().install())\n",
    "driver = webdriver.Chrome(service=service, options=options)\n",
    "\n",
    "wait = WebDriverWait(driver, 15, poll_frequency=1)\n",
    "\n",
    "# driver.get('https://intoli.com/blog/not-possible-to-block-chrome-headless/chrome-headless-test.html')\n",
    "\n",
    "# driver.save_screenshot('screen.png')\n",
    "\n",
    "# time.sleep(3)\n",
    "\n",
    "driver.get(\"https://whatismyipaddress.com/\")\n",
    "\n",
    "\n",
    "\n",
    "wait.until(EC.title_is(\"What Is My IP Address - See Your Public Address - IPv4 & IPv6\"))\n",
    "\n",
    "driver.save_screenshot(\"screen.png\")\n"
   ]
  },
  {
   "cell_type": "markdown",
   "id": "6b8b85b6",
   "metadata": {},
   "source": [
    "#### LESSON 13\n",
    "#### WORKING WITH ALERTS"
   ]
  },
  {
   "cell_type": "code",
   "execution_count": 12,
   "id": "8aabea11",
   "metadata": {},
   "outputs": [],
   "source": [
    "import os\n",
    "import time\n",
    "\n",
    "from selenium import webdriver\n",
    "from webdriver_manager.chrome import ChromeDriverManager\n",
    "from selenium.webdriver.chrome.service import Service\n",
    "from selenium.webdriver.support.ui import WebDriverWait\n",
    "from selenium.webdriver.support import expected_conditions as EC\n",
    "from selenium.webdriver.chrome.options import Options\n",
    "\n",
    "# chrome_options = webdriver.ChromeOptions()\n",
    "options = Options()\n",
    "service = Service(ChromeDriverManager().install())\n",
    "driver = webdriver.Chrome(service=service, options=options)\n",
    "\n",
    "wait = WebDriverWait(driver, 10, poll_frequency=1)\n",
    "\n",
    "driver.get(\"https://demoqa.com/alerts\")\n",
    "\n",
    "# BUTTON_1 = (\"xpath\", \"//button[@id='alertButton']\")\n",
    "\n",
    "# wait.until(EC.element_to_be_clickable(BUTTON_1)).click()\n",
    "\n",
    "# alert = wait.until(EC.alert_is_present())\n",
    "\n",
    "# driver.switch_to.alert\n",
    "\n",
    "# time.sleep(3)\n",
    "\n",
    "# alert.accept()\n",
    "\n",
    "# time.sleep(3)\n",
    "\n",
    "\n",
    "# BUTTON_2 = (\"xpath\", \"//button[@id='confirmButton']\")\n",
    "# wait.until(EC.element_to_be_clickable(BUTTON_2)).click()\n",
    "\n",
    "# alert = wait.until(EC.alert_is_present())\n",
    "\n",
    "# driver.switch_to.alert\n",
    "\n",
    "# time.sleep(3)\n",
    "# print(alert.text)\n",
    "\n",
    "# alert.dismiss()\n",
    "\n",
    "# time.sleep(3)\n",
    "\n",
    "BUTTON_3 = (\"xpath\", \"//button[@id='promtButton']\")\n",
    "wait.until(EC.element_to_be_clickable(BUTTON_3)).click()\n",
    "\n",
    "alert = wait.until(EC.alert_is_present())\n",
    "\n",
    "driver.switch_to.alert\n",
    "\n",
    "time.sleep(3)\n",
    "\n",
    "alert.send_keys('Idrak')\n",
    "\n",
    "time.sleep(3)\n",
    "\n",
    "alert.accept()\n",
    "\n",
    "time.sleep(3)\n"
   ]
  },
  {
   "cell_type": "markdown",
   "id": "586b4da4",
   "metadata": {},
   "source": [
    "#### LESSON 14\n",
    "#### WORKING WITH COOKIES"
   ]
  },
  {
   "cell_type": "code",
   "execution_count": 17,
   "id": "d1167c54",
   "metadata": {},
   "outputs": [
    {
     "name": "stdout",
     "output_type": "stream",
     "text": [
      "[{'domain': '.freeconferencecall.com', 'expiry': 1757945024, 'httpOnly': False, 'name': '_ga', 'path': '/', 'secure': False, 'value': 'GA1.1.1394104668.1723385024'}, {'domain': '.freeconferencecall.com', 'expiry': 1757945024, 'httpOnly': False, 'name': '_ga_G5FPS5ZX19', 'path': '/', 'secure': False, 'value': 'GS1.1.1723385024.1.0.1723385024.60.0.0'}, {'domain': '.freeconferencecall.com', 'expiry': 1723471423, 'httpOnly': False, 'name': '_gid', 'path': '/', 'secure': False, 'value': 'GA1.2.1692802913.1723385024'}, {'domain': '.freeconferencecall.com', 'expiry': 1731161024, 'httpOnly': False, 'name': '_gcl_au', 'path': '/', 'secure': False, 'value': '1.1.883671054.1723385024'}, {'domain': 'www.freeconferencecall.com', 'httpOnly': False, 'name': 'locale', 'path': '/', 'sameSite': 'Lax', 'secure': True, 'value': 'ru'}, {'domain': '.freeconferencecall.com', 'expiry': 1723385083, 'httpOnly': False, 'name': '_gat', 'path': '/', 'secure': False, 'value': '1'}, {'domain': 'www.freeconferencecall.com', 'httpOnly': True, 'name': '_freeconferencecall_session', 'path': '/', 'sameSite': 'Lax', 'secure': True, 'value': 'MvoekmPjL5I6goHm4dnxNWNAj0xX%2Fbp%2BfMZ%2BXMzVvp7vjJD9SExtrsdBWTZHeci5Iva9PU0kwyNXQcsPCybc6%2FpiFFdXlNeBQE2vDs88Zc7bdLqnj751YpvZ6FtxQuiB%2BUGucG%2BwX%2FrLk7q1ehBrF5s%2F53sxSIBM3uG5%2FOTdRXWNoW%2B%2FN9kG02ekX94SDqJkAGKorIx6n4%2Fp%2F1jCaXGtapvOd0KfoI0pVsipnSZhQWsEpQh%2BMPPUQg09wzB9bdKa2ylh3gDkoWNViFyZAdTeVVCIDovP%2FtLIC0DbGwOBC9DmugJl1pM87N5%2FP%2F%2BcgJ0HTuShjY1b2lH%2F1%2FkIsm27K0NWlQHetnH%2Fa%2F0i--2zt505jJEO3e%2FbPh--K%2Fs4G4XkFLQdrORl7Ulp4g%3D%3D'}, {'domain': 'www.freeconferencecall.com', 'expiry': 1754921021, 'httpOnly': True, 'name': 'split', 'path': '/', 'sameSite': 'Lax', 'secure': True, 'value': 'eyJfcmFpbHMiOnsibWVzc2FnZSI6IkltUmtZamMxTWpoaUxUWmlZbUl0TkdVNE5pMDVOV05tTFRKallUWm1ObVV3TlRjM01TST0iLCJleHAiOiIyMDI1LTA4LTExVDE0OjAzOjQwLjQ3OFoiLCJwdXIiOiJjb29raWUuc3BsaXQifX0%3D--8364359a768cc7a98279771f87e24eab01f61e1a'}, {'domain': 'www.freeconferencecall.com', 'httpOnly': True, 'name': 'country_code', 'path': '/', 'sameSite': 'Lax', 'secure': True, 'value': 'az'}]\n",
      "[{'domain': 'www.freeconferencecall.com', 'httpOnly': False, 'name': 'split', 'path': '/', 'secure': True, 'value': 'Querty'}, {'domain': '.freeconferencecall.com', 'expiry': 1757081025, 'httpOnly': False, 'name': '_uetvid', 'path': '/', 'secure': False, 'value': '8643c73057ea11ef913331276bc11ddc'}, {'domain': '.freeconferencecall.com', 'expiry': 1723471425, 'httpOnly': False, 'name': '_uetsid', 'path': '/', 'secure': False, 'value': '864354d057ea11efbd5d3fe00291d145'}]\n"
     ]
    }
   ],
   "source": [
    "import time\n",
    "\n",
    "from selenium import webdriver\n",
    "from webdriver_manager.chrome import ChromeDriverManager\n",
    "from selenium.webdriver.chrome.service import Service\n",
    "from selenium.webdriver.support.ui import WebDriverWait\n",
    "from selenium.webdriver.support import expected_conditions as EC\n",
    "from selenium.webdriver.chrome.options import Options\n",
    "\n",
    "\n",
    "service = Service(ChromeDriverManager().install())\n",
    "driver = webdriver.Chrome(service=service)\n",
    "wait = WebDriverWait(driver, 10, poll_frequency=1)\n",
    "\n",
    "driver.get(\"https://www.freeconferencecall.com/profile\")\n",
    "\n",
    "\n",
    "# print(driver.get_cookie('country_code'))\n",
    "# print(driver.get_cookies())\n",
    "\n",
    "# driver.add_cookie({\n",
    "#     \"name\": 'Example',\n",
    "#     \"value\": \"kukushka\"\n",
    "# })\n",
    "\n",
    "# print(driver.get_cookie('Example'))\n",
    "\n",
    "# before = driver.get_cookie('split')\n",
    "# print(before)\n",
    "\n",
    "# driver.delete_cookie('split')\n",
    "\n",
    "# driver.add_cookie({\n",
    "#     'name': 'split',\n",
    "#     'value': 'Querty'\n",
    "# })\n",
    "\n",
    "# after = driver.get_cookie('split')\n",
    "# print(after)\n",
    "\n",
    "before = driver.get_cookies()\n",
    "print(before)\n",
    "\n",
    "driver.delete_all_cookies()\n",
    "\n",
    "driver.add_cookie({\n",
    "    'name': 'split',\n",
    "    'value': 'Querty'\n",
    "})\n",
    "\n",
    "after = driver.get_cookies()\n",
    "print(after)"
   ]
  },
  {
   "cell_type": "markdown",
   "id": "2c6305ee",
   "metadata": {},
   "source": [
    "#### SAVE COOKIES"
   ]
  },
  {
   "cell_type": "code",
   "execution_count": null,
   "id": "951b5192",
   "metadata": {},
   "outputs": [],
   "source": [
    "import os\n",
    "import time\n",
    "import pickle\n",
    "from selenium import webdriver\n",
    "from webdriver_manager.chrome import ChromeDriverManager\n",
    "from selenium.webdriver.chrome.service import Service\n",
    "from selenium.webdriver.support.ui import WebDriverWait\n",
    "from selenium.webdriver.support import expected_conditions as EC\n",
    "from selenium.webdriver.chrome.options import Options\n",
    "\n",
    "\n",
    "service = Service(ChromeDriverManager().install())\n",
    "driver = webdriver.Chrome(service=service)\n",
    "wait = WebDriverWait(driver, 10, poll_frequency=1)\n",
    "\n",
    "driver.get(\"https://www.freeconferencecall.com/profile\")\n",
    "\n",
    "\n",
    "# login_field = ('xpath', \"//input[@id = 'login_email']\")\n",
    "# password_field = ('xpath', \"//input[@id = 'password']\")\n",
    "# submit_button = (\"xpath\", \"//button[@id = 'loginformsubmit']\")\n",
    "\n",
    "# driver.find_element(*login_field).send_keys('autocheck@ya.ru')\n",
    "# driver.find_element(*password_field).send_keys('123')\n",
    "# driver.find_element(*submit_button).click()\n",
    "\n",
    "\n",
    "path = os.path.dirname(os.path.abspath(__file__))\n",
    "# pickle.dump(driver.get_cookies(), open(os.path.join(path, 'cookies/cookies.pkl'), \"wb\"))\n",
    "\n",
    "driver.delete_all_cookies()\n",
    "\n",
    "cookies = pickle.load(open(os.path.join(path, 'cookies/cookies.pkl'), \"rb\"))\n",
    "\n",
    "for i in cookies:\n",
    "    driver.add_cookie(i)\n",
    "\n",
    "time.sleep(5)\n",
    "\n",
    "driver.refresh()\n",
    "\n",
    "time.sleep(5)"
   ]
  },
  {
   "cell_type": "markdown",
   "id": "e138cabc",
   "metadata": {},
   "source": [
    "#### LESSON 15\n",
    "#### WORKING WITH CHECKBOXES AND RADIO BUTTONS"
   ]
  },
  {
   "cell_type": "markdown",
   "id": "ef25db9c",
   "metadata": {},
   "source": [
    "#### CHECKBOXES_1"
   ]
  },
  {
   "cell_type": "code",
   "execution_count": 1,
   "id": "889c2aa5",
   "metadata": {},
   "outputs": [
    {
     "name": "stdout",
     "output_type": "stream",
     "text": [
      "False\n",
      "True\n"
     ]
    }
   ],
   "source": [
    "import os\n",
    "import time\n",
    "import pickle\n",
    "from selenium import webdriver\n",
    "from webdriver_manager.chrome import ChromeDriverManager\n",
    "from selenium.webdriver.chrome.service import Service\n",
    "from selenium.webdriver.support.ui import WebDriverWait\n",
    "from selenium.webdriver.support import expected_conditions as EC\n",
    "from selenium.webdriver.chrome.options import Options\n",
    "\n",
    "\n",
    "service = Service(ChromeDriverManager().install())\n",
    "driver = webdriver.Chrome(service=service)\n",
    "wait = WebDriverWait(driver, 10, poll_frequency=1)\n",
    "\n",
    "driver.get(\"https://the-internet.herokuapp.com/checkboxes\")\n",
    "\n",
    "time.sleep(3)\n",
    "\n",
    "CHECKBOX_1 = (\"xpath\", \"(//input[@type='checkbox'])[1]\")\n",
    "\n",
    "# print(driver.find_element(*CHECKBOX_1).get_attribute('checked'))\n",
    "\n",
    "# driver.find_element(*CHECKBOX_1).click()\n",
    "\n",
    "# print(driver.find_element(*CHECKBOX_1).get_attribute('checked'))\n",
    "\n",
    "# print(type(driver.find_element(*CHECKBOX_1).get_attribute('checked')))\n",
    "\n",
    "# # assert driver.find_element(*CHECKBOX_1).get_attribute('checked') is True\n",
    "# assert driver.find_element(*CHECKBOX_1).get_attribute('checked') == 'true'\n",
    "\n",
    "# time.sleep(3)\n",
    "\n",
    "print(driver.find_element(*CHECKBOX_1).is_selected())\n",
    "\n",
    "driver.find_element(*CHECKBOX_1).click()\n",
    "\n",
    "print(driver.find_element(*CHECKBOX_1).is_selected())\n",
    "\n",
    "time.sleep(3)"
   ]
  },
  {
   "cell_type": "markdown",
   "id": "2d9974a4",
   "metadata": {},
   "source": [
    "#### CHECKBOXES_2"
   ]
  },
  {
   "cell_type": "code",
   "execution_count": 2,
   "id": "fa7dbac3",
   "metadata": {},
   "outputs": [
    {
     "name": "stdout",
     "output_type": "stream",
     "text": [
      "False\n",
      "True\n"
     ]
    }
   ],
   "source": [
    "import os\n",
    "import time\n",
    "import pickle\n",
    "from selenium import webdriver\n",
    "from webdriver_manager.chrome import ChromeDriverManager\n",
    "from selenium.webdriver.chrome.service import Service\n",
    "from selenium.webdriver.support.ui import WebDriverWait\n",
    "from selenium.webdriver.support import expected_conditions as EC\n",
    "from selenium.webdriver.chrome.options import Options\n",
    "\n",
    "\n",
    "service = Service(ChromeDriverManager().install())\n",
    "driver = webdriver.Chrome(service=service)\n",
    "wait = WebDriverWait(driver, 10, poll_frequency=1)\n",
    "\n",
    "driver.get(\"https://demoqa.com/checkbox\")\n",
    "\n",
    "CHECKBOX_HOME_STATUS = (\"xpath\", \"//input[@id='tree-node-home']\")\n",
    "CHECKBOX_HOME_ACTION = (\"xpath\", \"//span[@class='rct-checkbox']\")\n",
    "\n",
    "print(driver.find_element(*CHECKBOX_HOME_STATUS).is_selected())\n",
    "driver.find_element(*CHECKBOX_HOME_ACTION).click()\n",
    "print(driver.find_element(*CHECKBOX_HOME_STATUS).is_selected())\n",
    "\n",
    "\n",
    "time.sleep(3)"
   ]
  },
  {
   "cell_type": "markdown",
   "id": "a52e1370",
   "metadata": {},
   "source": [
    "#### CHECKBOXES_3"
   ]
  },
  {
   "cell_type": "code",
   "execution_count": 10,
   "id": "fe6bef3b",
   "metadata": {},
   "outputs": [
    {
     "name": "stdout",
     "output_type": "stream",
     "text": [
      "mt-2 list-group-item list-group-item-action\n",
      "mt-2 list-group-item active list-group-item-action\n",
      "True checkbox is delivered\n"
     ]
    }
   ],
   "source": [
    "import os\n",
    "import time\n",
    "import pickle\n",
    "from selenium import webdriver\n",
    "from webdriver_manager.chrome import ChromeDriverManager\n",
    "from selenium.webdriver.chrome.service import Service\n",
    "from selenium.webdriver.support.ui import WebDriverWait\n",
    "from selenium.webdriver.support import expected_conditions as EC\n",
    "from selenium.webdriver.chrome.options import Options\n",
    "\n",
    "service = Service(ChromeDriverManager().install())\n",
    "driver = webdriver.Chrome(service=service)\n",
    "wait = WebDriverWait(driver, 10, poll_frequency=1)\n",
    "\n",
    "driver.get(\"https://demoqa.com/selectable\")\n",
    "\n",
    "ELEMENT_ONE = (\"xpath\", \"//li[text()='Cras justo odio']\")\n",
    "\n",
    "time.sleep(5)\n",
    "\n",
    "before = driver.find_element(*ELEMENT_ONE).get_attribute(\"class\")\n",
    "print(before)\n",
    "driver.find_element(*ELEMENT_ONE).click()\n",
    "\n",
    "after = driver.find_element(*ELEMENT_ONE).get_attribute(\"class\")\n",
    "print(after)\n",
    "assert 'active' in after\n",
    "\n",
    "if 'active' in after:\n",
    "    print(True, 'checkbox is delivered')\n",
    "\n",
    "time.sleep(3)"
   ]
  },
  {
   "cell_type": "markdown",
   "id": "d5ba07fa",
   "metadata": {},
   "source": [
    "#### RADIO_BUTTONS"
   ]
  },
  {
   "cell_type": "code",
   "execution_count": 11,
   "id": "e1923de2",
   "metadata": {},
   "outputs": [
    {
     "name": "stdout",
     "output_type": "stream",
     "text": [
      "False\n",
      "True\n",
      "False\n",
      "True\n"
     ]
    }
   ],
   "source": [
    "import os\n",
    "import time\n",
    "import pickle\n",
    "from selenium import webdriver\n",
    "from webdriver_manager.chrome import ChromeDriverManager\n",
    "from selenium.webdriver.chrome.service import Service\n",
    "from selenium.webdriver.support.ui import WebDriverWait\n",
    "from selenium.webdriver.support import expected_conditions as EC\n",
    "from selenium.webdriver.chrome.options import Options\n",
    "\n",
    "service = Service(ChromeDriverManager().install())\n",
    "driver = webdriver.Chrome(service=service)\n",
    "wait = WebDriverWait(driver, 10, poll_frequency=1)\n",
    "\n",
    "driver.get(\"https://demoqa.com/radio-button\")\n",
    "\n",
    "YES_RADIO_STATUS = (\"xpath\", \"//input[@id='yesRadio']\")\n",
    "YES_RADIO_ACTION = (\"xpath\", \"//label[@for='yesRadio']\")\n",
    "\n",
    "print(driver.find_element(*YES_RADIO_STATUS).is_selected())\n",
    "driver.find_element(*YES_RADIO_ACTION).click()\n",
    "print(driver.find_element(*YES_RADIO_STATUS).is_selected())\n",
    "\n",
    "time.sleep(3)\n",
    "\n",
    "\n",
    "driver.get(\"https://demoqa.com/radio-button\")\n",
    "\n",
    "NO_RADIO_STATUS = (\"xpath\", \"//input[@id='noRadio']\")\n",
    "NO_RADIO_ACTION = (\"xpath\", \"//label[@for='noRadio']\")\n",
    "\n",
    "print(driver.find_element(*NO_RADIO_STATUS).is_enabled())\n",
    "print(driver.find_element(*YES_RADIO_STATUS).is_enabled())\n",
    "\n",
    "time.sleep(3)"
   ]
  },
  {
   "cell_type": "markdown",
   "id": "a2f89e20",
   "metadata": {},
   "source": [
    "#### LESSON 16\n",
    "#### WORKING WITH DROPDOWN, MULTISELECT AND THE KEYBOARD"
   ]
  },
  {
   "cell_type": "markdown",
   "id": "ce0431af",
   "metadata": {},
   "source": [
    "#### DROPDOWN_1"
   ]
  },
  {
   "cell_type": "code",
   "execution_count": 12,
   "id": "8d8956e2",
   "metadata": {},
   "outputs": [],
   "source": [
    "import os\n",
    "import time\n",
    "import pickle\n",
    "from selenium import webdriver\n",
    "from webdriver_manager.chrome import ChromeDriverManager\n",
    "from selenium.webdriver.chrome.service import Service\n",
    "from selenium.webdriver.support.ui import WebDriverWait\n",
    "from selenium.webdriver.support import expected_conditions as EC\n",
    "from selenium.webdriver.chrome.options import Options\n",
    "from selenium.webdriver.support.select import Select\n",
    "\n",
    "service = Service(ChromeDriverManager().install())\n",
    "driver = webdriver.Chrome(service=service)\n",
    "wait = WebDriverWait(driver, 10, poll_frequency=1)\n",
    "\n",
    "driver.get(\"https://the-internet.herokuapp.com/dropdown\")\n",
    "\n",
    "SELECT_LOCATOR = (\"xpath\", \"//select[@id='dropdown']\")\n",
    "\n",
    "DROPDOWN = Select(driver.find_element(*SELECT_LOCATOR))\n",
    "time.sleep(3)\n",
    "DROPDOWN.select_by_visible_text('Option 1')\n",
    "time.sleep(3)\n",
    "\n",
    "\n",
    "driver.get(\"https://the-internet.herokuapp.com/dropdown\")\n",
    "\n",
    "SELECT_LOCATOR = (\"xpath\", \"//select[@id='dropdown']\")\n",
    "\n",
    "DROPDOWN = Select(driver.find_element(*SELECT_LOCATOR))\n",
    "time.sleep(3)\n",
    "DROPDOWN.select_by_value('2')\n",
    "time.sleep(3)\n",
    "\n",
    "\n",
    "driver.get(\"https://the-internet.herokuapp.com/dropdown\")\n",
    "\n",
    "SELECT_LOCATOR = (\"xpath\", \"//select[@id='dropdown']\")\n",
    "\n",
    "DROPDOWN = Select(driver.find_element(*SELECT_LOCATOR))\n",
    "time.sleep(3)\n",
    "DROPDOWN.select_by_index(1)\n",
    "time.sleep(3)"
   ]
  },
  {
   "cell_type": "markdown",
   "id": "7e165c79",
   "metadata": {},
   "source": [
    "#### DROPDOWN_2"
   ]
  },
  {
   "cell_type": "code",
   "execution_count": 14,
   "id": "05e5a7ca",
   "metadata": {},
   "outputs": [],
   "source": [
    "import os\n",
    "import time\n",
    "import pickle\n",
    "from selenium import webdriver\n",
    "from webdriver_manager.chrome import ChromeDriverManager\n",
    "from selenium.webdriver.chrome.service import Service\n",
    "from selenium.webdriver.support.ui import WebDriverWait\n",
    "from selenium.webdriver.support import expected_conditions as EC\n",
    "from selenium.webdriver.chrome.options import Options\n",
    "from selenium.webdriver.support.select import Select\n",
    "\n",
    "service = Service(ChromeDriverManager().install())\n",
    "driver = webdriver.Chrome(service=service)\n",
    "wait = WebDriverWait(driver, 10, poll_frequency=1)\n",
    "\n",
    "driver.get(\"https://the-internet.herokuapp.com/dropdown\")\n",
    "\n",
    "SELECT_LOCATOR = (\"xpath\", \"//select[@id='dropdown']\")\n",
    "\n",
    "DROPDOWN = Select(driver.find_element(*SELECT_LOCATOR))\n",
    "\n",
    "all_options = DROPDOWN.options\n",
    "# print(all_options)\n",
    "\n",
    "# for option in all_options:\n",
    "#     time.sleep(2)\n",
    "#     if 'Option 2' in option.text:\n",
    "#         print('option is available') \n",
    "#     DROPDOWN.select_by_visible_text(option.text)\n",
    "\n",
    "# time.sleep(3)\n",
    "\n",
    "# for option in all_options:\n",
    "#     time.sleep(2)\n",
    "#     DROPDOWN.select_by_index(all_options.index(option))\n",
    "\n",
    "# time.sleep(3)\n",
    "\n",
    "for option in all_options:\n",
    "    time.sleep(2)\n",
    "    DROPDOWN.select_by_value(option.get_attribute('value'))\n",
    "\n",
    "time.sleep(3)    "
   ]
  },
  {
   "cell_type": "markdown",
   "id": "5b548c1d",
   "metadata": {},
   "source": [
    "#### KEYBOARD"
   ]
  },
  {
   "cell_type": "code",
   "execution_count": 15,
   "id": "1c2fed5d",
   "metadata": {},
   "outputs": [],
   "source": [
    "import os\n",
    "import time\n",
    "import pickle\n",
    "from selenium import webdriver\n",
    "from webdriver_manager.chrome import ChromeDriverManager\n",
    "from selenium.webdriver.chrome.service import Service\n",
    "from selenium.webdriver.support.ui import WebDriverWait\n",
    "from selenium.webdriver.support import expected_conditions as EC\n",
    "from selenium.webdriver.chrome.options import Options\n",
    "from selenium.webdriver.support.select import Select\n",
    "from selenium.webdriver import Keys\n",
    "\n",
    "service = Service(ChromeDriverManager().install())\n",
    "driver = webdriver.Chrome(service=service)\n",
    "wait = WebDriverWait(driver, 10, poll_frequency=1)\n",
    "\n",
    "driver.get(\"https://the-internet.herokuapp.com/key_presses\")\n",
    "\n",
    "KEYBOARD_INPUT = (\"xpath\", \"//input[@id='target']\")\n",
    "\n",
    "# time.sleep(3)\n",
    "# driver.find_element(*KEYBOARD_INPUT).send_keys(Keys.ENTER)\n",
    "# time.sleep(3)\n",
    "\n",
    "time.sleep(3)\n",
    "driver.find_element(*KEYBOARD_INPUT).send_keys('Idrak Seyfullayev')\n",
    "time.sleep(1.5)\n",
    "driver.find_element(*KEYBOARD_INPUT).send_keys(Keys.CONTROL + \"A\")\n",
    "time.sleep(1.5)\n",
    "driver.find_element(*KEYBOARD_INPUT).send_keys(Keys.BACKSPACE)\n",
    "time.sleep(3)"
   ]
  },
  {
   "cell_type": "markdown",
   "id": "3febbd01",
   "metadata": {},
   "source": [
    "#### MULTISELECT_1"
   ]
  },
  {
   "cell_type": "code",
   "execution_count": 16,
   "id": "735a0153",
   "metadata": {},
   "outputs": [],
   "source": [
    "import os\n",
    "import time\n",
    "import pickle\n",
    "from selenium import webdriver\n",
    "from webdriver_manager.chrome import ChromeDriverManager\n",
    "from selenium.webdriver.chrome.service import Service\n",
    "from selenium.webdriver.support.ui import WebDriverWait\n",
    "from selenium.webdriver.support import expected_conditions as EC\n",
    "from selenium.webdriver.chrome.options import Options\n",
    "from selenium.webdriver.support.select import Select\n",
    "from selenium.webdriver import Keys\n",
    "\n",
    "service = Service(ChromeDriverManager().install())\n",
    "driver = webdriver.Chrome(service=service)\n",
    "wait = WebDriverWait(driver, 10, poll_frequency=1)\n",
    "\n",
    "driver.get(\"https://demoqa.com/select-menu\")\n",
    "\n",
    "SELECT_LOCATOR = (\"xpath\", \"//input[@id='react-select-3-input']\")\n",
    "\n",
    "time.sleep(1)\n",
    "driver.find_element(*SELECT_LOCATOR).send_keys(\"Ms.\")\n",
    "driver.find_element(*SELECT_LOCATOR).send_keys(Keys.ENTER)\n",
    "time.sleep(5)\n",
    "\n",
    "\n",
    "driver.get(\"https://demoqa.com/select-menu\")\n",
    "\n",
    "SELECT_ONE = (\"xpath\", \"//div[@id='selectOne']\")\n",
    "PROF_OPTION = (\"xpath\", \"//div[text()='Prof.']\")\n",
    "\n",
    "time.sleep(3)\n",
    "driver.find_element(*SELECT_ONE).click()\n",
    "time.sleep(3)\n",
    "driver.find_element(*PROF_OPTION).click()\n",
    "time.sleep(3)"
   ]
  },
  {
   "cell_type": "markdown",
   "id": "6a097cb5",
   "metadata": {},
   "source": [
    "#### MULTISELECT_2"
   ]
  },
  {
   "cell_type": "code",
   "execution_count": 17,
   "id": "e627b8ab",
   "metadata": {},
   "outputs": [],
   "source": [
    "import os\n",
    "import time\n",
    "import pickle\n",
    "from selenium import webdriver\n",
    "from webdriver_manager.chrome import ChromeDriverManager\n",
    "from selenium.webdriver.chrome.service import Service\n",
    "from selenium.webdriver.support.ui import WebDriverWait\n",
    "from selenium.webdriver.support import expected_conditions as EC\n",
    "from selenium.webdriver.chrome.options import Options\n",
    "from selenium.webdriver.support.select import Select\n",
    "from selenium.webdriver import Keys\n",
    "\n",
    "service = Service(ChromeDriverManager().install())\n",
    "driver = webdriver.Chrome(service=service)\n",
    "wait = WebDriverWait(driver, 10, poll_frequency=1)\n",
    "\n",
    "driver.get(\"https://demoqa.com/select-menu\")\n",
    "\n",
    "MULTISELECT_LOCATOR = (\"xpath\", \"//input[@id='react-select-4-input']\")\n",
    "\n",
    "# driver.find_element(*MULTISELECT_LOCATOR).send_keys('Green')\n",
    "# driver.find_element(*MULTISELECT_LOCATOR).send_keys(Keys.ENTER)\n",
    "\n",
    "# driver.find_element(*MULTISELECT_LOCATOR).send_keys('Gre')\n",
    "# time.sleep(3)\n",
    "# driver.find_element(*MULTISELECT_LOCATOR).send_keys(Keys.TAB)\n",
    "\n",
    "driver.find_element(*MULTISELECT_LOCATOR).send_keys('Green')\n",
    "driver.find_element(*MULTISELECT_LOCATOR).send_keys(Keys.ENTER)\n",
    "driver.find_element(*MULTISELECT_LOCATOR).send_keys('Black')\n",
    "driver.find_element(*MULTISELECT_LOCATOR).send_keys(Keys.ENTER)\n",
    "\n",
    "time.sleep(3)"
   ]
  },
  {
   "cell_type": "markdown",
   "id": "fdaf9c8a",
   "metadata": {},
   "source": [
    "#### LESSON 17\n",
    "#### WORKING WITH PROXY SERVER"
   ]
  },
  {
   "cell_type": "code",
   "execution_count": 18,
   "id": "2a4ecb1a",
   "metadata": {},
   "outputs": [],
   "source": [
    "import time\n",
    "\n",
    "from selenium import webdriver\n",
    "from selenium.webdriver.chrome.options import Options\n",
    "\n",
    "PROXY_SERVER = \"username:password@37.19.220.129:8443\"\n",
    "\n",
    "options = Options()\n",
    "options.add_argument(f\"--proxy-server={PROXY_SERVER}\")\n",
    "\n",
    "driver = webdriver.Chrome(options=options)\n",
    "\n",
    "driver.get(\"https://2ip.ru/\")   # 185.118.51.218\n",
    "\n",
    "time.sleep(5)"
   ]
  },
  {
   "cell_type": "markdown",
   "id": "8fac8f4d",
   "metadata": {},
   "source": [
    "#### LESSON 18\n",
    "#### WINDOWS_1"
   ]
  },
  {
   "cell_type": "code",
   "execution_count": 20,
   "id": "7130605c",
   "metadata": {},
   "outputs": [],
   "source": [
    "import time\n",
    "\n",
    "from selenium import webdriver\n",
    "from selenium.webdriver.chrome.options import Options\n",
    "\n",
    "options = Options()\n",
    "options.add_argument(\"--window-size=1920,1080\")\n",
    "driver = webdriver.Chrome(options=options)\n",
    "\n",
    "driver.get(\"https://hyperskill.org/tracks\")\n",
    "\n",
    "# Locators\n",
    "FOR_BUSINESS_BUTTON_LOCATOR = (\"xpath\", \"(//a[text()=' For Business '])\")\n",
    "START_FREE_BUTTON_LOCATOR = (\"xpath\", \"(//a[text()='Start for Free'])\")\n",
    "\n",
    "# time.sleep(5)\n",
    "# print(driver.current_window_handle)\n",
    "# print(driver.window_handles)\n",
    "\n",
    "time.sleep(3)\n",
    "\n",
    "driver.find_element(*FOR_BUSINESS_BUTTON_LOCATOR).click()\n",
    "time.sleep(3)\n",
    "\n",
    "tabs = driver.window_handles\n",
    "driver.switch_to.window(tabs[1])\n",
    "\n",
    "driver.find_element(*START_FREE_BUTTON_LOCATOR).click()\n",
    "time.sleep(3)\n",
    "\n",
    "driver.quit()"
   ]
  },
  {
   "cell_type": "markdown",
   "id": "776c7a9f",
   "metadata": {},
   "source": [
    "#### WINDOWS_2"
   ]
  },
  {
   "cell_type": "code",
   "execution_count": 22,
   "id": "c4b91362",
   "metadata": {},
   "outputs": [],
   "source": [
    "import time\n",
    "\n",
    "from selenium import webdriver\n",
    "from selenium.webdriver.chrome.options import Options\n",
    "\n",
    "options = Options()\n",
    "options.add_argument(\"--window-size=1920,1080\")\n",
    "driver = webdriver.Chrome(options=options)\n",
    "\n",
    "driver.get(\"https://hyperskill.org/tracks\")\n",
    "\n",
    "windows = driver.window_handles\n",
    "driver.switch_to.window(windows[1])\n",
    "\n",
    "driver.get(\"https://ya.ru\")\n",
    "time.sleep(3)\n",
    "\n",
    "driver.quit()"
   ]
  },
  {
   "cell_type": "markdown",
   "id": "42a5416e",
   "metadata": {},
   "source": [
    "#### WINDOWS_3"
   ]
  },
  {
   "cell_type": "code",
   "execution_count": 23,
   "id": "b2e1dc9d",
   "metadata": {},
   "outputs": [],
   "source": [
    "import time\n",
    "\n",
    "from selenium import webdriver\n",
    "from selenium.webdriver.chrome.options import Options\n",
    "\n",
    "options = Options()\n",
    "options.add_argument(\"--window-size=1920,1080\")\n",
    "driver = webdriver.Chrome(options=options)\n",
    "\n",
    "driver.get(\"https://hyperskill.org/tracks\")\n",
    "\n",
    "driver.switch_to.new_window(\"tab\")\n",
    "time.sleep(3)\n",
    "\n",
    "driver.switch_to.new_window(\"window\")\n",
    "driver.get(\"https://ya.ru\")\n",
    "time.sleep(5)\n",
    "driver.quit()"
   ]
  },
  {
   "cell_type": "markdown",
   "id": "c9f73b96",
   "metadata": {},
   "source": [
    "#### LESSON 19\n",
    "#### IMPLEMENTATION OF MULTIPLE USER WORK"
   ]
  },
  {
   "cell_type": "markdown",
   "id": "c869bf25",
   "metadata": {},
   "source": [
    "#### USER_WORK"
   ]
  },
  {
   "cell_type": "code",
   "execution_count": 25,
   "id": "5c934fc8",
   "metadata": {},
   "outputs": [],
   "source": [
    "import time\n",
    "\n",
    "from selenium import webdriver\n",
    "from selenium.webdriver.chrome.options import Options\n",
    "\n",
    "options = Options()\n",
    "options.add_argument(\"--window-size=1980,1080\")\n",
    "driver = webdriver.Chrome(options=options)\n",
    "\n",
    "driver.get(\"https://hyperskill.org/login\")\n",
    "\n",
    "LOGIN_FIELD = (\"xpath\", \"//input[@type='email']\")\n",
    "PASSWORD_FIELD = (\"xpath\", \"//input[@type='password']\")\n",
    "SUBMIT_BUTTON = (\"xpath\", \"//button[@type='submit']\")\n",
    "\n",
    "time.sleep(2)\n",
    "driver.find_element(*LOGIN_FIELD).send_keys(\"alekseik@ya.ru\")\n",
    "time.sleep(2)\n",
    "driver.find_element(*PASSWORD_FIELD).send_keys(\"Qwerty132!\")\n",
    "time.sleep(2)\n",
    "driver.find_element(*SUBMIT_BUTTON).click()\n",
    "time.sleep(5)\n",
    "\n",
    "driver.switch_to.new_window('window')\n",
    "driver.get(\"https://hyperskill.org/login\")\n",
    "time.sleep(5)\n",
    "\n",
    "driver.quit()"
   ]
  },
  {
   "cell_type": "markdown",
   "id": "70356f2d",
   "metadata": {},
   "source": [
    "#### MULTI_USER_WORK"
   ]
  },
  {
   "cell_type": "code",
   "execution_count": 30,
   "id": "611d013b",
   "metadata": {},
   "outputs": [],
   "source": [
    "import time\n",
    "\n",
    "from selenium import webdriver\n",
    "from selenium.webdriver.chrome.options import Options\n",
    "\n",
    "options = Options()\n",
    "options.add_argument(\"--window-size=1980,1080\")\n",
    "user_1 = webdriver.Chrome(options=options)\n",
    "\n",
    "user_1.get(\"https://hyperskill.org/login\")\n",
    "\n",
    "LOGIN_FIELD = (\"xpath\", \"//input[@type='email']\")\n",
    "PASSWORD_FIELD = (\"xpath\", \"//input[@type='password']\")\n",
    "SUBMIT_BUTTON = (\"xpath\", \"//button[@type='submit']\")\n",
    "\n",
    "time.sleep(2)\n",
    "user_1.find_element(*LOGIN_FIELD).send_keys(\"alekseik@ya.ru\")\n",
    "time.sleep(2)\n",
    "user_1.find_element(*PASSWORD_FIELD).send_keys(\"Qwerty132!\")\n",
    "time.sleep(2)\n",
    "user_1.find_element(*SUBMIT_BUTTON).click()\n",
    "time.sleep(7)\n",
    "user_1.close()\n",
    "\n",
    "user_2 = webdriver.Chrome(options=options)\n",
    "user_2.get(\"https://hyperskill.org/login\")\n",
    "time.sleep(5)\n",
    "\n",
    "user_2.quit()"
   ]
  },
  {
   "cell_type": "markdown",
   "id": "4e7080de",
   "metadata": {},
   "source": [
    "#### LESSON 20\n",
    "#### WORKING WITH IFRAMES"
   ]
  },
  {
   "cell_type": "markdown",
   "id": "708779c8",
   "metadata": {},
   "source": [
    "#### IFRAMES_1"
   ]
  },
  {
   "cell_type": "code",
   "execution_count": 1,
   "id": "6980ff5d",
   "metadata": {},
   "outputs": [],
   "source": [
    "import time\n",
    "\n",
    "from selenium import webdriver\n",
    "from selenium.webdriver.chrome.options import Options\n",
    "\n",
    "options = Options()\n",
    "options.add_argument(\"--window-size=1980,1080\")\n",
    "driver = webdriver.Chrome(options=options)\n",
    "\n",
    "driver.get(\"https://testautomationpractice.blogspot.com/\")\n",
    "\n",
    "FORM_NAME_FIELD_LOCATOR = (\"xpath\", \"//input[@id='RESULT_TextField-0']\")\n",
    "COPY_TEXT_LOCATOR = (\"xpath\", \"//button[text()='Copy Text']\")\n",
    "\n",
    "driver.switch_to.frame(\"frame-one796456169\")\n",
    "time.sleep(3)\n",
    "driver.find_element(*FORM_NAME_FIELD_LOCATOR).send_keys('Idrak')\n",
    "time.sleep(3)\n",
    "\n",
    "driver.switch_to.default_content()\n",
    "driver.find_element(*COPY_TEXT_LOCATOR).click()\n",
    "time.sleep(3)\n",
    "\n",
    "driver.quit()"
   ]
  },
  {
   "cell_type": "markdown",
   "id": "76eb6352",
   "metadata": {},
   "source": [
    "#### IFRAMES_2"
   ]
  },
  {
   "cell_type": "code",
   "execution_count": 2,
   "id": "5dc877fc",
   "metadata": {},
   "outputs": [],
   "source": [
    "import time\n",
    "\n",
    "from selenium import webdriver\n",
    "from selenium.webdriver.chrome.options import Options\n",
    "\n",
    "options = Options()\n",
    "options.add_argument(\"--window-size=1980,1080\")\n",
    "driver = webdriver.Chrome(options=options)\n",
    "\n",
    "driver.get(\"https://testautomationpractice.blogspot.com/\")\n",
    "\n",
    "FORM_NAME_FIELD_LOCATOR = (\"xpath\", \"//input[@id='RESULT_TextField-0']\")\n",
    "COPY_TEXT_LOCATOR = (\"xpath\", \"//button[text()='Copy Text']\")\n",
    "IFRAME_LOCATOR = (\"xpath\", \"//iframe[@id='frame-one796456169']\")\n",
    "\n",
    "iframe = driver.find_element(*IFRAME_LOCATOR)\n",
    "driver.switch_to.frame(iframe)\n",
    "time.sleep(3)\n",
    "driver.find_element(*FORM_NAME_FIELD_LOCATOR).send_keys('Idrak')\n",
    "time.sleep(3)\n",
    "\n",
    "driver.switch_to.default_content()\n",
    "driver.find_element(*COPY_TEXT_LOCATOR).click()\n",
    "time.sleep(3)\n",
    "\n",
    "driver.quit()"
   ]
  },
  {
   "cell_type": "markdown",
   "id": "897a6da8",
   "metadata": {},
   "source": [
    "#### IFRAME_3"
   ]
  },
  {
   "cell_type": "code",
   "execution_count": 3,
   "id": "449da89f",
   "metadata": {},
   "outputs": [
    {
     "name": "stdout",
     "output_type": "stream",
     "text": [
      "Parent frame\n",
      "Child Iframe\n",
      "Parent frame\n"
     ]
    }
   ],
   "source": [
    "import time\n",
    "\n",
    "from selenium import webdriver\n",
    "from selenium.webdriver.chrome.options import Options\n",
    "\n",
    "options = Options()\n",
    "options.add_argument(\"--window-size=1980,1080\")\n",
    "driver = webdriver.Chrome(options=options)\n",
    "\n",
    "driver.get(\"https://demoqa.com/nestedframes\")\n",
    "\n",
    "driver.switch_to.frame(\"frame1\")\n",
    "print(driver.find_element(by=\"xpath\", value=\"//body\").text)\n",
    "\n",
    "driver.switch_to.frame(0)\n",
    "print(driver.find_element(by=\"xpath\", value=\"//body\").text)\n",
    "\n",
    "driver.switch_to.parent_frame()\n",
    "print(driver.find_element(by=\"xpath\", value=\"//body\").text)\n",
    "\n",
    "driver.switch_to.default_content()\n",
    "\n",
    "driver.quit()"
   ]
  },
  {
   "cell_type": "markdown",
   "id": "4d5a13b0",
   "metadata": {},
   "source": [
    "#### LESSON 21\n",
    "#### ACTION_CHAINS PART_1"
   ]
  },
  {
   "cell_type": "markdown",
   "id": "200e1f9c",
   "metadata": {},
   "source": [
    "#### ACTIONS_1"
   ]
  },
  {
   "cell_type": "code",
   "execution_count": 4,
   "id": "debcd5f6",
   "metadata": {},
   "outputs": [],
   "source": [
    "import time\n",
    "\n",
    "from selenium import webdriver\n",
    "from selenium.webdriver.common.action_chains import ActionChains\n",
    "\n",
    "driver = webdriver.Chrome()\n",
    "action = ActionChains(driver)\n",
    "\n",
    "driver.get(\"https://testkru.com/Elements/Buttons\")\n",
    "\n",
    "LEFT_CLICK_BUTTON_LOCATOR = (\"xpath\", \"//button[@id='leftClick']\") \n",
    "DOUBLE_CLICK_BUTTON_LOCATOR = (\"xpath\", \"//button[@id='doubleClick']\")\n",
    "RIGHT_CLICK_BUTTON_LOCATOR = (\"xpath\", \"//button[@id='rightClick']\")\n",
    "\n",
    "left_button = driver.find_element(*LEFT_CLICK_BUTTON_LOCATOR)\n",
    "double_button = driver.find_element(*DOUBLE_CLICK_BUTTON_LOCATOR)\n",
    "right_button = driver.find_element(*RIGHT_CLICK_BUTTON_LOCATOR)\n",
    "\n",
    "time.sleep(2)\n",
    "action.click(on_element=left_button).perform()\n",
    "time.sleep(2)\n",
    "\n",
    "time.sleep(2)\n",
    "action.double_click(on_element=double_button).perform()\n",
    "time.sleep(2)\n",
    "\n",
    "time.sleep(2)\n",
    "action.context_click(on_element=right_button).perform()\n",
    "time.sleep(2)\n",
    "\n",
    "driver.quit()"
   ]
  },
  {
   "cell_type": "markdown",
   "id": "e1fe4c22",
   "metadata": {},
   "source": [
    "#### ACTION_CHAINS_1"
   ]
  },
  {
   "cell_type": "code",
   "execution_count": 5,
   "id": "8ee38422",
   "metadata": {},
   "outputs": [],
   "source": [
    "import time\n",
    "\n",
    "from selenium import webdriver\n",
    "from selenium.webdriver.common.action_chains import ActionChains\n",
    "\n",
    "driver = webdriver.Chrome()\n",
    "action = ActionChains(driver)\n",
    "\n",
    "driver.get(\"https://testkru.com/Elements/Buttons\")\n",
    "\n",
    "LEFT_CLICK_BUTTON_LOCATOR = (\"xpath\", \"//button[@id='leftClick']\") \n",
    "DOUBLE_CLICK_BUTTON_LOCATOR = (\"xpath\", \"//button[@id='doubleClick']\")\n",
    "RIGHT_CLICK_BUTTON_LOCATOR = (\"xpath\", \"//button[@id='rightClick']\")\n",
    "HOVER_BUTTON_LOCATOR = (\"xpath\", \"//button[@id='colorChangeOnHover']\")\n",
    "\n",
    "left_button = driver.find_element(*LEFT_CLICK_BUTTON_LOCATOR)\n",
    "double_button = driver.find_element(*DOUBLE_CLICK_BUTTON_LOCATOR)\n",
    "right_button = driver.find_element(*RIGHT_CLICK_BUTTON_LOCATOR)\n",
    "hover_button = driver.find_element(*HOVER_BUTTON_LOCATOR)\n",
    "\n",
    "time.sleep(2)\n",
    "\n",
    "# action.click(left_button).double_click(double_button).context_click(right_button).perform()\n",
    "action.click(left_button).pause(2).double_click(double_button).pause(2).context_click(right_button).perform()\n",
    "\n",
    "time.sleep(2)\n",
    "\n",
    "action.move_to_element(to_element=hover_button).perform()\n",
    "\n",
    "time.sleep(2)\n",
    "\n",
    "driver.quit()"
   ]
  },
  {
   "cell_type": "markdown",
   "id": "48ec80bc",
   "metadata": {},
   "source": [
    "#### ACTION_CHAINS_2"
   ]
  },
  {
   "cell_type": "code",
   "execution_count": 6,
   "id": "9ff5e66f",
   "metadata": {},
   "outputs": [],
   "source": [
    "import time\n",
    "\n",
    "from selenium import webdriver\n",
    "from selenium.webdriver.common.action_chains import ActionChains\n",
    "\n",
    "driver = webdriver.Chrome()\n",
    "action = ActionChains(driver)\n",
    "\n",
    "driver.get(\"https://demoqa.com/menu\")\n",
    "\n",
    "MENU_ITEM_2_LOCATOR = (\"xpath\", \"//a[text()='Main Item 2']\")\n",
    "SUB_LIST_LOCATOR = (\"xpath\", \"//a[text()='SUB SUB LIST »']\")\n",
    "SUB_SUB_ITEM_2_LOCATOR = (\"xpath\", \"//a[text()='Sub Sub Item 2']\")\n",
    "\n",
    "menu_item_2_button = driver.find_element(*MENU_ITEM_2_LOCATOR)\n",
    "sub_list_button = driver.find_element(*SUB_LIST_LOCATOR)\n",
    "sub_sub_item2_button = driver.find_element(*SUB_SUB_ITEM_2_LOCATOR)\n",
    "\n",
    "time.sleep(2)\n",
    "action.move_to_element(menu_item_2_button).pause(2) \\\n",
    "    .move_to_element(sub_list_button).pause(2) \\\n",
    "    .move_to_element(sub_sub_item2_button).perform()\n",
    "time.sleep(2)\n",
    "\n",
    "driver.quit()"
   ]
  },
  {
   "cell_type": "markdown",
   "id": "9165d1fd",
   "metadata": {},
   "source": [
    "#### LESSON 22\n",
    "#### ACTION_CHAINS PART_2"
   ]
  },
  {
   "cell_type": "markdown",
   "id": "532ea218",
   "metadata": {},
   "source": [
    "#### DRAG_AND_DROP_1"
   ]
  },
  {
   "cell_type": "code",
   "execution_count": 7,
   "id": "d9893073",
   "metadata": {},
   "outputs": [],
   "source": [
    "import time\n",
    "\n",
    "from selenium import webdriver\n",
    "from selenium.webdriver.common.action_chains import ActionChains\n",
    "\n",
    "driver = webdriver.Chrome()\n",
    "actions = ActionChains(driver)\n",
    "\n",
    "driver.get(\"https://the-internet.herokuapp.com/drag_and_drop\")\n",
    "\n",
    "COLUMN_A = (\"xpath\", \"//div[@id='column-a']\")\n",
    "COLUMN_B = (\"xpath\", \"//div[@id='column-b']\")\n",
    "\n",
    "A = driver.find_element(*COLUMN_A)\n",
    "B = driver.find_element(*COLUMN_B)\n",
    "\n",
    "time.sleep(2)\n",
    "actions.drag_and_drop(A, B).perform() # dont work this method\n",
    "time.sleep(2)\n",
    "\n",
    "driver.quit()"
   ]
  },
  {
   "cell_type": "markdown",
   "id": "c8bb4409",
   "metadata": {},
   "source": [
    "#### DRAG_AND_DROP_2"
   ]
  },
  {
   "cell_type": "code",
   "execution_count": 10,
   "id": "921d76c5",
   "metadata": {},
   "outputs": [],
   "source": [
    "import time\n",
    "\n",
    "from selenium import webdriver\n",
    "from selenium.webdriver.common.action_chains import ActionChains\n",
    "\n",
    "driver = webdriver.Chrome()\n",
    "actions = ActionChains(driver)\n",
    "\n",
    "driver.get(\"https://tympanus.net/Development/DragDropInteractions/sidebar.html\")\n",
    "\n",
    "GRID_ITEM = (\"xpath\", \"(//div[@class='grid__item'])[3]\")\n",
    "SIDE_BAR_ITEM = (\"xpath\", \"(//div[@class='drop-area__item'])[3]\")\n",
    "\n",
    "actions.click_and_hold(driver.find_element(*GRID_ITEM)) \\\n",
    "                        .pause(1.5) \\\n",
    "                        .move_to_element(driver.find_element(*SIDE_BAR_ITEM)) \\\n",
    "                        .release() \\\n",
    "                        .perform()\n",
    "\n",
    "time.sleep(5)\n",
    "\n",
    "driver.quit()"
   ]
  },
  {
   "cell_type": "markdown",
   "id": "da6543d6",
   "metadata": {},
   "source": [
    "#### LESSON 23\n",
    "#### USING JAVASCRIPT AND SCROLLING"
   ]
  },
  {
   "cell_type": "markdown",
   "id": "4d739af8",
   "metadata": {},
   "source": [
    "#### JS_1"
   ]
  },
  {
   "cell_type": "code",
   "execution_count": 13,
   "id": "ff770145",
   "metadata": {},
   "outputs": [],
   "source": [
    "import time\n",
    "\n",
    "from selenium import webdriver\n",
    "from selenium.webdriver.common.action_chains import ActionChains\n",
    "\n",
    "driver = webdriver.Chrome()\n",
    "actions = ActionChains(driver)\n",
    "\n",
    "driver.get(\"https://seiyria.com/bootstrap-slider/\")\n",
    "\n",
    "driver.execute_script(\"alert('Hello')\")\n",
    "\n",
    "time.sleep(5)\n",
    "\n",
    "driver.quit()"
   ]
  },
  {
   "cell_type": "markdown",
   "id": "c6f5a8fe",
   "metadata": {},
   "source": [
    "#### JS_2"
   ]
  },
  {
   "cell_type": "code",
   "execution_count": 14,
   "id": "f1c6fbbb",
   "metadata": {},
   "outputs": [],
   "source": [
    "import time\n",
    "\n",
    "from selenium import webdriver\n",
    "from selenium.webdriver.common.action_chains import ActionChains\n",
    "\n",
    "driver = webdriver.Chrome()\n",
    "actions = ActionChains(driver)\n",
    "\n",
    "driver.get(\"https://seiyria.com/bootstrap-slider/\")\n",
    "\n",
    "EX_2_LOCATOR = (\"xpath\", \"//h3[text()='Example 2: ']\")\n",
    "ex_2 = driver.find_element(*EX_2_LOCATOR)\n",
    "\n",
    "actions.scroll_to_element(ex_2).perform()\n",
    "\n",
    "time.sleep(5)\n",
    "\n",
    "driver.quit()"
   ]
  },
  {
   "cell_type": "markdown",
   "id": "065a5274",
   "metadata": {},
   "source": [
    "#### JS_3"
   ]
  },
  {
   "cell_type": "code",
   "execution_count": 20,
   "id": "f62d6b1d",
   "metadata": {},
   "outputs": [],
   "source": [
    "import time\n",
    "\n",
    "from selenium import webdriver\n",
    "from selenium.webdriver.common.action_chains import ActionChains\n",
    "\n",
    "class Scrolls:\n",
    "\n",
    "    def __init__(self, driver, action):\n",
    "        self.driver = driver\n",
    "        self.action = action\n",
    "\n",
    "    def scroll_by(self, x, y):\n",
    "        self.driver.execute_script(f\"window.scrollTo({x}, {y})\")\n",
    "\n",
    "    def scroll_to_bottom(self):\n",
    "        self.driver.execute_script(\"window.scrollTo(0, document.body.scrollHeight)\")\n",
    "\n",
    "    def scroll_to_top(self):\n",
    "        self.driver.execute_script(\"window.scrollTo(0, 0)\")\n",
    "\n",
    "    def scroll_to_element(self, element):\n",
    "        self.action.scroll_to_element(element).perform()\n",
    "        self.driver.execute_script(\"\"\"\n",
    "        window.scrollTo({\n",
    "            top: window.scrollY + 500,\n",
    "        });\n",
    "        \"\"\")\n",
    "        \n",
    "driver = webdriver.Chrome()\n",
    "actions = ActionChains(driver)\n",
    "scrolls = Scrolls(driver, actions)\n",
    "\n",
    "driver.get(\"https://seiyria.com/bootstrap-slider/\")\n",
    "\n",
    "EX_2_LOCATOR = (\"xpath\", \"//h3[text()='Example 2: ']\")\n",
    "ex_2 = driver.find_element(*EX_2_LOCATOR)\n",
    "\n",
    "scrolls.scroll_to_element(ex_2)\n",
    "time.sleep(2)\n",
    "scrolls.scroll_to_top()\n",
    "time.sleep(2)\n",
    "scrolls.scroll_to_bottom()\n",
    "\n",
    "time.sleep(5)\n",
    "\n",
    "driver.quit()"
   ]
  },
  {
   "cell_type": "markdown",
   "id": "5dc95e28",
   "metadata": {},
   "source": [
    "#### LESSON 24\n",
    "#### BROWSER EXTENSIONS"
   ]
  },
  {
   "cell_type": "code",
   "execution_count": null,
   "id": "4b36bf35",
   "metadata": {},
   "outputs": [],
   "source": []
  }
 ],
 "metadata": {
  "kernelspec": {
   "display_name": "Python 3 (ipykernel)",
   "language": "python",
   "name": "python3"
  },
  "language_info": {
   "codemirror_mode": {
    "name": "ipython",
    "version": 3
   },
   "file_extension": ".py",
   "mimetype": "text/x-python",
   "name": "python",
   "nbconvert_exporter": "python",
   "pygments_lexer": "ipython3",
   "version": "3.11.5"
  }
 },
 "nbformat": 4,
 "nbformat_minor": 5
}
