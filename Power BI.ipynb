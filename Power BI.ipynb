{
 "cells": [
  {
   "cell_type": "markdown",
   "id": "bb26aa41",
   "metadata": {},
   "source": [
    "Week 1\n",
    "Class: https://youtu.be/6i2IR4DIql0 \n",
    "Case study https://youtu.be/wMaod2FgYS8 \n",
    "\n",
    " Week 2\n",
    "Class: https://youtu.be/F7lxUteSfZk \n",
    "Case study: https://youtu.be/LH3RudnyW6A \n",
    "\n",
    " Week 3\n",
    "Class: https://youtu.be/w-aICdFZEpM \n",
    "Case study: https://youtu.be/ABmCKMs1FuI \n",
    "\n",
    " Week 4\n",
    "Class: https://youtu.be/FaU27nFp_Ew \n",
    "Case study: https://youtu.be/Em50qidOm6k"
   ]
  },
  {
   "cell_type": "code",
   "execution_count": null,
   "id": "20098024",
   "metadata": {},
   "outputs": [],
   "source": []
  }
 ],
 "metadata": {
  "kernelspec": {
   "display_name": "Python 3 (ipykernel)",
   "language": "python",
   "name": "python3"
  },
  "language_info": {
   "codemirror_mode": {
    "name": "ipython",
    "version": 3
   },
   "file_extension": ".py",
   "mimetype": "text/x-python",
   "name": "python",
   "nbconvert_exporter": "python",
   "pygments_lexer": "ipython3",
   "version": "3.11.5"
  }
 },
 "nbformat": 4,
 "nbformat_minor": 5
}
