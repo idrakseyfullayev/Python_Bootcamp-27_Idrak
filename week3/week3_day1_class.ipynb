{
 "cells": [
  {
   "cell_type": "code",
   "execution_count": 5,
   "id": "dd4c226c",
   "metadata": {},
   "outputs": [],
   "source": [
    "class Student:\n",
    "    name = \"Tamerlan\""
   ]
  },
  {
   "cell_type": "code",
   "execution_count": 6,
   "id": "6874b2e2",
   "metadata": {},
   "outputs": [],
   "source": [
    "s1 = Student()\n",
    "s2 = Student()"
   ]
  },
  {
   "cell_type": "code",
   "execution_count": 7,
   "id": "52b401c1",
   "metadata": {},
   "outputs": [
    {
     "data": {
      "text/plain": [
       "<__main__.Student at 0x245fb04c90>"
      ]
     },
     "execution_count": 7,
     "metadata": {},
     "output_type": "execute_result"
    }
   ],
   "source": [
    "s1"
   ]
  },
  {
   "cell_type": "code",
   "execution_count": 8,
   "id": "2388c76a",
   "metadata": {},
   "outputs": [
    {
     "data": {
      "text/plain": [
       "<__main__.Student at 0x246175f8d0>"
      ]
     },
     "execution_count": 8,
     "metadata": {},
     "output_type": "execute_result"
    }
   ],
   "source": [
    "s2"
   ]
  },
  {
   "cell_type": "code",
   "execution_count": 9,
   "id": "06467ce1",
   "metadata": {},
   "outputs": [],
   "source": [
    "class Student:\n",
    "    vetendasliq = \"Az\""
   ]
  },
  {
   "cell_type": "code",
   "execution_count": 10,
   "id": "f33d3193",
   "metadata": {},
   "outputs": [
    {
     "data": {
      "text/plain": [
       "{'hello': 'hello', 'salam': 'salam'}"
      ]
     },
     "execution_count": 10,
     "metadata": {},
     "output_type": "execute_result"
    }
   ],
   "source": [
    "s1.hello = \"hello\"\n",
    "s1.salam = \"salam\"\n",
    "s1.__dict__"
   ]
  },
  {
   "cell_type": "code",
   "execution_count": 11,
   "id": "963d792a",
   "metadata": {},
   "outputs": [
    {
     "data": {
      "text/plain": [
       "'hello'"
      ]
     },
     "execution_count": 11,
     "metadata": {},
     "output_type": "execute_result"
    }
   ],
   "source": [
    "s1.hello"
   ]
  },
  {
   "cell_type": "code",
   "execution_count": 31,
   "id": "c4e64c42",
   "metadata": {},
   "outputs": [],
   "source": [
    "class Student:\n",
    "    vetendasliq = \"Az\"\n",
    "    def __init__(self, name, surname):\n",
    "        self.name = name\n",
    "        self.surname = surname"
   ]
  },
  {
   "cell_type": "code",
   "execution_count": 32,
   "id": "b0afd4dd",
   "metadata": {},
   "outputs": [
    {
     "data": {
      "text/plain": [
       "'Parviz'"
      ]
     },
     "execution_count": 32,
     "metadata": {},
     "output_type": "execute_result"
    }
   ],
   "source": [
    "s1 = Student(\"Parviz\", \"Babayev\")\n",
    "s1.name"
   ]
  },
  {
   "cell_type": "code",
   "execution_count": 33,
   "id": "5386fc3c",
   "metadata": {},
   "outputs": [],
   "source": [
    "class Student:\n",
    "    vetendasliq = \"Az\"\n",
    "    def __init__(self, name, surname):\n",
    "        self.ad = name\n",
    "        self.familiya = surname"
   ]
  },
  {
   "cell_type": "code",
   "execution_count": 34,
   "id": "debe27d9",
   "metadata": {},
   "outputs": [
    {
     "ename": "AttributeError",
     "evalue": "'Student' object has no attribute 'name'",
     "output_type": "error",
     "traceback": [
      "\u001b[1;31m---------------------------------------------------------------------------\u001b[0m",
      "\u001b[1;31mAttributeError\u001b[0m                            Traceback (most recent call last)",
      "Cell \u001b[1;32mIn[34], line 2\u001b[0m\n\u001b[0;32m      1\u001b[0m s1 \u001b[38;5;241m=\u001b[39m Student(\u001b[38;5;124m\"\u001b[39m\u001b[38;5;124mParviz\u001b[39m\u001b[38;5;124m\"\u001b[39m, \u001b[38;5;124m\"\u001b[39m\u001b[38;5;124mBabayev\u001b[39m\u001b[38;5;124m\"\u001b[39m)\n\u001b[1;32m----> 2\u001b[0m s1\u001b[38;5;241m.\u001b[39mname\n",
      "\u001b[1;31mAttributeError\u001b[0m: 'Student' object has no attribute 'name'"
     ]
    }
   ],
   "source": [
    "s1 = Student(\"Parviz\", \"Babayev\")\n",
    "s1.name"
   ]
  },
  {
   "cell_type": "code",
   "execution_count": 35,
   "id": "272129fb",
   "metadata": {},
   "outputs": [
    {
     "data": {
      "text/plain": [
       "'Parviz'"
      ]
     },
     "execution_count": 35,
     "metadata": {},
     "output_type": "execute_result"
    }
   ],
   "source": [
    "s1.ad"
   ]
  },
  {
   "cell_type": "code",
   "execution_count": 36,
   "id": "c46ff5b6",
   "metadata": {},
   "outputs": [
    {
     "data": {
      "text/plain": [
       "'Az'"
      ]
     },
     "execution_count": 36,
     "metadata": {},
     "output_type": "execute_result"
    }
   ],
   "source": [
    "s1.vetendasliq"
   ]
  },
  {
   "cell_type": "code",
   "execution_count": 65,
   "id": "5400b2fd",
   "metadata": {},
   "outputs": [],
   "source": [
    "class Student:\n",
    "    vetendasliq = \"Az\"\n",
    "    def __init__(self, name, surname, year):\n",
    "        self.name = name\n",
    "        self.surname = surname\n",
    "        self.year = year\n",
    "     \n",
    "    def get_age(self, now=2023):\n",
    "        return now - self.year\n",
    "    \n",
    "    def get_fullname(self):\n",
    "        return self.name + ' ' + self.surname\n",
    "    "
   ]
  },
  {
   "cell_type": "code",
   "execution_count": 66,
   "id": "7ebe836b",
   "metadata": {},
   "outputs": [],
   "source": [
    "s1 = Student(\"Parviz\", \"Babayev\", 1987)"
   ]
  },
  {
   "cell_type": "code",
   "execution_count": 67,
   "id": "d2524a34",
   "metadata": {},
   "outputs": [
    {
     "data": {
      "text/plain": [
       "36"
      ]
     },
     "execution_count": 67,
     "metadata": {},
     "output_type": "execute_result"
    }
   ],
   "source": [
    "s1.get_age()"
   ]
  },
  {
   "cell_type": "code",
   "execution_count": 68,
   "id": "5b85b2a5",
   "metadata": {},
   "outputs": [
    {
     "data": {
      "text/plain": [
       "'Parviz Babayev'"
      ]
     },
     "execution_count": 68,
     "metadata": {},
     "output_type": "execute_result"
    }
   ],
   "source": [
    "s1.get_fullname()"
   ]
  },
  {
   "cell_type": "markdown",
   "id": "e11ff793",
   "metadata": {},
   "source": [
    "### INHERITANCE"
   ]
  },
  {
   "cell_type": "code",
   "execution_count": 171,
   "id": "7fbc7468",
   "metadata": {},
   "outputs": [],
   "source": [
    "class Human:\n",
    "    def __init__(self, name, surname, year):\n",
    "        self.name = name\n",
    "        self.surname = surname\n",
    "        self.year = year\n",
    "        \n",
    "    from datetime import datetime    \n",
    "    def get_age(self, now=datetime.now().year):\n",
    "        return now - self.year\n",
    "    \n",
    "    def get_fullname(self):\n",
    "        return self.name + ' ' + self.surname    "
   ]
  },
  {
   "cell_type": "code",
   "execution_count": 172,
   "id": "bc80f875",
   "metadata": {},
   "outputs": [],
   "source": [
    "class Teacher(Human):\n",
    "    def __init__(self, name, surname, year, education):\n",
    "#          Human.__init__(self, name, surname, year)\n",
    "        super().__init__(name, surname, year)\n",
    "        self.education = education\n",
    "    \n",
    "    def get_education(self):\n",
    "        return self.education"
   ]
  },
  {
   "cell_type": "code",
   "execution_count": 173,
   "id": "6326a7d6",
   "metadata": {},
   "outputs": [],
   "source": [
    "t1 = Teacher(\"Pakize\", \"Hesenova\", 1997, \"Master\")"
   ]
  },
  {
   "cell_type": "code",
   "execution_count": 174,
   "id": "9ef40edf",
   "metadata": {},
   "outputs": [
    {
     "data": {
      "text/plain": [
       "{'name': 'Pakize', 'surname': 'Hesenova', 'year': 1997, 'education': 'Master'}"
      ]
     },
     "execution_count": 174,
     "metadata": {},
     "output_type": "execute_result"
    }
   ],
   "source": [
    "t1.__dict__"
   ]
  },
  {
   "cell_type": "code",
   "execution_count": 175,
   "id": "27343ebe",
   "metadata": {},
   "outputs": [
    {
     "name": "stdout",
     "output_type": "stream",
     "text": [
      "27\n",
      "Master\n"
     ]
    }
   ],
   "source": [
    "print(t1.get_age())\n",
    "print(t1.get_education())"
   ]
  },
  {
   "cell_type": "code",
   "execution_count": 176,
   "id": "981c44da",
   "metadata": {},
   "outputs": [],
   "source": [
    "class Student(Teacher):\n",
    "    def __init__(self, name, surname, year, education, score):\n",
    "        # Human.__init__(self, name, surname, year)\n",
    "        super().__init__(name, surname, year, education)\n",
    "        self.score = score"
   ]
  },
  {
   "cell_type": "code",
   "execution_count": 177,
   "id": "5b26f518",
   "metadata": {},
   "outputs": [],
   "source": [
    "s1 = Student(\"Bilal\", \"Novruzlu\", 1997, \"Master\", 99)"
   ]
  },
  {
   "cell_type": "code",
   "execution_count": 178,
   "id": "b5243278",
   "metadata": {},
   "outputs": [
    {
     "data": {
      "text/plain": [
       "'Master'"
      ]
     },
     "execution_count": 178,
     "metadata": {},
     "output_type": "execute_result"
    }
   ],
   "source": [
    "s1.get_education()"
   ]
  },
  {
   "cell_type": "code",
   "execution_count": 179,
   "id": "337a1ca0",
   "metadata": {},
   "outputs": [
    {
     "data": {
      "text/plain": [
       "<__main__.Student at 0x24678915d0>"
      ]
     },
     "execution_count": 179,
     "metadata": {},
     "output_type": "execute_result"
    }
   ],
   "source": [
    "s1"
   ]
  },
  {
   "cell_type": "code",
   "execution_count": 180,
   "id": "fb47822e",
   "metadata": {},
   "outputs": [
    {
     "data": {
      "text/plain": [
       "{'name': 'Bilal',\n",
       " 'surname': 'Novruzlu',\n",
       " 'year': 1997,\n",
       " 'education': 'Master',\n",
       " 'score': 99}"
      ]
     },
     "execution_count": 180,
     "metadata": {},
     "output_type": "execute_result"
    }
   ],
   "source": [
    "s1.__dict__"
   ]
  },
  {
   "cell_type": "markdown",
   "id": "9b41868c",
   "metadata": {},
   "source": [
    "### ENCAPSULATION"
   ]
  },
  {
   "cell_type": "code",
   "execution_count": 2,
   "id": "83113eb2",
   "metadata": {},
   "outputs": [],
   "source": [
    "class Kettle:\n",
    "    def start(self):\n",
    "        print(self.__check_temprature())\n",
    "        print(self._turn_of())\n",
    "    def __check_temprature(self):\n",
    "        return \"check\"\n",
    "    def _turn_of(self):\n",
    "        return \"turn of\""
   ]
  },
  {
   "cell_type": "code",
   "execution_count": 3,
   "id": "4dcf69f1",
   "metadata": {},
   "outputs": [],
   "source": [
    "k1 = Kettle()"
   ]
  },
  {
   "cell_type": "code",
   "execution_count": 4,
   "id": "e908e88e",
   "metadata": {},
   "outputs": [
    {
     "name": "stdout",
     "output_type": "stream",
     "text": [
      "check\n",
      "turn of\n"
     ]
    }
   ],
   "source": [
    "k1.start()"
   ]
  },
  {
   "cell_type": "code",
   "execution_count": 5,
   "id": "894695bb",
   "metadata": {},
   "outputs": [
    {
     "ename": "AttributeError",
     "evalue": "'Kettle' object has no attribute '__check_temprature'",
     "output_type": "error",
     "traceback": [
      "\u001b[1;31m---------------------------------------------------------------------------\u001b[0m",
      "\u001b[1;31mAttributeError\u001b[0m                            Traceback (most recent call last)",
      "Cell \u001b[1;32mIn[5], line 1\u001b[0m\n\u001b[1;32m----> 1\u001b[0m k1\u001b[38;5;241m.\u001b[39m__check_temprature()\n",
      "\u001b[1;31mAttributeError\u001b[0m: 'Kettle' object has no attribute '__check_temprature'"
     ]
    }
   ],
   "source": [
    "k1.__check_temprature()"
   ]
  },
  {
   "cell_type": "code",
   "execution_count": 6,
   "id": "f3c1e054",
   "metadata": {},
   "outputs": [
    {
     "data": {
      "text/plain": [
       "'turn of'"
      ]
     },
     "execution_count": 6,
     "metadata": {},
     "output_type": "execute_result"
    }
   ],
   "source": [
    "k1._turn_of()"
   ]
  },
  {
   "cell_type": "code",
   "execution_count": 13,
   "id": "c554f834",
   "metadata": {},
   "outputs": [
    {
     "name": "stdout",
     "output_type": "stream",
     "text": [
      "check\n",
      "turn of\n"
     ]
    }
   ],
   "source": [
    "Kettle.start(k1)"
   ]
  },
  {
   "cell_type": "code",
   "execution_count": 14,
   "id": "634a934e",
   "metadata": {},
   "outputs": [
    {
     "data": {
      "text/plain": [
       "'turn of'"
      ]
     },
     "execution_count": 14,
     "metadata": {},
     "output_type": "execute_result"
    }
   ],
   "source": [
    "Kettle._turn_of(k1)"
   ]
  },
  {
   "cell_type": "code",
   "execution_count": 15,
   "id": "21f328d2",
   "metadata": {},
   "outputs": [
    {
     "ename": "AttributeError",
     "evalue": "type object 'Kettle' has no attribute '__check_temprature'",
     "output_type": "error",
     "traceback": [
      "\u001b[1;31m---------------------------------------------------------------------------\u001b[0m",
      "\u001b[1;31mAttributeError\u001b[0m                            Traceback (most recent call last)",
      "Cell \u001b[1;32mIn[15], line 1\u001b[0m\n\u001b[1;32m----> 1\u001b[0m Kettle\u001b[38;5;241m.\u001b[39m__check_temprature()\n",
      "\u001b[1;31mAttributeError\u001b[0m: type object 'Kettle' has no attribute '__check_temprature'"
     ]
    }
   ],
   "source": [
    "Kettle.__check_temprature()"
   ]
  },
  {
   "cell_type": "markdown",
   "id": "6e1a4265",
   "metadata": {},
   "source": [
    "### POLYMORPHIZM"
   ]
  },
  {
   "cell_type": "code",
   "execution_count": 22,
   "id": "b40a015b",
   "metadata": {},
   "outputs": [],
   "source": [
    "class Teacher:\n",
    "    def __init__(self, education):\n",
    "        self.education = education\n",
    "    \n",
    "    def get_education(self):\n",
    "        return f\"{self.education} class\"\n",
    "    \n",
    "class Student(Teacher):\n",
    "    def __init__(self, education, score):\n",
    "        super().__init__(education)\n",
    "        self.score = score\n",
    "        \n",
    "    def get_education(self):\n",
    "        return f\"{self.education} doctor\""
   ]
  },
  {
   "cell_type": "code",
   "execution_count": 23,
   "id": "570477ce",
   "metadata": {},
   "outputs": [],
   "source": [
    "s1 = Student(\"Master\", 99)"
   ]
  },
  {
   "cell_type": "code",
   "execution_count": 24,
   "id": "0876df6a",
   "metadata": {},
   "outputs": [
    {
     "data": {
      "text/plain": [
       "'Master doctor'"
      ]
     },
     "execution_count": 24,
     "metadata": {},
     "output_type": "execute_result"
    }
   ],
   "source": [
    "s1.get_education()"
   ]
  },
  {
   "cell_type": "markdown",
   "id": "c9be6c7b",
   "metadata": {},
   "source": [
    "### ABSTRACTION"
   ]
  },
  {
   "cell_type": "code",
   "execution_count": 61,
   "id": "dfeed217",
   "metadata": {},
   "outputs": [],
   "source": [
    "from abc import abstractclassmethod, ABC"
   ]
  },
  {
   "cell_type": "code",
   "execution_count": 62,
   "id": "227f8775",
   "metadata": {},
   "outputs": [],
   "source": [
    "class Vechile(ABC):\n",
    "    def __init__(self, speed, year):\n",
    "        self.speed = speed\n",
    "        self.year = year\n",
    "    \n",
    "    def start(self):\n",
    "        print('start')\n",
    "    \n",
    "    def stop(self):\n",
    "        print('stop')\n",
    "    \n",
    "    @abstractclassmethod\n",
    "    def drive(self):\n",
    "        pass\n",
    "    \n",
    "class Car(Vehicle):\n",
    "    def __init__(self, speed, year, lim):\n",
    "        super().__init__(speed, year)\n",
    "        self.lim = lim\n",
    "        \n",
    "    def drive(self):\n",
    "        print('drive')\n",
    "        "
   ]
  },
  {
   "cell_type": "code",
   "execution_count": 63,
   "id": "15f263b7",
   "metadata": {},
   "outputs": [],
   "source": [
    "c = Car(5, 30, 1990)"
   ]
  },
  {
   "cell_type": "code",
   "execution_count": 64,
   "id": "90fad945",
   "metadata": {},
   "outputs": [
    {
     "name": "stdout",
     "output_type": "stream",
     "text": [
      "drive\n"
     ]
    }
   ],
   "source": [
    "c.drive()"
   ]
  },
  {
   "cell_type": "code",
   "execution_count": 103,
   "id": "4f4848e4",
   "metadata": {},
   "outputs": [
    {
     "data": {
      "text/plain": [
       "'test'"
      ]
     },
     "execution_count": 103,
     "metadata": {},
     "output_type": "execute_result"
    }
   ],
   "source": [
    "class Test:\n",
    "    def test():\n",
    "        return 'test'\n",
    "Test.test()"
   ]
  },
  {
   "cell_type": "code",
   "execution_count": 104,
   "id": "21a61d3e",
   "metadata": {},
   "outputs": [
    {
     "ename": "TypeError",
     "evalue": "Test.test() takes 0 positional arguments but 1 was given",
     "output_type": "error",
     "traceback": [
      "\u001b[1;31m---------------------------------------------------------------------------\u001b[0m",
      "\u001b[1;31mTypeError\u001b[0m                                 Traceback (most recent call last)",
      "Cell \u001b[1;32mIn[104], line 2\u001b[0m\n\u001b[0;32m      1\u001b[0m g1 \u001b[38;5;241m=\u001b[39m Test()\n\u001b[1;32m----> 2\u001b[0m g1\u001b[38;5;241m.\u001b[39mtest()\n",
      "\u001b[1;31mTypeError\u001b[0m: Test.test() takes 0 positional arguments but 1 was given"
     ]
    }
   ],
   "source": [
    "g1 = Test()\n",
    "g1.test()"
   ]
  },
  {
   "cell_type": "code",
   "execution_count": 105,
   "id": "89557098",
   "metadata": {},
   "outputs": [],
   "source": [
    "class Test:\n",
    "    def test(self):\n",
    "        return 'test'"
   ]
  },
  {
   "cell_type": "code",
   "execution_count": 106,
   "id": "3db7299d",
   "metadata": {},
   "outputs": [
    {
     "ename": "TypeError",
     "evalue": "Test.test() missing 1 required positional argument: 'self'",
     "output_type": "error",
     "traceback": [
      "\u001b[1;31m---------------------------------------------------------------------------\u001b[0m",
      "\u001b[1;31mTypeError\u001b[0m                                 Traceback (most recent call last)",
      "Cell \u001b[1;32mIn[106], line 1\u001b[0m\n\u001b[1;32m----> 1\u001b[0m Test\u001b[38;5;241m.\u001b[39mtest()\n",
      "\u001b[1;31mTypeError\u001b[0m: Test.test() missing 1 required positional argument: 'self'"
     ]
    }
   ],
   "source": [
    "Test.test()"
   ]
  },
  {
   "cell_type": "code",
   "execution_count": 107,
   "id": "3d273fdf",
   "metadata": {},
   "outputs": [
    {
     "data": {
      "text/plain": [
       "'test'"
      ]
     },
     "execution_count": 107,
     "metadata": {},
     "output_type": "execute_result"
    }
   ],
   "source": [
    "t1 = Test()\n",
    "Test.test(t1)"
   ]
  },
  {
   "cell_type": "code",
   "execution_count": 112,
   "id": "07176c14",
   "metadata": {},
   "outputs": [
    {
     "data": {
      "text/plain": [
       "'class method'"
      ]
     },
     "execution_count": 112,
     "metadata": {},
     "output_type": "execute_result"
    }
   ],
   "source": [
    "class Test:\n",
    "    \n",
    "    @classmethod\n",
    "    def class_method(cls):\n",
    "        return \"class method\"\n",
    "    \n",
    "Test.class_method()    "
   ]
  },
  {
   "cell_type": "code",
   "execution_count": 113,
   "id": "2bc836ce",
   "metadata": {},
   "outputs": [
    {
     "data": {
      "text/plain": [
       "__main__.Test"
      ]
     },
     "execution_count": 113,
     "metadata": {},
     "output_type": "execute_result"
    }
   ],
   "source": [
    "class Test:\n",
    "    \n",
    "    @classmethod\n",
    "    def class_method(cls):\n",
    "        return cls\n",
    "    \n",
    "Test.class_method()  "
   ]
  },
  {
   "cell_type": "code",
   "execution_count": 116,
   "id": "571ecd45",
   "metadata": {},
   "outputs": [
    {
     "data": {
      "text/plain": [
       "'Az'"
      ]
     },
     "execution_count": 116,
     "metadata": {},
     "output_type": "execute_result"
    }
   ],
   "source": [
    "class Test:\n",
    "    \n",
    "    vetendasliq = \"Az\"\n",
    "    \n",
    "    @classmethod\n",
    "    def class_method(cls):\n",
    "        return cls.vetendasliq\n",
    "    \n",
    "Test.class_method() "
   ]
  },
  {
   "cell_type": "code",
   "execution_count": 118,
   "id": "bdc25f54",
   "metadata": {},
   "outputs": [],
   "source": [
    "t1 = Test()"
   ]
  },
  {
   "cell_type": "code",
   "execution_count": 119,
   "id": "65a103a4",
   "metadata": {},
   "outputs": [
    {
     "data": {
      "text/plain": [
       "'Az'"
      ]
     },
     "execution_count": 119,
     "metadata": {},
     "output_type": "execute_result"
    }
   ],
   "source": [
    "t1.vetendasliq"
   ]
  },
  {
   "cell_type": "code",
   "execution_count": 120,
   "id": "183bcf49",
   "metadata": {},
   "outputs": [
    {
     "data": {
      "text/plain": [
       "'Az'"
      ]
     },
     "execution_count": 120,
     "metadata": {},
     "output_type": "execute_result"
    }
   ],
   "source": [
    "t1. class_method()"
   ]
  },
  {
   "cell_type": "markdown",
   "id": "7bfb0fff",
   "metadata": {},
   "source": [
    "### Practice"
   ]
  },
  {
   "cell_type": "code",
   "execution_count": 133,
   "id": "746ed508",
   "metadata": {},
   "outputs": [],
   "source": [
    "class Student:\n",
    "    vetendasliq = \"Az\"\n",
    "    def __init__(self, name, surname, year):\n",
    "        self.name = name\n",
    "        self.surname = surname\n",
    "        self.year = year\n",
    "     \n",
    "    def get_age(self, age, now=2023):\n",
    "        return now - self.year + age\n",
    "    \n",
    "    def get_fullname(self):\n",
    "        return self.name + ' ' + self.surname\n",
    "    "
   ]
  },
  {
   "cell_type": "code",
   "execution_count": 134,
   "id": "5ac717d6",
   "metadata": {},
   "outputs": [],
   "source": [
    "s1 = Student(\"Parviz\", \"Ahmadov\", 2000)"
   ]
  },
  {
   "cell_type": "code",
   "execution_count": 136,
   "id": "f837ddb8",
   "metadata": {},
   "outputs": [
    {
     "data": {
      "text/plain": [
       "25"
      ]
     },
     "execution_count": 136,
     "metadata": {},
     "output_type": "execute_result"
    }
   ],
   "source": [
    "s1.get_age(2)"
   ]
  },
  {
   "cell_type": "code",
   "execution_count": 177,
   "id": "bca4f394",
   "metadata": {},
   "outputs": [],
   "source": [
    "class Student:\n",
    "    vetendasliq = \"Az\"\n",
    "    def __init__(self, name, surname, year):\n",
    "        self.name = name\n",
    "        self.surname = surname\n",
    "        self.year = year\n",
    "     \n",
    "    def get_age(self, age):\n",
    "        self.yas = age\n",
    "        pass\n",
    "     \n",
    "    \n",
    "    def get_fullname(self):\n",
    "        return self.name + ' ' + self.surname"
   ]
  },
  {
   "cell_type": "code",
   "execution_count": 178,
   "id": "a03dbd3f",
   "metadata": {},
   "outputs": [],
   "source": [
    "s2 = Student(\"Parviz\", \"Ahmadov\", 2000)"
   ]
  },
  {
   "cell_type": "code",
   "execution_count": 179,
   "id": "b4275a04",
   "metadata": {},
   "outputs": [],
   "source": [
    "s2.get_age(21)"
   ]
  },
  {
   "cell_type": "code",
   "execution_count": 180,
   "id": "9472ba56",
   "metadata": {},
   "outputs": [
    {
     "data": {
      "text/plain": [
       "21"
      ]
     },
     "execution_count": 180,
     "metadata": {},
     "output_type": "execute_result"
    }
   ],
   "source": [
    "s2.yas"
   ]
  },
  {
   "cell_type": "code",
   "execution_count": 181,
   "id": "2e2a4e2a",
   "metadata": {},
   "outputs": [
    {
     "data": {
      "text/plain": [
       "{'name': 'Parviz', 'surname': 'Ahmadov', 'year': 2000, 'yas': 21}"
      ]
     },
     "execution_count": 181,
     "metadata": {},
     "output_type": "execute_result"
    }
   ],
   "source": [
    "s2.__dict__"
   ]
  },
  {
   "cell_type": "code",
   "execution_count": 182,
   "id": "e92773e2",
   "metadata": {},
   "outputs": [],
   "source": [
    "class Student:\n",
    "    vetendasliq = \"Az\"\n",
    "     \n",
    "    def get_age(self, name, surname, year, age):\n",
    "        self.name = name\n",
    "        self.surname = surname\n",
    "        self.year = year\n",
    "        self.yas = age\n",
    "        pass\n",
    "     \n",
    "    \n",
    "    def get_fullname(self):\n",
    "        return self.name + ' ' + self.surname"
   ]
  },
  {
   "cell_type": "code",
   "execution_count": 183,
   "id": "a7d0b5ed",
   "metadata": {},
   "outputs": [],
   "source": [
    "s3 = Student()"
   ]
  },
  {
   "cell_type": "code",
   "execution_count": 184,
   "id": "33a77eee",
   "metadata": {},
   "outputs": [],
   "source": [
    "s3.get_age(\"Parviz\", \"Ahmadov\", 2000, 25)"
   ]
  },
  {
   "cell_type": "code",
   "execution_count": 186,
   "id": "1a614b79",
   "metadata": {},
   "outputs": [
    {
     "data": {
      "text/plain": [
       "{'name': 'Parviz', 'surname': 'Ahmadov', 'year': 2000, 'yas': 25}"
      ]
     },
     "execution_count": 186,
     "metadata": {},
     "output_type": "execute_result"
    }
   ],
   "source": [
    "s3.__dict__"
   ]
  },
  {
   "cell_type": "code",
   "execution_count": 187,
   "id": "a6f0794a",
   "metadata": {},
   "outputs": [
    {
     "data": {
      "text/plain": [
       "'Parviz Ahmadov'"
      ]
     },
     "execution_count": 187,
     "metadata": {},
     "output_type": "execute_result"
    }
   ],
   "source": [
    "s3.get_fullname()"
   ]
  },
  {
   "cell_type": "markdown",
   "id": "263de370",
   "metadata": {},
   "source": [
    "### manual object creat"
   ]
  },
  {
   "cell_type": "code",
   "execution_count": 190,
   "id": "be353722",
   "metadata": {},
   "outputs": [
    {
     "data": {
      "text/plain": [
       "{'Name': 'Tamerlan', 'Age': '20'}"
      ]
     },
     "execution_count": 190,
     "metadata": {},
     "output_type": "execute_result"
    }
   ],
   "source": [
    "d = {}\n",
    "d[\"Name\"] = \"Tamerlan\"\n",
    "d[\"Age\"] = \"20\"\n",
    "d"
   ]
  },
  {
   "cell_type": "code",
   "execution_count": 192,
   "id": "05920289",
   "metadata": {},
   "outputs": [
    {
     "data": {
      "text/plain": [
       "{'Name': 'Parviz', 'Age': '22'}"
      ]
     },
     "execution_count": 192,
     "metadata": {},
     "output_type": "execute_result"
    }
   ],
   "source": [
    "d = {}\n",
    "d[\"Name\"] = \"Parviz\"\n",
    "d[\"Age\"] = \"22\"\n",
    "d"
   ]
  },
  {
   "cell_type": "code",
   "execution_count": 212,
   "id": "f218f030",
   "metadata": {},
   "outputs": [],
   "source": [
    "class Human:\n",
    "    def __init__(self, name, surname, year):\n",
    "        self.name = name\n",
    "        self.surname = surname\n",
    "        self.year = year\n",
    "        \n",
    "    from datetime import datetime    \n",
    "    def get_age(self, now=datetime.now().year):\n",
    "        return now - self.year\n",
    "    \n",
    "    def get_fullname(self):\n",
    "        return self.name + ' ' + self.surname\n",
    "    \n",
    "class Teacher(Human):\n",
    "    def __init__(self, name, surname, year, education):\n",
    "        super().__init__(name, surname, year)\n",
    "        super().get_age\n",
    "        self.education = education\n",
    "    \n",
    "    def get_education(self):\n",
    "        return self.education    "
   ]
  },
  {
   "cell_type": "code",
   "execution_count": 213,
   "id": "a7128fe7",
   "metadata": {},
   "outputs": [],
   "source": [
    "s4 = Teacher(\"Parviz\", \"Ahmadov\", 2000, \"Master\")"
   ]
  },
  {
   "cell_type": "code",
   "execution_count": 214,
   "id": "71f95ce7",
   "metadata": {},
   "outputs": [
    {
     "data": {
      "text/plain": [
       "24"
      ]
     },
     "execution_count": 214,
     "metadata": {},
     "output_type": "execute_result"
    }
   ],
   "source": [
    "s4.get_age()"
   ]
  },
  {
   "cell_type": "code",
   "execution_count": 235,
   "id": "2f64fe44",
   "metadata": {},
   "outputs": [],
   "source": [
    "class Human:\n",
    "    def __init__(self, name, surname, year):\n",
    "        self._name = name\n",
    "        self.__surname = surname\n",
    "        self.year = year\n",
    "        \n",
    "    from datetime import datetime    \n",
    "    def get_age(self, now=datetime.now().year):\n",
    "        return now - self.year\n",
    "    \n",
    "    def get_fullname(self):\n",
    "        return self.name + ' ' + self.surname\n",
    "    \n",
    "class Teacher(Human):\n",
    "    def __init__(self, name, surname, year, education):\n",
    "        super().__init__(name, surname, year)\n",
    "        super().get_age\n",
    "        self.education = education\n",
    "    \n",
    "    def get_education(self):\n",
    "        return self.education "
   ]
  },
  {
   "cell_type": "code",
   "execution_count": 236,
   "id": "d78620a4",
   "metadata": {},
   "outputs": [],
   "source": [
    "s5 = Teacher(\"Parviz\", \"Ahmadov\", 2000, \"Master\")"
   ]
  },
  {
   "cell_type": "code",
   "execution_count": 237,
   "id": "a1763e06",
   "metadata": {},
   "outputs": [
    {
     "data": {
      "text/plain": [
       "'Parviz'"
      ]
     },
     "execution_count": 237,
     "metadata": {},
     "output_type": "execute_result"
    }
   ],
   "source": [
    "s5._name"
   ]
  },
  {
   "cell_type": "code",
   "execution_count": 238,
   "id": "39845455",
   "metadata": {},
   "outputs": [
    {
     "ename": "AttributeError",
     "evalue": "'Teacher' object has no attribute '__surname'",
     "output_type": "error",
     "traceback": [
      "\u001b[1;31m---------------------------------------------------------------------------\u001b[0m",
      "\u001b[1;31mAttributeError\u001b[0m                            Traceback (most recent call last)",
      "Cell \u001b[1;32mIn[238], line 1\u001b[0m\n\u001b[1;32m----> 1\u001b[0m s5\u001b[38;5;241m.\u001b[39m__surname\n",
      "\u001b[1;31mAttributeError\u001b[0m: 'Teacher' object has no attribute '__surname'"
     ]
    }
   ],
   "source": [
    "s5.__surname"
   ]
  },
  {
   "cell_type": "code",
   "execution_count": 245,
   "id": "9266880a",
   "metadata": {},
   "outputs": [
    {
     "data": {
      "text/plain": [
       "'Az'"
      ]
     },
     "execution_count": 245,
     "metadata": {},
     "output_type": "execute_result"
    }
   ],
   "source": [
    "class Test:\n",
    "    \n",
    "    vetendasliq = \"Az\"\n",
    "    \n",
    "    @classmethod\n",
    "    def class_method(cls):\n",
    "        return cls.vetendasliq\n",
    "    \n",
    "Test.class_method() "
   ]
  },
  {
   "cell_type": "code",
   "execution_count": 254,
   "id": "32a49b2e",
   "metadata": {},
   "outputs": [
    {
     "data": {
      "text/plain": [
       "5"
      ]
     },
     "execution_count": 254,
     "metadata": {},
     "output_type": "execute_result"
    }
   ],
   "source": [
    "class Test:\n",
    "    \n",
    "    vetendasliq = \"Az\"\n",
    "    \n",
    "    @staticmethod\n",
    "    def static_method():\n",
    "        return 5\n",
    "    \n",
    "Test.static_method()"
   ]
  },
  {
   "cell_type": "code",
   "execution_count": 255,
   "id": "43daa1d7",
   "metadata": {},
   "outputs": [],
   "source": [
    "t5 = Test()"
   ]
  },
  {
   "cell_type": "code",
   "execution_count": 256,
   "id": "66dd22f8",
   "metadata": {},
   "outputs": [
    {
     "data": {
      "text/plain": [
       "5"
      ]
     },
     "execution_count": 256,
     "metadata": {},
     "output_type": "execute_result"
    }
   ],
   "source": [
    "t5.static_method()"
   ]
  },
  {
   "cell_type": "code",
   "execution_count": 351,
   "id": "925566d1",
   "metadata": {},
   "outputs": [],
   "source": [
    "class Ucbucaq:\n",
    "    \n",
    "    def __init__(self, a, b, c):\n",
    "        self.a = a\n",
    "        self.b = b\n",
    "        self.c = c\n",
    "    \n",
    "    def get_sahe(self):\n",
    "        return self.a * self.b * self.c\n",
    "    \n",
    "class Duzbucaqli(Ucbucaq):\n",
    "    \n",
    "    def __init__(self, a, b):\n",
    "        super().__init__(a, b, 0)\n",
    "    \n",
    "    def get_sahe(self):\n",
    "        return self.a * self.b\n",
    "\n",
    "class Kvadrat(Duzbucaqli):\n",
    "    \n",
    "    def __init__(self, a):\n",
    "        super().__init__(a, 0)\n",
    "    \n",
    "    def get_sahe(self):\n",
    "        return self.a ** 2  \n",
    "        "
   ]
  },
  {
   "cell_type": "code",
   "execution_count": 352,
   "id": "a19ed25e",
   "metadata": {},
   "outputs": [],
   "source": [
    "Duz = Duzbucaqli(2, 3)"
   ]
  },
  {
   "cell_type": "code",
   "execution_count": 353,
   "id": "8de17185",
   "metadata": {},
   "outputs": [
    {
     "data": {
      "text/plain": [
       "6"
      ]
     },
     "execution_count": 353,
     "metadata": {},
     "output_type": "execute_result"
    }
   ],
   "source": [
    "Duz.get_sahe()"
   ]
  },
  {
   "cell_type": "code",
   "execution_count": 354,
   "id": "7c92b7b4",
   "metadata": {},
   "outputs": [],
   "source": [
    "uc = Ucbucaq(4,2,3)"
   ]
  },
  {
   "cell_type": "code",
   "execution_count": 355,
   "id": "cf941e12",
   "metadata": {},
   "outputs": [
    {
     "data": {
      "text/plain": [
       "24"
      ]
     },
     "execution_count": 355,
     "metadata": {},
     "output_type": "execute_result"
    }
   ],
   "source": [
    "uc.get_sahe()"
   ]
  },
  {
   "cell_type": "code",
   "execution_count": 356,
   "id": "78aeb98e",
   "metadata": {},
   "outputs": [],
   "source": [
    "kv = Kvadrat(8)"
   ]
  },
  {
   "cell_type": "code",
   "execution_count": 357,
   "id": "315446a5",
   "metadata": {},
   "outputs": [
    {
     "data": {
      "text/plain": [
       "64"
      ]
     },
     "execution_count": 357,
     "metadata": {},
     "output_type": "execute_result"
    }
   ],
   "source": [
    "kv.get_sahe()"
   ]
  },
  {
   "cell_type": "code",
   "execution_count": 362,
   "id": "76122421",
   "metadata": {},
   "outputs": [
    {
     "name": "stdout",
     "output_type": "stream",
     "text": [
      "64\n",
      "2.9047375096555625\n",
      "16\n"
     ]
    }
   ],
   "source": [
    "class Ucbucaq:\n",
    "    \n",
    "    def __init__(self, a, b, c):\n",
    "        self.a = a\n",
    "        self.b = b\n",
    "        self.c = c\n",
    "    \n",
    "    def get_sahe(self):\n",
    "        # Assuming this is intended to be the area of a triangle using Heron's formula\n",
    "        s = (self.a + self.b + self.c) / 2\n",
    "        return (s * (s - self.a) * (s - self.b) * (s - self.c)) ** 0.5\n",
    "    \n",
    "class Duzbucaqli(Ucbucaq):\n",
    "    \n",
    "    def __init__(self, a, b):\n",
    "        super().__init__(a, b, 0)  # 'c' is not needed for rectangle, so set it to 0\n",
    "    \n",
    "    def get_sahe(self):\n",
    "        return self.a * self.b\n",
    "\n",
    "class Kvadrat(Duzbucaqli):\n",
    "    \n",
    "    def __init__(self, a):\n",
    "        super().__init__(a, 0)  # For square, both sides are the same\n",
    "    \n",
    "    def get_sahe(self):\n",
    "        return self.a ** 2\n",
    "\n",
    "# Example usage\n",
    "kv = Kvadrat(8)\n",
    "print(kv.get_sahe())  # Output: 64\n",
    "\n",
    "\n",
    "uc = Ucbucaq(4,2,3)\n",
    "print(uc.get_sahe())\n",
    "\n",
    "duz = Duzbucaqli(8, 2)\n",
    "print(duz.get_sahe())"
   ]
  },
  {
   "cell_type": "code",
   "execution_count": 392,
   "id": "6920c54a",
   "metadata": {},
   "outputs": [],
   "source": [
    "class Kvadrat:\n",
    "    def __init__(self, a):\n",
    "        self.a = a\n",
    "        \n",
    "    def get_area(self):\n",
    "        return self.a ** 2\n",
    "\n",
    "class Duzbucaqli(Kvadrat):\n",
    "    def __init__(self, a, b):\n",
    "        super().__init__(a)\n",
    "        self.b = b\n",
    "    \n",
    "    def get_area(self):\n",
    "        return self.a * self.b\n",
    "\n",
    "class Ucbucaqli(Duzbucaqli):\n",
    "    def __init__(self, a, b, c):\n",
    "        super().__init__(a, b)\n",
    "        self.c = c\n",
    "        \n",
    "    def get_area(self):\n",
    "        s = (self.a + self.b + self.c) / 2\n",
    "        return (s * (s - self.a) * (s - self.b) * (s - self.c)) ** 0.5"
   ]
  },
  {
   "cell_type": "code",
   "execution_count": 397,
   "id": "ee71ca76",
   "metadata": {},
   "outputs": [
    {
     "name": "stdout",
     "output_type": "stream",
     "text": [
      "kavdratin sahesi: 25, duzbucaqlinin sahesi: 20, ucbucagin sahesi: 20.33316256758894\n"
     ]
    }
   ],
   "source": [
    "k1 = Kvadrat(5)\n",
    "d1 = Duzbucaqli(5, 4)\n",
    "u1 = Ucbucaqli(6, 7, 8)\n",
    "print(f\"kavdratin sahesi: {k1.get_area()}, duzbucaqlinin sahesi: {d1.get_area()}, ucbucagin sahesi: {u1.get_area()}\")"
   ]
  },
  {
   "cell_type": "code",
   "execution_count": null,
   "id": "0734948a",
   "metadata": {},
   "outputs": [],
   "source": []
  }
 ],
 "metadata": {
  "kernelspec": {
   "display_name": "Python 3 (ipykernel)",
   "language": "python",
   "name": "python3"
  },
  "language_info": {
   "codemirror_mode": {
    "name": "ipython",
    "version": 3
   },
   "file_extension": ".py",
   "mimetype": "text/x-python",
   "name": "python",
   "nbconvert_exporter": "python",
   "pygments_lexer": "ipython3",
   "version": "3.11.5"
  }
 },
 "nbformat": 4,
 "nbformat_minor": 5
}
