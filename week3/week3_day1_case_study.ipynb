{
 "cells": [
  {
   "cell_type": "markdown",
   "id": "e555a47d",
   "metadata": {},
   "source": [
    "### @staticmethod"
   ]
  },
  {
   "cell_type": "code",
   "execution_count": 6,
   "id": "5aadef5f",
   "metadata": {},
   "outputs": [
    {
     "data": {
      "text/plain": [
       "3"
      ]
     },
     "execution_count": 6,
     "metadata": {},
     "output_type": "execute_result"
    }
   ],
   "source": [
    "class Fighter:\n",
    "    x = 3\n",
    "    \n",
    "    @staticmethod\n",
    "    def method():\n",
    "        return Fighter.x  # Access the class variable using the class name\n",
    "\n",
    "Fighter.method()\n",
    "   "
   ]
  },
  {
   "cell_type": "markdown",
   "id": "edefa57a",
   "metadata": {},
   "source": [
    "#### 1. Create Car Class that has 3 class attributes: year, mpg and speed."
   ]
  },
  {
   "cell_type": "code",
   "execution_count": 16,
   "id": "88328bb5",
   "metadata": {},
   "outputs": [],
   "source": [
    "class Car:\n",
    "    year = 2021\n",
    "    mpg = 20\n",
    "    speed =180"
   ]
  },
  {
   "cell_type": "code",
   "execution_count": 17,
   "id": "3eb3cdc3",
   "metadata": {},
   "outputs": [
    {
     "name": "stdout",
     "output_type": "stream",
     "text": [
      "2021\n",
      "2021\n"
     ]
    }
   ],
   "source": [
    "a = Car()\n",
    "b = Car()\n",
    "print(a.year)\n",
    "print(b.year)"
   ]
  },
  {
   "cell_type": "markdown",
   "id": "9fa65088",
   "metadata": {},
   "source": [
    "#### 2. Create 2 methods for the Car class:  Accelerate and break where the speed of the car changes when this methods are called."
   ]
  },
  {
   "cell_type": "code",
   "execution_count": 50,
   "id": "b5246069",
   "metadata": {},
   "outputs": [],
   "source": [
    "class Car:\n",
    "    year = 2021\n",
    "    mpg = 20\n",
    "    speed =180\n",
    "    \n",
    "    def accelerate(self, increase):\n",
    "        self.speed = self.speed + increase\n",
    "        return self.speed\n",
    "    \n",
    "    def break_(self, decrease):\n",
    "        self.speed -= decrease\n",
    "        return self.speed"
   ]
  },
  {
   "cell_type": "code",
   "execution_count": 51,
   "id": "bf00dbba",
   "metadata": {},
   "outputs": [],
   "source": [
    "c1 = Car()"
   ]
  },
  {
   "cell_type": "code",
   "execution_count": 52,
   "id": "947422b6",
   "metadata": {},
   "outputs": [
    {
     "data": {
      "text/plain": [
       "200"
      ]
     },
     "execution_count": 52,
     "metadata": {},
     "output_type": "execute_result"
    }
   ],
   "source": [
    "c1.accelerate(20)"
   ]
  },
  {
   "cell_type": "code",
   "execution_count": 53,
   "id": "6fa9311e",
   "metadata": {},
   "outputs": [
    {
     "data": {
      "text/plain": [
       "200"
      ]
     },
     "execution_count": 53,
     "metadata": {},
     "output_type": "execute_result"
    }
   ],
   "source": [
    "c1.speed"
   ]
  },
  {
   "cell_type": "code",
   "execution_count": 54,
   "id": "dc8de369",
   "metadata": {},
   "outputs": [
    {
     "data": {
      "text/plain": [
       "160"
      ]
     },
     "execution_count": 54,
     "metadata": {},
     "output_type": "execute_result"
    }
   ],
   "source": [
    "c1.break_(40)"
   ]
  },
  {
   "cell_type": "code",
   "execution_count": 55,
   "id": "7333e97a",
   "metadata": {},
   "outputs": [
    {
     "data": {
      "text/plain": [
       "160"
      ]
     },
     "execution_count": 55,
     "metadata": {},
     "output_type": "execute_result"
    }
   ],
   "source": [
    "c1.speed"
   ]
  },
  {
   "cell_type": "markdown",
   "id": "b90f9001",
   "metadata": {},
   "source": [
    "#### 3. Change all class attributes to instance attributes."
   ]
  },
  {
   "cell_type": "code",
   "execution_count": 56,
   "id": "fb9f6b8e",
   "metadata": {},
   "outputs": [],
   "source": [
    "class Car:\n",
    "    \n",
    "    def __init__(self, year, mpg, speed):\n",
    "        self.year = year\n",
    "        self.mpg = mpg\n",
    "        self.speed = speed"
   ]
  },
  {
   "cell_type": "code",
   "execution_count": 57,
   "id": "01e256b9",
   "metadata": {},
   "outputs": [],
   "source": [
    "c1 = Car(2000, 10, 180)\n",
    "c2 = Car(2001, 20, 200)"
   ]
  },
  {
   "cell_type": "code",
   "execution_count": 58,
   "id": "842ac5fc",
   "metadata": {},
   "outputs": [
    {
     "data": {
      "text/plain": [
       "(2000, 2001)"
      ]
     },
     "execution_count": 58,
     "metadata": {},
     "output_type": "execute_result"
    }
   ],
   "source": [
    "c1.year, c2.year"
   ]
  },
  {
   "cell_type": "markdown",
   "id": "e24b26f1",
   "metadata": {},
   "source": [
    "#### 4. Create a class vehicle and create inheritance between car and vehicle."
   ]
  },
  {
   "cell_type": "code",
   "execution_count": 62,
   "id": "f5bcab14",
   "metadata": {},
   "outputs": [],
   "source": [
    "class Vehicle:\n",
    "    \n",
    "    def __init__(self, year, mpg, speed):\n",
    "        self.year = year\n",
    "        self.mpg = mpg\n",
    "        self.speed = speed\n",
    "    \n",
    "    def accelerate(self, dummy):\n",
    "        return self.speed + dummy\n",
    "    \n",
    "    def break_(self, dummy):\n",
    "        return self.speed - dummy\n",
    "\n",
    "class Car(Vehicle):\n",
    "    \n",
    "    def __init__(self, year, mpg, speed, type_car, door):\n",
    "        super().__init__(year, mpg, speed)\n",
    "        self.type_ = type_car\n",
    "        self.door = door"
   ]
  },
  {
   "cell_type": "code",
   "execution_count": 67,
   "id": "de3eda4d",
   "metadata": {},
   "outputs": [
    {
     "data": {
      "text/plain": [
       "70"
      ]
     },
     "execution_count": 67,
     "metadata": {},
     "output_type": "execute_result"
    }
   ],
   "source": [
    "car1 = Car(2002, 30, 50, \"BMV\", 4)\n",
    "car1.accelerate(20)"
   ]
  },
  {
   "cell_type": "markdown",
   "id": "15852aee",
   "metadata": {},
   "source": [
    "#### 5. Create a new class bus which has the same methods as car and inherits from Vehicle."
   ]
  },
  {
   "cell_type": "code",
   "execution_count": 68,
   "id": "cf2265e9",
   "metadata": {},
   "outputs": [],
   "source": [
    "class Vehicle:\n",
    "    \n",
    "    def __init__(self, year, mpg, speed):\n",
    "        self.year = year\n",
    "        self.mpg = mpg\n",
    "        self.speed = speed\n",
    "    \n",
    "    def get_year(self):\n",
    "        return self.year\n",
    "        \n",
    "class Car(Vehicle):\n",
    "    \n",
    "    def __init__(self, year, mpg, speed, type_car, door):\n",
    "        super().__init__(year, mpg, speed)\n",
    "        self.type_ = type_car\n",
    "        self.door = door\n",
    "        \n",
    "    def accelerate(self, dummy):\n",
    "        return self.speed + dummy\n",
    "    \n",
    "    def break_(self, dummy):\n",
    "        return self.speed - dummy    \n",
    "\n",
    "    \n",
    "class Bus(Vehicle):\n",
    "    \n",
    "    def __init__(self, year, mpg, speed, type_car, door):\n",
    "        super().__init__(year, mpg, speed, type_car, door)\n",
    "        \n",
    "    def accelerate(self, dummy):\n",
    "        return self.speed + dummy\n",
    "    \n",
    "    def break_(self, dummy):\n",
    "        return self.speed - dummy   "
   ]
  },
  {
   "cell_type": "markdown",
   "id": "7f64d6a1",
   "metadata": {},
   "source": [
    "#### 6. Change some of the instance attributes to the private attributes."
   ]
  },
  {
   "cell_type": "code",
   "execution_count": 186,
   "id": "27c6e206",
   "metadata": {},
   "outputs": [],
   "source": [
    "class Vehicle:\n",
    "    \n",
    "    def __init__(self, year, mpg, speed):\n",
    "        self.year = year\n",
    "        self.mpg = mpg\n",
    "        self.speed = speed\n",
    "    \n",
    "    def get_year(self):\n",
    "        return self.year\n",
    "        \n",
    "class Car(Vehicle):\n",
    "    \n",
    "    def __init__(self, year, mpg, speed, type_car, door):\n",
    "        super().__init__(year, mpg, speed)\n",
    "        self.type_ = type_car\n",
    "        self.door = door\n",
    "        \n",
    "    def accelerate(self, dummy):\n",
    "        return self.speed + dummy\n",
    "    \n",
    "    def break_(self, dummy):\n",
    "        return self.speed - dummy    \n",
    "\n",
    "    \n",
    "class Bus(Vehicle):\n",
    "    \n",
    "    def __init__(self, year, mpg, speed, type_car, door):\n",
    "        super().__init__(year, mpg, speed)\n",
    "        self.__year = year\n",
    "        self._type_car = type_car\n",
    "        self.__door = door\n",
    "        \n",
    "    def accelerate(self, dummy):\n",
    "        return self.speed + dummy\n",
    "    \n",
    "    def break_(self, dummy):\n",
    "        return self.speed - dummy\n",
    "    \n",
    "    def get_bus_year(self):\n",
    "        return self.__year"
   ]
  },
  {
   "cell_type": "code",
   "execution_count": 187,
   "id": "ec050365",
   "metadata": {},
   "outputs": [],
   "source": [
    "bus1 = Bus(1999, 30, 160, \"Mercedes\", 6)"
   ]
  },
  {
   "cell_type": "code",
   "execution_count": 188,
   "id": "d6603a08",
   "metadata": {},
   "outputs": [
    {
     "data": {
      "text/plain": [
       "'Mercedes'"
      ]
     },
     "execution_count": 188,
     "metadata": {},
     "output_type": "execute_result"
    }
   ],
   "source": [
    "bus1._type_car"
   ]
  },
  {
   "cell_type": "code",
   "execution_count": 189,
   "id": "9f31ec2a",
   "metadata": {},
   "outputs": [
    {
     "ename": "AttributeError",
     "evalue": "'Bus' object has no attribute '__door'",
     "output_type": "error",
     "traceback": [
      "\u001b[1;31m---------------------------------------------------------------------------\u001b[0m",
      "\u001b[1;31mAttributeError\u001b[0m                            Traceback (most recent call last)",
      "Cell \u001b[1;32mIn[189], line 1\u001b[0m\n\u001b[1;32m----> 1\u001b[0m bus1\u001b[38;5;241m.\u001b[39m__door\n",
      "\u001b[1;31mAttributeError\u001b[0m: 'Bus' object has no attribute '__door'"
     ]
    }
   ],
   "source": [
    "bus1.__door"
   ]
  },
  {
   "cell_type": "code",
   "execution_count": 190,
   "id": "eaa67dae",
   "metadata": {},
   "outputs": [
    {
     "ename": "AttributeError",
     "evalue": "'Bus' object has no attribute '__year'",
     "output_type": "error",
     "traceback": [
      "\u001b[1;31m---------------------------------------------------------------------------\u001b[0m",
      "\u001b[1;31mAttributeError\u001b[0m                            Traceback (most recent call last)",
      "Cell \u001b[1;32mIn[190], line 1\u001b[0m\n\u001b[1;32m----> 1\u001b[0m bus1\u001b[38;5;241m.\u001b[39m__year\n",
      "\u001b[1;31mAttributeError\u001b[0m: 'Bus' object has no attribute '__year'"
     ]
    }
   ],
   "source": [
    "bus1.__year"
   ]
  },
  {
   "cell_type": "code",
   "execution_count": 191,
   "id": "faffd70a",
   "metadata": {},
   "outputs": [
    {
     "data": {
      "text/plain": [
       "1999"
      ]
     },
     "execution_count": 191,
     "metadata": {},
     "output_type": "execute_result"
    }
   ],
   "source": [
    "bus1.get_year()"
   ]
  },
  {
   "cell_type": "code",
   "execution_count": 192,
   "id": "3fe769a5",
   "metadata": {},
   "outputs": [
    {
     "data": {
      "text/plain": [
       "1999"
      ]
     },
     "execution_count": 192,
     "metadata": {},
     "output_type": "execute_result"
    }
   ],
   "source": [
    "bus1.get_bus_year()"
   ]
  },
  {
   "cell_type": "code",
   "execution_count": null,
   "id": "728f3059",
   "metadata": {},
   "outputs": [],
   "source": []
  }
 ],
 "metadata": {
  "kernelspec": {
   "display_name": "Python 3 (ipykernel)",
   "language": "python",
   "name": "python3"
  },
  "language_info": {
   "codemirror_mode": {
    "name": "ipython",
    "version": 3
   },
   "file_extension": ".py",
   "mimetype": "text/x-python",
   "name": "python",
   "nbconvert_exporter": "python",
   "pygments_lexer": "ipython3",
   "version": "3.11.5"
  }
 },
 "nbformat": 4,
 "nbformat_minor": 5
}
