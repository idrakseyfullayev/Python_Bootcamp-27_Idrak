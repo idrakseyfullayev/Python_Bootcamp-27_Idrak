{
 "cells": [
  {
   "cell_type": "markdown",
   "id": "8ed423b3",
   "metadata": {},
   "source": [
    "#### 1. Create a Vehicle class with maxspeed and color instance attributes."
   ]
  },
  {
   "cell_type": "code",
   "execution_count": 1,
   "id": "81f5e222",
   "metadata": {},
   "outputs": [],
   "source": [
    "class Vehicle:\n",
    "    \n",
    "    def __init__(self, maxspeed, color):\n",
    "        self.maxspeed = maxspeed\n",
    "        self.color = color"
   ]
  },
  {
   "cell_type": "markdown",
   "id": "ce7bbfed",
   "metadata": {},
   "source": [
    "#### 2. Create new method which prints maxspeed and the color for the given vehicle."
   ]
  },
  {
   "cell_type": "code",
   "execution_count": 8,
   "id": "0fd51ff0",
   "metadata": {},
   "outputs": [],
   "source": [
    "class Vehicle:\n",
    "    \n",
    "    def __init__(self, maxspeed, color):\n",
    "        self.maxspeed = maxspeed\n",
    "        self.color = color\n",
    "        \n",
    "    def get_maxspd_color(self):\n",
    "        return f\"Max speed: {self.maxspeed}, Color: {self.color}\""
   ]
  },
  {
   "cell_type": "code",
   "execution_count": 9,
   "id": "18cde030",
   "metadata": {},
   "outputs": [
    {
     "data": {
      "text/plain": [
       "'Max speed: 200, Color: Red'"
      ]
     },
     "execution_count": 9,
     "metadata": {},
     "output_type": "execute_result"
    }
   ],
   "source": [
    "v1 = Vehicle(200, \"Red\")\n",
    "v1.get_maxspd_color()"
   ]
  },
  {
   "cell_type": "markdown",
   "id": "5dc9f2c7",
   "metadata": {},
   "source": [
    "#### 3. Create child class Car that will inherit all of the variables and methods of the Vehicle class."
   ]
  },
  {
   "cell_type": "code",
   "execution_count": 10,
   "id": "8e21ae58",
   "metadata": {},
   "outputs": [],
   "source": [
    "class Vehicle:\n",
    "    \n",
    "    def __init__(self, maxspeed, color):\n",
    "        self.maxspeed = maxspeed\n",
    "        self.color = color\n",
    "        \n",
    "    def get_maxspd_color(self):\n",
    "        return f\"Max speed: {self.maxspeed}, Color: {self.color}\"\n",
    "    \n",
    "class Car(Vehicle):\n",
    "    \n",
    "    def __init__(self, maxspeed, color):\n",
    "        super().__init__(maxspeed, color)"
   ]
  },
  {
   "cell_type": "code",
   "execution_count": 11,
   "id": "d03dc7f5",
   "metadata": {},
   "outputs": [
    {
     "data": {
      "text/plain": [
       "'Max speed: 180, Color: Blue'"
      ]
     },
     "execution_count": 11,
     "metadata": {},
     "output_type": "execute_result"
    }
   ],
   "source": [
    "car1 = Car(180, \"Blue\")\n",
    "car1.get_maxspd_color()"
   ]
  },
  {
   "cell_type": "markdown",
   "id": "1ccf8edc",
   "metadata": {},
   "source": [
    "#### 4. Define property that should have the same value for every class instance. Example : Every Vehicle should be white."
   ]
  },
  {
   "cell_type": "code",
   "execution_count": 14,
   "id": "bc26fc41",
   "metadata": {},
   "outputs": [],
   "source": [
    "class Vehicle:\n",
    "    \n",
    "    color = \"White\"\n",
    "    \n",
    "    def __init__(self, maxspeed):\n",
    "        self.maxspeed = maxspeed\n",
    "        \n",
    "    def get_maxspd_color(self):\n",
    "        return f\"Max speed: {self.maxspeed}, Color: {self.color}\"\n",
    "    \n",
    "class Car(Vehicle):\n",
    "    \n",
    "    def __init__(self, maxspeed):\n",
    "        super().__init__(maxspeed)"
   ]
  },
  {
   "cell_type": "code",
   "execution_count": 15,
   "id": "81c057ab",
   "metadata": {},
   "outputs": [
    {
     "data": {
      "text/plain": [
       "'Max speed: 170, Color: White'"
      ]
     },
     "execution_count": 15,
     "metadata": {},
     "output_type": "execute_result"
    }
   ],
   "source": [
    "car2 = Car(170)\n",
    "car2.get_maxspd_color()"
   ]
  },
  {
   "cell_type": "code",
   "execution_count": 16,
   "id": "bc1021e7",
   "metadata": {},
   "outputs": [
    {
     "data": {
      "text/plain": [
       "'Max speed: 160, Color: White'"
      ]
     },
     "execution_count": 16,
     "metadata": {},
     "output_type": "execute_result"
    }
   ],
   "source": [
    "car3 = Vehicle(160)\n",
    "car3.get_maxspd_color()"
   ]
  },
  {
   "cell_type": "markdown",
   "id": "6d9e744e",
   "metadata": {},
   "source": [
    "#### 5. Create a Train child class that inherits from the Vehicle class. The default fare of any vehicle is seating capacity * 35. If Vehicle is Train instance, we need to add an extra 10% on full fare as a maintenance charge."
   ]
  },
  {
   "cell_type": "code",
   "execution_count": 21,
   "id": "23a24279",
   "metadata": {},
   "outputs": [],
   "source": [
    "class Vehicle:\n",
    "    \n",
    "    color = \"White\"\n",
    "    \n",
    "    def __init__(self, maxspeed, seating_capacity):\n",
    "        self.maxspeed = maxspeed\n",
    "        self.seating_capacity = seating_capacity\n",
    "        \n",
    "    def get_maxspd_color(self):\n",
    "        return f\"Max speed: {self.maxspeed}, Color: {self.color}\"\n",
    "    \n",
    "    def get_fare(self):\n",
    "        return self.seating_capacity * 35\n",
    "    \n",
    "class Car(Vehicle):\n",
    "    \n",
    "    def __init__(self, maxspeed, seating_capacity):\n",
    "        super().__init__(maxspeed, seating_capacity)\n",
    "        \n",
    "class Train(Vehicle):\n",
    "    \n",
    "    def __init__(self, maxspeed, seating_capacity):\n",
    "        super().__init__(maxspeed, seating_capacity)\n",
    "        \n",
    "    def get_fare(self):\n",
    "        return self.seating_capacity * 35 + (self.seating_capacity * 35 * 10) / 100 "
   ]
  },
  {
   "cell_type": "code",
   "execution_count": 22,
   "id": "066ae924",
   "metadata": {},
   "outputs": [
    {
     "data": {
      "text/plain": [
       "350"
      ]
     },
     "execution_count": 22,
     "metadata": {},
     "output_type": "execute_result"
    }
   ],
   "source": [
    "v1 = Vehicle(160, 10)\n",
    "v1.get_fare()"
   ]
  },
  {
   "cell_type": "code",
   "execution_count": 23,
   "id": "d3bb193c",
   "metadata": {},
   "outputs": [
    {
     "data": {
      "text/plain": [
       "350"
      ]
     },
     "execution_count": 23,
     "metadata": {},
     "output_type": "execute_result"
    }
   ],
   "source": [
    "car1 = Car(170, 10)\n",
    "car1.get_fare()"
   ]
  },
  {
   "cell_type": "code",
   "execution_count": 24,
   "id": "24f5b957",
   "metadata": {},
   "outputs": [
    {
     "data": {
      "text/plain": [
       "385.0"
      ]
     },
     "execution_count": 24,
     "metadata": {},
     "output_type": "execute_result"
    }
   ],
   "source": [
    "train1 = Train(200, 10)\n",
    "train1.get_fare()"
   ]
  },
  {
   "cell_type": "markdown",
   "id": "1c394eda",
   "metadata": {},
   "source": [
    "#### 6. Determine which class a given car and train object belongs to ."
   ]
  },
  {
   "cell_type": "code",
   "execution_count": 25,
   "id": "bea9e1c5",
   "metadata": {},
   "outputs": [
    {
     "name": "stdout",
     "output_type": "stream",
     "text": [
      "car1 is an instance of Car\n",
      "train1 is an instance of Train\n"
     ]
    }
   ],
   "source": [
    "# Determining class of objects\n",
    "print(f\"car1 is an instance of {car1.__class__.__name__}\")  # car1 is an instance of Car\n",
    "print(f\"train1 is an instance of {train1.__class__.__name__}\")  # train1 is an instance of Train\n"
   ]
  },
  {
   "cell_type": "code",
   "execution_count": 27,
   "id": "49683bf9",
   "metadata": {},
   "outputs": [
    {
     "data": {
      "text/plain": [
       "__main__.Car"
      ]
     },
     "execution_count": 27,
     "metadata": {},
     "output_type": "execute_result"
    }
   ],
   "source": [
    "type(car1)"
   ]
  },
  {
   "cell_type": "code",
   "execution_count": 29,
   "id": "03b2a3c7",
   "metadata": {},
   "outputs": [
    {
     "name": "stdout",
     "output_type": "stream",
     "text": [
      "<class '__main__.Train'>\n"
     ]
    }
   ],
   "source": [
    "print(type(train1))"
   ]
  },
  {
   "cell_type": "code",
   "execution_count": 30,
   "id": "9ee34183",
   "metadata": {},
   "outputs": [
    {
     "name": "stdout",
     "output_type": "stream",
     "text": [
      "<class '__main__.Vehicle'>\n"
     ]
    }
   ],
   "source": [
    "print(type(v1))"
   ]
  },
  {
   "cell_type": "code",
   "execution_count": 32,
   "id": "344adba6",
   "metadata": {},
   "outputs": [
    {
     "data": {
      "text/plain": [
       "'Car'"
      ]
     },
     "execution_count": 32,
     "metadata": {},
     "output_type": "execute_result"
    }
   ],
   "source": [
    "car1.__class__.__name__"
   ]
  },
  {
   "cell_type": "code",
   "execution_count": 34,
   "id": "c05d4555",
   "metadata": {},
   "outputs": [
    {
     "data": {
      "text/plain": [
       "'Train'"
      ]
     },
     "execution_count": 34,
     "metadata": {},
     "output_type": "execute_result"
    }
   ],
   "source": [
    "train1.__class__.__name__"
   ]
  },
  {
   "cell_type": "code",
   "execution_count": 35,
   "id": "51f122b4",
   "metadata": {},
   "outputs": [
    {
     "data": {
      "text/plain": [
       "'Vehicle'"
      ]
     },
     "execution_count": 35,
     "metadata": {},
     "output_type": "execute_result"
    }
   ],
   "source": [
    "v1.__class__.__name__"
   ]
  },
  {
   "cell_type": "code",
   "execution_count": null,
   "id": "70d85d5e",
   "metadata": {},
   "outputs": [],
   "source": []
  },
  {
   "cell_type": "markdown",
   "id": "d7445c5e",
   "metadata": {},
   "source": [
    "### advanced"
   ]
  },
  {
   "cell_type": "code",
   "execution_count": 37,
   "id": "548bcbd4",
   "metadata": {},
   "outputs": [
    {
     "name": "stdout",
     "output_type": "stream",
     "text": [
      "Maxspeed: 150, Color: white\n",
      "Maxspeed: 120, Color: white\n",
      "Car fare: 175\n",
      "Train fare: 7700.0\n",
      "car1 is an instance of Car\n",
      "train1 is an instance of Train\n"
     ]
    }
   ],
   "source": [
    "class Vehicle:\n",
    "    color = \"white\"  # Class attribute for the common color\n",
    "\n",
    "    def __init__(self, maxspeed, color=None):\n",
    "        self.maxspeed = maxspeed\n",
    "        self.color = color if color is not None else Vehicle.color\n",
    "\n",
    "    def print_details(self):\n",
    "        print(f\"Maxspeed: {self.maxspeed}, Color: {self.color}\")\n",
    "\n",
    "    def fare(self, seating_capacity):\n",
    "        return seating_capacity * 35\n",
    "\n",
    "class Car(Vehicle):\n",
    "    pass\n",
    "\n",
    "class Train(Vehicle):\n",
    "    def fare(self, seating_capacity):\n",
    "        base_fare = super().fare(seating_capacity)\n",
    "        maintenance_charge = base_fare * 0.10\n",
    "        return base_fare + maintenance_charge\n",
    "\n",
    "# Creating instances of Car and Train\n",
    "car1 = Car(150)\n",
    "train1 = Train(120)\n",
    "\n",
    "# Printing details\n",
    "car1.print_details()  # Maxspeed: 150, Color: white\n",
    "train1.print_details()  # Maxspeed: 120, Color: white\n",
    "\n",
    "# Calculating fares\n",
    "seating_capacity_car = 5\n",
    "seating_capacity_train = 200\n",
    "\n",
    "print(f\"Car fare: {car1.fare(seating_capacity_car)}\")  # Car fare: 175\n",
    "print(f\"Train fare: {train1.fare(seating_capacity_train)}\")  # Train fare: 7700\n",
    "\n",
    "# Determining class of objects\n",
    "print(f\"car1 is an instance of {car1.__class__.__name__}\")  # car1 is an instance of Car\n",
    "print(f\"train1 is an instance of {train1.__class__.__name__}\")  # train1 is an instance of Train\n"
   ]
  },
  {
   "cell_type": "code",
   "execution_count": null,
   "id": "7a514454",
   "metadata": {},
   "outputs": [],
   "source": []
  }
 ],
 "metadata": {
  "kernelspec": {
   "display_name": "Python 3 (ipykernel)",
   "language": "python",
   "name": "python3"
  },
  "language_info": {
   "codemirror_mode": {
    "name": "ipython",
    "version": 3
   },
   "file_extension": ".py",
   "mimetype": "text/x-python",
   "name": "python",
   "nbconvert_exporter": "python",
   "pygments_lexer": "ipython3",
   "version": "3.11.5"
  }
 },
 "nbformat": 4,
 "nbformat_minor": 5
}
