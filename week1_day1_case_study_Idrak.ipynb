{
 "cells": [
  {
   "cell_type": "markdown",
   "id": "c7def731",
   "metadata": {},
   "source": [
    "#### 1. Create a function called \"addition_2number\" that takes two input numbers from user and returns sum and count of them."
   ]
  },
  {
   "cell_type": "code",
   "execution_count": 12,
   "id": "58c5e1e3",
   "metadata": {},
   "outputs": [
    {
     "data": {
      "text/plain": [
       "(7, 2)"
      ]
     },
     "execution_count": 12,
     "metadata": {},
     "output_type": "execute_result"
    }
   ],
   "source": [
    "def addition_2number(num1, num2):\n",
    "    return (num1 + num2, len([num1, num2]))\n",
    "    \n",
    "addition_2number(3, 4)    "
   ]
  },
  {
   "cell_type": "markdown",
   "id": "675bd0ac",
   "metadata": {},
   "source": [
    "#### 2. Create a function called \"addition\" that can add two or more numbers till user enters \n",
    "#### zero and returns answer and count of input numbers in a list."
   ]
  },
  {
   "cell_type": "code",
   "execution_count": 51,
   "id": "10b31a95",
   "metadata": {},
   "outputs": [],
   "source": [
    "def addition():\n",
    "    number = 0\n",
    "    result = 0\n",
    "    count = 0\n",
    "    while True:\n",
    "        number = int(input())\n",
    "        result += number\n",
    "        if number == 0:\n",
    "            break\n",
    "        count += 1    \n",
    "    return (result, count)    "
   ]
  },
  {
   "cell_type": "code",
   "execution_count": 52,
   "id": "c43d5401",
   "metadata": {},
   "outputs": [
    {
     "name": "stdout",
     "output_type": "stream",
     "text": [
      "1\n",
      "2\n",
      "3\n",
      "4\n",
      "0\n"
     ]
    },
    {
     "data": {
      "text/plain": [
       "(10, 4)"
      ]
     },
     "execution_count": 52,
     "metadata": {},
     "output_type": "execute_result"
    }
   ],
   "source": [
    "addition()"
   ]
  },
  {
   "cell_type": "code",
   "execution_count": 53,
   "id": "7cb44f1b",
   "metadata": {},
   "outputs": [],
   "source": [
    "def addition():\n",
    "    number = int(input())\n",
    "    result = 0\n",
    "    count = 0\n",
    "    while number != 0:\n",
    "        result += number\n",
    "        number = int(input())\n",
    "        count += 1  \n",
    "    return (result, count)  "
   ]
  },
  {
   "cell_type": "code",
   "execution_count": 54,
   "id": "a2794af3",
   "metadata": {},
   "outputs": [
    {
     "name": "stdout",
     "output_type": "stream",
     "text": [
      "1\n",
      "2\n",
      "3\n",
      "4\n",
      "0\n"
     ]
    },
    {
     "data": {
      "text/plain": [
       "(10, 4)"
      ]
     },
     "execution_count": 54,
     "metadata": {},
     "output_type": "execute_result"
    }
   ],
   "source": [
    "addition()"
   ]
  },
  {
   "cell_type": "markdown",
   "id": "af7889cc",
   "metadata": {},
   "source": [
    "#### 3. Create a function called \"subtraction\" that can subtract two or more numbers till user\n",
    "#### enters zero and returns answer and countof input numbers in a list."
   ]
  },
  {
   "cell_type": "code",
   "execution_count": 59,
   "id": "d4cc3a48",
   "metadata": {},
   "outputs": [],
   "source": [
    "def subtraction():\n",
    "    number = int(input())\n",
    "    result = number\n",
    "    count = 0\n",
    "    while number != 0:\n",
    "        number = int(input())\n",
    "        result -= number\n",
    "        count += 1  \n",
    "    return (result, count)  "
   ]
  },
  {
   "cell_type": "code",
   "execution_count": 60,
   "id": "c5d6a404",
   "metadata": {},
   "outputs": [
    {
     "name": "stdout",
     "output_type": "stream",
     "text": [
      "1\n",
      "2\n",
      "3\n",
      "4\n",
      "0\n"
     ]
    },
    {
     "data": {
      "text/plain": [
       "(-8, 4)"
      ]
     },
     "execution_count": 60,
     "metadata": {},
     "output_type": "execute_result"
    }
   ],
   "source": [
    "subtraction()"
   ]
  },
  {
   "cell_type": "markdown",
   "id": "88056e6e",
   "metadata": {},
   "source": [
    "#### 4. Create a function called \"multiplication\" that can multiply two or more numbers till\n",
    "#### user enters zero and returns answer and count of input numbers in a list."
   ]
  },
  {
   "cell_type": "code",
   "execution_count": 68,
   "id": "9603cabc",
   "metadata": {},
   "outputs": [],
   "source": [
    "def multiplication():\n",
    "    number = int(input())\n",
    "    result = 1\n",
    "    count = 0\n",
    "    while number != 0:\n",
    "        result *= number\n",
    "        number = int(input())\n",
    "        count += 1  \n",
    "    return (result, count) "
   ]
  },
  {
   "cell_type": "code",
   "execution_count": 69,
   "id": "10ce0ec7",
   "metadata": {},
   "outputs": [
    {
     "name": "stdout",
     "output_type": "stream",
     "text": [
      "1\n",
      "2\n",
      "3\n",
      "4\n",
      "0\n"
     ]
    },
    {
     "data": {
      "text/plain": [
       "(24, 4)"
      ]
     },
     "execution_count": 69,
     "metadata": {},
     "output_type": "execute_result"
    }
   ],
   "source": [
    "multiplication()"
   ]
  },
  {
   "cell_type": "markdown",
   "id": "d0d4402d",
   "metadata": {},
   "source": [
    "#### 5. Create a function called “average” that returns mean of “addition” function."
   ]
  },
  {
   "cell_type": "code",
   "execution_count": 76,
   "id": "9a622dc6",
   "metadata": {},
   "outputs": [],
   "source": [
    "def average():\n",
    "    a = addition()\n",
    "    return a[0] / a[1]"
   ]
  },
  {
   "cell_type": "code",
   "execution_count": 77,
   "id": "4d17049a",
   "metadata": {},
   "outputs": [
    {
     "name": "stdout",
     "output_type": "stream",
     "text": [
      "1\n",
      "2\n",
      "3\n",
      "4\n",
      "0\n"
     ]
    },
    {
     "data": {
      "text/plain": [
       "2.5"
      ]
     },
     "execution_count": 77,
     "metadata": {},
     "output_type": "execute_result"
    }
   ],
   "source": [
    "average()"
   ]
  },
  {
   "cell_type": "markdown",
   "id": "2816fea0",
   "metadata": {},
   "source": [
    "#### 6. Create a simple calculator that asks user to perform operations among created functions."
   ]
  },
  {
   "cell_type": "code",
   "execution_count": 88,
   "id": "e980c6c1",
   "metadata": {},
   "outputs": [],
   "source": [
    "def cal():\n",
    "    while True:\n",
    "        enter = input()\n",
    "        if enter == '+':\n",
    "            print(addition())\n",
    "        elif enter == '-':\n",
    "            print(subtraction())\n",
    "        elif enter == '*':\n",
    "            print(multiplication())\n",
    "        elif enter == 'avg':\n",
    "            print(average())\n",
    "        else:\n",
    "            return('enter + - * or avg')"
   ]
  },
  {
   "cell_type": "code",
   "execution_count": 89,
   "id": "5ed4e17c",
   "metadata": {},
   "outputs": [
    {
     "name": "stdout",
     "output_type": "stream",
     "text": [
      "+\n",
      "1\n",
      "2\n",
      "3\n",
      "4\n",
      "0\n",
      "(10, 4)\n",
      "*\n",
      "1\n",
      "2\n",
      "3\n",
      "4\n",
      "0\n",
      "(24, 4)\n",
      "avg\n",
      "1\n",
      "2\n",
      "3\n",
      "4\n",
      "0\n",
      "2.5\n",
      "-\n",
      "1\n",
      "2\n",
      "3\n",
      "4\n",
      "0\n",
      "(-8, 4)\n",
      "u\n"
     ]
    },
    {
     "data": {
      "text/plain": [
       "'enter + - * or avg'"
      ]
     },
     "execution_count": 89,
     "metadata": {},
     "output_type": "execute_result"
    }
   ],
   "source": [
    "cal()"
   ]
  },
  {
   "cell_type": "code",
   "execution_count": 98,
   "id": "af5e2105",
   "metadata": {},
   "outputs": [],
   "source": [
    "def cal():\n",
    "    while True:\n",
    "        enter = input()\n",
    "        if enter != 'q':\n",
    "            if enter == '+':\n",
    "                print(addition())\n",
    "            elif enter == '-':\n",
    "                print(subtraction())\n",
    "            elif enter == '*':\n",
    "                print(multiplication())\n",
    "            elif enter == 'avg':\n",
    "                print(average())\n",
    "            else:\n",
    "                print('enter + - * or avg')\n",
    "        else:\n",
    "            break"
   ]
  },
  {
   "cell_type": "code",
   "execution_count": 99,
   "id": "b8028be6",
   "metadata": {},
   "outputs": [
    {
     "name": "stdout",
     "output_type": "stream",
     "text": [
      "+\n",
      "1\n",
      "2\n",
      "3\n",
      "4\n",
      "0\n",
      "(10, 4)\n",
      "*\n",
      "1\n",
      "2\n",
      "3\n",
      "4\n",
      "0\n",
      "(24, 4)\n",
      "l\n",
      "enter + - * or avg\n",
      "q\n"
     ]
    }
   ],
   "source": [
    "cal()"
   ]
  },
  {
   "cell_type": "markdown",
   "id": "83fb47d9",
   "metadata": {},
   "source": [
    "#### 7. Write a Python program to find intersection of two given arrays using lambda."
   ]
  },
  {
   "cell_type": "code",
   "execution_count": 126,
   "id": "fff29b53",
   "metadata": {},
   "outputs": [],
   "source": [
    "list1 = [1, 2, 3, 4, 5]\n",
    "list2 = [3, 4, 5, 8, 9, 10]"
   ]
  },
  {
   "cell_type": "code",
   "execution_count": 127,
   "id": "e71775e8",
   "metadata": {},
   "outputs": [
    {
     "data": {
      "text/plain": [
       "[3, 4, 5]"
      ]
     },
     "execution_count": 127,
     "metadata": {},
     "output_type": "execute_result"
    }
   ],
   "source": [
    "list(filter(lambda x: x in list1, list2))"
   ]
  },
  {
   "cell_type": "code",
   "execution_count": 128,
   "id": "fb23a878",
   "metadata": {},
   "outputs": [
    {
     "data": {
      "text/plain": [
       "[3, 4, 5]"
      ]
     },
     "execution_count": 128,
     "metadata": {},
     "output_type": "execute_result"
    }
   ],
   "source": [
    "[x for x in list1 if x in list2]"
   ]
  },
  {
   "cell_type": "code",
   "execution_count": 129,
   "id": "689fbacd",
   "metadata": {},
   "outputs": [
    {
     "data": {
      "text/plain": [
       "[3, 4, 5]"
      ]
     },
     "execution_count": 129,
     "metadata": {},
     "output_type": "execute_result"
    }
   ],
   "source": [
    "intersect = lambda a, b: [x for x in a if x in b]\n",
    "intersect(list1, list2)"
   ]
  },
  {
   "cell_type": "code",
   "execution_count": 133,
   "id": "eb387eff",
   "metadata": {},
   "outputs": [
    {
     "data": {
      "text/plain": [
       "[3, 4, 5]"
      ]
     },
     "execution_count": 133,
     "metadata": {},
     "output_type": "execute_result"
    }
   ],
   "source": [
    "list(set(list1).intersection(set(list2)))"
   ]
  },
  {
   "cell_type": "markdown",
   "id": "9dbb1f5e",
   "metadata": {},
   "source": [
    "#### 8. Write a Python program to add two given lists using map and lambda."
   ]
  },
  {
   "cell_type": "code",
   "execution_count": 137,
   "id": "e9a1c400",
   "metadata": {},
   "outputs": [
    {
     "data": {
      "text/plain": [
       "[4, 6, 8, 12, 14]"
      ]
     },
     "execution_count": 137,
     "metadata": {},
     "output_type": "execute_result"
    }
   ],
   "source": [
    "list(map(lambda x, y: x+y, list1, list2))"
   ]
  },
  {
   "cell_type": "markdown",
   "id": "758fbf56",
   "metadata": {},
   "source": [
    "#### 9. Write a Python program that stores numbers in a list which are divisible by nineteen or thirteen from a given list."
   ]
  },
  {
   "cell_type": "code",
   "execution_count": 138,
   "id": "98596bb6",
   "metadata": {},
   "outputs": [],
   "source": [
    "list1 = [13, 26, 33, 19, 60]"
   ]
  },
  {
   "cell_type": "code",
   "execution_count": 140,
   "id": "22406b2e",
   "metadata": {},
   "outputs": [
    {
     "data": {
      "text/plain": [
       "[13, 26, 19]"
      ]
     },
     "execution_count": 140,
     "metadata": {},
     "output_type": "execute_result"
    }
   ],
   "source": [
    "list(filter(lambda x: not x % 13 or not x % 19, list1))"
   ]
  },
  {
   "cell_type": "code",
   "execution_count": null,
   "id": "ba6a4395",
   "metadata": {},
   "outputs": [],
   "source": []
  }
 ],
 "metadata": {
  "kernelspec": {
   "display_name": "Python 3 (ipykernel)",
   "language": "python",
   "name": "python3"
  },
  "language_info": {
   "codemirror_mode": {
    "name": "ipython",
    "version": 3
   },
   "file_extension": ".py",
   "mimetype": "text/x-python",
   "name": "python",
   "nbconvert_exporter": "python",
   "pygments_lexer": "ipython3",
   "version": "3.11.5"
  }
 },
 "nbformat": 4,
 "nbformat_minor": 5
}
