{
 "cells": [
  {
   "cell_type": "code",
   "execution_count": 2,
   "id": "573c81af",
   "metadata": {},
   "outputs": [],
   "source": [
    "import re"
   ]
  },
  {
   "cell_type": "markdown",
   "id": "66f51eae",
   "metadata": {},
   "source": [
    "#### 1. Create a regex that can select names and ages from the given list and create a new dictionary with name as a key and age as a value: \n",
    "Nameage = \"\\Janice is 22 and Theon is 33 \\ Gabriel is 44 and Joey is 21\\\""
   ]
  },
  {
   "cell_type": "code",
   "execution_count": 29,
   "id": "432833bc",
   "metadata": {},
   "outputs": [
    {
     "name": "stdout",
     "output_type": "stream",
     "text": [
      "['Janice', 'Theon', 'Gabriel', 'Joey']\n"
     ]
    }
   ],
   "source": [
    "Nameage = \"Janice is 22 and Theon is 33 Gabriel is 44 and Joey is 21\"\n",
    "list_name = re.findall(r'\\b[A-Z][a-z]+', Nameage)\n",
    "print(list_name)"
   ]
  },
  {
   "cell_type": "code",
   "execution_count": 30,
   "id": "a74e0be3",
   "metadata": {},
   "outputs": [
    {
     "data": {
      "text/plain": [
       "['22', '33', '44', '21']"
      ]
     },
     "execution_count": 30,
     "metadata": {},
     "output_type": "execute_result"
    }
   ],
   "source": [
    "list_age = re.findall(r'\\d{1,3}', Nameage)\n",
    "list_age"
   ]
  },
  {
   "cell_type": "code",
   "execution_count": 31,
   "id": "3af03676",
   "metadata": {},
   "outputs": [
    {
     "data": {
      "text/plain": [
       "{'Janice': '22', 'Theon': '33', 'Gabriel': '44', 'Joey': '21'}"
      ]
     },
     "execution_count": 31,
     "metadata": {},
     "output_type": "execute_result"
    }
   ],
   "source": [
    "dict(zip(list_name, list_age))"
   ]
  },
  {
   "cell_type": "markdown",
   "id": "9ba712a3",
   "metadata": {},
   "source": [
    "#### the second way"
   ]
  },
  {
   "cell_type": "code",
   "execution_count": 4,
   "id": "4239203b",
   "metadata": {},
   "outputs": [
    {
     "data": {
      "text/plain": [
       "[('Janice', '22'), ('Theon', '33'), ('Gabriel', '44'), ('Joey', '21')]"
      ]
     },
     "execution_count": 4,
     "metadata": {},
     "output_type": "execute_result"
    }
   ],
   "source": [
    "Nameage = \"Janice is 22 and Theon is 33 Gabriel is 44 and Joey is 21\"\n",
    "result = (re.findall(r'([A-z]+)\\sis\\s(\\d{1,3})', Nameage))\n",
    "result"
   ]
  },
  {
   "cell_type": "code",
   "execution_count": 5,
   "id": "0d52cec3",
   "metadata": {},
   "outputs": [
    {
     "data": {
      "text/plain": [
       "{'Janice': '22', 'Theon': '33', 'Gabriel': '44', 'Joey': '21'}"
      ]
     },
     "execution_count": 5,
     "metadata": {},
     "output_type": "execute_result"
    }
   ],
   "source": [
    "dict(result)"
   ]
  },
  {
   "cell_type": "markdown",
   "id": "cf295a95",
   "metadata": {},
   "source": [
    "#### 3rd way"
   ]
  },
  {
   "cell_type": "code",
   "execution_count": 6,
   "id": "9b7617a9",
   "metadata": {},
   "outputs": [
    {
     "data": {
      "text/plain": [
       "[{'Name': 'Janice', 'age': '22'},\n",
       " {'Name': 'Theon', 'age': '33'},\n",
       " {'Name': 'Gabriel', 'age': '44'},\n",
       " {'Name': 'Joey', 'age': '21'}]"
      ]
     },
     "execution_count": 6,
     "metadata": {},
     "output_type": "execute_result"
    }
   ],
   "source": [
    "result = re.finditer(r'(?P<Name>[A-z]+)\\sis\\s(?P<age>\\d{1,3})', Nameage)\n",
    "[i.groupdict() for i in result]"
   ]
  },
  {
   "cell_type": "markdown",
   "id": "d6689a94",
   "metadata": {},
   "source": [
    "#### 2. Create a regex for email verification. All E-mail addresses should include:\n",
    "\n",
    "     a) 3 to 10 lowercase or uppercase letters, numbers\n",
    "     b) An @ symbol\n",
    "     c) 2 to 10 lowercase and uppercase letters, numbers\n",
    "     d) .\n",
    "     e) 2 to 4 lowercase and uppercase letters\n",
    "                  Example: meow@gmail.com is a right mail but, \n",
    "                  Hello.com, MrMu@.com are not."
   ]
  },
  {
   "cell_type": "code",
   "execution_count": 79,
   "id": "b829b611",
   "metadata": {},
   "outputs": [
    {
     "data": {
      "text/plain": [
       "['meow@gmail.com']"
      ]
     },
     "execution_count": 79,
     "metadata": {},
     "output_type": "execute_result"
    }
   ],
   "source": [
    "mail = 'meow@gmail.com'\n",
    "re.findall(r'[A-Za-z0-9]{3,10}@[A-Za-z0-9]{2,10}\\.[A-Za-z]{2,4}', mail)"
   ]
  },
  {
   "cell_type": "code",
   "execution_count": 80,
   "id": "db17721a",
   "metadata": {},
   "outputs": [
    {
     "data": {
      "text/plain": [
       "[]"
      ]
     },
     "execution_count": 80,
     "metadata": {},
     "output_type": "execute_result"
    }
   ],
   "source": [
    "mail = 'Hello.com'\n",
    "re.findall(r'[A-Za-z0-9]{3,10}@[A-Za-z0-9]{2,10}\\.[A-Za-z]{2,4}', mail)"
   ]
  },
  {
   "cell_type": "code",
   "execution_count": 81,
   "id": "908bfe23",
   "metadata": {},
   "outputs": [
    {
     "data": {
      "text/plain": [
       "[]"
      ]
     },
     "execution_count": 81,
     "metadata": {},
     "output_type": "execute_result"
    }
   ],
   "source": [
    "mail = 'MrMu@.com'\n",
    "re.findall(r'[A-Za-z0-9]{3,10}@[A-Za-z0-9]{2,10}\\.[A-Za-z]{2,4}', mail)"
   ]
  },
  {
   "cell_type": "markdown",
   "id": "980cbe3d",
   "metadata": {},
   "source": [
    "#### 3. Create a regex for number verification. The order of number’s structure should be as following:\n",
    "     1. (\n",
    "     2. 3 numbers\n",
    "     3. )\n",
    "     4. Space\n",
    "     5. numbers\n",
    "     6. -\n",
    "     7. numbers\n",
    "               Example: (257) 563-7401, (111) 222-3333 are right numbers\n",
    "                        (1) 19-39, +994 012-13-32 are not right numbers"
   ]
  },
  {
   "cell_type": "code",
   "execution_count": 172,
   "id": "207f2a00",
   "metadata": {},
   "outputs": [
    {
     "data": {
      "text/plain": [
       "['(257) 563-7401']"
      ]
     },
     "execution_count": 172,
     "metadata": {},
     "output_type": "execute_result"
    }
   ],
   "source": [
    "number = '(257) 563-7401' \n",
    "re.findall(r'^\\(\\d{3}\\)\\s\\d{3}-\\d{4}$', number)"
   ]
  },
  {
   "cell_type": "code",
   "execution_count": 173,
   "id": "e9b5f1c7",
   "metadata": {},
   "outputs": [
    {
     "data": {
      "text/plain": [
       "['(111) 222-3333']"
      ]
     },
     "execution_count": 173,
     "metadata": {},
     "output_type": "execute_result"
    }
   ],
   "source": [
    "number = '(111) 222-3333' \n",
    "re.findall(r'^\\(\\d{3}\\)\\s\\d{3}-\\d{4}$', number)"
   ]
  },
  {
   "cell_type": "code",
   "execution_count": 174,
   "id": "4b8ed22d",
   "metadata": {},
   "outputs": [
    {
     "data": {
      "text/plain": [
       "[]"
      ]
     },
     "execution_count": 174,
     "metadata": {},
     "output_type": "execute_result"
    }
   ],
   "source": [
    "number = '(1) 19-39' \n",
    "re.findall(r'^\\(\\d{3}\\)\\s\\d{3}-\\d{4}$', number)"
   ]
  },
  {
   "cell_type": "code",
   "execution_count": 175,
   "id": "2fb644da",
   "metadata": {},
   "outputs": [
    {
     "data": {
      "text/plain": [
       "[]"
      ]
     },
     "execution_count": 175,
     "metadata": {},
     "output_type": "execute_result"
    }
   ],
   "source": [
    "number = '+994 012-13-32' \n",
    "re.findall(r'^\\(\\d{3}\\)\\s\\d{3}-\\d{4}$', number)"
   ]
  },
  {
   "cell_type": "code",
   "execution_count": null,
   "id": "fe1cae3c",
   "metadata": {},
   "outputs": [],
   "source": []
  }
 ],
 "metadata": {
  "kernelspec": {
   "display_name": "Python 3 (ipykernel)",
   "language": "python",
   "name": "python3"
  },
  "language_info": {
   "codemirror_mode": {
    "name": "ipython",
    "version": 3
   },
   "file_extension": ".py",
   "mimetype": "text/x-python",
   "name": "python",
   "nbconvert_exporter": "python",
   "pygments_lexer": "ipython3",
   "version": "3.11.5"
  }
 },
 "nbformat": 4,
 "nbformat_minor": 5
}
