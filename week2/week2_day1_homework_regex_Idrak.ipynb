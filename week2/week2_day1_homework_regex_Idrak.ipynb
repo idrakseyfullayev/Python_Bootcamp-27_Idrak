{
 "cells": [
  {
   "cell_type": "markdown",
   "id": "cb2d353a",
   "metadata": {},
   "source": [
    "#### 1. Which matches a word containing vowels in it (a,ı,o,u,e,ə,i,ö,ü)."
   ]
  },
  {
   "cell_type": "code",
   "execution_count": 15,
   "id": "4a125f02",
   "metadata": {},
   "outputs": [],
   "source": [
    "import re"
   ]
  },
  {
   "cell_type": "code",
   "execution_count": 16,
   "id": "b71b393b",
   "metadata": {},
   "outputs": [],
   "source": [
    "string = 'Azərbaycanın RS ən gözəl güşəsinə xoş gəlmişsiniz123 ə'"
   ]
  },
  {
   "cell_type": "code",
   "execution_count": 18,
   "id": "639e44b7",
   "metadata": {},
   "outputs": [
    {
     "name": "stdout",
     "output_type": "stream",
     "text": [
      "['Azərbaycanın', 'ən', 'gözəl', 'güşəsinə', 'xoş', 'gəlmişsiniz', 'ə']\n"
     ]
    }
   ],
   "source": [
    "print(re.findall(r'\\b[A-Za-zş]*[a-zşa,ı,o,u,e,ə,i,ö,ü]+[a-zş]*', string))"
   ]
  },
  {
   "cell_type": "markdown",
   "id": "eab25909",
   "metadata": {},
   "source": [
    "#### 2. Which matches a word containing vowels not at the start or end of the word (a,ı,o,u,e,ə,i,ö,ü)."
   ]
  },
  {
   "cell_type": "code",
   "execution_count": 255,
   "id": "ccfee35f",
   "metadata": {},
   "outputs": [],
   "source": [
    "string = 'Ey insan Azərbaycanınin RS ən gözəl güşəsinə xoş gəlmişsiniz123 ə'"
   ]
  },
  {
   "cell_type": "code",
   "execution_count": 256,
   "id": "e425bd11",
   "metadata": {},
   "outputs": [
    {
     "name": "stdout",
     "output_type": "stream",
     "text": [
      "[' RS', 'xoş']\n"
     ]
    }
   ],
   "source": [
    "print(re.findall(r'\\b[^a,ı,o,u,e,ə,i,ö,üAIOUEƏİÖÜ][A-Za-z][^a,ı,o,u,e,ə,i,ö,üüAIOUEƏİÖÜ]\\b', string))"
   ]
  },
  {
   "cell_type": "markdown",
   "id": "fd2029f7",
   "metadata": {},
   "source": [
    "#### 3. Checks for a number at the end of a given string"
   ]
  },
  {
   "cell_type": "code",
   "execution_count": 92,
   "id": "e3303560",
   "metadata": {},
   "outputs": [],
   "source": [
    "string = '2computer1 computer2 5th rs4th777'"
   ]
  },
  {
   "cell_type": "code",
   "execution_count": 93,
   "id": "f39ccec0",
   "metadata": {},
   "outputs": [
    {
     "data": {
      "text/plain": [
       "['777']"
      ]
     },
     "execution_count": 93,
     "metadata": {},
     "output_type": "execute_result"
    }
   ],
   "source": [
    "re.findall(r'\\d+$', string)"
   ]
  },
  {
   "cell_type": "markdown",
   "id": "c64d4c68",
   "metadata": {},
   "source": [
    "#### 4. Which matches a word at the end of string, with optional question mark and exclamation point."
   ]
  },
  {
   "cell_type": "code",
   "execution_count": 90,
   "id": "de8cbfe6",
   "metadata": {},
   "outputs": [],
   "source": [
    "string = 'Qarabag! Azerbaycandir!'"
   ]
  },
  {
   "cell_type": "code",
   "execution_count": 91,
   "id": "8c86625f",
   "metadata": {},
   "outputs": [
    {
     "data": {
      "text/plain": [
       "['Azerbaycandir!']"
      ]
     },
     "execution_count": 91,
     "metadata": {},
     "output_type": "execute_result"
    }
   ],
   "source": [
    "re.findall(r'[A-Za-z]+[?!]$', string)"
   ]
  },
  {
   "cell_type": "markdown",
   "id": "6b16237e",
   "metadata": {},
   "source": [
    "#### 5. Replaces whitespaces with a tab and vice versa."
   ]
  },
  {
   "cell_type": "code",
   "execution_count": 302,
   "id": "8295619c",
   "metadata": {},
   "outputs": [],
   "source": [
    "string = 'Arif1 Akif2 Elnur3'"
   ]
  },
  {
   "cell_type": "code",
   "execution_count": 303,
   "id": "13fc1eaa",
   "metadata": {},
   "outputs": [
    {
     "data": {
      "text/plain": [
       "'Arif1    Akif2    Elnur3'"
      ]
     },
     "execution_count": 303,
     "metadata": {},
     "output_type": "execute_result"
    }
   ],
   "source": [
    "re.sub(r' ', '    ', string)"
   ]
  },
  {
   "cell_type": "code",
   "execution_count": 304,
   "id": "53a3d6bd",
   "metadata": {},
   "outputs": [],
   "source": [
    "string = 'Arif1    Akif2    Elnur3'"
   ]
  },
  {
   "cell_type": "code",
   "execution_count": 305,
   "id": "ce3b70b2",
   "metadata": {},
   "outputs": [
    {
     "data": {
      "text/plain": [
       "'Arif1 Akif2 Elnur3'"
      ]
     },
     "execution_count": 305,
     "metadata": {},
     "output_type": "execute_result"
    }
   ],
   "source": [
    "re.sub(r'    ', ' ', string)"
   ]
  },
  {
   "cell_type": "markdown",
   "id": "29853eaa",
   "metadata": {},
   "source": [
    "#### 6. Finds all words starting with 'ə' or 'ü' in a given string."
   ]
  },
  {
   "cell_type": "code",
   "execution_count": 306,
   "id": "03b1852b",
   "metadata": {},
   "outputs": [],
   "source": [
    "string = 'Mən əncir ağacından əncir və üzüm tənəyindən üzüm dərmək istəyənda ayağım yerdən üzüldü'"
   ]
  },
  {
   "cell_type": "code",
   "execution_count": 325,
   "id": "440679ae",
   "metadata": {},
   "outputs": [
    {
     "data": {
      "text/plain": [
       "['əncir', 'əncir', 'üzüm', 'üzüm', 'üzüldü']"
      ]
     },
     "execution_count": 325,
     "metadata": {},
     "output_type": "execute_result"
    }
   ],
   "source": [
    "re.findall(r'\\b[əü][a-züə]+', string)"
   ]
  },
  {
   "cell_type": "code",
   "execution_count": 328,
   "id": "ba87e19e",
   "metadata": {},
   "outputs": [
    {
     "data": {
      "text/plain": [
       "['əncir', 'əncir', 'üzüm', 'üzüm', 'üzüldü']"
      ]
     },
     "execution_count": 328,
     "metadata": {},
     "output_type": "execute_result"
    }
   ],
   "source": [
    "re.findall(r'(?:\\b[əü])[a-züə]+', string)"
   ]
  },
  {
   "cell_type": "markdown",
   "id": "f8daf430",
   "metadata": {},
   "source": [
    "#### 7. Removes all whitespaces from a string."
   ]
  },
  {
   "cell_type": "code",
   "execution_count": 19,
   "id": "314a85df",
   "metadata": {},
   "outputs": [],
   "source": [
    "string = 'Ar if,Ak if, A d il'"
   ]
  },
  {
   "cell_type": "code",
   "execution_count": 20,
   "id": "b4a3bc9a",
   "metadata": {},
   "outputs": [
    {
     "data": {
      "text/plain": [
       "'Arif,Akif,Adil'"
      ]
     },
     "execution_count": 20,
     "metadata": {},
     "output_type": "execute_result"
    }
   ],
   "source": [
    "re.sub(r' ', '', string)"
   ]
  },
  {
   "cell_type": "markdown",
   "id": "151a88f0",
   "metadata": {},
   "source": [
    "#### 8. Finds all words which have more than 4 characters in a string."
   ]
  },
  {
   "cell_type": "code",
   "execution_count": 105,
   "id": "0734950f",
   "metadata": {},
   "outputs": [],
   "source": [
    "string = 'Kim Cen In 2000-ci ilde Bakiya resmi sefer edib'"
   ]
  },
  {
   "cell_type": "code",
   "execution_count": 106,
   "id": "c000cc69",
   "metadata": {},
   "outputs": [
    {
     "name": "stdout",
     "output_type": "stream",
     "text": [
      "['Bakiya', 'resmi', 'sefer']\n"
     ]
    }
   ],
   "source": [
    "print(re.findall(r'\\b[A-Za-z]{5,}\\b', string))"
   ]
  },
  {
   "cell_type": "markdown",
   "id": "ecefac44",
   "metadata": {},
   "source": [
    "#### 9. Inserts spaces between words starting with capital letters.\n",
    "                  Original string: PythonProgrammingLanguage\n",
    "                  Expected output: Python Programming Language"
   ]
  },
  {
   "cell_type": "code",
   "execution_count": 107,
   "id": "d5506e31",
   "metadata": {},
   "outputs": [],
   "source": [
    "string = 'PythonProgrammingLanguage'"
   ]
  },
  {
   "cell_type": "code",
   "execution_count": 108,
   "id": "39560b94",
   "metadata": {},
   "outputs": [
    {
     "data": {
      "text/plain": [
       "['Python', 'Programming', 'Language']"
      ]
     },
     "execution_count": 108,
     "metadata": {},
     "output_type": "execute_result"
    }
   ],
   "source": [
    "result = re.findall(r'[A-Z][a-z]+', string)\n",
    "result"
   ]
  },
  {
   "cell_type": "code",
   "execution_count": 109,
   "id": "b777f0c8",
   "metadata": {},
   "outputs": [
    {
     "data": {
      "text/plain": [
       "'Python Programming Language'"
      ]
     },
     "execution_count": 109,
     "metadata": {},
     "output_type": "execute_result"
    }
   ],
   "source": [
    "' '.join(result)"
   ]
  },
  {
   "cell_type": "markdown",
   "id": "2ea0cb14",
   "metadata": {},
   "source": [
    "#### 2nd way"
   ]
  },
  {
   "cell_type": "code",
   "execution_count": 110,
   "id": "4238edc6",
   "metadata": {},
   "outputs": [],
   "source": [
    "string = 'PythonProgrammingLanguage'"
   ]
  },
  {
   "cell_type": "code",
   "execution_count": 111,
   "id": "0f1eb577",
   "metadata": {},
   "outputs": [
    {
     "data": {
      "text/plain": [
       "'Python Programming Language'"
      ]
     },
     "execution_count": 111,
     "metadata": {},
     "output_type": "execute_result"
    }
   ],
   "source": [
    "re.sub(r'([a-z])([A-Z])', r'\\1 \\2', string)"
   ]
  },
  {
   "cell_type": "code",
   "execution_count": null,
   "id": "ba241276",
   "metadata": {},
   "outputs": [],
   "source": []
  }
 ],
 "metadata": {
  "kernelspec": {
   "display_name": "Python 3 (ipykernel)",
   "language": "python",
   "name": "python3"
  },
  "language_info": {
   "codemirror_mode": {
    "name": "ipython",
    "version": 3
   },
   "file_extension": ".py",
   "mimetype": "text/x-python",
   "name": "python",
   "nbconvert_exporter": "python",
   "pygments_lexer": "ipython3",
   "version": "3.11.5"
  }
 },
 "nbformat": 4,
 "nbformat_minor": 5
}
