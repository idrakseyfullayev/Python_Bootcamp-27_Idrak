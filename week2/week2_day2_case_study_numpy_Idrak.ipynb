{
 "cells": [
  {
   "cell_type": "markdown",
   "id": "f94cfcd3",
   "metadata": {},
   "source": [
    "#### You are asked to write a Python program according to the following questions."
   ]
  },
  {
   "cell_type": "markdown",
   "id": "a356dcca",
   "metadata": {},
   "source": [
    "#### 1) Create an array of 20 linearly spaced points between 0 and 1."
   ]
  },
  {
   "cell_type": "code",
   "execution_count": 1,
   "id": "07eb1c66",
   "metadata": {},
   "outputs": [],
   "source": [
    "import numpy as np"
   ]
  },
  {
   "cell_type": "code",
   "execution_count": 2,
   "id": "27368aaa",
   "metadata": {},
   "outputs": [
    {
     "data": {
      "text/plain": [
       "array([0.        , 0.05263158, 0.10526316, 0.15789474, 0.21052632,\n",
       "       0.26315789, 0.31578947, 0.36842105, 0.42105263, 0.47368421,\n",
       "       0.52631579, 0.57894737, 0.63157895, 0.68421053, 0.73684211,\n",
       "       0.78947368, 0.84210526, 0.89473684, 0.94736842, 1.        ])"
      ]
     },
     "execution_count": 2,
     "metadata": {},
     "output_type": "execute_result"
    }
   ],
   "source": [
    "np.linspace(start=0, stop=1, num=20)"
   ]
  },
  {
   "cell_type": "markdown",
   "id": "e3ca3360",
   "metadata": {},
   "source": [
    "### 2) Create a 5x5 matrix from 1 to 25 and sum the columns' numbers."
   ]
  },
  {
   "cell_type": "code",
   "execution_count": 6,
   "id": "4dff7524",
   "metadata": {},
   "outputs": [
    {
     "data": {
      "text/plain": [
       "array([55, 60, 65, 70, 75])"
      ]
     },
     "execution_count": 6,
     "metadata": {},
     "output_type": "execute_result"
    }
   ],
   "source": [
    "np.arange(1, 26).reshape(5, 5).sum(axis=0)"
   ]
  },
  {
   "cell_type": "markdown",
   "id": "d11eb8d8",
   "metadata": {},
   "source": [
    "### 3) Create the following matrix.\n",
    "\n",
    "    0.01 0.02 0.03 0.04 0.05 0.06 0.07 0.08 0.09 0.1\n",
    "    0.11 0.12 0.13 0.14 0.15 0.16 0.17 0.18 0.19 0.2\n",
    "    0.21 0.22 0.23 0.24 0.25 0.26 0.27 0.28 0.29 0.3\n",
    "    0.31 0.32 0.33 0.34 0.35 0.36 0.37 0.38 0.39 0.4\n",
    "    0.41 0.42 0.43 0.44 0.45 0.46 0.47 0.48 0.49 0.5\n",
    "    0.51 0.52 0.53 0.54 0.55 0.56 0.57 0.58 0.59 0.6\n",
    "    0.61 0.62 0.63 0.64 0.65 0.66 0.67 0.68 0.69 0.7\n",
    "    0.71 0.72 0.73 0.74 0.75 0.76 0.77 0.78 0.79 0.8\n",
    "    0.81 0.82 0.83 0.84 0.85 0.86 0.87 0.88 0.89 0.9\n",
    "    0.91 0.92 0.93 0.94 0.95 0.96 0.97 0.98 0.99 1."
   ]
  },
  {
   "cell_type": "code",
   "execution_count": 11,
   "id": "ca527bd8",
   "metadata": {},
   "outputs": [
    {
     "data": {
      "text/plain": [
       "array([[0.01, 0.02, 0.03, 0.04, 0.05, 0.06, 0.07, 0.08, 0.09, 0.1 ],\n",
       "       [0.11, 0.12, 0.13, 0.14, 0.15, 0.16, 0.17, 0.18, 0.19, 0.2 ],\n",
       "       [0.21, 0.22, 0.23, 0.24, 0.25, 0.26, 0.27, 0.28, 0.29, 0.3 ],\n",
       "       [0.31, 0.32, 0.33, 0.34, 0.35, 0.36, 0.37, 0.38, 0.39, 0.4 ],\n",
       "       [0.41, 0.42, 0.43, 0.44, 0.45, 0.46, 0.47, 0.48, 0.49, 0.5 ],\n",
       "       [0.51, 0.52, 0.53, 0.54, 0.55, 0.56, 0.57, 0.58, 0.59, 0.6 ],\n",
       "       [0.61, 0.62, 0.63, 0.64, 0.65, 0.66, 0.67, 0.68, 0.69, 0.7 ],\n",
       "       [0.71, 0.72, 0.73, 0.74, 0.75, 0.76, 0.77, 0.78, 0.79, 0.8 ],\n",
       "       [0.81, 0.82, 0.83, 0.84, 0.85, 0.86, 0.87, 0.88, 0.89, 0.9 ],\n",
       "       [0.91, 0.92, 0.93, 0.94, 0.95, 0.96, 0.97, 0.98, 0.99, 1.  ]])"
      ]
     },
     "execution_count": 11,
     "metadata": {},
     "output_type": "execute_result"
    }
   ],
   "source": [
    "np.arange(0.01, 1.01, 0.01).reshape(10, 10)"
   ]
  },
  {
   "cell_type": "markdown",
   "id": "1ed7fa4b",
   "metadata": {},
   "source": [
    "#### 2nd way"
   ]
  },
  {
   "cell_type": "code",
   "execution_count": 13,
   "id": "7ae3a263",
   "metadata": {
    "scrolled": true
   },
   "outputs": [
    {
     "data": {
      "text/plain": [
       "array([[0.01, 0.02, 0.03, 0.04, 0.05, 0.06, 0.07, 0.08, 0.09, 0.1 ],\n",
       "       [0.11, 0.12, 0.13, 0.14, 0.15, 0.16, 0.17, 0.18, 0.19, 0.2 ],\n",
       "       [0.21, 0.22, 0.23, 0.24, 0.25, 0.26, 0.27, 0.28, 0.29, 0.3 ],\n",
       "       [0.31, 0.32, 0.33, 0.34, 0.35, 0.36, 0.37, 0.38, 0.39, 0.4 ],\n",
       "       [0.41, 0.42, 0.43, 0.44, 0.45, 0.46, 0.47, 0.48, 0.49, 0.5 ],\n",
       "       [0.51, 0.52, 0.53, 0.54, 0.55, 0.56, 0.57, 0.58, 0.59, 0.6 ],\n",
       "       [0.61, 0.62, 0.63, 0.64, 0.65, 0.66, 0.67, 0.68, 0.69, 0.7 ],\n",
       "       [0.71, 0.72, 0.73, 0.74, 0.75, 0.76, 0.77, 0.78, 0.79, 0.8 ],\n",
       "       [0.81, 0.82, 0.83, 0.84, 0.85, 0.86, 0.87, 0.88, 0.89, 0.9 ],\n",
       "       [0.91, 0.92, 0.93, 0.94, 0.95, 0.96, 0.97, 0.98, 0.99, 1.  ]])"
      ]
     },
     "execution_count": 13,
     "metadata": {},
     "output_type": "execute_result"
    }
   ],
   "source": [
    "np.arange(1, 101).reshape(10, 10)/100"
   ]
  },
  {
   "cell_type": "markdown",
   "id": "ec699e97",
   "metadata": {},
   "source": [
    "#### 3d way"
   ]
  },
  {
   "cell_type": "code",
   "execution_count": 15,
   "id": "73610237",
   "metadata": {},
   "outputs": [
    {
     "data": {
      "text/plain": [
       "array([[0.01, 0.02, 0.03, 0.04, 0.05, 0.06, 0.07, 0.08, 0.09, 0.1 ],\n",
       "       [0.11, 0.12, 0.13, 0.14, 0.15, 0.16, 0.17, 0.18, 0.19, 0.2 ],\n",
       "       [0.21, 0.22, 0.23, 0.24, 0.25, 0.26, 0.27, 0.28, 0.29, 0.3 ],\n",
       "       [0.31, 0.32, 0.33, 0.34, 0.35, 0.36, 0.37, 0.38, 0.39, 0.4 ],\n",
       "       [0.41, 0.42, 0.43, 0.44, 0.45, 0.46, 0.47, 0.48, 0.49, 0.5 ],\n",
       "       [0.51, 0.52, 0.53, 0.54, 0.55, 0.56, 0.57, 0.58, 0.59, 0.6 ],\n",
       "       [0.61, 0.62, 0.63, 0.64, 0.65, 0.66, 0.67, 0.68, 0.69, 0.7 ],\n",
       "       [0.71, 0.72, 0.73, 0.74, 0.75, 0.76, 0.77, 0.78, 0.79, 0.8 ],\n",
       "       [0.81, 0.82, 0.83, 0.84, 0.85, 0.86, 0.87, 0.88, 0.89, 0.9 ],\n",
       "       [0.91, 0.92, 0.93, 0.94, 0.95, 0.96, 0.97, 0.98, 0.99, 1.  ]])"
      ]
     },
     "execution_count": 15,
     "metadata": {},
     "output_type": "execute_result"
    }
   ],
   "source": [
    "np.linspace(0.01, 1, 100).reshape(10, 10)"
   ]
  },
  {
   "cell_type": "markdown",
   "id": "6af5a7f4",
   "metadata": {},
   "source": [
    "#### 4) Follow the steps:\n",
    "    A) Define a structured data type ( name - S20, Surname - S20, age-i1, mark-f4)\n",
    "    B) Create an array with the given information below in a data type created\n",
    "    (Behram Abbasov 26 85, Yusif Abdullayev 22 92, Maryam Mecidova 19 88, Vagif Hesenzade 24 79)"
   ]
  },
  {
   "cell_type": "code",
   "execution_count": 22,
   "id": "4586f5ab",
   "metadata": {},
   "outputs": [
    {
     "data": {
      "text/plain": [
       "array([(b'Behram', b'Abbasov', 26, 85.),\n",
       "       (b'Yusif', b'Abdullayev', 22, 92.),\n",
       "       (b'Maryam', b'Mecidova', 19, 88.),\n",
       "       (b'Vagif', b'Hesenzade', 24, 79.)],\n",
       "      dtype=[('name', 'S20'), ('surname', 'S20'), ('age', 'i1'), ('mar', '<f4')])"
      ]
     },
     "execution_count": 22,
     "metadata": {},
     "output_type": "execute_result"
    }
   ],
   "source": [
    "arr = np.array([('Behram', 'Abbasov', 26, 85),\n",
    "                ('Yusif', 'Abdullayev', 22, 92),\n",
    "                ('Maryam', 'Mecidova', 19, 88),\n",
    "                ('Vagif', 'Hesenzade', 24, 79)], dtype = [('name', 'S20'), ('surname', 'S20'), ('age', 'i1'), ('mar', 'f4')])\n",
    "arr"
   ]
  },
  {
   "cell_type": "code",
   "execution_count": 26,
   "id": "07668cf7",
   "metadata": {},
   "outputs": [
    {
     "data": {
      "text/plain": [
       "array([(b'Behram', b'Abbasov', 26, 85.),\n",
       "       (b'Yusif', b'Abdullayev', 22, 92.),\n",
       "       (b'Maryam', b'Mecidova', 19, 88.),\n",
       "       (b'Vagif', b'Hesenzade', 24, 79.)],\n",
       "      dtype=[('name', 'S20'), ('surname', 'S20'), ('age', 'i1'), ('mar', '<f4')])"
      ]
     },
     "execution_count": 26,
     "metadata": {},
     "output_type": "execute_result"
    }
   ],
   "source": [
    "arr = np.array([('Behram', 'Abbasov', 26, 85),\n",
    "                ('Yusif', 'Abdullayev', 22, 92),\n",
    "                ('Maryam', 'Mecidova', 19, 88),\n",
    "                ('Vagif', 'Hesenzade', 24, 79)], dtype = [('name', 'S20'), ('surname', 'S20'), ('age', np.int8), \n",
    "                                                          ('mar', np.float32)])\n",
    "arr"
   ]
  },
  {
   "cell_type": "markdown",
   "id": "dd256cf5",
   "metadata": {},
   "source": [
    "#### 5) Create the following array.\n",
    "\n",
    "    99 99 99 99 99 99 99 99 99 99\n",
    "    99  1  0  0  0  0  0  0  0 99\n",
    "    99  0  1  1  1  1  1  1  0 99\n",
    "    99  0  1  0  0  0  0  1  0 99\n",
    "    99  0  1  0  1  1  0  1  0 99\n",
    "    99  0  1  0  1  1  0  1  0 99\n",
    "    99  0  1  0  0  0  0  1  0 99\n",
    "    99  0  1  1  1  1  1  1  0 99\n",
    "    99  0  0  0  0  0  0  0  1 99\n",
    "    99 99 99 99 99 99 99 99 99 99"
   ]
  },
  {
   "cell_type": "code",
   "execution_count": 47,
   "id": "cb6e2976",
   "metadata": {},
   "outputs": [
    {
     "data": {
      "text/plain": [
       "array([[99, 99, 99, 99, 99, 99, 99, 99, 99, 99],\n",
       "       [99, 99, 99, 99, 99, 99, 99, 99, 99, 99],\n",
       "       [99, 99, 99, 99, 99, 99, 99, 99, 99, 99],\n",
       "       [99, 99, 99, 99, 99, 99, 99, 99, 99, 99],\n",
       "       [99, 99, 99, 99, 99, 99, 99, 99, 99, 99],\n",
       "       [99, 99, 99, 99, 99, 99, 99, 99, 99, 99],\n",
       "       [99, 99, 99, 99, 99, 99, 99, 99, 99, 99],\n",
       "       [99, 99, 99, 99, 99, 99, 99, 99, 99, 99],\n",
       "       [99, 99, 99, 99, 99, 99, 99, 99, 99, 99],\n",
       "       [99, 99, 99, 99, 99, 99, 99, 99, 99, 99]])"
      ]
     },
     "execution_count": 47,
     "metadata": {},
     "output_type": "execute_result"
    }
   ],
   "source": [
    "a = np.full((10, 10), fill_value=99)\n",
    "a"
   ]
  },
  {
   "cell_type": "code",
   "execution_count": 48,
   "id": "76e7227f",
   "metadata": {},
   "outputs": [
    {
     "data": {
      "text/plain": [
       "array([[1., 0., 0., 0., 0., 0., 0., 0.],\n",
       "       [0., 1., 0., 0., 0., 0., 0., 0.],\n",
       "       [0., 0., 1., 0., 0., 0., 0., 0.],\n",
       "       [0., 0., 0., 1., 0., 0., 0., 0.],\n",
       "       [0., 0., 0., 0., 1., 0., 0., 0.],\n",
       "       [0., 0., 0., 0., 0., 1., 0., 0.],\n",
       "       [0., 0., 0., 0., 0., 0., 1., 0.],\n",
       "       [0., 0., 0., 0., 0., 0., 0., 1.]])"
      ]
     },
     "execution_count": 48,
     "metadata": {},
     "output_type": "execute_result"
    }
   ],
   "source": [
    "np.identity(8)"
   ]
  },
  {
   "cell_type": "code",
   "execution_count": 49,
   "id": "1f7e4d67",
   "metadata": {},
   "outputs": [],
   "source": [
    "a[1:9, 1:9] = np.identity(8)"
   ]
  },
  {
   "cell_type": "code",
   "execution_count": 51,
   "id": "142dd797",
   "metadata": {},
   "outputs": [
    {
     "data": {
      "text/plain": [
       "array([[99, 99, 99, 99, 99, 99, 99, 99, 99, 99],\n",
       "       [99,  1,  0,  0,  0,  0,  0,  0,  0, 99],\n",
       "       [99,  0,  1,  0,  0,  0,  0,  0,  0, 99],\n",
       "       [99,  0,  0,  1,  0,  0,  0,  0,  0, 99],\n",
       "       [99,  0,  0,  0,  1,  0,  0,  0,  0, 99],\n",
       "       [99,  0,  0,  0,  0,  1,  0,  0,  0, 99],\n",
       "       [99,  0,  0,  0,  0,  0,  1,  0,  0, 99],\n",
       "       [99,  0,  0,  0,  0,  0,  0,  1,  0, 99],\n",
       "       [99,  0,  0,  0,  0,  0,  0,  0,  1, 99],\n",
       "       [99, 99, 99, 99, 99, 99, 99, 99, 99, 99]])"
      ]
     },
     "execution_count": 51,
     "metadata": {},
     "output_type": "execute_result"
    }
   ],
   "source": [
    "a"
   ]
  },
  {
   "cell_type": "code",
   "execution_count": 52,
   "id": "49f3661f",
   "metadata": {},
   "outputs": [],
   "source": [
    "a[2:8, 2:8] = np.ones((6,6))"
   ]
  },
  {
   "cell_type": "code",
   "execution_count": 53,
   "id": "788bdfd6",
   "metadata": {},
   "outputs": [
    {
     "data": {
      "text/plain": [
       "array([[99, 99, 99, 99, 99, 99, 99, 99, 99, 99],\n",
       "       [99,  1,  0,  0,  0,  0,  0,  0,  0, 99],\n",
       "       [99,  0,  1,  1,  1,  1,  1,  1,  0, 99],\n",
       "       [99,  0,  1,  1,  1,  1,  1,  1,  0, 99],\n",
       "       [99,  0,  1,  1,  1,  1,  1,  1,  0, 99],\n",
       "       [99,  0,  1,  1,  1,  1,  1,  1,  0, 99],\n",
       "       [99,  0,  1,  1,  1,  1,  1,  1,  0, 99],\n",
       "       [99,  0,  1,  1,  1,  1,  1,  1,  0, 99],\n",
       "       [99,  0,  0,  0,  0,  0,  0,  0,  1, 99],\n",
       "       [99, 99, 99, 99, 99, 99, 99, 99, 99, 99]])"
      ]
     },
     "execution_count": 53,
     "metadata": {},
     "output_type": "execute_result"
    }
   ],
   "source": [
    "a"
   ]
  },
  {
   "cell_type": "code",
   "execution_count": 55,
   "id": "cdef47d0",
   "metadata": {},
   "outputs": [],
   "source": [
    "a[3:7, 3:7] = np.zeros((4, 4))"
   ]
  },
  {
   "cell_type": "code",
   "execution_count": 56,
   "id": "78e00582",
   "metadata": {},
   "outputs": [
    {
     "data": {
      "text/plain": [
       "array([[99, 99, 99, 99, 99, 99, 99, 99, 99, 99],\n",
       "       [99,  1,  0,  0,  0,  0,  0,  0,  0, 99],\n",
       "       [99,  0,  1,  1,  1,  1,  1,  1,  0, 99],\n",
       "       [99,  0,  1,  0,  0,  0,  0,  1,  0, 99],\n",
       "       [99,  0,  1,  0,  0,  0,  0,  1,  0, 99],\n",
       "       [99,  0,  1,  0,  0,  0,  0,  1,  0, 99],\n",
       "       [99,  0,  1,  0,  0,  0,  0,  1,  0, 99],\n",
       "       [99,  0,  1,  1,  1,  1,  1,  1,  0, 99],\n",
       "       [99,  0,  0,  0,  0,  0,  0,  0,  1, 99],\n",
       "       [99, 99, 99, 99, 99, 99, 99, 99, 99, 99]])"
      ]
     },
     "execution_count": 56,
     "metadata": {},
     "output_type": "execute_result"
    }
   ],
   "source": [
    "a"
   ]
  },
  {
   "cell_type": "code",
   "execution_count": 57,
   "id": "2564801f",
   "metadata": {},
   "outputs": [],
   "source": [
    "a[4:6, 4:6] = np.ones((2, 2))"
   ]
  },
  {
   "cell_type": "code",
   "execution_count": 58,
   "id": "b26cdfe5",
   "metadata": {},
   "outputs": [
    {
     "data": {
      "text/plain": [
       "array([[99, 99, 99, 99, 99, 99, 99, 99, 99, 99],\n",
       "       [99,  1,  0,  0,  0,  0,  0,  0,  0, 99],\n",
       "       [99,  0,  1,  1,  1,  1,  1,  1,  0, 99],\n",
       "       [99,  0,  1,  0,  0,  0,  0,  1,  0, 99],\n",
       "       [99,  0,  1,  0,  1,  1,  0,  1,  0, 99],\n",
       "       [99,  0,  1,  0,  1,  1,  0,  1,  0, 99],\n",
       "       [99,  0,  1,  0,  0,  0,  0,  1,  0, 99],\n",
       "       [99,  0,  1,  1,  1,  1,  1,  1,  0, 99],\n",
       "       [99,  0,  0,  0,  0,  0,  0,  0,  1, 99],\n",
       "       [99, 99, 99, 99, 99, 99, 99, 99, 99, 99]])"
      ]
     },
     "execution_count": 58,
     "metadata": {},
     "output_type": "execute_result"
    }
   ],
   "source": [
    "a"
   ]
  },
  {
   "cell_type": "code",
   "execution_count": null,
   "id": "dc4b6463",
   "metadata": {},
   "outputs": [],
   "source": []
  }
 ],
 "metadata": {
  "kernelspec": {
   "display_name": "Python 3 (ipykernel)",
   "language": "python",
   "name": "python3"
  },
  "language_info": {
   "codemirror_mode": {
    "name": "ipython",
    "version": 3
   },
   "file_extension": ".py",
   "mimetype": "text/x-python",
   "name": "python",
   "nbconvert_exporter": "python",
   "pygments_lexer": "ipython3",
   "version": "3.11.5"
  }
 },
 "nbformat": 4,
 "nbformat_minor": 5
}
