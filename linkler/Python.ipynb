{
 "cells": [
  {
   "cell_type": "markdown",
   "id": "92809d08",
   "metadata": {},
   "source": [
    "Week 1:\n",
    "Day 1\n",
    "Class: https://youtu.be/I-1K1mklsnE \n",
    "Case Study: https://youtu.be/IZ9LsF8sYjE \n",
    "Day 2\n",
    "Class: https://youtu.be/f_ocMcSxu6U , https://youtu.be/K5twZ1tyuWk \n",
    "\n",
    "Week 2:\n",
    "Day 1\n",
    "Class: https://youtu.be/aqZac1wOfWk , https://youtu.be/aJ5kYsXfOoE \n",
    "Case Study: https://youtu.be/aQjp9dTSkKM \n",
    "Day 2\n",
    "Class: https://youtu.be/tQigM8H10Xc \n",
    "Case study: https://youtu.be/nxPCGWA1STw\n",
    "\n",
    "Week 3:\n",
    "Day 1\n",
    "Class: https://youtu.be/CEzk74M2dz8  \n",
    "Case Study: https://youtu.be/0pHHkc5srZA \n",
    "Day 2\n",
    "Class: https://youtu.be/Nrg9jsNJuk4 \n",
    "Case study: https://youtu.be/Il_gfZyoaNs \n",
    "\n",
    "Week 4:\n",
    "Day 1\n",
    "Class: https://youtu.be/cAuZ1S6ErKg , https://youtu.be/a9K9IxLzx7U \n",
    "Case Study:https://youtu.be/2SZqvSwNxbE \n",
    "\n",
    "Day 2 \n",
    "Class: https://youtu.be/zD8e4_QEfp4 \n",
    "Case Study: https://youtu.be/hDVqHt-p6y0 \n",
    "\n",
    "Week 5\n",
    "Class: https://youtu.be/wq72B4c5el4 \n",
    "Case study: https://youtu.be/G3DZgvQBSPM \n",
    "\n",
    "Week 6\n",
    "class day 1 https://youtu.be/GtH6yeblnSE \n",
    "day 2 https://youtu.be/-om1x58F9KA   \n",
    "case study day 1 https://youtu.be/xmuBupXEzyo \n",
    "day 2 https://youtu.be/o6Mu3_B1vJs"
   ]
  },
  {
   "cell_type": "code",
   "execution_count": null,
   "id": "ac469233",
   "metadata": {},
   "outputs": [],
   "source": []
  }
 ],
 "metadata": {
  "kernelspec": {
   "display_name": "Python 3 (ipykernel)",
   "language": "python",
   "name": "python3"
  },
  "language_info": {
   "codemirror_mode": {
    "name": "ipython",
    "version": 3
   },
   "file_extension": ".py",
   "mimetype": "text/x-python",
   "name": "python",
   "nbconvert_exporter": "python",
   "pygments_lexer": "ipython3",
   "version": "3.11.5"
  }
 },
 "nbformat": 4,
 "nbformat_minor": 5
}
