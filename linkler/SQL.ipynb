{
 "cells": [
  {
   "cell_type": "markdown",
   "id": "9e269ef8",
   "metadata": {},
   "source": [
    "Week 5:\n",
    "Class:   https://youtu.be/aUTz7KRoUr8\n",
    "Case study:  https://youtu.be/HwNEEKnGgH0\n",
    "\n",
    "Week 6:\n",
    "Class: https://youtu.be/mYuvlt_vByI \n",
    "Case study: https://youtu.be/dfx8_XB64I0 \n",
    "\n",
    "Week 7:\n",
    "Class: https://youtu.be/RjGIK4JJxFk \n",
    "Case study: https://youtu.be/XHz9MOzkwQs \n",
    "\n",
    "Week 8:\n",
    "Class: https://youtu.be/TQ9d7D7hjBg \n",
    "Case study: https://youtu.be/HpC-jpZuLpc"
   ]
  },
  {
   "cell_type": "code",
   "execution_count": null,
   "id": "887c5b49",
   "metadata": {},
   "outputs": [],
   "source": []
  }
 ],
 "metadata": {
  "kernelspec": {
   "display_name": "Python 3 (ipykernel)",
   "language": "python",
   "name": "python3"
  },
  "language_info": {
   "codemirror_mode": {
    "name": "ipython",
    "version": 3
   },
   "file_extension": ".py",
   "mimetype": "text/x-python",
   "name": "python",
   "nbconvert_exporter": "python",
   "pygments_lexer": "ipython3",
   "version": "3.11.5"
  }
 },
 "nbformat": 4,
 "nbformat_minor": 5
}
