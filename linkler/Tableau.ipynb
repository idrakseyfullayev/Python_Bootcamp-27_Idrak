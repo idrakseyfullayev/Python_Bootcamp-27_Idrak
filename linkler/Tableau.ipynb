{
 "cells": [
  {
   "cell_type": "markdown",
   "id": "f1256404",
   "metadata": {},
   "source": [
    "week 1: \n",
    "class: https://youtu.be/rkIvApg40E4\n",
    "case study: https://youtu.be/a5ksMZYYkGk\n",
    "\n",
    "week 2:\n",
    "class : https://youtu.be/Nc5aWqTdpcs\n",
    "case study: https://youtu.be/8PrSuwgGYk0\n",
    "\n",
    "week 3:\n",
    "class: https://youtu.be/HBiwORSOBI4\n",
    "case study: https://youtu.be/2mDjkM1nYIU\n",
    "\n",
    "week 4:\n",
    "class: https://youtu.be/e2w1hl97V9c \n",
    "case study: https://youtu.be/iVpciVLvmP8 \n",
    "\n",
    "week 5:\n",
    "class: https://youtu.be/EW3_T0RGVWA \n",
    "case study: https://youtu.be/vKni3Xpu-bs"
   ]
  },
  {
   "cell_type": "code",
   "execution_count": null,
   "id": "9b986649",
   "metadata": {},
   "outputs": [],
   "source": []
  }
 ],
 "metadata": {
  "kernelspec": {
   "display_name": "Python 3 (ipykernel)",
   "language": "python",
   "name": "python3"
  },
  "language_info": {
   "codemirror_mode": {
    "name": "ipython",
    "version": 3
   },
   "file_extension": ".py",
   "mimetype": "text/x-python",
   "name": "python",
   "nbconvert_exporter": "python",
   "pygments_lexer": "ipython3",
   "version": "3.11.5"
  }
 },
 "nbformat": 4,
 "nbformat_minor": 5
}
