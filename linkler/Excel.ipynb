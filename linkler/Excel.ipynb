{
 "cells": [
  {
   "cell_type": "markdown",
   "id": "90491ba4",
   "metadata": {},
   "source": [
    "Week 1:\n",
    "Class: https://us06web.zoom.us/rec/share/nwpY6uEW0t8mDXmQ8BYY44hdBDKxjibtcOJ-hFV3wbpkspJiHswzuEx7cpA7C-aU.Bph6QoWmlHTmZ1Ps \n",
    "Passcode: *?N7ZjeX\n",
    "\n",
    "Case Study: https://us06web.zoom.us/rec/share/etEVzxpjju0ItaV2dDbkaMcp4OwrXMH6GLYDbep7gPA8aW6hUT51sV-Y9i7_LA.p3zm_uPBzcmuRvvY \n",
    "Passcode: Tp7&3d0&\n",
    "\n",
    "\n",
    "h\n",
    "Week 2:\n",
    "Class: https://us06web.zoom.us/rec/share/tCzy8pHvG7lrD6jSZyJ91bmpee4kjFEDqq_9OuC1n5lANnEV-1jF4_xKRQl7Okt.xuObl_mNhnDWsdNk \n",
    "Passcode: 620&Te@c\n",
    "\n",
    "Case Study: https://us06web.zoom.us/rec/share/pLWkl1kAjoCqF9t_nvs4HuXUDFbrhpvsNmL_EXlsqUmDNPMDmSv8NgyC4EMzNx6y.Xg7tO7oqAbeLRHPR \n",
    "Passcode: i46wh9+x\n",
    "\n",
    "\n",
    "Week 3:\n",
    "Class: https://us06web.zoom.us/rec/share/sutEIwGPK4tiZZkvIsn7MkFFP8l469AQ67DuW_4dY8LbJ7g2r33qCFrSFbiqO0PQ.gOuQLsGAUrvg37oc \n",
    "Passcode: nF7=e&1p\n",
    "\n",
    "Case Study: https://us06web.zoom.us/rec/share/-cQL5k4zFKMw2AxI1V-GGPrYXe517mwSvCVPU5kaGfFq3p0Pc_Ysw4Vde8xkclSu.R-cgsgAL7Up0vCXU \n",
    "Passcode: 6KeHE&.M\n",
    "\n",
    "\n",
    "Week 4:\n",
    "Class: https://us06web.zoom.us/rec/share/mcM_ZFFmZnKT8WvQXnhH2JCQ2aAKRNknOR_ReE1I51FYy9TIREee_dtk46cxIO_i.4v-QnJkIM_eJl2gA \n",
    "Passcode: Al24&#Lv\n",
    "\n",
    "Case Study: https://us06web.zoom.us/rec/share/tfLsN4NVqznEcsWoyxnsK-_yilStna4HB7mZYdvAPCpkGb4SGp9DTQt7QqNUEUa_.mgzuXEiBqf4Vg3KQ\n",
    "Passcode: 1%g5izZD"
   ]
  },
  {
   "cell_type": "code",
   "execution_count": null,
   "id": "854ae91f",
   "metadata": {},
   "outputs": [],
   "source": []
  },
  {
   "cell_type": "markdown",
   "id": "9aae3c6e",
   "metadata": {},
   "source": [
    "WEEK1  \n",
    "https://us06web.zoom.us/rec/share/nwpY6uEW0t8mDXmQ8BYY44hdBDKxjibtcOJ-hFV3wbpkspJiHswzuEx7cpA7C-aU.Bph6QoWmlHTmZ1Ps (Passcode: *?N7ZjeX)\n",
    "https://us06web.zoom.us/rec/share/etEVzxpjju0ItaV2dDbkaMcp4OwrXMH6GLYDbep7gPA8aW6hUT51sV-Y9i7_LA.p3zm_uPBzcmuRvvY (Passcode: Tp7&3d0&)\n",
    "\n",
    "WEEK2\n",
    "https://youtu.be/z6otGColqbM\n",
    "https://us06web.zoom.us/rec/share/pLWkl1kAjoCqF9t_nvs4HuXUDFbrhpvsNmL_EXlsqUmDNPMDmSv8NgyC4EMzNx6y.Xg7tO7oqAbeLRHPR (Passcode: i46wh9+x)\n",
    "\n",
    "WEEK3\n",
    "https://us06web.zoom.us/rec/share/sutEIwGPK4tiZZkvIsn7MkFFP8l469AQ67DuW_4dY8LbJ7g2r33qCFrSFbiqO0PQ.gOuQLsGAUrvg37oc (Passcode: nF7=e&1p)\n",
    "https://us06web.zoom.us/rec/share/-cQL5k4zFKMw2AxI1V-GGPrYXe517mwSvCVPU5kaGfFq3p0Pc_Ysw4Vde8xkclSu.R-cgsgAL7Up0vCXU (Passcode: 6KeHE&.M)\n",
    "\n",
    "WEEK4\n",
    "https://youtu.be/AE5fNmb-Cdo, https://youtu.be/imbzizaRaSA, https://youtu.be/Qx6xq5dBBcY\n",
    "https://youtu.be/0YtcouwBI7s"
   ]
  },
  {
   "cell_type": "code",
   "execution_count": null,
   "id": "6b3dd381",
   "metadata": {},
   "outputs": [],
   "source": []
  }
 ],
 "metadata": {
  "kernelspec": {
   "display_name": "Python 3 (ipykernel)",
   "language": "python",
   "name": "python3"
  },
  "language_info": {
   "codemirror_mode": {
    "name": "ipython",
    "version": 3
   },
   "file_extension": ".py",
   "mimetype": "text/x-python",
   "name": "python",
   "nbconvert_exporter": "python",
   "pygments_lexer": "ipython3",
   "version": "3.11.5"
  }
 },
 "nbformat": 4,
 "nbformat_minor": 5
}
