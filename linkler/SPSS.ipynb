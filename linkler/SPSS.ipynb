{
 "cells": [
  {
   "cell_type": "markdown",
   "id": "442851ab",
   "metadata": {},
   "source": [
    "Week 1:\n",
    "Class: https://youtu.be/x8KIIRpwW5M \n",
    "Case Study: https://youtu.be/lBy-6YsbxUc\n",
    "\n",
    "Week 2:\n",
    "Class: https://youtu.be/G9Y-_-OWRGM \n",
    "Case Study: https://youtu.be/phhXshzVJk0 \n",
    "\n",
    "Week 3:\n",
    "Class: https://youtu.be/QUIhbpJrchI \n",
    "Case Study: https://youtu.be/OJwU3ZhjRxE\n",
    "\n",
    "Week 4:\n",
    "Class: https://youtu.be/8r72otTg7eE \n",
    "Case Study: https://youtu.be/sCAPG5yein4 \n",
    "\n",
    "Week 5:\n",
    "Class: https://youtu.be/M4LZar4n1zU , https://youtu.be/CRvz2M91n2k \n",
    "Case Study: https://youtu.be/FE1Bc3SHDD4 \n",
    "\n",
    "Week 6:\n",
    "Class: https://youtu.be/cX0nM_hThWg \n",
    "Case Study: https://youtu.be/d0PL3iy8MKU \n",
    "\n",
    "Week 7:\n",
    "Class: https://youtu.be/9338IxuR9S4 \n",
    "Case Study: https://youtu.be/1jZvCqOlzjQ"
   ]
  },
  {
   "cell_type": "code",
   "execution_count": null,
   "id": "99f22fd4",
   "metadata": {},
   "outputs": [],
   "source": []
  }
 ],
 "metadata": {
  "kernelspec": {
   "display_name": "Python 3 (ipykernel)",
   "language": "python",
   "name": "python3"
  },
  "language_info": {
   "codemirror_mode": {
    "name": "ipython",
    "version": 3
   },
   "file_extension": ".py",
   "mimetype": "text/x-python",
   "name": "python",
   "nbconvert_exporter": "python",
   "pygments_lexer": "ipython3",
   "version": "3.11.5"
  }
 },
 "nbformat": 4,
 "nbformat_minor": 5
}
