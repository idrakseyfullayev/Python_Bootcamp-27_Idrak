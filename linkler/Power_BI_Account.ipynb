{
 "cells": [
  {
   "cell_type": "markdown",
   "id": "2229f89e",
   "metadata": {},
   "source": [
    "B065122020@asoiu.edu.az"
   ]
  },
  {
   "cell_type": "markdown",
   "id": "327294af",
   "metadata": {},
   "source": [
    "Ismayil372556"
   ]
  },
  {
   "cell_type": "code",
   "execution_count": null,
   "id": "a854eba1",
   "metadata": {},
   "outputs": [],
   "source": []
  }
 ],
 "metadata": {
  "kernelspec": {
   "display_name": "Python 3 (ipykernel)",
   "language": "python",
   "name": "python3"
  },
  "language_info": {
   "codemirror_mode": {
    "name": "ipython",
    "version": 3
   },
   "file_extension": ".py",
   "mimetype": "text/x-python",
   "name": "python",
   "nbconvert_exporter": "python",
   "pygments_lexer": "ipython3",
   "version": "3.11.5"
  }
 },
 "nbformat": 4,
 "nbformat_minor": 5
}
