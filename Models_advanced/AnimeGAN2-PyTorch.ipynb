{
 "cells": [
  {
   "cell_type": "code",
   "execution_count": 9,
   "id": "6c677974",
   "metadata": {},
   "outputs": [
    {
     "name": "stderr",
     "output_type": "stream",
     "text": [
      "Using cache found in C:\\Users\\dell/.cache\\torch\\hub\\bryandlee_animegan2-pytorch_main\n",
      "Using cache found in C:\\Users\\dell/.cache\\torch\\hub\\bryandlee_animegan2-pytorch_main\n"
     ]
    }
   ],
   "source": [
    "# Pillow kitabxanasından Image sinfini daxil edir (şəkillərlə işləmək üçün istifadə olunur)\n",
    "from PIL import Image\n",
    "# PyTorch kitabxanasını daxil edir (neyron şəbəkələri və modelləri idarə etmək üçün)\n",
    "import torch\n",
    "\n",
    "# SSL modulu ilə təhlükəsiz əlaqələri idarə etmək üçün istifadə olunur\n",
    "import ssl\n",
    "import urllib.request\n",
    "\n",
    "# SSL təhlükəsizlik sertifikatlarının yoxlanılmasını ləğv edir (sertifikat problemi olan serverlərə bağlanmaq üçün)\n",
    "ssl._create_default_https_context = ssl._create_unverified_context\n",
    "\n",
    "# AnimeGAN2 modelini PyTorch Hub-dan yükləyir\n",
    "# Model: \"face_paint_512_v2\" - üz şəkilləri üçün xüsusi təlimlənmiş versiya\n",
    "model = torch.hub.load(\"bryandlee/animegan2-pytorch:main\", \"generator\", pretrained=\"face_paint_512_v2\")\n",
    "# Modelin tətbiqi üçün əlavə funksiya yüklənir (`face2paint`)\n",
    "face2paint = torch.hub.load(\"bryandlee/animegan2-pytorch:main\", \"face2paint\", size=512)\n",
    "\n",
    "# Şəkli açır və RGB rəng modelinə çevirir (emal üçün uyğun format)\n",
    "img = Image.open(r\"C:\\Users\\dell\\Desktop\\Python\\week12\\Idrak_picture_for_site.jpeg\").convert(\"RGB\")\n",
    "\n",
    "# Modeli tətbiq edərək şəkilə animasiya effekti əlavə edir\n",
    "out = face2paint(model, img)\n",
    "# Emal olunmuş şəkli göstərir (default şəkil görüntüləmə proqramında açılır)\n",
    "out.show()\n",
    "# Emal olunmuş şəkli fayl kimi saxlayır\n",
    "out.save(r\"C:\\Users\\dell\\Desktop\\Python\\week12\\Idrak_picture_for_animated.jpeg\")"
   ]
  },
  {
   "cell_type": "code",
   "execution_count": null,
   "id": "d0ce6994",
   "metadata": {},
   "outputs": [],
   "source": []
  }
 ],
 "metadata": {
  "kernelspec": {
   "display_name": "Python 3 (ipykernel)",
   "language": "python",
   "name": "python3"
  },
  "language_info": {
   "codemirror_mode": {
    "name": "ipython",
    "version": 3
   },
   "file_extension": ".py",
   "mimetype": "text/x-python",
   "name": "python",
   "nbconvert_exporter": "python",
   "pygments_lexer": "ipython3",
   "version": "3.11.5"
  }
 },
 "nbformat": 4,
 "nbformat_minor": 5
}
