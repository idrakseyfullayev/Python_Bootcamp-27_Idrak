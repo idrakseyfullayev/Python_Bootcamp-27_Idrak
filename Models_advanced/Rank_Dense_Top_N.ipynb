{
 "cells": [
  {
   "cell_type": "code",
   "execution_count": 31,
   "id": "f5d9081c",
   "metadata": {},
   "outputs": [
    {
     "name": "stdout",
     "output_type": "stream",
     "text": [
      "  Ad  Qiymet  Reytinq\n",
      "5  G      50      1.0\n",
      "4  E      40      2.0\n",
      "2  C      30      3.0\n"
     ]
    }
   ],
   "source": [
    "data = {\n",
    "    'Ad': ['A', 'B', 'C', 'D', 'E', \"G\"],\n",
    "    'Qiymet': [10, 20, 30, 30, 40, 50]\n",
    "}\n",
    "df = pd.DataFrame(data)\n",
    "\n",
    "\n",
    "# Qiymet sütununa əsasən dense reytinqi hesablamaq\n",
    "df['Reytinq'] = df['Qiymet'].rank(method='first', ascending=False)\n",
    "\n",
    "# Top 3 dəyərləri seçmək\n",
    "top_n = df[df['Reytinq'] <= 3].sort_values('Reytinq')\n",
    "print(top_n)"
   ]
  },
  {
   "cell_type": "code",
   "execution_count": 32,
   "id": "47b12e3d",
   "metadata": {},
   "outputs": [
    {
     "name": "stdout",
     "output_type": "stream",
     "text": [
      "  Ad  Qiymet  Reytinq\n",
      "5  G      50      1.0\n",
      "4  E      40      2.0\n",
      "2  C      30      3.0\n",
      "3  D      30      3.0\n"
     ]
    }
   ],
   "source": [
    "# Qiymet sütununa əsasən dense reytinqi hesablamaq\n",
    "df['Reytinq'] = df['Qiymet'].rank(method='dense', ascending=False, na_option='top')\n",
    "\n",
    "# Top 3 dəyərləri seçmək\n",
    "top_n = df[df['Reytinq'] <= 3].sort_values('Reytinq')\n",
    "print(top_n)"
   ]
  },
  {
   "cell_type": "code",
   "execution_count": null,
   "id": "929590f5",
   "metadata": {},
   "outputs": [],
   "source": []
  }
 ],
 "metadata": {
  "kernelspec": {
   "display_name": "Python 3 (ipykernel)",
   "language": "python",
   "name": "python3"
  },
  "language_info": {
   "codemirror_mode": {
    "name": "ipython",
    "version": 3
   },
   "file_extension": ".py",
   "mimetype": "text/x-python",
   "name": "python",
   "nbconvert_exporter": "python",
   "pygments_lexer": "ipython3",
   "version": "3.11.5"
  }
 },
 "nbformat": 4,
 "nbformat_minor": 5
}
