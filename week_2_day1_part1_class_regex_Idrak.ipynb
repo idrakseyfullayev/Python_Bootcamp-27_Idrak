{
 "cells": [
  {
   "cell_type": "code",
   "execution_count": 1,
   "id": "895436f7",
   "metadata": {},
   "outputs": [],
   "source": [
    "import re"
   ]
  },
  {
   "cell_type": "code",
   "execution_count": 6,
   "id": "0309c65d",
   "metadata": {},
   "outputs": [],
   "source": [
    "# [] . ^ $ * + ? {} () \\ |  -  Metacharacters are characters that are interpreted in a special way by a RegEx engine. \n",
    "# Here's a list of metacharacters:"
   ]
  },
  {
   "cell_type": "code",
   "execution_count": 8,
   "id": "02352de0",
   "metadata": {},
   "outputs": [
    {
     "data": {
      "text/plain": [
       "['a', 'a']"
      ]
     },
     "execution_count": 8,
     "metadata": {},
     "output_type": "execute_result"
    }
   ],
   "source": [
    "re.findall(pattern='a', string='anabd')"
   ]
  },
  {
   "cell_type": "code",
   "execution_count": 9,
   "id": "74e8a8c6",
   "metadata": {},
   "outputs": [
    {
     "data": {
      "text/plain": [
       "['an']"
      ]
     },
     "execution_count": 9,
     "metadata": {},
     "output_type": "execute_result"
    }
   ],
   "source": [
    "re.findall(pattern='an', string='anabd')"
   ]
  },
  {
   "cell_type": "code",
   "execution_count": 10,
   "id": "f933ba9b",
   "metadata": {},
   "outputs": [
    {
     "data": {
      "text/plain": [
       "[]"
      ]
     },
     "execution_count": 10,
     "metadata": {},
     "output_type": "execute_result"
    }
   ],
   "source": [
    "re.findall(pattern='at', string='anabd')"
   ]
  },
  {
   "cell_type": "code",
   "execution_count": 13,
   "id": "b2571b87",
   "metadata": {},
   "outputs": [],
   "source": [
    "# [] - Square brackets\n",
    "\n",
    "# Square brackets specifies a set of characters you wish to match.\n",
    "# the following pattern matches any of the characters"
   ]
  },
  {
   "cell_type": "code",
   "execution_count": 14,
   "id": "0aac727d",
   "metadata": {},
   "outputs": [
    {
     "data": {
      "text/plain": [
       "['a', 'a', 'a', 'c', 'a']"
      ]
     },
     "execution_count": 14,
     "metadata": {},
     "output_type": "execute_result"
    }
   ],
   "source": [
    "re.findall(r'[ac]', 'alfa beta can')"
   ]
  },
  {
   "cell_type": "code",
   "execution_count": 15,
   "id": "f2e5680c",
   "metadata": {},
   "outputs": [],
   "source": [
    "#  ^ - caret\n",
    "#  The caret symbol ^ is used to check if a string starts with a certain character."
   ]
  },
  {
   "cell_type": "code",
   "execution_count": 17,
   "id": "25601473",
   "metadata": {},
   "outputs": [
    {
     "data": {
      "text/plain": [
       "['a']"
      ]
     },
     "execution_count": 17,
     "metadata": {},
     "output_type": "execute_result"
    }
   ],
   "source": [
    "re.findall(r'^a', 'alfa beta can')"
   ]
  },
  {
   "cell_type": "code",
   "execution_count": 16,
   "id": "419c01bb",
   "metadata": {},
   "outputs": [],
   "source": [
    "#  [^] - caret in square brackets - means not symbols in square brackets"
   ]
  },
  {
   "cell_type": "code",
   "execution_count": 18,
   "id": "2b2fbc83",
   "metadata": {},
   "outputs": [
    {
     "data": {
      "text/plain": [
       "['l', 'f', ' ', 'b', 'e', 't', ' ', 'n']"
      ]
     },
     "execution_count": 18,
     "metadata": {},
     "output_type": "execute_result"
    }
   ],
   "source": [
    "re.findall(r'[^ac]', 'alfa beta can')"
   ]
  },
  {
   "cell_type": "code",
   "execution_count": 19,
   "id": "d2cac135",
   "metadata": {},
   "outputs": [],
   "source": [
    "# You can also specify a range of characters using - inside square brackets.\n",
    "\n",
    "# [a-z]\n",
    "# [A-Z]\n",
    "# [0-39]"
   ]
  },
  {
   "cell_type": "code",
   "execution_count": 20,
   "id": "e671172f",
   "metadata": {},
   "outputs": [
    {
     "data": {
      "text/plain": [
       "['a', 'l', 'f', 'a', 'b', 'e', 't', 'a', 'c', 'a', 'n']"
      ]
     },
     "execution_count": 20,
     "metadata": {},
     "output_type": "execute_result"
    }
   ],
   "source": [
    "re.findall(r'[a-z]', 'alfa beta can')"
   ]
  },
  {
   "cell_type": "code",
   "execution_count": 21,
   "id": "e21535f0",
   "metadata": {},
   "outputs": [
    {
     "data": {
      "text/plain": [
       "[' ', ' ']"
      ]
     },
     "execution_count": 21,
     "metadata": {},
     "output_type": "execute_result"
    }
   ],
   "source": [
    "re.findall(r'[^a-z]', 'alfa beta can')"
   ]
  },
  {
   "cell_type": "code",
   "execution_count": 24,
   "id": "26dd9f2a",
   "metadata": {},
   "outputs": [
    {
     "data": {
      "text/plain": [
       "['A', 'a', 'l', 'f', 'a', 'b', 'e', 't', 'a', 'c', 'a', 'n']"
      ]
     },
     "execution_count": 24,
     "metadata": {},
     "output_type": "execute_result"
    }
   ],
   "source": [
    "re.findall(r'[a-zA-Z]', 'Aalfa beta can')"
   ]
  },
  {
   "cell_type": "code",
   "execution_count": 26,
   "id": "318f514b",
   "metadata": {},
   "outputs": [
    {
     "name": "stdout",
     "output_type": "stream",
     "text": [
      "['A', 'a', 'l', 'f', 'ü', 'Ü', 'ə', 'a', 'Ə', 'b', 'e', 't', 'a', 'c', 'a', 'n']\n"
     ]
    }
   ],
   "source": [
    "print(re.findall(r'[a-zA-ZəƏÜü]', 'AalfüÜəa Əbeta can'))"
   ]
  },
  {
   "cell_type": "code",
   "execution_count": 30,
   "id": "66955028",
   "metadata": {},
   "outputs": [
    {
     "name": "stdout",
     "output_type": "stream",
     "text": [
      "['A', 'a', 'l', 'f', 'ü', 'Ü', 'ə', 'a', 'Ə', 'b', 'e', 't', 'a', 'c', 'a', 'n', '1', '2', '3']\n"
     ]
    }
   ],
   "source": [
    "print(re.findall(r'[a-zA-ZəƏÜü1-9]', 'AalfüÜəa Əbeta can123'))"
   ]
  },
  {
   "cell_type": "code",
   "execution_count": 31,
   "id": "098012be",
   "metadata": {},
   "outputs": [
    {
     "name": "stdout",
     "output_type": "stream",
     "text": [
      "['A', 'a', 'l', 'f', 'ü', 'Ü', 'ə', 'a', 'Ə', 'b', 'e', 't', 'a', 'c', 'a', 'n', '1', '2', '3', '_']\n"
     ]
    }
   ],
   "source": [
    "print(re.findall(r'[a-zA-ZəƏÜü1-9_]', 'AalfüÜəa Əbeta can123_'))"
   ]
  },
  {
   "cell_type": "code",
   "execution_count": 32,
   "id": "504fa2e3",
   "metadata": {},
   "outputs": [],
   "source": [
    "# . . – period\n",
    "# A period matches any single character (except newline '\\n')."
   ]
  },
  {
   "cell_type": "code",
   "execution_count": 37,
   "id": "96416eaa",
   "metadata": {},
   "outputs": [
    {
     "data": {
      "text/plain": [
       "['ana', 'ata', 'a a']"
      ]
     },
     "execution_count": 37,
     "metadata": {},
     "output_type": "execute_result"
    }
   ],
   "source": [
    "re.findall(r'a.a', 'ana ata amma alfa')"
   ]
  },
  {
   "cell_type": "code",
   "execution_count": 38,
   "id": "5c8dc8da",
   "metadata": {},
   "outputs": [],
   "source": [
    "# $ - Dollar\n",
    "# The dollar symbol $ is used to check if a string ends with a certain character."
   ]
  },
  {
   "cell_type": "code",
   "execution_count": 39,
   "id": "a74be348",
   "metadata": {},
   "outputs": [
    {
     "data": {
      "text/plain": [
       "['a']"
      ]
     },
     "execution_count": 39,
     "metadata": {},
     "output_type": "execute_result"
    }
   ],
   "source": [
    "re.findall(r'a$', 'a')"
   ]
  },
  {
   "cell_type": "code",
   "execution_count": 40,
   "id": "482b0212",
   "metadata": {},
   "outputs": [
    {
     "data": {
      "text/plain": [
       "['a']"
      ]
     },
     "execution_count": 40,
     "metadata": {},
     "output_type": "execute_result"
    }
   ],
   "source": [
    "re.findall(r'a$', 'formula')"
   ]
  },
  {
   "cell_type": "code",
   "execution_count": 41,
   "id": "bf34535b",
   "metadata": {},
   "outputs": [
    {
     "data": {
      "text/plain": [
       "[]"
      ]
     },
     "execution_count": 41,
     "metadata": {},
     "output_type": "execute_result"
    }
   ],
   "source": [
    "re.findall(r'a$', 'cab')"
   ]
  },
  {
   "cell_type": "code",
   "execution_count": 43,
   "id": "fa1ffa4a",
   "metadata": {},
   "outputs": [],
   "source": [
    "# * - Star\n",
    "# The star symbol * matches zero or more occurrences of the pattern left to it.\n",
    "# + - Plus\n",
    "# The plus symbol + matches one or more occurrences of the pattern left to it.\n",
    "# ? - Question Mark\n",
    "# The question mark symbol ? matches zero or one occurrence of the pattern left to it.\n",
    "\n",
    "# * -  0 and more\n",
    "# + -  1 and more\n",
    "# ? -  0 and 1"
   ]
  },
  {
   "cell_type": "code",
   "execution_count": 44,
   "id": "f1933e7b",
   "metadata": {},
   "outputs": [
    {
     "data": {
      "text/plain": [
       "['', 'aa', '', '', '', 'a', '', '', '', '', '']"
      ]
     },
     "execution_count": 44,
     "metadata": {},
     "output_type": "execute_result"
    }
   ],
   "source": [
    "re.findall(r'a*', 'naam nan nn')"
   ]
  },
  {
   "cell_type": "code",
   "execution_count": 45,
   "id": "c961086c",
   "metadata": {},
   "outputs": [
    {
     "data": {
      "text/plain": [
       "['', 'aa', '', '', '', 'aaaa', '', '', '', '', '']"
      ]
     },
     "execution_count": 45,
     "metadata": {},
     "output_type": "execute_result"
    }
   ],
   "source": [
    "re.findall(r'a*', 'naam naaaan nn')"
   ]
  },
  {
   "cell_type": "code",
   "execution_count": 46,
   "id": "a3a31350",
   "metadata": {},
   "outputs": [
    {
     "data": {
      "text/plain": [
       "['', 'a', 'a', '', '', '', 'a', 'a', 'a', 'a', '', '', '', '', '']"
      ]
     },
     "execution_count": 46,
     "metadata": {},
     "output_type": "execute_result"
    }
   ],
   "source": [
    "re.findall(r'a?', 'naam naaaan nn')"
   ]
  },
  {
   "cell_type": "code",
   "execution_count": 47,
   "id": "51608c57",
   "metadata": {},
   "outputs": [
    {
     "data": {
      "text/plain": [
       "['aa', 'aaaa']"
      ]
     },
     "execution_count": 47,
     "metadata": {},
     "output_type": "execute_result"
    }
   ],
   "source": [
    "re.findall(r'a+', 'naam naaaan nn')"
   ]
  },
  {
   "cell_type": "code",
   "execution_count": 48,
   "id": "8243839c",
   "metadata": {},
   "outputs": [
    {
     "data": {
      "text/plain": [
       "['a', 'n', 'a', 'r', 'a', 'r', 'i', 'f']"
      ]
     },
     "execution_count": 48,
     "metadata": {},
     "output_type": "execute_result"
    }
   ],
   "source": [
    "re.findall(r'[a-z]', 'anar arif')"
   ]
  },
  {
   "cell_type": "code",
   "execution_count": 49,
   "id": "89639f1c",
   "metadata": {},
   "outputs": [
    {
     "data": {
      "text/plain": [
       "['anar', 'arif']"
      ]
     },
     "execution_count": 49,
     "metadata": {},
     "output_type": "execute_result"
    }
   ],
   "source": [
    "re.findall(r'[a-z]+', 'anar arif')"
   ]
  },
  {
   "cell_type": "code",
   "execution_count": 53,
   "id": "d0b57ed9",
   "metadata": {},
   "outputs": [
    {
     "data": {
      "text/plain": [
       "['a', 'n', 'a', 'r', '', 'a', 'r', 'i', 'f', '']"
      ]
     },
     "execution_count": 53,
     "metadata": {},
     "output_type": "execute_result"
    }
   ],
   "source": [
    "re.findall(r'[a-z]?', 'anar arif')"
   ]
  },
  {
   "cell_type": "code",
   "execution_count": 54,
   "id": "323973d5",
   "metadata": {},
   "outputs": [
    {
     "data": {
      "text/plain": [
       "['anar', '', 'arif', '']"
      ]
     },
     "execution_count": 54,
     "metadata": {},
     "output_type": "execute_result"
    }
   ],
   "source": [
    "re.findall(r'[a-z]*', 'anar arif')"
   ]
  },
  {
   "cell_type": "code",
   "execution_count": 58,
   "id": "d61501e9",
   "metadata": {},
   "outputs": [
    {
     "data": {
      "text/plain": [
       "['ana', 'ata']"
      ]
     },
     "execution_count": 58,
     "metadata": {},
     "output_type": "execute_result"
    }
   ],
   "source": [
    "re.findall(r'a.?a', 'ana amma  ata')"
   ]
  },
  {
   "cell_type": "code",
   "execution_count": 59,
   "id": "c8da77b6",
   "metadata": {},
   "outputs": [
    {
     "data": {
      "text/plain": [
       "['ana', 'a a']"
      ]
     },
     "execution_count": 59,
     "metadata": {},
     "output_type": "execute_result"
    }
   ],
   "source": [
    "re.findall(r'a.?a', 'ana amma ata')"
   ]
  },
  {
   "cell_type": "code",
   "execution_count": 62,
   "id": "8a390317",
   "metadata": {},
   "outputs": [
    {
     "data": {
      "text/plain": [
       "['ana', 'ata', 'aa']"
      ]
     },
     "execution_count": 62,
     "metadata": {},
     "output_type": "execute_result"
    }
   ],
   "source": [
    "re.findall(r'a.?a', 'ana amma  ata aa')"
   ]
  },
  {
   "cell_type": "code",
   "execution_count": 63,
   "id": "d8d42a2f",
   "metadata": {},
   "outputs": [
    {
     "data": {
      "text/plain": [
       "['ana', 'ata']"
      ]
     },
     "execution_count": 63,
     "metadata": {},
     "output_type": "execute_result"
    }
   ],
   "source": [
    "re.findall(r'a.a', 'ana amma  ata aa')"
   ]
  },
  {
   "cell_type": "code",
   "execution_count": null,
   "id": "3a087009",
   "metadata": {},
   "outputs": [],
   "source": []
  }
 ],
 "metadata": {
  "kernelspec": {
   "display_name": "Python 3 (ipykernel)",
   "language": "python",
   "name": "python3"
  },
  "language_info": {
   "codemirror_mode": {
    "name": "ipython",
    "version": 3
   },
   "file_extension": ".py",
   "mimetype": "text/x-python",
   "name": "python",
   "nbconvert_exporter": "python",
   "pygments_lexer": "ipython3",
   "version": "3.11.5"
  }
 },
 "nbformat": 4,
 "nbformat_minor": 5
}
