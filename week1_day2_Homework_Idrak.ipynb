{
 "cells": [
  {
   "cell_type": "markdown",
   "id": "fec896fa",
   "metadata": {},
   "source": [
    "#### 1.Print First 10 natural numbers using while loop."
   ]
  },
  {
   "cell_type": "code",
   "execution_count": 4,
   "id": "908533bf",
   "metadata": {},
   "outputs": [
    {
     "name": "stdout",
     "output_type": "stream",
     "text": [
      "1\n",
      "2\n",
      "3\n",
      "4\n",
      "5\n",
      "6\n",
      "7\n",
      "8\n",
      "9\n",
      "10\n"
     ]
    }
   ],
   "source": [
    "i = 1\n",
    "while i < 11:\n",
    "    print(i)\n",
    "    i+=1\n",
    "    "
   ]
  },
  {
   "cell_type": "markdown",
   "id": "14fb4eab",
   "metadata": {},
   "source": [
    "#### 2.Display -10 to -1 using for loop."
   ]
  },
  {
   "cell_type": "code",
   "execution_count": 22,
   "id": "ca8e9e27",
   "metadata": {},
   "outputs": [
    {
     "name": "stdout",
     "output_type": "stream",
     "text": [
      "-10\n",
      "-9\n",
      "-8\n",
      "-7\n",
      "-6\n",
      "-5\n",
      "-4\n",
      "-3\n",
      "-2\n",
      "-1\n"
     ]
    }
   ],
   "source": [
    "for i in range(-10, 0, 1):\n",
    "    print(i)"
   ]
  },
  {
   "cell_type": "markdown",
   "id": "4f76771a",
   "metadata": {},
   "source": [
    "#### 3.Write a Python program that prints all the numbers from 0 to 6 except 3 and 6."
   ]
  },
  {
   "cell_type": "code",
   "execution_count": 33,
   "id": "f5d7399d",
   "metadata": {},
   "outputs": [
    {
     "name": "stdout",
     "output_type": "stream",
     "text": [
      "0\n",
      "1\n",
      "2\n",
      "4\n",
      "5\n"
     ]
    }
   ],
   "source": [
    "for i in range(7):\n",
    "    if i == 3 or i == 6:\n",
    "        continue\n",
    "    print(i)"
   ]
  },
  {
   "cell_type": "markdown",
   "id": "87b3ee59",
   "metadata": {},
   "source": [
    "#### 5.Reverse the following list using for loop:\n",
    "        list1 = [10, 20, 30, 40, 50]"
   ]
  },
  {
   "cell_type": "code",
   "execution_count": 43,
   "id": "4305cea7",
   "metadata": {},
   "outputs": [],
   "source": [
    "list1 = [10, 20, 30, 40, 50]\n",
    "list2 = []"
   ]
  },
  {
   "cell_type": "code",
   "execution_count": 44,
   "id": "ec917a85",
   "metadata": {},
   "outputs": [
    {
     "name": "stdout",
     "output_type": "stream",
     "text": [
      "[50, 40, 30, 20, 10]\n"
     ]
    }
   ],
   "source": [
    "for i in range(len(list1)-1, -1, -1):\n",
    "    list2.append(list1[i])\n",
    "print(list2)    "
   ]
  },
  {
   "cell_type": "markdown",
   "id": "f4321a93",
   "metadata": {},
   "source": [
    "#### 6.Write a Python program to find those numbers which are divisible by 7 and 5, between 1500 and 2700 (both included)."
   ]
  },
  {
   "cell_type": "code",
   "execution_count": 46,
   "id": "4e4b7fa1",
   "metadata": {},
   "outputs": [
    {
     "name": "stdout",
     "output_type": "stream",
     "text": [
      "[1500, 1505, 1510, 1512, 1515, 1519, 1520, 1525, 1526, 1530, 1533, 1535, 1540, 1545, 1547, 1550, 1554, 1555, 1560, 1561, 1565, 1568, 1570, 1575, 1580, 1582, 1585, 1589, 1590, 1595, 1596, 1600, 1603, 1605, 1610, 1615, 1617, 1620, 1624, 1625, 1630, 1631, 1635, 1638, 1640, 1645, 1650, 1652, 1655, 1659, 1660, 1665, 1666, 1670, 1673, 1675, 1680, 1685, 1687, 1690, 1694, 1695, 1700, 1701, 1705, 1708, 1710, 1715, 1720, 1722, 1725, 1729, 1730, 1735, 1736, 1740, 1743, 1745, 1750, 1755, 1757, 1760, 1764, 1765, 1770, 1771, 1775, 1778, 1780, 1785, 1790, 1792, 1795, 1799, 1800, 1805, 1806, 1810, 1813, 1815, 1820, 1825, 1827, 1830, 1834, 1835, 1840, 1841, 1845, 1848, 1850, 1855, 1860, 1862, 1865, 1869, 1870, 1875, 1876, 1880, 1883, 1885, 1890, 1895, 1897, 1900, 1904, 1905, 1910, 1911, 1915, 1918, 1920, 1925, 1930, 1932, 1935, 1939, 1940, 1945, 1946, 1950, 1953, 1955, 1960, 1965, 1967, 1970, 1974, 1975, 1980, 1981, 1985, 1988, 1990, 1995, 2000, 2002, 2005, 2009, 2010, 2015, 2016, 2020, 2023, 2025, 2030, 2035, 2037, 2040, 2044, 2045, 2050, 2051, 2055, 2058, 2060, 2065, 2070, 2072, 2075, 2079, 2080, 2085, 2086, 2090, 2093, 2095, 2100, 2105, 2107, 2110, 2114, 2115, 2120, 2121, 2125, 2128, 2130, 2135, 2140, 2142, 2145, 2149, 2150, 2155, 2156, 2160, 2163, 2165, 2170, 2175, 2177, 2180, 2184, 2185, 2190, 2191, 2195, 2198, 2200, 2205, 2210, 2212, 2215, 2219, 2220, 2225, 2226, 2230, 2233, 2235, 2240, 2245, 2247, 2250, 2254, 2255, 2260, 2261, 2265, 2268, 2270, 2275, 2280, 2282, 2285, 2289, 2290, 2295, 2296, 2300, 2303, 2305, 2310, 2315, 2317, 2320, 2324, 2325, 2330, 2331, 2335, 2338, 2340, 2345, 2350, 2352, 2355, 2359, 2360, 2365, 2366, 2370, 2373, 2375, 2380, 2385, 2387, 2390, 2394, 2395, 2400, 2401, 2405, 2408, 2410, 2415, 2420, 2422, 2425, 2429, 2430, 2435, 2436, 2440, 2443, 2445, 2450, 2455, 2457, 2460, 2464, 2465, 2470, 2471, 2475, 2478, 2480, 2485, 2490, 2492, 2495, 2499, 2500, 2505, 2506, 2510, 2513, 2515, 2520, 2525, 2527, 2530, 2534, 2535, 2540, 2541, 2545, 2548, 2550, 2555, 2560, 2562, 2565, 2569, 2570, 2575, 2576, 2580, 2583, 2585, 2590, 2595, 2597, 2600, 2604, 2605, 2610, 2611, 2615, 2618, 2620, 2625, 2630, 2632, 2635, 2639, 2640, 2645, 2646, 2650, 2653, 2655, 2660, 2665, 2667, 2670, 2674, 2675, 2680, 2681, 2685, 2688, 2690, 2695, 2700]\n"
     ]
    }
   ],
   "source": [
    "list_ = []\n",
    "for i in range(1500, 2700+1):\n",
    "    if not i % 5 or not i % 7:\n",
    "        list_.append(i)\n",
    "print(list_)        "
   ]
  },
  {
   "cell_type": "markdown",
   "id": "2655dece",
   "metadata": {},
   "source": [
    "#### 7.Display a message “Done” after successful execution of for loop."
   ]
  },
  {
   "cell_type": "code",
   "execution_count": 47,
   "id": "9ccd0f59",
   "metadata": {},
   "outputs": [
    {
     "name": "stdout",
     "output_type": "stream",
     "text": [
      "[1500, 1505, 1510, 1512, 1515, 1519, 1520, 1525, 1526, 1530, 1533, 1535, 1540, 1545, 1547, 1550, 1554, 1555, 1560, 1561, 1565, 1568, 1570, 1575, 1580, 1582, 1585, 1589, 1590, 1595, 1596, 1600, 1603, 1605, 1610, 1615, 1617, 1620, 1624, 1625, 1630, 1631, 1635, 1638, 1640, 1645, 1650, 1652, 1655, 1659, 1660, 1665, 1666, 1670, 1673, 1675, 1680, 1685, 1687, 1690, 1694, 1695, 1700, 1701, 1705, 1708, 1710, 1715, 1720, 1722, 1725, 1729, 1730, 1735, 1736, 1740, 1743, 1745, 1750, 1755, 1757, 1760, 1764, 1765, 1770, 1771, 1775, 1778, 1780, 1785, 1790, 1792, 1795, 1799, 1800, 1805, 1806, 1810, 1813, 1815, 1820, 1825, 1827, 1830, 1834, 1835, 1840, 1841, 1845, 1848, 1850, 1855, 1860, 1862, 1865, 1869, 1870, 1875, 1876, 1880, 1883, 1885, 1890, 1895, 1897, 1900, 1904, 1905, 1910, 1911, 1915, 1918, 1920, 1925, 1930, 1932, 1935, 1939, 1940, 1945, 1946, 1950, 1953, 1955, 1960, 1965, 1967, 1970, 1974, 1975, 1980, 1981, 1985, 1988, 1990, 1995, 2000, 2002, 2005, 2009, 2010, 2015, 2016, 2020, 2023, 2025, 2030, 2035, 2037, 2040, 2044, 2045, 2050, 2051, 2055, 2058, 2060, 2065, 2070, 2072, 2075, 2079, 2080, 2085, 2086, 2090, 2093, 2095, 2100, 2105, 2107, 2110, 2114, 2115, 2120, 2121, 2125, 2128, 2130, 2135, 2140, 2142, 2145, 2149, 2150, 2155, 2156, 2160, 2163, 2165, 2170, 2175, 2177, 2180, 2184, 2185, 2190, 2191, 2195, 2198, 2200, 2205, 2210, 2212, 2215, 2219, 2220, 2225, 2226, 2230, 2233, 2235, 2240, 2245, 2247, 2250, 2254, 2255, 2260, 2261, 2265, 2268, 2270, 2275, 2280, 2282, 2285, 2289, 2290, 2295, 2296, 2300, 2303, 2305, 2310, 2315, 2317, 2320, 2324, 2325, 2330, 2331, 2335, 2338, 2340, 2345, 2350, 2352, 2355, 2359, 2360, 2365, 2366, 2370, 2373, 2375, 2380, 2385, 2387, 2390, 2394, 2395, 2400, 2401, 2405, 2408, 2410, 2415, 2420, 2422, 2425, 2429, 2430, 2435, 2436, 2440, 2443, 2445, 2450, 2455, 2457, 2460, 2464, 2465, 2470, 2471, 2475, 2478, 2480, 2485, 2490, 2492, 2495, 2499, 2500, 2505, 2506, 2510, 2513, 2515, 2520, 2525, 2527, 2530, 2534, 2535, 2540, 2541, 2545, 2548, 2550, 2555, 2560, 2562, 2565, 2569, 2570, 2575, 2576, 2580, 2583, 2585, 2590, 2595, 2597, 2600, 2604, 2605, 2610, 2611, 2615, 2618, 2620, 2625, 2630, 2632, 2635, 2639, 2640, 2645, 2646, 2650, 2653, 2655, 2660, 2665, 2667, 2670, 2674, 2675, 2680, 2681, 2685, 2688, 2690, 2695, 2700]\n",
      "Done\n"
     ]
    }
   ],
   "source": [
    "list_ = []\n",
    "for i in range(1500, 2700+1):\n",
    "    if not i % 5 or not i % 7:\n",
    "        list_.append(i)\n",
    "print(list_)\n",
    "print('Done')"
   ]
  },
  {
   "cell_type": "markdown",
   "id": "39bcc89e",
   "metadata": {},
   "source": [
    "#### 8.Write a Python program to create a lambda function that adds 15 to a given number passed in\n",
    "#### as an argument, also create a lambda function that multiplies argument x with argument y and print the result."
   ]
  },
  {
   "cell_type": "code",
   "execution_count": 52,
   "id": "3012b408",
   "metadata": {},
   "outputs": [
    {
     "data": {
      "text/plain": [
       "25"
      ]
     },
     "execution_count": 52,
     "metadata": {},
     "output_type": "execute_result"
    }
   ],
   "source": [
    "a = lambda x: x+15\n",
    "a(10)"
   ]
  },
  {
   "cell_type": "code",
   "execution_count": 53,
   "id": "4d6631f7",
   "metadata": {},
   "outputs": [
    {
     "data": {
      "text/plain": [
       "35"
      ]
     },
     "execution_count": 53,
     "metadata": {},
     "output_type": "execute_result"
    }
   ],
   "source": [
    "a = lambda x, y: x+y\n",
    "a(17, 18)"
   ]
  },
  {
   "cell_type": "markdown",
   "id": "fc695f86",
   "metadata": {},
   "source": [
    "#### 9.Write a Python program to square and cube every number in a given list of integers using Lambda."
   ]
  },
  {
   "cell_type": "code",
   "execution_count": 60,
   "id": "c554822e",
   "metadata": {},
   "outputs": [],
   "source": [
    "list1 = [10, 20, 30, 40, 50]"
   ]
  },
  {
   "cell_type": "code",
   "execution_count": 61,
   "id": "c02050d6",
   "metadata": {},
   "outputs": [
    {
     "data": {
      "text/plain": [
       "[(100, 1000), (400, 8000), (900, 27000), (1600, 64000), (2500, 125000)]"
      ]
     },
     "execution_count": 61,
     "metadata": {},
     "output_type": "execute_result"
    }
   ],
   "source": [
    "list(map(lambda x: (x**2, x**3), list1))"
   ]
  },
  {
   "cell_type": "markdown",
   "id": "b8b07089",
   "metadata": {},
   "source": [
    "#### 10.Write a lambda function that returns takes x as parameter and returns x+2. Then assign itto a variable named L."
   ]
  },
  {
   "cell_type": "code",
   "execution_count": 63,
   "id": "ebdd05e2",
   "metadata": {},
   "outputs": [
    {
     "data": {
      "text/plain": [
       "17"
      ]
     },
     "execution_count": 63,
     "metadata": {},
     "output_type": "execute_result"
    }
   ],
   "source": [
    "l = lambda x: x+2\n",
    "l(15)"
   ]
  },
  {
   "cell_type": "markdown",
   "id": "2a260940",
   "metadata": {},
   "source": [
    "#### 11.Write a function which takes two arguments: a and b and returns the multiplication ofthem: a*b. \n",
    "#### Assign it to a variable named f."
   ]
  },
  {
   "cell_type": "code",
   "execution_count": 64,
   "id": "a3dd77d7",
   "metadata": {},
   "outputs": [],
   "source": [
    "def func(a, b):\n",
    "    return a*b"
   ]
  },
  {
   "cell_type": "code",
   "execution_count": 65,
   "id": "79434051",
   "metadata": {},
   "outputs": [
    {
     "data": {
      "text/plain": [
       "450"
      ]
     },
     "execution_count": 65,
     "metadata": {},
     "output_type": "execute_result"
    }
   ],
   "source": [
    "func(15, 30)"
   ]
  },
  {
   "cell_type": "code",
   "execution_count": 66,
   "id": "0d125206",
   "metadata": {},
   "outputs": [
    {
     "data": {
      "text/plain": [
       "450"
      ]
     },
     "execution_count": 66,
     "metadata": {},
     "output_type": "execute_result"
    }
   ],
   "source": [
    "a = lambda a, b: a*b\n",
    "a(15, 30)"
   ]
  },
  {
   "cell_type": "markdown",
   "id": "11cfa21e",
   "metadata": {},
   "source": [
    "#### 12.Write a Python program to add two given lists using map and lambda."
   ]
  },
  {
   "cell_type": "code",
   "execution_count": 71,
   "id": "b1c6cee2",
   "metadata": {},
   "outputs": [],
   "source": [
    "list1 = [1, 2, 3, 4]\n",
    "list2 = [10, 20 , 30 , 40]"
   ]
  },
  {
   "cell_type": "code",
   "execution_count": 72,
   "id": "b09bb5ab",
   "metadata": {},
   "outputs": [
    {
     "data": {
      "text/plain": [
       "[11, 22, 33, 44]"
      ]
     },
     "execution_count": 72,
     "metadata": {},
     "output_type": "execute_result"
    }
   ],
   "source": [
    "list(map(lambda x, y: x+y, list1, list2))"
   ]
  },
  {
   "cell_type": "markdown",
   "id": "3cd6c91b",
   "metadata": {},
   "source": [
    "#### 13.Write a map function that adds plus 5 to each item in the list."
   ]
  },
  {
   "cell_type": "code",
   "execution_count": 73,
   "id": "8a9abf17",
   "metadata": {},
   "outputs": [],
   "source": [
    "list1 = [10, 20 , 30 , 40]"
   ]
  },
  {
   "cell_type": "code",
   "execution_count": 74,
   "id": "d2d1e7a9",
   "metadata": {},
   "outputs": [
    {
     "data": {
      "text/plain": [
       "[15, 25, 35, 45]"
      ]
     },
     "execution_count": 74,
     "metadata": {},
     "output_type": "execute_result"
    }
   ],
   "source": [
    "list(map(lambda x: x+5, list1))"
   ]
  },
  {
   "cell_type": "markdown",
   "id": "bc4d18a4",
   "metadata": {},
   "source": [
    "#### 14.Write a map function that adds \"Hello, \" in front of each item in the list."
   ]
  },
  {
   "cell_type": "code",
   "execution_count": 78,
   "id": "dd979202",
   "metadata": {},
   "outputs": [],
   "source": [
    "list1 = [10, 20 , 30 , 40]"
   ]
  },
  {
   "cell_type": "code",
   "execution_count": 80,
   "id": "9f163146",
   "metadata": {},
   "outputs": [
    {
     "data": {
      "text/plain": [
       "['salam 10', 'salam 20', 'salam 30', 'salam 40']"
      ]
     },
     "execution_count": 80,
     "metadata": {},
     "output_type": "execute_result"
    }
   ],
   "source": [
    "list(map(lambda x: 'salam' + ' ' + str(x), list1))"
   ]
  },
  {
   "cell_type": "code",
   "execution_count": 82,
   "id": "8face700",
   "metadata": {},
   "outputs": [
    {
     "data": {
      "text/plain": [
       "['salam 10', 'salam 20', 'salam 30', 'salam 40']"
      ]
     },
     "execution_count": 82,
     "metadata": {},
     "output_type": "execute_result"
    }
   ],
   "source": [
    "list(map(lambda x: f'salam {str(x)}', list1))"
   ]
  },
  {
   "cell_type": "markdown",
   "id": "ac506a22",
   "metadata": {},
   "source": [
    "#### 15. Using map() function and len() function create a list that's consisted of lengths of each element in the first list."
   ]
  },
  {
   "cell_type": "code",
   "execution_count": 86,
   "id": "bd4a8d70",
   "metadata": {},
   "outputs": [],
   "source": [
    "list1 = ['Idrak', 'Seyfullayev', 'works' 'intern', 'in', 'Data Science Academy']"
   ]
  },
  {
   "cell_type": "code",
   "execution_count": 88,
   "id": "7ac22303",
   "metadata": {},
   "outputs": [
    {
     "name": "stdout",
     "output_type": "stream",
     "text": [
      "[('Idrak', 5), ('Seyfullayev', 11), ('worksintern', 11), ('in', 2), ('Data Science Academy', 20)]\n"
     ]
    }
   ],
   "source": [
    "print(list(map(lambda x: (x, len(x)), list1)))"
   ]
  },
  {
   "cell_type": "markdown",
   "id": "078ffa8c",
   "metadata": {},
   "source": [
    "#### 16. Using map() function and lambda add each elements of two lists together. Use a lambda with two arguments."
   ]
  },
  {
   "cell_type": "code",
   "execution_count": 89,
   "id": "93b9c925",
   "metadata": {},
   "outputs": [],
   "source": [
    "list_id = [1, 2, 3, 4]\n",
    "list_name= ['Idrak', 'Adil', \"Arif\", 'Hakim']"
   ]
  },
  {
   "cell_type": "code",
   "execution_count": 93,
   "id": "7886e9e3",
   "metadata": {},
   "outputs": [
    {
     "name": "stdout",
     "output_type": "stream",
     "text": [
      "[('id: 1', 'name: Idrak'), ('id: 2', 'name: Adil'), ('id: 3', 'name: Arif'), ('id: 4', 'name: Hakim')]\n"
     ]
    }
   ],
   "source": [
    "print(list(map(lambda x, y: (f'id: {x}', f'name: {y}'), list_id, list_name)))"
   ]
  },
  {
   "cell_type": "markdown",
   "id": "b9be5382",
   "metadata": {},
   "source": [
    "#### 17. Using map() , lambda and count() functions create a list consisted of the number of occurrence of letter: a."
   ]
  },
  {
   "cell_type": "code",
   "execution_count": 94,
   "id": "0afd9450",
   "metadata": {},
   "outputs": [],
   "source": [
    "list_name= ['Idrak', 'Adil', \"Arif\", 'Hakim']"
   ]
  },
  {
   "cell_type": "code",
   "execution_count": 97,
   "id": "410f5e16",
   "metadata": {},
   "outputs": [
    {
     "data": {
      "text/plain": [
       "[1, 0, 0, 1]"
      ]
     },
     "execution_count": 97,
     "metadata": {},
     "output_type": "execute_result"
    }
   ],
   "source": [
    "list(map(lambda x: x.count('a'), list_name))"
   ]
  },
  {
   "cell_type": "markdown",
   "id": "d0adf1c7",
   "metadata": {},
   "source": [
    "#### 18. Using map(), lambda and count() functions create a list consisted of the number of occurrence of both letters:\n",
    "#### A and a."
   ]
  },
  {
   "cell_type": "code",
   "execution_count": 104,
   "id": "7417473a",
   "metadata": {},
   "outputs": [],
   "source": [
    "list_name= ['Idrak', 'Adil', \"Arif\", 'Hakim', 'Ashraf', 'Araz']"
   ]
  },
  {
   "cell_type": "code",
   "execution_count": 105,
   "id": "3c274ba4",
   "metadata": {},
   "outputs": [
    {
     "data": {
      "text/plain": [
       "[1, 1, 1, 1, 2, 2]"
      ]
     },
     "execution_count": 105,
     "metadata": {},
     "output_type": "execute_result"
    }
   ],
   "source": [
    "list(map(lambda x: x.count('a') + x.count('A'), list_name))"
   ]
  },
  {
   "cell_type": "markdown",
   "id": "bdc50e29",
   "metadata": {},
   "source": [
    "#### 19. Using filter() function filter the list so that only negative numbers are left."
   ]
  },
  {
   "cell_type": "code",
   "execution_count": 106,
   "id": "e1542d29",
   "metadata": {},
   "outputs": [],
   "source": [
    "list1 = [1, -1, 2, -2, 3, -3, 4, -4]"
   ]
  },
  {
   "cell_type": "code",
   "execution_count": 109,
   "id": "b2ee1172",
   "metadata": {},
   "outputs": [
    {
     "data": {
      "text/plain": [
       "[-1, -2, -3, -4]"
      ]
     },
     "execution_count": 109,
     "metadata": {},
     "output_type": "execute_result"
    }
   ],
   "source": [
    "list(filter(lambda x: x<0, list1))"
   ]
  },
  {
   "cell_type": "markdown",
   "id": "866a7435",
   "metadata": {},
   "source": [
    "#### 20. Using filter function, filter the even numbers so that only odd numbers are passed to the new list."
   ]
  },
  {
   "cell_type": "code",
   "execution_count": 111,
   "id": "3ef096ae",
   "metadata": {},
   "outputs": [],
   "source": [
    "list1 = [1, 2, 3, 4, 5, 6, 7, 9, 10]"
   ]
  },
  {
   "cell_type": "code",
   "execution_count": 112,
   "id": "ef691473",
   "metadata": {},
   "outputs": [
    {
     "data": {
      "text/plain": [
       "[1, 3, 5, 7, 9]"
      ]
     },
     "execution_count": 112,
     "metadata": {},
     "output_type": "execute_result"
    }
   ],
   "source": [
    "list(filter(lambda x: x % 2, list1))"
   ]
  },
  {
   "cell_type": "markdown",
   "id": "4526dbc6",
   "metadata": {},
   "source": [
    "#### 21. Using filter() and list() functions and .lower() method filter all the vowels in a givenstring."
   ]
  },
  {
   "cell_type": "code",
   "execution_count": 113,
   "id": "0feb7e5d",
   "metadata": {},
   "outputs": [],
   "source": [
    "a = 'Azərbaycan'"
   ]
  },
  {
   "cell_type": "code",
   "execution_count": 115,
   "id": "863abdf2",
   "metadata": {},
   "outputs": [
    {
     "data": {
      "text/plain": [
       "['A', 'e', 'a', 'a']"
      ]
     },
     "execution_count": 115,
     "metadata": {},
     "output_type": "execute_result"
    }
   ],
   "source": [
    "list(filter(lambda x: x.lower() in ['a', 'ı', 'o', 'u', 'e', 'ə', 'i', 'ö', 'ü'], a))"
   ]
  },
  {
   "cell_type": "markdown",
   "id": "1956f893",
   "metadata": {},
   "source": [
    "#### \"22.This time using filter() and list() functions filter all the positive integers in the string.\""
   ]
  },
  {
   "cell_type": "code",
   "execution_count": 116,
   "id": "62080ffa",
   "metadata": {},
   "outputs": [
    {
     "data": {
      "text/plain": [
       "['1', '2', '3', '4', '5', '6', '7']"
      ]
     },
     "execution_count": 116,
     "metadata": {},
     "output_type": "execute_result"
    }
   ],
   "source": [
    "string_of_integers = \"1 -2 3 -4  5 -6 7\"\n",
    "    \n",
    "result = list(filter(lambda x: x.isnumeric(), string_of_integers))\n",
    "result"
   ]
  },
  {
   "cell_type": "code",
   "execution_count": 117,
   "id": "af13f377",
   "metadata": {},
   "outputs": [
    {
     "data": {
      "text/plain": [
       "[1, 2, 3, 4, 5, 6, 7]"
      ]
     },
     "execution_count": 117,
     "metadata": {},
     "output_type": "execute_result"
    }
   ],
   "source": [
    "list(map(lambda x: int(x), result))"
   ]
  },
  {
   "cell_type": "markdown",
   "id": "b584feb1",
   "metadata": {},
   "source": [
    "#### \"23. Using map() and filter() functions add 2000 to the values below 8000.\""
   ]
  },
  {
   "cell_type": "code",
   "execution_count": 118,
   "id": "1b31cfc8",
   "metadata": {},
   "outputs": [],
   "source": [
    "values = [5000, 6000, 7000, 8000, 9000]"
   ]
  },
  {
   "cell_type": "code",
   "execution_count": 119,
   "id": "cc247eeb",
   "metadata": {},
   "outputs": [
    {
     "data": {
      "text/plain": [
       "[7000, 8000, 9000, 8000, 9000]"
      ]
     },
     "execution_count": 119,
     "metadata": {},
     "output_type": "execute_result"
    }
   ],
   "source": [
    "list(map(lambda x: x+2000 if x < 8000 else x, values))"
   ]
  },
  {
   "cell_type": "markdown",
   "id": "8f97f38d",
   "metadata": {},
   "source": [
    "#### \"24.Write a Python program to count the even, odd numbers in a given array of integers using Lambda.\""
   ]
  },
  {
   "cell_type": "code",
   "execution_count": 128,
   "id": "7b733ea3",
   "metadata": {},
   "outputs": [],
   "source": [
    "list1 = [1, 2, 3, 4, 5, 7, 8, 9, 10]"
   ]
  },
  {
   "cell_type": "code",
   "execution_count": 139,
   "id": "dcbb4265",
   "metadata": {},
   "outputs": [
    {
     "data": {
      "text/plain": [
       "'even numbers count: 4'"
      ]
     },
     "execution_count": 139,
     "metadata": {},
     "output_type": "execute_result"
    }
   ],
   "source": [
    "f'even numbers count: {len(list(filter(lambda x: not x % 2, list1)))}'"
   ]
  },
  {
   "cell_type": "code",
   "execution_count": 140,
   "id": "7eee22af",
   "metadata": {},
   "outputs": [
    {
     "data": {
      "text/plain": [
       "'odd numbers count: 5'"
      ]
     },
     "execution_count": 140,
     "metadata": {},
     "output_type": "execute_result"
    }
   ],
   "source": [
    "f'odd numbers count: {len(list(filter(lambda x: x % 2, list1)))}'"
   ]
  },
  {
   "cell_type": "code",
   "execution_count": 141,
   "id": "1f36aa37",
   "metadata": {},
   "outputs": [],
   "source": [
    "def count():\n",
    "    even_num_count = len(list(filter(lambda x: not x % 2, list1)))\n",
    "    odd_num_count = len(list(filter(lambda x: x % 2, list1)))\n",
    "    return (f'even num count: {even_num_count}, odd num count: {odd_num_count}')"
   ]
  },
  {
   "cell_type": "code",
   "execution_count": 142,
   "id": "1a87fc83",
   "metadata": {},
   "outputs": [
    {
     "data": {
      "text/plain": [
       "'even num count: 4, odd num count: 5'"
      ]
     },
     "execution_count": 142,
     "metadata": {},
     "output_type": "execute_result"
    }
   ],
   "source": [
    "count()"
   ]
  },
  {
   "cell_type": "markdown",
   "id": "5dd5f0be",
   "metadata": {},
   "source": [
    "#### \"25.Write a Python program to filter a given list whether the values in the list are having length of 6 using Lambda.\""
   ]
  },
  {
   "cell_type": "code",
   "execution_count": 143,
   "id": "de7d42e6",
   "metadata": {},
   "outputs": [],
   "source": [
    "given_list = ['apple', 'banana', 'orange', 'grapes', 'kiwi', 'melon', 'peach']"
   ]
  },
  {
   "cell_type": "code",
   "execution_count": 144,
   "id": "842d1fa4",
   "metadata": {},
   "outputs": [
    {
     "data": {
      "text/plain": [
       "['banana', 'orange', 'grapes']"
      ]
     },
     "execution_count": 144,
     "metadata": {},
     "output_type": "execute_result"
    }
   ],
   "source": [
    "result = list(filter(lambda x: len(x)==6, given_list))\n",
    "result"
   ]
  },
  {
   "cell_type": "markdown",
   "id": "66dd54ba",
   "metadata": {},
   "source": [
    "#### \"27. Using zip() function and list() function, create a merged list of tuples from the two lists given.\""
   ]
  },
  {
   "cell_type": "code",
   "execution_count": 145,
   "id": "4528bf5c",
   "metadata": {},
   "outputs": [],
   "source": [
    "list1 = ['a', 'b', 'c']\n",
    "list2 = [1, 2, 3]"
   ]
  },
  {
   "cell_type": "code",
   "execution_count": 146,
   "id": "49b222f0",
   "metadata": {},
   "outputs": [
    {
     "data": {
      "text/plain": [
       "[('a', 1), ('b', 2), ('c', 3)]"
      ]
     },
     "execution_count": 146,
     "metadata": {},
     "output_type": "execute_result"
    }
   ],
   "source": [
    "result = list(zip(list1,list2))\n",
    "result"
   ]
  },
  {
   "cell_type": "markdown",
   "id": "919baef8",
   "metadata": {},
   "source": [
    "#### 28. First create a range from 1 to 8. Then using zip, merge the given list and the range together \n",
    "#### to create a new list of tuples."
   ]
  },
  {
   "cell_type": "code",
   "execution_count": 148,
   "id": "b0d30cb1",
   "metadata": {},
   "outputs": [],
   "source": [
    "range_ = range(1, 8)\n",
    "list1 = ['A', \"b\", \"c\", \"d\", 'E', \"F\"]"
   ]
  },
  {
   "cell_type": "code",
   "execution_count": 149,
   "id": "c234bf92",
   "metadata": {},
   "outputs": [
    {
     "data": {
      "text/plain": [
       "[(1, 'A'), (2, 'b'), (3, 'c'), (4, 'd'), (5, 'E'), (6, 'F')]"
      ]
     },
     "execution_count": 149,
     "metadata": {},
     "output_type": "execute_result"
    }
   ],
   "source": [
    "result = list(zip(range_, list1))\n",
    "result"
   ]
  },
  {
   "cell_type": "markdown",
   "id": "c26a8ad4",
   "metadata": {},
   "source": [
    "#### 29. Using zip and dict functions create a dictionary which has its key-value pairs comingfrom lst1 and lst2."
   ]
  },
  {
   "cell_type": "code",
   "execution_count": 157,
   "id": "d38c84a7",
   "metadata": {},
   "outputs": [],
   "source": [
    "list1 = ['a', 'b', 'c']\n",
    "list2 = [1, 2, 3]"
   ]
  },
  {
   "cell_type": "code",
   "execution_count": 161,
   "id": "4383ab19",
   "metadata": {},
   "outputs": [
    {
     "data": {
      "text/plain": [
       "[('a', 1), ('b', 2), ('c', 3)]"
      ]
     },
     "execution_count": 161,
     "metadata": {},
     "output_type": "execute_result"
    }
   ],
   "source": [
    "result = list(zip(list1, list2))\n",
    "result"
   ]
  },
  {
   "cell_type": "code",
   "execution_count": 162,
   "id": "2dfdd367",
   "metadata": {},
   "outputs": [
    {
     "data": {
      "text/plain": [
       "{'a': 1, 'b': 2, 'c': 3}"
      ]
     },
     "execution_count": 162,
     "metadata": {},
     "output_type": "execute_result"
    }
   ],
   "source": [
    "result = dict(result)\n",
    "result"
   ]
  },
  {
   "cell_type": "code",
   "execution_count": 163,
   "id": "d46fec06",
   "metadata": {},
   "outputs": [
    {
     "data": {
      "text/plain": [
       "{'a': 1, 'b': 2, 'c': 3}"
      ]
     },
     "execution_count": 163,
     "metadata": {},
     "output_type": "execute_result"
    }
   ],
   "source": [
    "dict(zip(list1, list2))"
   ]
  },
  {
   "cell_type": "markdown",
   "id": "249acc2d",
   "metadata": {},
   "source": [
    "#### 30. Using zip, list and sorted functions create a sorted list of tuples from lst1 and lst2."
   ]
  },
  {
   "cell_type": "code",
   "execution_count": 164,
   "id": "d5456bcc",
   "metadata": {},
   "outputs": [],
   "source": [
    "list1 = [3, 1, 2]\n",
    "list2 = ['c', 'a', 'b']"
   ]
  },
  {
   "cell_type": "code",
   "execution_count": 165,
   "id": "64b2ecaa",
   "metadata": {},
   "outputs": [
    {
     "data": {
      "text/plain": [
       "[(1, 'a'), (2, 'b'), (3, 'c')]"
      ]
     },
     "execution_count": 165,
     "metadata": {},
     "output_type": "execute_result"
    }
   ],
   "source": [
    "result = list(zip(list1, list2))\n",
    "result = sorted(result)\n",
    "result"
   ]
  },
  {
   "cell_type": "code",
   "execution_count": null,
   "id": "e64fa317",
   "metadata": {},
   "outputs": [],
   "source": []
  }
 ],
 "metadata": {
  "kernelspec": {
   "display_name": "Python 3 (ipykernel)",
   "language": "python",
   "name": "python3"
  },
  "language_info": {
   "codemirror_mode": {
    "name": "ipython",
    "version": 3
   },
   "file_extension": ".py",
   "mimetype": "text/x-python",
   "name": "python",
   "nbconvert_exporter": "python",
   "pygments_lexer": "ipython3",
   "version": "3.11.5"
  }
 },
 "nbformat": 4,
 "nbformat_minor": 5
}
