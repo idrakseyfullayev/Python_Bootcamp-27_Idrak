{
 "cells": [
  {
   "cell_type": "markdown",
   "id": "d8890d52",
   "metadata": {},
   "source": [
    "## Cross-validation"
   ]
  },
  {
   "cell_type": "markdown",
   "id": "2b7fb9fb",
   "metadata": {},
   "source": [
    "Cross-validation (CV) tətbiq etdikdən sonra əldə etdiyin nəticələri əsasən test nəticələri ilə müqayisə edirsən. Addım-addım belə gedir:  \n",
    "\n",
    "1. **CV nəticələrini əldə et:**  \n",
    "   - Əgər `cross_val_score` istifadə etmisənsə, o, bir neçə fold üçün modelin skorlarını qaytarır.  \n",
    "   - Əsasən **mean** və **std** dəyərlərinə baxırsan:  \n",
    "     ```python\n",
    "     from sklearn.model_selection import cross_val_score\n",
    "     from sklearn.ensemble import RandomForestClassifier  \n",
    "\n",
    "     model = RandomForestClassifier()\n",
    "     scores = cross_val_score(model, X_train, y_train, cv=5, scoring='accuracy')\n",
    "     print(f\"Mean CV Score: {scores.mean():.4f} ± {scores.std():.4f}\")\n",
    "     ```\n",
    "\n",
    "2. **CV nəticələrini test nəticəsi ilə müqayisə et:**  \n",
    "   - Modeli `X_train, y_train` üzərində öyrədib, `X_test, y_test` ilə qiymətləndir:  \n",
    "     ```python\n",
    "     model.fit(X_train, y_train)\n",
    "     test_score = model.score(X_test, y_test)  \n",
    "     print(f\"Test Score: {test_score:.4f}\")\n",
    "     ```\n",
    "\n",
    "3. **Müqayisə:**  \n",
    "   - **Əgər test nəticəsi CV mean skorundan çox aşağıdırsa**, overfitting ola bilər.  \n",
    "   - **Əgər test və CV nəticələri bir-birinə yaxındırsa**, model stabil işləyir.  \n",
    "   - **Əgər CV nəticəsi yüksək, amma test nəticəsi aşağıdırsa**, model training set-ə çox uyğunlaşıb (overfitting).  \n",
    "   - **Əgər CV nəticəsi aşağıdırsa, amma test nəticəsi yüksəkdirsə**, ehtimal ki, təsadüfi faktorlar təsir edib (underfitting ola bilər).  \n",
    "\n",
    "Əsas məqsəd CV nəticələrinin və test nəticələrinin bir-birinə yaxın olmasıdır. Modelin yaxşı ümumiləşdiyini (generalization) yoxlamaq üçün bu müqayisəni aparırsan.  \n",
    "\n",
    "Hansı metrikdən istifadə etdiyini dəqiqləşdirə bilərsən? Accuracy, F1-score və ya başqa bir metrik?"
   ]
  },
  {
   "cell_type": "code",
   "execution_count": null,
   "id": "392711d7",
   "metadata": {},
   "outputs": [],
   "source": []
  },
  {
   "cell_type": "markdown",
   "id": "e76d5c23",
   "metadata": {},
   "source": [
    "##  Cross-validation (CV) nəticələrini accuracy_score(y_test, y_pred) ilə müqayisə etmək tam doğrudur"
   ]
  },
  {
   "cell_type": "markdown",
   "id": "229740c7",
   "metadata": {},
   "source": [
    "Bəli, **cross-validation (CV) nəticələrini `accuracy_score(y_test, y_pred)` ilə müqayisə etmək tam doğrudur**. Əsas məqsəd CV zamanı alınan orta nəticənin test setində əldə olunan accuracy ilə nə qədər uyğun gəldiyini görməkdir.  \n",
    "\n",
    "---\n",
    "\n",
    "### ✅ **Müqayisə Addımları:**\n",
    "1. **Cross-validation ilə modelin orta performansını ölç:**\n",
    "   ```python\n",
    "   from sklearn.model_selection import cross_val_score\n",
    "   from sklearn.ensemble import RandomForestClassifier\n",
    "\n",
    "   model = RandomForestClassifier()\n",
    "   cv_scores = cross_val_score(model, X_train, y_train, cv=5, scoring='accuracy')\n",
    "\n",
    "   print(f\"Mean CV Accuracy: {cv_scores.mean():.4f} ± {cv_scores.std():.4f}\")\n",
    "   ```\n",
    "\n",
    "2. **Modeli bütün `X_train, y_train` üzərində fit et və test accuracy-ni tap:**\n",
    "   ```python\n",
    "   model.fit(X_train, y_train)  # Bütün train datada öyrədirik\n",
    "\n",
    "   y_pred = model.predict(X_test)  # Test setində proqnozlar alırıq\n",
    "   test_accuracy = accuracy_score(y_test, y_pred)  # Test accuracy-ni ölçürük\n",
    "\n",
    "   print(f\"Test Accuracy: {test_accuracy:.4f}\")\n",
    "   ```\n",
    "\n",
    "3. **Müqayisə et və şərh ver:**\n",
    "   - **Əgər `test_accuracy` ≈ `Mean CV Accuracy`** → Model stabil işləyir.  \n",
    "   - **Əgər `test_accuracy` < `Mean CV Accuracy`** → Overfitting ola bilər.  \n",
    "   - **Əgər `test_accuracy` > `Mean CV Accuracy`** → Underfitting və ya data fərqliliyi ola bilər.  \n",
    "\n",
    "---\n",
    "\n",
    "### 🎯 **Nəticə:**\n",
    "Bəli, CV nəticələrini test accuracy ilə müqayisə edə bilərsən. Əgər nəticələr arasında fərq çoxdursa, modeli daha yaxşı tənzimləmək (hyperparameter tuning) və ya daha çox data toplamaq lazım ola bilər.\n",
    "\n",
    "Hər hansı fərq çoxdursa, modelin nəyə görə belə davrandığını yoxlamaq lazımdır. **Confusion matrix, Precision-Recall və digər metriklər də əlavə olaraq analiz edilməlidir.**"
   ]
  },
  {
   "cell_type": "code",
   "execution_count": null,
   "id": "f3cad61c",
   "metadata": {},
   "outputs": [],
   "source": []
  }
 ],
 "metadata": {
  "kernelspec": {
   "display_name": "Python 3 (ipykernel)",
   "language": "python",
   "name": "python3"
  },
  "language_info": {
   "codemirror_mode": {
    "name": "ipython",
    "version": 3
   },
   "file_extension": ".py",
   "mimetype": "text/x-python",
   "name": "python",
   "nbconvert_exporter": "python",
   "pygments_lexer": "ipython3",
   "version": "3.11.5"
  }
 },
 "nbformat": 4,
 "nbformat_minor": 5
}
