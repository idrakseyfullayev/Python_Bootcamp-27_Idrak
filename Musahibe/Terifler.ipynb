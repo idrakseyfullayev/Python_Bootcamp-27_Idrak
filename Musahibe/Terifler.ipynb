{
 "cells": [
  {
   "cell_type": "markdown",
   "id": "5f168529",
   "metadata": {},
   "source": [
    "## Data"
   ]
  },
  {
   "cell_type": "markdown",
   "id": "839587fe",
   "metadata": {},
   "source": [
    "**Data** – bu, faktlar, rəqəmlər və müşahidələr toplusudur, lakin analitika ilə dəyərə çevrilən xam informasiyadır. 🚀\n",
    "\n",
    "**Data(məlumat)**- müəyyən bir mövzu, hadisə və ya obyekt haqqında əldə edilən faktlar, rəqəmlər və ya müşahidələrdir. Data həm strukturlu (məsələn, cədvəl formatında olan rəqəmlər və ya məlumatlar) həm də struktursuz (məsələn, mətnlər, şəkillər, audio) formada ola bilər."
   ]
  },
  {
   "cell_type": "code",
   "execution_count": null,
   "id": "773cb3ae",
   "metadata": {},
   "outputs": [],
   "source": []
  },
  {
   "cell_type": "markdown",
   "id": "c2e15065",
   "metadata": {},
   "source": [
    "## Data analitika"
   ]
  },
  {
   "cell_type": "markdown",
   "id": "a61034a3",
   "metadata": {},
   "source": [
    "**Data analitika** – xam verilənləri dəyərli məlumatlara çevirərək, qərarverməni elmi əsaslarla dəstəkləyən prosesdir. 📊✨\n",
    "\n",
    "**Data analitika**- məlumatların toplanması, işlənməsi, təhlili və interpretasiyası prosesi olub, bu məlumatlardan istifadə edərək qərar qəbul etməyə və problemləri həll etməyə yönəlmişdir."
   ]
  },
  {
   "cell_type": "code",
   "execution_count": null,
   "id": "c1ce6ca7",
   "metadata": {},
   "outputs": [],
   "source": []
  },
  {
   "cell_type": "markdown",
   "id": "7a05ed25",
   "metadata": {},
   "source": [
    "## Machine learning"
   ]
  },
  {
   "cell_type": "markdown",
   "id": "b01fb579",
   "metadata": {},
   "source": [
    "**Machine learning** – verilənlərdən nümunələri və qanunauyğunluqları öyrənərək, insan müdaxiləsi olmadan qərarlar verən və proqnozlar edən süni intellekt metodudur.📈\n",
    "\n",
    "**Machine Learning(Maşın Öyrənməsi)** - kompüterlərin verilmiş məlumatlardan öyrənərək müəyyən tapşırıqları yerinə yetirmək üçün proqramlaşdırılmasına əsaslanan bir süni intellekt sahəsidir. Bu prosesdə maşın öyrənmə alqoritmləri, məlumatları analiz edərək və bu məlumatlardan qaydalar çıxararaq özünü inkişaf etdirir."
   ]
  },
  {
   "cell_type": "code",
   "execution_count": null,
   "id": "5b67baee",
   "metadata": {},
   "outputs": [],
   "source": []
  }
 ],
 "metadata": {
  "kernelspec": {
   "display_name": "Python 3 (ipykernel)",
   "language": "python",
   "name": "python3"
  },
  "language_info": {
   "codemirror_mode": {
    "name": "ipython",
    "version": 3
   },
   "file_extension": ".py",
   "mimetype": "text/x-python",
   "name": "python",
   "nbconvert_exporter": "python",
   "pygments_lexer": "ipython3",
   "version": "3.11.5"
  }
 },
 "nbformat": 4,
 "nbformat_minor": 5
}
