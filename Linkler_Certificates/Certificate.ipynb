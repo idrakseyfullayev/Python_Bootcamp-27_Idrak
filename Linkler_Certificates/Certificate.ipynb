{
 "cells": [
  {
   "cell_type": "markdown",
   "id": "ab145553",
   "metadata": {},
   "source": [
    "## 100-Hour Web Development Back End"
   ]
  },
  {
   "cell_type": "markdown",
   "id": "9ec716c0",
   "metadata": {},
   "source": [
    "#### https://www.credly.com/go/u4kjAIyc"
   ]
  },
  {
   "cell_type": "markdown",
   "id": "a344e5ea",
   "metadata": {},
   "source": [
    "#### https://www.credly.com/badges/c42fcea8-bcae-425b-8d6f-824022e28648/print"
   ]
  },
  {
   "cell_type": "code",
   "execution_count": null,
   "id": "08f009ae",
   "metadata": {},
   "outputs": [],
   "source": []
  }
 ],
 "metadata": {
  "kernelspec": {
   "display_name": "Python 3 (ipykernel)",
   "language": "python",
   "name": "python3"
  },
  "language_info": {
   "codemirror_mode": {
    "name": "ipython",
    "version": 3
   },
   "file_extension": ".py",
   "mimetype": "text/x-python",
   "name": "python",
   "nbconvert_exporter": "python",
   "pygments_lexer": "ipython3",
   "version": "3.11.5"
  }
 },
 "nbformat": 4,
 "nbformat_minor": 5
}
